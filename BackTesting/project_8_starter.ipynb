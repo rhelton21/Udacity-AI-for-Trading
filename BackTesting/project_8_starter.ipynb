{
 "cells": [
  {
   "cell_type": "markdown",
   "metadata": {},
   "source": [
    "# Project 8: Backtesting\n",
    "\n",
    "In this project, you will build a fairly realistic backtester that uses the Barra data. The backtester will perform portfolio optimization that includes transaction costs, and you'll implement it with computational efficiency in mind, to allow for a reasonably fast backtest. You'll also use performance attribution to identify the major drivers of your portfolio's profit-and-loss (PnL). You will have the option to modify and customize the backtest as well.\n",
    "\n",
    "\n",
    "## Instructions\n",
    "\n",
    "Each problem consists of a function to implement and instructions on how to implement the function.  The parts of the function that need to be implemented are marked with a `# TODO` comment. Your code will be checked for the correct solution when you submit it to Udacity.\n",
    "\n",
    "\n",
    "## Packages\n",
    "\n",
    "When you implement the functions, you'll only need to you use the packages you've used in the classroom, like [Pandas](https://pandas.pydata.org/) and [Numpy](http://www.numpy.org/). These packages will be imported for you. We recommend you don't add any import statements, otherwise the grader might not be able to run your code.\n",
    "\n",
    "### Install Packages"
   ]
  },
  {
   "cell_type": "code",
   "execution_count": 1,
   "metadata": {},
   "outputs": [
    {
     "name": "stdout",
     "output_type": "stream",
     "text": [
      "Requirement already satisfied: matplotlib==2.1.0 in /opt/conda/lib/python3.6/site-packages (from -r requirements.txt (line 1)) (2.1.0)\n",
      "Collecting numpy==1.16.1 (from -r requirements.txt (line 2))\n",
      "\u001b[?25l  Downloading https://files.pythonhosted.org/packages/f5/bf/4981bcbee43934f0adb8f764a1e70ab0ee5a448f6505bd04a87a2fda2a8b/numpy-1.16.1-cp36-cp36m-manylinux1_x86_64.whl (17.3MB)\n",
      "\u001b[K    100% |████████████████████████████████| 17.3MB 1.7MB/s eta 0:00:01   49% |████████████████                | 8.7MB 20.4MB/s eta 0:00:01\n",
      "\u001b[?25hCollecting pandas==0.24.1 (from -r requirements.txt (line 3))\n",
      "\u001b[?25l  Downloading https://files.pythonhosted.org/packages/e6/de/a0d3defd8f338eaf53ef716e40ef6d6c277c35d50e09b586e170169cdf0d/pandas-0.24.1-cp36-cp36m-manylinux1_x86_64.whl (10.1MB)\n",
      "\u001b[K    100% |████████████████████████████████| 10.1MB 7.5MB/s eta 0:00:01\n",
      "\u001b[?25hCollecting patsy==0.5.1 (from -r requirements.txt (line 4))\n",
      "\u001b[?25l  Downloading https://files.pythonhosted.org/packages/ea/0c/5f61f1a3d4385d6bf83b83ea495068857ff8dfb89e74824c6e9eb63286d8/patsy-0.5.1-py2.py3-none-any.whl (231kB)\n",
      "\u001b[K    100% |████████████████████████████████| 235kB 40.6MB/s ta 0:00:01\n",
      "\u001b[?25hCollecting scipy==0.19.1 (from -r requirements.txt (line 5))\n",
      "\u001b[?25l  Downloading https://files.pythonhosted.org/packages/0e/46/da8d7166102d29695330f7c0b912955498542988542c0d2ae3ea0389c68d/scipy-0.19.1-cp36-cp36m-manylinux1_x86_64.whl (48.2MB)\n",
      "\u001b[K    100% |████████████████████████████████| 48.2MB 780kB/s eta 0:00:01\n",
      "\u001b[?25hCollecting statsmodels==0.9.0 (from -r requirements.txt (line 6))\n",
      "\u001b[?25l  Downloading https://files.pythonhosted.org/packages/85/d1/69ee7e757f657e7f527cbf500ec2d295396e5bcec873cf4eb68962c41024/statsmodels-0.9.0-cp36-cp36m-manylinux1_x86_64.whl (7.4MB)\n",
      "\u001b[K    100% |████████████████████████████████| 7.4MB 8.9MB/s eta 0:00:01\n",
      "\u001b[?25hCollecting tqdm==4.19.5 (from -r requirements.txt (line 7))\n",
      "\u001b[?25l  Downloading https://files.pythonhosted.org/packages/71/3c/341b4fa23cb3abc335207dba057c790f3bb329f6757e1fcd5d347bcf8308/tqdm-4.19.5-py2.py3-none-any.whl (51kB)\n",
      "\u001b[K    100% |████████████████████████████████| 61kB 16.9MB/s ta 0:00:01\n",
      "\u001b[?25hRequirement already satisfied: six>=1.10 in /opt/conda/lib/python3.6/site-packages (from matplotlib==2.1.0->-r requirements.txt (line 1)) (1.11.0)\n",
      "Requirement already satisfied: python-dateutil>=2.0 in /opt/conda/lib/python3.6/site-packages (from matplotlib==2.1.0->-r requirements.txt (line 1)) (2.6.1)\n",
      "Requirement already satisfied: pytz in /opt/conda/lib/python3.6/site-packages (from matplotlib==2.1.0->-r requirements.txt (line 1)) (2017.3)\n",
      "Requirement already satisfied: cycler>=0.10 in /opt/conda/lib/python3.6/site-packages/cycler-0.10.0-py3.6.egg (from matplotlib==2.1.0->-r requirements.txt (line 1)) (0.10.0)\n",
      "Requirement already satisfied: pyparsing!=2.0.4,!=2.1.2,!=2.1.6,>=2.0.1 in /opt/conda/lib/python3.6/site-packages (from matplotlib==2.1.0->-r requirements.txt (line 1)) (2.2.0)\n",
      "\u001b[31mtensorflow 1.3.0 requires tensorflow-tensorboard<0.2.0,>=0.1.0, which is not installed.\u001b[0m\n",
      "\u001b[31mmoviepy 0.2.3.2 has requirement tqdm==4.11.2, but you'll have tqdm 4.19.5 which is incompatible.\u001b[0m\n",
      "Installing collected packages: numpy, pandas, patsy, scipy, statsmodels, tqdm\n",
      "  Found existing installation: numpy 1.12.1\n",
      "    Uninstalling numpy-1.12.1:\n",
      "      Successfully uninstalled numpy-1.12.1\n",
      "  Found existing installation: pandas 0.23.3\n",
      "    Uninstalling pandas-0.23.3:\n",
      "      Successfully uninstalled pandas-0.23.3\n",
      "  Found existing installation: patsy 0.4.1\n",
      "    Uninstalling patsy-0.4.1:\n",
      "      Successfully uninstalled patsy-0.4.1\n",
      "  Found existing installation: scipy 1.2.1\n",
      "    Uninstalling scipy-1.2.1:\n",
      "      Successfully uninstalled scipy-1.2.1\n",
      "  Found existing installation: statsmodels 0.8.0\n",
      "    Uninstalling statsmodels-0.8.0:\n",
      "      Successfully uninstalled statsmodels-0.8.0\n",
      "  Found existing installation: tqdm 4.11.2\n",
      "    Uninstalling tqdm-4.11.2:\n",
      "      Successfully uninstalled tqdm-4.11.2\n",
      "Successfully installed numpy-1.16.1 pandas-0.24.1 patsy-0.5.1 scipy-0.19.1 statsmodels-0.9.0 tqdm-4.19.5\n"
     ]
    }
   ],
   "source": [
    "import sys\n",
    "!{sys.executable} -m pip install -r requirements.txt"
   ]
  },
  {
   "cell_type": "markdown",
   "metadata": {},
   "source": [
    "### Load Packages"
   ]
  },
  {
   "cell_type": "code",
   "execution_count": 2,
   "metadata": {},
   "outputs": [],
   "source": [
    "import scipy\n",
    "import patsy\n",
    "import pickle\n",
    "\n",
    "import numpy as np\n",
    "import pandas as pd\n",
    "\n",
    "import scipy.sparse\n",
    "import matplotlib.pyplot as plt\n",
    "\n",
    "from statistics import median\n",
    "from scipy.stats import gaussian_kde\n",
    "from statsmodels.formula.api import ols\n",
    "from tqdm import tqdm"
   ]
  },
  {
   "cell_type": "markdown",
   "metadata": {},
   "source": [
    "## Load Data\n",
    "\n",
    "We’ll be using the Barra dataset to get factors that can be used to predict risk. Loading and parsing the raw Barra data can be a very slow process that can significantly slow down your backtesting. For this reason, it's important to pre-process the data beforehand. For your convenience, the Barra data has already been pre-processed for you and saved into pickle files. You will load the Barra data from these pickle files.\n",
    "\n",
    "In the code below, we start by loading `2004` factor data from the `pandas-frames.2004.pickle` file. We also load the `2003` and `2004` covariance data from the `covaraince.2003.pickle`  and `covaraince.2004.pickle` files. You are encouraged  to customize the data range for your backtest. For example, we recommend starting with two or three years of factor data. Remember that the covariance data should include all the years that you choose for the factor data,   and also one year earlier. For example, in the code below we are using  `2004` factor data, therefore, we must include `2004` in our covariance data, but also the previous year, `2003`. If you don't remember why must include this previous year, feel free to review the lessons."
   ]
  },
  {
   "cell_type": "code",
   "execution_count": 3,
   "metadata": {},
   "outputs": [],
   "source": [
    "barra_dir = '../../data/project_8_barra/'\n",
    "\n",
    "data = {}\n",
    "for year in [2004]:\n",
    "    fil = barra_dir + \"pandas-frames.\" + str(year) + \".pickle\"\n",
    "    data.update(pickle.load( open( fil, \"rb\" ) ))\n",
    "    \n",
    "covariance = {}\n",
    "for year in [2003, 2004]:\n",
    "    fil = barra_dir + \"covariance.\" + str(year) + \".pickle\"\n",
    "    covariance.update(pickle.load( open(fil, \"rb\" ) ))\n",
    "    \n",
    "daily_return = {}\n",
    "for year in [2004, 2005]:\n",
    "    fil = barra_dir + \"price.\" + str(year) + \".pickle\"\n",
    "    daily_return.update(pickle.load( open(fil, \"rb\" ) ))"
   ]
  },
  {
   "cell_type": "markdown",
   "metadata": {},
   "source": [
    "## Shift Daily Returns Data (TODO)\n",
    "\n",
    "In the cell below, we want to incorporate a realistic time delay that exists in live trading, we’ll use a two day delay for the `daily_return` data. That means the `daily_return` should be two days after the data in `data` and `cov_data`. Combine `daily_return` and `data` together in a dict called `frames`.\n",
    "\n",
    "Since reporting of PnL is usually for the date of the returns, make sure to use the two day delay dates (dates that match the `daily_return`) when building `frames`. This means calling `frames['20040108']` will get you the prices from \"20040108\" and the data from `data` at \"20040106\".\n",
    "\n",
    "Note: We're not shifting `covariance`, since we'll use the \"DataDate\" field in `frames` to lookup the covariance data. The \"DataDate\" field contains the date when the `data` in `frames` was recorded. For example, `frames['20040108']` will give you a value of \"20040106\" for the field \"DataDate\"."
   ]
  },
  {
   "cell_type": "code",
   "execution_count": 4,
   "metadata": {},
   "outputs": [
    {
     "name": "stdout",
     "output_type": "stream",
     "text": [
      "Sample frame for date 20040106:\n",
      "    Barrid  USFASTD_1DREVRSL  USFASTD_AERODEF  USFASTD_AIRLINES  \\\n",
      "0  USA0001            -0.032            0.000               0.0   \n",
      "1  USA0011            -0.059            0.000               0.0   \n",
      "2  USA0031             0.457            0.000               0.0   \n",
      "3  USA0062            -0.128            0.431               0.0   \n",
      "4  USA00E2             0.374            0.000               0.0   \n",
      "\n",
      "   USFASTD_ALUMSTEL  USFASTD_APPAREL  USFASTD_AUTO  USFASTD_BANKS  \\\n",
      "0               0.0              0.0           0.0            0.0   \n",
      "1               0.0              0.0           0.0            0.0   \n",
      "2               0.0              0.0           0.0            0.0   \n",
      "3               0.0              0.0           0.0            0.0   \n",
      "4               0.0              0.0           0.0            0.0   \n",
      "\n",
      "   USFASTD_BETA  USFASTD_BEVTOB  ...  DailyVolume  ADTCA_30  IssuerMarketCap  \\\n",
      "0        -2.177             0.0  ...          NaN       NaN     5.392988e+10   \n",
      "1        -2.176             0.0  ...          NaN       NaN     5.874999e+09   \n",
      "2        -2.061             0.0  ...          NaN       NaN     7.304963e+10   \n",
      "3        -2.003             0.0  ...          NaN       NaN     2.866562e+10   \n",
      "4        -1.967             0.0  ...          NaN       NaN     5.720420e+10   \n",
      "\n",
      "      Yield  TotalRisk   SpecRisk  HistBeta  PredBeta  DataDate  DlyReturn  \n",
      "0  0.188679  13.959397   9.014505 -0.000189  0.156387  20040102        0.0  \n",
      "1  0.000000  17.033359  11.726327  0.000013  0.147900  20040102        0.0  \n",
      "2  2.103004  21.738218  18.047415  0.053033  0.216422  20040102        0.0  \n",
      "3  2.243494  23.129496  20.830128  0.079755  0.355564  20040102        0.0  \n",
      "4  2.167256  25.391653  21.458171  0.096238  0.412602  20040102        0.0  \n",
      "\n",
      "[5 rows x 93 columns] \n",
      "\n",
      "Sample frame for date 20040107:\n",
      "    Barrid  USFASTD_1DREVRSL  USFASTD_AERODEF  USFASTD_AIRLINES  \\\n",
      "0  USA0001             0.342            0.000               0.0   \n",
      "1  USA0011            -0.285            0.000               0.0   \n",
      "2  USA0031            -0.485            0.000               0.0   \n",
      "3  USA0062            -0.151            0.431               0.0   \n",
      "4  USA00E2            -0.272            0.000               0.0   \n",
      "\n",
      "   USFASTD_ALUMSTEL  USFASTD_APPAREL  USFASTD_AUTO  USFASTD_BANKS  \\\n",
      "0               0.0              0.0           0.0            0.0   \n",
      "1               0.0              0.0           0.0            0.0   \n",
      "2               0.0              0.0           0.0            0.0   \n",
      "3               0.0              0.0           0.0            0.0   \n",
      "4               0.0              0.0           0.0            0.0   \n",
      "\n",
      "   USFASTD_BETA  USFASTD_BEVTOB  ...  DailyVolume  ADTCA_30  IssuerMarketCap  \\\n",
      "0        -2.155             0.0  ...          NaN       NaN     5.560770e+10   \n",
      "1        -2.155             0.0  ...          NaN       NaN     5.992747e+09   \n",
      "2        -2.047             0.0  ...          NaN       NaN     7.304963e+10   \n",
      "3        -1.994             0.0  ...          NaN       NaN     2.881183e+10   \n",
      "4        -1.950             0.0  ...          NaN       NaN     5.731070e+10   \n",
      "\n",
      "      Yield  TotalRisk   SpecRisk  HistBeta  PredBeta  DataDate  DlyReturn  \n",
      "0  0.188679  15.527007   9.729826 -0.000190  0.177585  20040105        0.0  \n",
      "1  0.000000  18.724629  12.484380  0.000015  0.148997  20040105        0.0  \n",
      "2  2.103004  23.556869  19.205834  0.050428  0.214688  20040105        0.0  \n",
      "3  2.243494  24.689148  22.040096  0.074897  0.362269  20040105        0.0  \n",
      "4  2.167256  27.329502  22.863809  0.095460  0.408012  20040105        0.0  \n",
      "\n",
      "[5 rows x 93 columns] \n",
      "\n",
      "Sample frame for date 20040108:\n",
      "    Barrid  USFASTD_1DREVRSL  USFASTD_AERODEF  USFASTD_AIRLINES  \\\n",
      "0  USA0001            -0.481            0.000               0.0   \n",
      "1  USA0011            -0.595            0.000               0.0   \n",
      "2  USA0031            -0.109            0.000               0.0   \n",
      "3  USA0062             0.163            0.431               0.0   \n",
      "4  USA00E2             0.064            0.000               0.0   \n",
      "\n",
      "   USFASTD_ALUMSTEL  USFASTD_APPAREL  USFASTD_AUTO  USFASTD_BANKS  \\\n",
      "0               0.0              0.0           0.0            0.0   \n",
      "1               0.0              0.0           0.0            0.0   \n",
      "2               0.0              0.0           0.0            0.0   \n",
      "3               0.0              0.0           0.0            0.0   \n",
      "4               0.0              0.0           0.0            0.0   \n",
      "\n",
      "   USFASTD_BETA  USFASTD_BEVTOB  ...  DailyVolume  ADTCA_30  IssuerMarketCap  \\\n",
      "0        -2.158             0.0  ...          NaN       NaN     5.592728e+10   \n",
      "1        -2.158             0.0  ...          NaN       NaN     6.029930e+09   \n",
      "2        -2.049             0.0  ...          NaN       NaN     7.251836e+10   \n",
      "3        -1.997             0.0  ...          NaN       NaN     2.918165e+10   \n",
      "4        -1.955             0.0  ...          NaN       NaN     5.784320e+10   \n",
      "\n",
      "      Yield  TotalRisk   SpecRisk  HistBeta  PredBeta  DataDate  DlyReturn  \n",
      "0  0.188679  15.692850  10.050981 -0.000188  0.159701  20040106        0.0  \n",
      "1  0.000000  19.050196  12.874902  0.000017  0.133397  20040106        0.0  \n",
      "2  2.103004  24.037181  19.772275  0.050603  0.210419  20040106        0.0  \n",
      "3  2.243494  25.280406  22.709825  0.074781  0.372498  20040106        0.0  \n",
      "4  2.167256  27.885397  23.513232  0.094615  0.410219  20040106        0.0  \n",
      "\n",
      "[5 rows x 93 columns] \n",
      "\n",
      "Sample frame for date 20040109:\n",
      "    Barrid  USFASTD_1DREVRSL  USFASTD_AERODEF  USFASTD_AIRLINES  \\\n",
      "0  USA0001            -0.752            0.000               0.0   \n",
      "1  USA0011             0.195            0.000               0.0   \n",
      "2  USA0031             0.244            0.000               0.0   \n",
      "3  USA0062             0.113            0.431               0.0   \n",
      "4  USA00E2             0.158            0.000               0.0   \n",
      "\n",
      "   USFASTD_ALUMSTEL  USFASTD_APPAREL  USFASTD_AUTO  USFASTD_BANKS  \\\n",
      "0               0.0              0.0           0.0            0.0   \n",
      "1               0.0              0.0           0.0            0.0   \n",
      "2               0.0              0.0           0.0            0.0   \n",
      "3               0.0              0.0           0.0            0.0   \n",
      "4               0.0              0.0           0.0            0.0   \n",
      "\n",
      "   USFASTD_BETA  USFASTD_BEVTOB  ...  DailyVolume  ADTCA_30  IssuerMarketCap  \\\n",
      "0        -2.155             0.0  ...          NaN       NaN     5.552780e+10   \n",
      "1        -2.154             0.0  ...          NaN       NaN     6.228242e+09   \n",
      "2        -2.047             0.0  ...          NaN       NaN     7.328402e+10   \n",
      "3        -1.995             0.0  ...          NaN       NaN     2.900964e+10   \n",
      "4        -1.954             0.0  ...          NaN       NaN     5.894815e+10   \n",
      "\n",
      "      Yield  TotalRisk   SpecRisk  HistBeta  PredBeta  DataDate  DlyReturn  \n",
      "0  0.188679  16.090857  10.555309 -0.000190  0.142990  20040107   0.000000  \n",
      "1  0.000000  19.637046  13.510535  0.000016  0.140299  20040107   0.000000  \n",
      "2  2.103004  24.941406  20.615451  0.050144  0.206134  20040107   0.000000  \n",
      "3  2.243494  26.199673  23.738331  0.074294  0.373140  20040107   0.000000  \n",
      "4  2.167256  28.748194  24.516295  0.093664  0.409182  20040107   0.134059  \n",
      "\n",
      "[5 rows x 93 columns] \n",
      "\n",
      "Sample frame for date 20040112:\n",
      "    Barrid  USFASTD_1DREVRSL  USFASTD_AERODEF  USFASTD_AIRLINES  \\\n",
      "0  USA0001            -0.002            0.000               0.0   \n",
      "1  USA0011            -0.345            0.000               0.0   \n",
      "2  USA0031            -0.624            0.000               0.0   \n",
      "3  USA0062             0.432            0.431               0.0   \n",
      "4  USA00E2            -0.647            0.000               0.0   \n",
      "\n",
      "   USFASTD_ALUMSTEL  USFASTD_APPAREL  USFASTD_AUTO  USFASTD_BANKS  \\\n",
      "0               0.0              0.0           0.0            0.0   \n",
      "1               0.0              0.0           0.0            0.0   \n",
      "2               0.0              0.0           0.0            0.0   \n",
      "3               0.0              0.0           0.0            0.0   \n",
      "4               0.0              0.0           0.0            0.0   \n",
      "\n",
      "   USFASTD_BETA  USFASTD_BEVTOB  ...  DailyVolume  ADTCA_30  IssuerMarketCap  \\\n",
      "0        -2.153             0.0  ...          NaN       NaN     5.530809e+10   \n",
      "1        -2.152             0.0  ...          NaN       NaN     6.184861e+09   \n",
      "2        -2.048             0.0  ...          NaN       NaN     7.112769e+10   \n",
      "3        -2.002             0.0  ...          NaN       NaN     3.040293e+10   \n",
      "4        -1.963             0.0  ...          NaN       NaN     5.872183e+10   \n",
      "\n",
      "      Yield  TotalRisk   SpecRisk  HistBeta  PredBeta  DataDate  DlyReturn  \n",
      "0  0.188679  16.865111  10.976185 -0.000193  0.135755  20040108        0.0  \n",
      "1  0.000000  20.602501  14.185477  0.000016  0.125488  20040108        0.0  \n",
      "2  2.103004  26.024283  21.436482  0.049003  0.181151  20040108        0.0  \n",
      "3  2.243494  27.520299  24.933030  0.070698  0.375757  20040108        0.0  \n",
      "4  2.167256  30.077249  25.599799  0.088809  0.383544  20040108        0.0  \n",
      "\n",
      "[5 rows x 93 columns] \n",
      "\n"
     ]
    }
   ],
   "source": [
    "frames ={}\n",
    "dlyreturn_n_days_delay = 2\n",
    "\n",
    "# DONE: Implement\n",
    "\n",
    "# Prepare a list of tuples pairing 'data' dates with their corresponding 'daily_return' dates, considering the delay\n",
    "shifted_dates = zip(\n",
    "    sorted(data.keys()), \n",
    "    sorted(daily_return.keys())[dlyreturn_n_days_delay : len(data) + dlyreturn_n_days_delay]\n",
    ")\n",
    "\n",
    "# Iterate over each pair of dates\n",
    "for date, shifted_date in shifted_dates:\n",
    "    # ensure both dates exist in their respective datasets before attempting to merge\n",
    "    if date in data and shifted_date in daily_return:\n",
    "        # Merge 'data' and 'daily_return' based on 'Barrid'\n",
    "        frames[shifted_date] = data[date].merge(daily_return[shifted_date], on='Barrid')\n",
    "    else:\n",
    "        print(f\"Missing data for merging: data date {date}, daily_return date {shifted_date}\")\n",
    "\n",
    "# check the content of 'frames' to ensure it's populated as expected\n",
    "for key in list(frames.keys())[:5]:  # Just sample a few entries for inspection\n",
    "    print(f\"Sample frame for date {key}:\")\n",
    "    print(frames[key].head(), \"\\n\")"
   ]
  },
  {
   "cell_type": "markdown",
   "metadata": {},
   "source": [
    "## Add Daily Returns date column (Optional)\n",
    "Name the column `DlyReturnDate`.\n",
    "**Hint**: create a list containing copies of the date, then create a pandas series."
   ]
  },
  {
   "cell_type": "code",
   "execution_count": 5,
   "metadata": {},
   "outputs": [
    {
     "name": "stdout",
     "output_type": "stream",
     "text": [
      "'DlyReturnDate' added successfully for date: 20040102. Sample row:\n",
      "     Barrid  DlyReturn DlyReturnDate\n",
      "76  USA0001        0.0      20040102\n",
      "'DlyReturnDate' added successfully for date: 20040105. Sample row:\n",
      "     Barrid  DlyReturn DlyReturnDate\n",
      "76  USA0001        0.0      20040105\n",
      "'DlyReturnDate' added successfully for date: 20040106. Sample row:\n",
      "     Barrid  DlyReturn DlyReturnDate\n",
      "76  USA0001        0.0      20040106\n",
      "'DlyReturnDate' added successfully for date: 20040107. Sample row:\n",
      "     Barrid  DlyReturn DlyReturnDate\n",
      "76  USA0001        0.0      20040107\n",
      "'DlyReturnDate' added successfully for date: 20040108. Sample row:\n",
      "     Barrid  DlyReturn DlyReturnDate\n",
      "76  USA0001        0.0      20040108\n",
      "'DlyReturnDate' added successfully for date: 20040109. Sample row:\n",
      "     Barrid  DlyReturn DlyReturnDate\n",
      "76  USA0001        0.0      20040109\n",
      "'DlyReturnDate' added successfully for date: 20040112. Sample row:\n",
      "     Barrid  DlyReturn DlyReturnDate\n",
      "76  USA0001        0.0      20040112\n",
      "'DlyReturnDate' added successfully for date: 20040113. Sample row:\n",
      "     Barrid  DlyReturn DlyReturnDate\n",
      "75  USA0001        0.0      20040113\n",
      "'DlyReturnDate' added successfully for date: 20040114. Sample row:\n",
      "     Barrid  DlyReturn DlyReturnDate\n",
      "75  USA0001        0.0      20040114\n",
      "'DlyReturnDate' added successfully for date: 20040115. Sample row:\n",
      "     Barrid  DlyReturn DlyReturnDate\n",
      "75  USA0001        0.0      20040115\n",
      "'DlyReturnDate' added successfully for date: 20040116. Sample row:\n",
      "     Barrid  DlyReturn DlyReturnDate\n",
      "75  USA0001        0.0      20040116\n",
      "'DlyReturnDate' added successfully for date: 20040120. Sample row:\n",
      "     Barrid  DlyReturn DlyReturnDate\n",
      "75  USA0001        0.0      20040120\n",
      "'DlyReturnDate' added successfully for date: 20040121. Sample row:\n",
      "     Barrid  DlyReturn DlyReturnDate\n",
      "75  USA0001        0.0      20040121\n",
      "'DlyReturnDate' added successfully for date: 20040122. Sample row:\n",
      "     Barrid  DlyReturn DlyReturnDate\n",
      "75  USA0001        0.0      20040122\n",
      "'DlyReturnDate' added successfully for date: 20040123. Sample row:\n",
      "     Barrid  DlyReturn DlyReturnDate\n",
      "75  USA0001        0.0      20040123\n",
      "'DlyReturnDate' added successfully for date: 20040126. Sample row:\n",
      "     Barrid  DlyReturn DlyReturnDate\n",
      "75  USA0001        0.0      20040126\n",
      "'DlyReturnDate' added successfully for date: 20040127. Sample row:\n",
      "     Barrid  DlyReturn DlyReturnDate\n",
      "75  USA0001        0.0      20040127\n",
      "'DlyReturnDate' added successfully for date: 20040128. Sample row:\n",
      "     Barrid  DlyReturn DlyReturnDate\n",
      "75  USA0001        0.0      20040128\n",
      "'DlyReturnDate' added successfully for date: 20040129. Sample row:\n",
      "     Barrid  DlyReturn DlyReturnDate\n",
      "75  USA0001        0.0      20040129\n",
      "'DlyReturnDate' added successfully for date: 20040130. Sample row:\n",
      "     Barrid  DlyReturn DlyReturnDate\n",
      "75  USA0001        0.0      20040130\n",
      "'DlyReturnDate' added successfully for date: 20040202. Sample row:\n",
      "     Barrid  DlyReturn DlyReturnDate\n",
      "75  USA0001        0.0      20040202\n",
      "'DlyReturnDate' added successfully for date: 20040203. Sample row:\n",
      "     Barrid  DlyReturn DlyReturnDate\n",
      "75  USA0001        0.0      20040203\n",
      "'DlyReturnDate' added successfully for date: 20040204. Sample row:\n",
      "     Barrid  DlyReturn DlyReturnDate\n",
      "75  USA0001        0.0      20040204\n",
      "'DlyReturnDate' added successfully for date: 20040205. Sample row:\n",
      "     Barrid  DlyReturn DlyReturnDate\n",
      "75  USA0001        0.0      20040205\n",
      "'DlyReturnDate' added successfully for date: 20040206. Sample row:\n",
      "     Barrid  DlyReturn DlyReturnDate\n",
      "75  USA0001        0.0      20040206\n",
      "'DlyReturnDate' added successfully for date: 20040209. Sample row:\n",
      "     Barrid  DlyReturn DlyReturnDate\n",
      "75  USA0001        0.0      20040209\n",
      "'DlyReturnDate' added successfully for date: 20040210. Sample row:\n",
      "     Barrid  DlyReturn DlyReturnDate\n",
      "75  USA0001        0.0      20040210\n",
      "'DlyReturnDate' added successfully for date: 20040211. Sample row:\n",
      "     Barrid  DlyReturn DlyReturnDate\n",
      "75  USA0001        0.0      20040211\n",
      "'DlyReturnDate' added successfully for date: 20040212. Sample row:\n",
      "     Barrid  DlyReturn DlyReturnDate\n",
      "76  USA0001        0.0      20040212\n",
      "'DlyReturnDate' added successfully for date: 20040213. Sample row:\n",
      "     Barrid  DlyReturn DlyReturnDate\n",
      "76  USA0001        0.0      20040213\n",
      "'DlyReturnDate' added successfully for date: 20040217. Sample row:\n",
      "     Barrid  DlyReturn DlyReturnDate\n",
      "76  USA0001        0.0      20040217\n",
      "'DlyReturnDate' added successfully for date: 20040218. Sample row:\n",
      "     Barrid  DlyReturn DlyReturnDate\n",
      "76  USA0001        0.0      20040218\n",
      "'DlyReturnDate' added successfully for date: 20040219. Sample row:\n",
      "     Barrid  DlyReturn DlyReturnDate\n",
      "76  USA0001        0.0      20040219\n",
      "'DlyReturnDate' added successfully for date: 20040220. Sample row:\n",
      "     Barrid  DlyReturn DlyReturnDate\n",
      "76  USA0001        0.0      20040220\n",
      "'DlyReturnDate' added successfully for date: 20040223. Sample row:\n",
      "     Barrid  DlyReturn DlyReturnDate\n",
      "76  USA0001        0.0      20040223\n",
      "'DlyReturnDate' added successfully for date: 20040224. Sample row:\n",
      "     Barrid  DlyReturn DlyReturnDate\n",
      "76  USA0001        0.0      20040224\n",
      "'DlyReturnDate' added successfully for date: 20040225. Sample row:\n",
      "     Barrid  DlyReturn DlyReturnDate\n",
      "77  USA0001        0.0      20040225\n",
      "'DlyReturnDate' added successfully for date: 20040226. Sample row:\n",
      "     Barrid  DlyReturn DlyReturnDate\n",
      "77  USA0001        0.0      20040226\n",
      "'DlyReturnDate' added successfully for date: 20040227. Sample row:\n",
      "     Barrid  DlyReturn DlyReturnDate\n",
      "77  USA0001        0.0      20040227\n",
      "'DlyReturnDate' added successfully for date: 20040301. Sample row:\n",
      "     Barrid  DlyReturn DlyReturnDate\n",
      "78  USA0001        0.0      20040301\n",
      "'DlyReturnDate' added successfully for date: 20040302. Sample row:\n",
      "     Barrid  DlyReturn DlyReturnDate\n",
      "78  USA0001        0.0      20040302\n",
      "'DlyReturnDate' added successfully for date: 20040303. Sample row:\n",
      "     Barrid  DlyReturn DlyReturnDate\n",
      "78  USA0001        0.0      20040303\n",
      "'DlyReturnDate' added successfully for date: 20040304. Sample row:\n",
      "     Barrid  DlyReturn DlyReturnDate\n",
      "78  USA0001        0.0      20040304\n",
      "'DlyReturnDate' added successfully for date: 20040305. Sample row:\n",
      "     Barrid  DlyReturn DlyReturnDate\n",
      "78  USA0001        0.0      20040305\n",
      "'DlyReturnDate' added successfully for date: 20040308. Sample row:\n",
      "     Barrid  DlyReturn DlyReturnDate\n",
      "78  USA0001        0.0      20040308\n",
      "'DlyReturnDate' added successfully for date: 20040309. Sample row:\n",
      "     Barrid  DlyReturn DlyReturnDate\n",
      "78  USA0001        0.0      20040309\n",
      "'DlyReturnDate' added successfully for date: 20040310. Sample row:\n",
      "     Barrid  DlyReturn DlyReturnDate\n",
      "78  USA0001        0.0      20040310\n",
      "'DlyReturnDate' added successfully for date: 20040311. Sample row:\n",
      "     Barrid  DlyReturn DlyReturnDate\n",
      "78  USA0001        0.0      20040311\n",
      "'DlyReturnDate' added successfully for date: 20040312. Sample row:\n",
      "     Barrid  DlyReturn DlyReturnDate\n",
      "78  USA0001        0.0      20040312\n",
      "'DlyReturnDate' added successfully for date: 20040315. Sample row:\n",
      "     Barrid  DlyReturn DlyReturnDate\n",
      "78  USA0001        0.0      20040315\n",
      "'DlyReturnDate' added successfully for date: 20040316. Sample row:\n",
      "     Barrid  DlyReturn DlyReturnDate\n",
      "78  USA0001        0.0      20040316\n",
      "'DlyReturnDate' added successfully for date: 20040317. Sample row:\n",
      "     Barrid  DlyReturn DlyReturnDate\n",
      "78  USA0001        0.0      20040317\n",
      "'DlyReturnDate' added successfully for date: 20040318. Sample row:\n",
      "     Barrid  DlyReturn DlyReturnDate\n",
      "78  USA0001        0.0      20040318\n",
      "'DlyReturnDate' added successfully for date: 20040319. Sample row:\n",
      "     Barrid  DlyReturn DlyReturnDate\n",
      "78  USA0001        0.0      20040319\n",
      "'DlyReturnDate' added successfully for date: 20040322. Sample row:\n",
      "     Barrid  DlyReturn DlyReturnDate\n",
      "78  USA0001        0.0      20040322\n",
      "'DlyReturnDate' added successfully for date: 20040323. Sample row:\n",
      "     Barrid  DlyReturn DlyReturnDate\n",
      "78  USA0001        0.0      20040323\n",
      "'DlyReturnDate' added successfully for date: 20040324. Sample row:\n",
      "     Barrid  DlyReturn DlyReturnDate\n",
      "78  USA0001        0.0      20040324\n",
      "'DlyReturnDate' added successfully for date: 20040325. Sample row:\n",
      "     Barrid  DlyReturn DlyReturnDate\n",
      "78  USA0001        0.0      20040325\n",
      "'DlyReturnDate' added successfully for date: 20040326. Sample row:\n",
      "     Barrid  DlyReturn DlyReturnDate\n",
      "78  USA0001        0.0      20040326\n",
      "'DlyReturnDate' added successfully for date: 20040329. Sample row:\n",
      "     Barrid  DlyReturn DlyReturnDate\n",
      "78  USA0001        0.0      20040329\n",
      "'DlyReturnDate' added successfully for date: 20040330. Sample row:\n",
      "     Barrid  DlyReturn DlyReturnDate\n",
      "78  USA0001        0.0      20040330\n"
     ]
    },
    {
     "name": "stdout",
     "output_type": "stream",
     "text": [
      "'DlyReturnDate' added successfully for date: 20040331. Sample row:\n",
      "     Barrid  DlyReturn DlyReturnDate\n",
      "78  USA0001        0.0      20040331\n",
      "'DlyReturnDate' added successfully for date: 20040401. Sample row:\n",
      "     Barrid  DlyReturn DlyReturnDate\n",
      "77  USA0001        0.0      20040401\n",
      "'DlyReturnDate' added successfully for date: 20040402. Sample row:\n",
      "     Barrid  DlyReturn DlyReturnDate\n",
      "77  USA0001        0.0      20040402\n",
      "'DlyReturnDate' added successfully for date: 20040405. Sample row:\n",
      "     Barrid  DlyReturn DlyReturnDate\n",
      "77  USA0001        0.0      20040405\n",
      "'DlyReturnDate' added successfully for date: 20040406. Sample row:\n",
      "     Barrid  DlyReturn DlyReturnDate\n",
      "77  USA0001        0.0      20040406\n",
      "'DlyReturnDate' added successfully for date: 20040407. Sample row:\n",
      "     Barrid  DlyReturn DlyReturnDate\n",
      "77  USA0001        0.0      20040407\n",
      "'DlyReturnDate' added successfully for date: 20040408. Sample row:\n",
      "     Barrid  DlyReturn DlyReturnDate\n",
      "77  USA0001        0.0      20040408\n",
      "'DlyReturnDate' added successfully for date: 20040412. Sample row:\n",
      "     Barrid  DlyReturn DlyReturnDate\n",
      "77  USA0001        0.0      20040412\n",
      "'DlyReturnDate' added successfully for date: 20040413. Sample row:\n",
      "     Barrid  DlyReturn DlyReturnDate\n",
      "78  USA0001        0.0      20040413\n",
      "'DlyReturnDate' added successfully for date: 20040414. Sample row:\n",
      "     Barrid  DlyReturn DlyReturnDate\n",
      "78  USA0001        0.0      20040414\n",
      "'DlyReturnDate' added successfully for date: 20040415. Sample row:\n",
      "     Barrid  DlyReturn DlyReturnDate\n",
      "78  USA0001        0.0      20040415\n",
      "'DlyReturnDate' added successfully for date: 20040416. Sample row:\n",
      "     Barrid  DlyReturn DlyReturnDate\n",
      "78  USA0001        0.0      20040416\n",
      "'DlyReturnDate' added successfully for date: 20040419. Sample row:\n",
      "     Barrid  DlyReturn DlyReturnDate\n",
      "78  USA0001        0.0      20040419\n",
      "'DlyReturnDate' added successfully for date: 20040420. Sample row:\n",
      "     Barrid  DlyReturn DlyReturnDate\n",
      "78  USA0001        0.0      20040420\n",
      "'DlyReturnDate' added successfully for date: 20040421. Sample row:\n",
      "     Barrid  DlyReturn DlyReturnDate\n",
      "78  USA0001        0.0      20040421\n",
      "'DlyReturnDate' added successfully for date: 20040422. Sample row:\n",
      "     Barrid  DlyReturn DlyReturnDate\n",
      "78  USA0001        0.0      20040422\n",
      "'DlyReturnDate' added successfully for date: 20040423. Sample row:\n",
      "     Barrid  DlyReturn DlyReturnDate\n",
      "78  USA0001        0.0      20040423\n",
      "'DlyReturnDate' added successfully for date: 20040426. Sample row:\n",
      "     Barrid  DlyReturn DlyReturnDate\n",
      "78  USA0001        0.0      20040426\n",
      "'DlyReturnDate' added successfully for date: 20040427. Sample row:\n",
      "     Barrid  DlyReturn DlyReturnDate\n",
      "78  USA0001        0.0      20040427\n",
      "'DlyReturnDate' added successfully for date: 20040428. Sample row:\n",
      "     Barrid  DlyReturn DlyReturnDate\n",
      "78  USA0001        0.0      20040428\n",
      "'DlyReturnDate' added successfully for date: 20040429. Sample row:\n",
      "     Barrid  DlyReturn DlyReturnDate\n",
      "78  USA0001        0.0      20040429\n",
      "'DlyReturnDate' added successfully for date: 20040430. Sample row:\n",
      "     Barrid  DlyReturn DlyReturnDate\n",
      "78  USA0001        0.0      20040430\n",
      "'DlyReturnDate' added successfully for date: 20040503. Sample row:\n",
      "     Barrid  DlyReturn DlyReturnDate\n",
      "78  USA0001        0.0      20040503\n",
      "'DlyReturnDate' added successfully for date: 20040504. Sample row:\n",
      "     Barrid  DlyReturn DlyReturnDate\n",
      "78  USA0001        0.0      20040504\n",
      "'DlyReturnDate' added successfully for date: 20040505. Sample row:\n",
      "     Barrid  DlyReturn DlyReturnDate\n",
      "78  USA0001        0.0      20040505\n",
      "'DlyReturnDate' added successfully for date: 20040506. Sample row:\n",
      "     Barrid  DlyReturn DlyReturnDate\n",
      "78  USA0001        0.0      20040506\n",
      "'DlyReturnDate' added successfully for date: 20040507. Sample row:\n",
      "     Barrid  DlyReturn DlyReturnDate\n",
      "78  USA0001        0.0      20040507\n",
      "'DlyReturnDate' added successfully for date: 20040510. Sample row:\n",
      "     Barrid  DlyReturn DlyReturnDate\n",
      "78  USA0001        0.0      20040510\n",
      "'DlyReturnDate' added successfully for date: 20040511. Sample row:\n",
      "     Barrid  DlyReturn DlyReturnDate\n",
      "78  USA0001        0.0      20040511\n",
      "'DlyReturnDate' added successfully for date: 20040512. Sample row:\n",
      "     Barrid  DlyReturn DlyReturnDate\n",
      "78  USA0001        0.0      20040512\n",
      "'DlyReturnDate' added successfully for date: 20040513. Sample row:\n",
      "     Barrid  DlyReturn DlyReturnDate\n",
      "78  USA0001   0.001302      20040513\n",
      "'DlyReturnDate' added successfully for date: 20040514. Sample row:\n",
      "     Barrid  DlyReturn DlyReturnDate\n",
      "78  USA0001        0.0      20040514\n",
      "'DlyReturnDate' added successfully for date: 20040517. Sample row:\n",
      "     Barrid  DlyReturn DlyReturnDate\n",
      "78  USA0001        0.0      20040517\n",
      "'DlyReturnDate' added successfully for date: 20040518. Sample row:\n",
      "     Barrid  DlyReturn DlyReturnDate\n",
      "78  USA0001        0.0      20040518\n",
      "'DlyReturnDate' added successfully for date: 20040519. Sample row:\n",
      "     Barrid  DlyReturn DlyReturnDate\n",
      "78  USA0001        0.0      20040519\n",
      "'DlyReturnDate' added successfully for date: 20040520. Sample row:\n",
      "     Barrid  DlyReturn DlyReturnDate\n",
      "77  USA0001        0.0      20040520\n",
      "'DlyReturnDate' added successfully for date: 20040521. Sample row:\n",
      "     Barrid  DlyReturn DlyReturnDate\n",
      "77  USA0001        0.0      20040521\n",
      "'DlyReturnDate' added successfully for date: 20040524. Sample row:\n",
      "     Barrid  DlyReturn DlyReturnDate\n",
      "77  USA0001        0.0      20040524\n",
      "'DlyReturnDate' added successfully for date: 20040525. Sample row:\n",
      "     Barrid  DlyReturn DlyReturnDate\n",
      "77  USA0001        0.0      20040525\n",
      "'DlyReturnDate' added successfully for date: 20040526. Sample row:\n",
      "     Barrid  DlyReturn DlyReturnDate\n",
      "77  USA0001        0.0      20040526\n",
      "'DlyReturnDate' added successfully for date: 20040527. Sample row:\n",
      "     Barrid  DlyReturn DlyReturnDate\n",
      "77  USA0001        0.0      20040527\n",
      "'DlyReturnDate' added successfully for date: 20040528. Sample row:\n",
      "     Barrid  DlyReturn DlyReturnDate\n",
      "77  USA0001        0.0      20040528\n",
      "'DlyReturnDate' added successfully for date: 20040601. Sample row:\n",
      "     Barrid  DlyReturn DlyReturnDate\n",
      "76  USA0001        0.0      20040601\n",
      "'DlyReturnDate' added successfully for date: 20040602. Sample row:\n",
      "     Barrid  DlyReturn DlyReturnDate\n",
      "76  USA0001        0.0      20040602\n",
      "'DlyReturnDate' added successfully for date: 20040603. Sample row:\n",
      "     Barrid  DlyReturn DlyReturnDate\n",
      "76  USA0001        0.0      20040603\n",
      "'DlyReturnDate' added successfully for date: 20040604. Sample row:\n",
      "     Barrid  DlyReturn DlyReturnDate\n",
      "77  USA0001        0.0      20040604\n",
      "'DlyReturnDate' added successfully for date: 20040607. Sample row:\n",
      "     Barrid  DlyReturn DlyReturnDate\n",
      "77  USA0001        0.0      20040607\n",
      "'DlyReturnDate' added successfully for date: 20040608. Sample row:\n",
      "     Barrid  DlyReturn DlyReturnDate\n",
      "77  USA0001        0.0      20040608\n",
      "'DlyReturnDate' added successfully for date: 20040609. Sample row:\n",
      "     Barrid  DlyReturn DlyReturnDate\n",
      "77  USA0001        0.0      20040609\n",
      "'DlyReturnDate' added successfully for date: 20040610. Sample row:\n",
      "     Barrid  DlyReturn DlyReturnDate\n",
      "77  USA0001        0.0      20040610\n",
      "'DlyReturnDate' added successfully for date: 20040614. Sample row:\n",
      "     Barrid  DlyReturn DlyReturnDate\n",
      "77  USA0001        0.0      20040614\n",
      "'DlyReturnDate' added successfully for date: 20040615. Sample row:\n",
      "     Barrid  DlyReturn DlyReturnDate\n",
      "77  USA0001        0.0      20040615\n",
      "'DlyReturnDate' added successfully for date: 20040616. Sample row:\n",
      "     Barrid  DlyReturn DlyReturnDate\n",
      "77  USA0001        0.0      20040616\n",
      "'DlyReturnDate' added successfully for date: 20040617. Sample row:\n",
      "     Barrid  DlyReturn DlyReturnDate\n",
      "77  USA0001        0.0      20040617\n",
      "'DlyReturnDate' added successfully for date: 20040618. Sample row:\n",
      "     Barrid  DlyReturn DlyReturnDate\n",
      "77  USA0001        0.0      20040618\n",
      "'DlyReturnDate' added successfully for date: 20040621. Sample row:\n",
      "     Barrid  DlyReturn DlyReturnDate\n",
      "77  USA0001        0.0      20040621\n",
      "'DlyReturnDate' added successfully for date: 20040622. Sample row:\n",
      "     Barrid  DlyReturn DlyReturnDate\n",
      "77  USA0001        0.0      20040622\n",
      "'DlyReturnDate' added successfully for date: 20040623. Sample row:\n",
      "     Barrid  DlyReturn DlyReturnDate\n",
      "77  USA0001        0.0      20040623\n",
      "'DlyReturnDate' added successfully for date: 20040624. Sample row:\n",
      "     Barrid  DlyReturn DlyReturnDate\n",
      "77  USA0001        0.0      20040624\n",
      "'DlyReturnDate' added successfully for date: 20040625. Sample row:\n",
      "     Barrid  DlyReturn DlyReturnDate\n",
      "77  USA0001        0.0      20040625\n",
      "'DlyReturnDate' added successfully for date: 20040628. Sample row:\n",
      "     Barrid  DlyReturn DlyReturnDate\n",
      "77  USA0001        0.0      20040628\n",
      "'DlyReturnDate' added successfully for date: 20040629. Sample row:\n",
      "     Barrid  DlyReturn DlyReturnDate\n",
      "77  USA0001        0.0      20040629\n",
      "'DlyReturnDate' added successfully for date: 20040630. Sample row:\n",
      "     Barrid  DlyReturn DlyReturnDate\n",
      "77  USA0001        0.0      20040630\n",
      "'DlyReturnDate' added successfully for date: 20040701. Sample row:\n",
      "     Barrid  DlyReturn DlyReturnDate\n",
      "77  USA0001        0.0      20040701\n",
      "'DlyReturnDate' added successfully for date: 20040702. Sample row:\n",
      "     Barrid  DlyReturn DlyReturnDate\n",
      "77  USA0001        0.0      20040702\n",
      "'DlyReturnDate' added successfully for date: 20040706. Sample row:\n",
      "     Barrid  DlyReturn DlyReturnDate\n",
      "76  USA0001        0.0      20040706\n",
      "'DlyReturnDate' added successfully for date: 20040707. Sample row:\n",
      "     Barrid  DlyReturn DlyReturnDate\n",
      "76  USA0001        0.0      20040707\n",
      "'DlyReturnDate' added successfully for date: 20040708. Sample row:\n",
      "     Barrid  DlyReturn DlyReturnDate\n",
      "76  USA0001        0.0      20040708\n",
      "'DlyReturnDate' added successfully for date: 20040709. Sample row:\n",
      "     Barrid  DlyReturn DlyReturnDate\n",
      "76  USA0001        0.0      20040709\n",
      "'DlyReturnDate' added successfully for date: 20040712. Sample row:\n",
      "     Barrid  DlyReturn DlyReturnDate\n",
      "76  USA0001        0.0      20040712\n",
      "'DlyReturnDate' added successfully for date: 20040713. Sample row:\n",
      "     Barrid  DlyReturn DlyReturnDate\n",
      "76  USA0001        0.0      20040713\n",
      "'DlyReturnDate' added successfully for date: 20040714. Sample row:\n",
      "     Barrid  DlyReturn DlyReturnDate\n",
      "75  USA0001        0.0      20040714\n",
      "'DlyReturnDate' added successfully for date: 20040715. Sample row:\n",
      "     Barrid  DlyReturn DlyReturnDate\n",
      "75  USA0001        0.0      20040715\n",
      "'DlyReturnDate' added successfully for date: 20040716. Sample row:\n",
      "     Barrid  DlyReturn DlyReturnDate\n",
      "75  USA0001        0.0      20040716\n"
     ]
    },
    {
     "name": "stdout",
     "output_type": "stream",
     "text": [
      "'DlyReturnDate' added successfully for date: 20040719. Sample row:\n",
      "     Barrid  DlyReturn DlyReturnDate\n",
      "75  USA0001        0.0      20040719\n",
      "'DlyReturnDate' added successfully for date: 20040720. Sample row:\n",
      "     Barrid  DlyReturn DlyReturnDate\n",
      "75  USA0001        0.0      20040720\n",
      "'DlyReturnDate' added successfully for date: 20040721. Sample row:\n",
      "     Barrid  DlyReturn DlyReturnDate\n",
      "75  USA0001        0.0      20040721\n",
      "'DlyReturnDate' added successfully for date: 20040722. Sample row:\n",
      "     Barrid  DlyReturn DlyReturnDate\n",
      "75  USA0001        0.0      20040722\n",
      "'DlyReturnDate' added successfully for date: 20040723. Sample row:\n",
      "     Barrid  DlyReturn DlyReturnDate\n",
      "75  USA0001        0.0      20040723\n",
      "'DlyReturnDate' added successfully for date: 20040726. Sample row:\n",
      "     Barrid  DlyReturn DlyReturnDate\n",
      "75  USA0001        0.0      20040726\n",
      "'DlyReturnDate' added successfully for date: 20040727. Sample row:\n",
      "     Barrid  DlyReturn DlyReturnDate\n",
      "75  USA0001        0.0      20040727\n",
      "'DlyReturnDate' added successfully for date: 20040728. Sample row:\n",
      "     Barrid  DlyReturn DlyReturnDate\n",
      "75  USA0001        0.0      20040728\n",
      "'DlyReturnDate' added successfully for date: 20040729. Sample row:\n",
      "     Barrid  DlyReturn DlyReturnDate\n",
      "75  USA0001        0.0      20040729\n",
      "'DlyReturnDate' added successfully for date: 20040730. Sample row:\n",
      "     Barrid  DlyReturn DlyReturnDate\n",
      "75  USA0001        0.0      20040730\n",
      "'DlyReturnDate' added successfully for date: 20040802. Sample row:\n",
      "     Barrid  DlyReturn DlyReturnDate\n",
      "75  USA0001        0.0      20040802\n",
      "'DlyReturnDate' added successfully for date: 20040803. Sample row:\n",
      "     Barrid  DlyReturn DlyReturnDate\n",
      "75  USA0001        0.0      20040803\n",
      "'DlyReturnDate' added successfully for date: 20040804. Sample row:\n",
      "     Barrid  DlyReturn DlyReturnDate\n",
      "75  USA0001        0.0      20040804\n",
      "'DlyReturnDate' added successfully for date: 20040805. Sample row:\n",
      "     Barrid  DlyReturn DlyReturnDate\n",
      "75  USA0001        0.0      20040805\n",
      "'DlyReturnDate' added successfully for date: 20040806. Sample row:\n",
      "     Barrid  DlyReturn DlyReturnDate\n",
      "75  USA0001        0.0      20040806\n",
      "'DlyReturnDate' added successfully for date: 20040809. Sample row:\n",
      "     Barrid  DlyReturn DlyReturnDate\n",
      "75  USA0001        0.0      20040809\n",
      "'DlyReturnDate' added successfully for date: 20040810. Sample row:\n",
      "     Barrid  DlyReturn DlyReturnDate\n",
      "75  USA0001   0.000443      20040810\n",
      "'DlyReturnDate' added successfully for date: 20040811. Sample row:\n",
      "     Barrid  DlyReturn DlyReturnDate\n",
      "75  USA0001        0.0      20040811\n",
      "'DlyReturnDate' added successfully for date: 20040812. Sample row:\n",
      "     Barrid  DlyReturn DlyReturnDate\n",
      "75  USA0001        0.0      20040812\n",
      "'DlyReturnDate' added successfully for date: 20040813. Sample row:\n",
      "     Barrid  DlyReturn DlyReturnDate\n",
      "75  USA0001        0.0      20040813\n",
      "'DlyReturnDate' added successfully for date: 20040816. Sample row:\n",
      "     Barrid  DlyReturn DlyReturnDate\n",
      "75  USA0001        0.0      20040816\n",
      "'DlyReturnDate' added successfully for date: 20040817. Sample row:\n",
      "     Barrid  DlyReturn DlyReturnDate\n",
      "75  USA0001        0.0      20040817\n",
      "'DlyReturnDate' added successfully for date: 20040818. Sample row:\n",
      "     Barrid  DlyReturn DlyReturnDate\n",
      "75  USA0001        0.0      20040818\n",
      "'DlyReturnDate' added successfully for date: 20040819. Sample row:\n",
      "     Barrid  DlyReturn DlyReturnDate\n",
      "75  USA0001        0.0      20040819\n",
      "'DlyReturnDate' added successfully for date: 20040820. Sample row:\n",
      "     Barrid  DlyReturn DlyReturnDate\n",
      "75  USA0001        0.0      20040820\n",
      "'DlyReturnDate' added successfully for date: 20040823. Sample row:\n",
      "     Barrid  DlyReturn DlyReturnDate\n",
      "75  USA0001        0.0      20040823\n",
      "'DlyReturnDate' added successfully for date: 20040824. Sample row:\n",
      "     Barrid  DlyReturn DlyReturnDate\n",
      "75  USA0001        0.0      20040824\n",
      "'DlyReturnDate' added successfully for date: 20040825. Sample row:\n",
      "     Barrid  DlyReturn DlyReturnDate\n",
      "75  USA0001        0.0      20040825\n",
      "'DlyReturnDate' added successfully for date: 20040826. Sample row:\n",
      "     Barrid  DlyReturn DlyReturnDate\n",
      "75  USA0001        0.0      20040826\n",
      "'DlyReturnDate' added successfully for date: 20040827. Sample row:\n",
      "     Barrid  DlyReturn DlyReturnDate\n",
      "75  USA0001        0.0      20040827\n",
      "'DlyReturnDate' added successfully for date: 20040830. Sample row:\n",
      "     Barrid  DlyReturn DlyReturnDate\n",
      "75  USA0001        0.0      20040830\n",
      "'DlyReturnDate' added successfully for date: 20040831. Sample row:\n",
      "     Barrid  DlyReturn DlyReturnDate\n",
      "73  USA0001        0.0      20040831\n",
      "'DlyReturnDate' added successfully for date: 20040901. Sample row:\n",
      "     Barrid  DlyReturn DlyReturnDate\n",
      "73  USA0001        0.0      20040901\n",
      "'DlyReturnDate' added successfully for date: 20040902. Sample row:\n",
      "     Barrid  DlyReturn DlyReturnDate\n",
      "73  USA0001        0.0      20040902\n",
      "'DlyReturnDate' added successfully for date: 20040903. Sample row:\n",
      "     Barrid  DlyReturn DlyReturnDate\n",
      "73  USA0001        0.0      20040903\n",
      "'DlyReturnDate' added successfully for date: 20040907. Sample row:\n",
      "     Barrid  DlyReturn DlyReturnDate\n",
      "73  USA0001        0.0      20040907\n",
      "'DlyReturnDate' added successfully for date: 20040908. Sample row:\n",
      "     Barrid  DlyReturn DlyReturnDate\n",
      "73  USA0001        0.0      20040908\n",
      "'DlyReturnDate' added successfully for date: 20040909. Sample row:\n",
      "     Barrid  DlyReturn DlyReturnDate\n",
      "73  USA0001        0.0      20040909\n",
      "'DlyReturnDate' added successfully for date: 20040910. Sample row:\n",
      "     Barrid  DlyReturn DlyReturnDate\n",
      "73  USA0001        0.0      20040910\n",
      "'DlyReturnDate' added successfully for date: 20040913. Sample row:\n",
      "     Barrid  DlyReturn DlyReturnDate\n",
      "73  USA0001        0.0      20040913\n",
      "'DlyReturnDate' added successfully for date: 20040914. Sample row:\n",
      "     Barrid  DlyReturn DlyReturnDate\n",
      "73  USA0001        0.0      20040914\n",
      "'DlyReturnDate' added successfully for date: 20040915. Sample row:\n",
      "     Barrid  DlyReturn DlyReturnDate\n",
      "73  USA0001        0.0      20040915\n",
      "'DlyReturnDate' added successfully for date: 20040916. Sample row:\n",
      "     Barrid  DlyReturn DlyReturnDate\n",
      "73  USA0001        0.0      20040916\n",
      "'DlyReturnDate' added successfully for date: 20040917. Sample row:\n",
      "     Barrid  DlyReturn DlyReturnDate\n",
      "73  USA0001        0.0      20040917\n",
      "'DlyReturnDate' added successfully for date: 20040920. Sample row:\n",
      "     Barrid  DlyReturn DlyReturnDate\n",
      "73  USA0001        0.0      20040920\n",
      "'DlyReturnDate' added successfully for date: 20040921. Sample row:\n",
      "     Barrid  DlyReturn DlyReturnDate\n",
      "73  USA0001        0.0      20040921\n",
      "'DlyReturnDate' added successfully for date: 20040922. Sample row:\n",
      "     Barrid  DlyReturn DlyReturnDate\n",
      "73  USA0001        0.0      20040922\n",
      "'DlyReturnDate' added successfully for date: 20040923. Sample row:\n",
      "     Barrid  DlyReturn DlyReturnDate\n",
      "73  USA0001        0.0      20040923\n",
      "'DlyReturnDate' added successfully for date: 20040924. Sample row:\n",
      "     Barrid  DlyReturn DlyReturnDate\n",
      "73  USA0001        0.0      20040924\n",
      "'DlyReturnDate' added successfully for date: 20040927. Sample row:\n",
      "     Barrid  DlyReturn DlyReturnDate\n",
      "73  USA0001        0.0      20040927\n",
      "'DlyReturnDate' added successfully for date: 20040928. Sample row:\n",
      "     Barrid  DlyReturn DlyReturnDate\n",
      "73  USA0001        0.0      20040928\n",
      "'DlyReturnDate' added successfully for date: 20040929. Sample row:\n",
      "     Barrid  DlyReturn DlyReturnDate\n",
      "73  USA0001        0.0      20040929\n",
      "'DlyReturnDate' added successfully for date: 20040930. Sample row:\n",
      "     Barrid  DlyReturn DlyReturnDate\n",
      "73  USA0001        0.0      20040930\n",
      "'DlyReturnDate' added successfully for date: 20041001. Sample row:\n",
      "     Barrid  DlyReturn DlyReturnDate\n",
      "73  USA0001        0.0      20041001\n",
      "'DlyReturnDate' added successfully for date: 20041004. Sample row:\n",
      "     Barrid  DlyReturn DlyReturnDate\n",
      "73  USA0001        0.0      20041004\n",
      "'DlyReturnDate' added successfully for date: 20041005. Sample row:\n",
      "     Barrid  DlyReturn DlyReturnDate\n",
      "73  USA0001        0.0      20041005\n",
      "'DlyReturnDate' added successfully for date: 20041006. Sample row:\n",
      "     Barrid  DlyReturn DlyReturnDate\n",
      "73  USA0001        0.0      20041006\n",
      "'DlyReturnDate' added successfully for date: 20041007. Sample row:\n",
      "     Barrid  DlyReturn DlyReturnDate\n",
      "73  USA0001        0.0      20041007\n",
      "'DlyReturnDate' added successfully for date: 20041008. Sample row:\n",
      "     Barrid  DlyReturn DlyReturnDate\n",
      "73  USA0001        0.0      20041008\n",
      "'DlyReturnDate' added successfully for date: 20041011. Sample row:\n",
      "     Barrid  DlyReturn DlyReturnDate\n",
      "73  USA0001        0.0      20041011\n",
      "'DlyReturnDate' added successfully for date: 20041012. Sample row:\n",
      "     Barrid  DlyReturn DlyReturnDate\n",
      "73  USA0001        0.0      20041012\n",
      "'DlyReturnDate' added successfully for date: 20041013. Sample row:\n",
      "     Barrid  DlyReturn DlyReturnDate\n",
      "73  USA0001        0.0      20041013\n",
      "'DlyReturnDate' added successfully for date: 20041014. Sample row:\n",
      "     Barrid  DlyReturn DlyReturnDate\n",
      "74  USA0001        0.0      20041014\n",
      "'DlyReturnDate' added successfully for date: 20041015. Sample row:\n",
      "     Barrid  DlyReturn DlyReturnDate\n",
      "74  USA0001        0.0      20041015\n",
      "'DlyReturnDate' added successfully for date: 20041018. Sample row:\n",
      "     Barrid  DlyReturn DlyReturnDate\n",
      "74  USA0001        0.0      20041018\n",
      "'DlyReturnDate' added successfully for date: 20041019. Sample row:\n",
      "     Barrid  DlyReturn DlyReturnDate\n",
      "74  USA0001        0.0      20041019\n",
      "'DlyReturnDate' added successfully for date: 20041020. Sample row:\n",
      "     Barrid  DlyReturn DlyReturnDate\n",
      "74  USA0001        0.0      20041020\n",
      "'DlyReturnDate' added successfully for date: 20041021. Sample row:\n",
      "     Barrid  DlyReturn DlyReturnDate\n",
      "74  USA0001        0.0      20041021\n",
      "'DlyReturnDate' added successfully for date: 20041022. Sample row:\n",
      "     Barrid  DlyReturn DlyReturnDate\n",
      "74  USA0001        0.0      20041022\n",
      "'DlyReturnDate' added successfully for date: 20041025. Sample row:\n",
      "     Barrid  DlyReturn DlyReturnDate\n",
      "74  USA0001        0.0      20041025\n",
      "'DlyReturnDate' added successfully for date: 20041026. Sample row:\n",
      "     Barrid  DlyReturn DlyReturnDate\n",
      "74  USA0001        0.0      20041026\n",
      "'DlyReturnDate' added successfully for date: 20041027. Sample row:\n",
      "     Barrid  DlyReturn DlyReturnDate\n",
      "74  USA0001        0.0      20041027\n"
     ]
    },
    {
     "name": "stdout",
     "output_type": "stream",
     "text": [
      "'DlyReturnDate' added successfully for date: 20041028. Sample row:\n",
      "     Barrid  DlyReturn DlyReturnDate\n",
      "74  USA0001        0.0      20041028\n",
      "'DlyReturnDate' added successfully for date: 20041029. Sample row:\n",
      "     Barrid  DlyReturn DlyReturnDate\n",
      "74  USA0001        0.0      20041029\n",
      "'DlyReturnDate' added successfully for date: 20041101. Sample row:\n",
      "      Barrid  DlyReturn DlyReturnDate\n",
      "140  USA0001        0.0      20041101\n",
      "'DlyReturnDate' added successfully for date: 20041102. Sample row:\n",
      "      Barrid  DlyReturn DlyReturnDate\n",
      "140  USA0001        0.0      20041102\n",
      "'DlyReturnDate' added successfully for date: 20041103. Sample row:\n",
      "      Barrid  DlyReturn DlyReturnDate\n",
      "140  USA0001        0.0      20041103\n",
      "'DlyReturnDate' added successfully for date: 20041104. Sample row:\n",
      "      Barrid  DlyReturn DlyReturnDate\n",
      "142  USA0001        0.0      20041104\n",
      "'DlyReturnDate' added successfully for date: 20041105. Sample row:\n",
      "      Barrid  DlyReturn DlyReturnDate\n",
      "142  USA0001        0.0      20041105\n",
      "'DlyReturnDate' added successfully for date: 20041108. Sample row:\n",
      "      Barrid  DlyReturn DlyReturnDate\n",
      "142  USA0001        0.0      20041108\n",
      "'DlyReturnDate' added successfully for date: 20041109. Sample row:\n",
      "      Barrid  DlyReturn DlyReturnDate\n",
      "142  USA0001        0.0      20041109\n",
      "'DlyReturnDate' added successfully for date: 20041110. Sample row:\n",
      "      Barrid  DlyReturn DlyReturnDate\n",
      "142  USA0001        0.0      20041110\n",
      "'DlyReturnDate' added successfully for date: 20041111. Sample row:\n",
      "      Barrid  DlyReturn DlyReturnDate\n",
      "142  USA0001        0.0      20041111\n",
      "'DlyReturnDate' added successfully for date: 20041112. Sample row:\n",
      "      Barrid  DlyReturn DlyReturnDate\n",
      "142  USA0001        0.0      20041112\n",
      "'DlyReturnDate' added successfully for date: 20041115. Sample row:\n",
      "      Barrid  DlyReturn DlyReturnDate\n",
      "142  USA0001        0.0      20041115\n",
      "'DlyReturnDate' added successfully for date: 20041116. Sample row:\n",
      "      Barrid  DlyReturn DlyReturnDate\n",
      "142  USA0001        0.0      20041116\n",
      "'DlyReturnDate' added successfully for date: 20041117. Sample row:\n",
      "      Barrid  DlyReturn DlyReturnDate\n",
      "142  USA0001        0.0      20041117\n",
      "'DlyReturnDate' added successfully for date: 20041118. Sample row:\n",
      "      Barrid  DlyReturn DlyReturnDate\n",
      "142  USA0001        0.0      20041118\n",
      "'DlyReturnDate' added successfully for date: 20041119. Sample row:\n",
      "      Barrid  DlyReturn DlyReturnDate\n",
      "142  USA0001        0.0      20041119\n",
      "'DlyReturnDate' added successfully for date: 20041122. Sample row:\n",
      "      Barrid  DlyReturn DlyReturnDate\n",
      "142  USA0001        0.0      20041122\n",
      "'DlyReturnDate' added successfully for date: 20041123. Sample row:\n",
      "      Barrid  DlyReturn DlyReturnDate\n",
      "142  USA0001        0.0      20041123\n",
      "'DlyReturnDate' added successfully for date: 20041124. Sample row:\n",
      "      Barrid  DlyReturn DlyReturnDate\n",
      "142  USA0001        0.0      20041124\n",
      "'DlyReturnDate' added successfully for date: 20041126. Sample row:\n",
      "      Barrid  DlyReturn DlyReturnDate\n",
      "142  USA0001        0.0      20041126\n",
      "'DlyReturnDate' added successfully for date: 20041129. Sample row:\n",
      "      Barrid  DlyReturn DlyReturnDate\n",
      "142  USA0001        0.0      20041129\n",
      "'DlyReturnDate' added successfully for date: 20041130. Sample row:\n",
      "      Barrid  DlyReturn DlyReturnDate\n",
      "142  USA0001        0.0      20041130\n",
      "'DlyReturnDate' added successfully for date: 20041201. Sample row:\n",
      "      Barrid  DlyReturn DlyReturnDate\n",
      "142  USA0001        0.0      20041201\n",
      "'DlyReturnDate' added successfully for date: 20041202. Sample row:\n",
      "      Barrid  DlyReturn DlyReturnDate\n",
      "142  USA0001        0.0      20041202\n",
      "'DlyReturnDate' added successfully for date: 20041203. Sample row:\n",
      "      Barrid  DlyReturn DlyReturnDate\n",
      "142  USA0001        0.0      20041203\n",
      "'DlyReturnDate' added successfully for date: 20041206. Sample row:\n",
      "      Barrid  DlyReturn DlyReturnDate\n",
      "142  USA0001        0.0      20041206\n",
      "'DlyReturnDate' added successfully for date: 20041207. Sample row:\n",
      "      Barrid  DlyReturn DlyReturnDate\n",
      "142  USA0001   0.000447      20041207\n",
      "'DlyReturnDate' added successfully for date: 20041208. Sample row:\n",
      "      Barrid  DlyReturn DlyReturnDate\n",
      "142  USA0001        0.0      20041208\n",
      "'DlyReturnDate' added successfully for date: 20041209. Sample row:\n",
      "      Barrid  DlyReturn DlyReturnDate\n",
      "143  USA0001        0.0      20041209\n",
      "'DlyReturnDate' added successfully for date: 20041210. Sample row:\n",
      "      Barrid  DlyReturn DlyReturnDate\n",
      "143  USA0001        0.0      20041210\n",
      "'DlyReturnDate' added successfully for date: 20041213. Sample row:\n",
      "      Barrid  DlyReturn DlyReturnDate\n",
      "143  USA0001        0.0      20041213\n",
      "'DlyReturnDate' added successfully for date: 20041214. Sample row:\n",
      "      Barrid  DlyReturn DlyReturnDate\n",
      "143  USA0001        0.0      20041214\n",
      "'DlyReturnDate' added successfully for date: 20041215. Sample row:\n",
      "      Barrid  DlyReturn DlyReturnDate\n",
      "143  USA0001        0.0      20041215\n",
      "'DlyReturnDate' added successfully for date: 20041216. Sample row:\n",
      "      Barrid  DlyReturn DlyReturnDate\n",
      "143  USA0001        0.0      20041216\n",
      "'DlyReturnDate' added successfully for date: 20041217. Sample row:\n",
      "      Barrid  DlyReturn DlyReturnDate\n",
      "143  USA0001        0.0      20041217\n",
      "'DlyReturnDate' added successfully for date: 20041220. Sample row:\n",
      "      Barrid  DlyReturn DlyReturnDate\n",
      "143  USA0001        0.0      20041220\n",
      "'DlyReturnDate' added successfully for date: 20041221. Sample row:\n",
      "      Barrid  DlyReturn DlyReturnDate\n",
      "143  USA0001        0.0      20041221\n",
      "'DlyReturnDate' added successfully for date: 20041222. Sample row:\n",
      "      Barrid  DlyReturn DlyReturnDate\n",
      "143  USA0001        0.0      20041222\n",
      "'DlyReturnDate' added successfully for date: 20041223. Sample row:\n",
      "      Barrid  DlyReturn DlyReturnDate\n",
      "143  USA0001        0.0      20041223\n",
      "'DlyReturnDate' added successfully for date: 20041227. Sample row:\n",
      "      Barrid  DlyReturn DlyReturnDate\n",
      "143  USA0001        0.0      20041227\n",
      "'DlyReturnDate' added successfully for date: 20041228. Sample row:\n",
      "      Barrid  DlyReturn DlyReturnDate\n",
      "143  USA0001        0.0      20041228\n",
      "'DlyReturnDate' added successfully for date: 20041229. Sample row:\n",
      "      Barrid  DlyReturn DlyReturnDate\n",
      "143  USA0001        0.0      20041229\n",
      "'DlyReturnDate' added successfully for date: 20041230. Sample row:\n",
      "      Barrid  DlyReturn DlyReturnDate\n",
      "143  USA0001        0.0      20041230\n",
      "'DlyReturnDate' added successfully for date: 20041231. Sample row:\n",
      "      Barrid  DlyReturn DlyReturnDate\n",
      "143  USA0001   0.003554      20041231\n",
      "'DlyReturnDate' added successfully for date: 20050103. Sample row:\n",
      "      Barrid  DlyReturn DlyReturnDate\n",
      "143  USA0001        0.0      20050103\n",
      "'DlyReturnDate' added successfully for date: 20050104. Sample row:\n",
      "      Barrid  DlyReturn DlyReturnDate\n",
      "143  USA0001        0.0      20050104\n",
      "'DlyReturnDate' added successfully for date: 20050105. Sample row:\n",
      "      Barrid  DlyReturn DlyReturnDate\n",
      "143  USA0001        0.0      20050105\n",
      "'DlyReturnDate' added successfully for date: 20050106. Sample row:\n",
      "      Barrid  DlyReturn DlyReturnDate\n",
      "143  USA0001        0.0      20050106\n",
      "'DlyReturnDate' added successfully for date: 20050107. Sample row:\n",
      "      Barrid  DlyReturn DlyReturnDate\n",
      "143  USA0001        0.0      20050107\n",
      "'DlyReturnDate' added successfully for date: 20050110. Sample row:\n",
      "      Barrid  DlyReturn DlyReturnDate\n",
      "143  USA0001        0.0      20050110\n",
      "'DlyReturnDate' added successfully for date: 20050111. Sample row:\n",
      "      Barrid  DlyReturn DlyReturnDate\n",
      "142  USA0001        0.0      20050111\n",
      "'DlyReturnDate' added successfully for date: 20050112. Sample row:\n",
      "      Barrid  DlyReturn DlyReturnDate\n",
      "142  USA0001        0.0      20050112\n",
      "'DlyReturnDate' added successfully for date: 20050113. Sample row:\n",
      "      Barrid  DlyReturn DlyReturnDate\n",
      "142  USA0001        0.0      20050113\n",
      "'DlyReturnDate' added successfully for date: 20050114. Sample row:\n",
      "      Barrid  DlyReturn DlyReturnDate\n",
      "142  USA0001        0.0      20050114\n",
      "'DlyReturnDate' added successfully for date: 20050118. Sample row:\n",
      "      Barrid  DlyReturn DlyReturnDate\n",
      "143  USA0001        0.0      20050118\n",
      "'DlyReturnDate' added successfully for date: 20050119. Sample row:\n",
      "      Barrid  DlyReturn DlyReturnDate\n",
      "143  USA0001        0.0      20050119\n",
      "'DlyReturnDate' added successfully for date: 20050120. Sample row:\n",
      "      Barrid  DlyReturn DlyReturnDate\n",
      "143  USA0001        0.0      20050120\n",
      "'DlyReturnDate' added successfully for date: 20050121. Sample row:\n",
      "      Barrid  DlyReturn DlyReturnDate\n",
      "143  USA0001        0.0      20050121\n",
      "'DlyReturnDate' added successfully for date: 20050124. Sample row:\n",
      "      Barrid  DlyReturn DlyReturnDate\n",
      "143  USA0001        0.0      20050124\n",
      "'DlyReturnDate' added successfully for date: 20050125. Sample row:\n",
      "      Barrid  DlyReturn DlyReturnDate\n",
      "144  USA0001        0.0      20050125\n",
      "'DlyReturnDate' added successfully for date: 20050126. Sample row:\n",
      "      Barrid  DlyReturn DlyReturnDate\n",
      "144  USA0001        0.0      20050126\n",
      "'DlyReturnDate' added successfully for date: 20050127. Sample row:\n",
      "      Barrid  DlyReturn DlyReturnDate\n",
      "145  USA0001        0.0      20050127\n",
      "'DlyReturnDate' added successfully for date: 20050128. Sample row:\n",
      "      Barrid  DlyReturn DlyReturnDate\n",
      "145  USA0001        0.0      20050128\n",
      "'DlyReturnDate' added successfully for date: 20050131. Sample row:\n",
      "      Barrid  DlyReturn DlyReturnDate\n",
      "145  USA0001        0.0      20050131\n",
      "'DlyReturnDate' added successfully for date: 20050201. Sample row:\n",
      "      Barrid  DlyReturn DlyReturnDate\n",
      "145  USA0001        0.0      20050201\n",
      "'DlyReturnDate' added successfully for date: 20050202. Sample row:\n",
      "      Barrid  DlyReturn DlyReturnDate\n",
      "145  USA0001        0.0      20050202\n",
      "'DlyReturnDate' added successfully for date: 20050203. Sample row:\n",
      "      Barrid  DlyReturn DlyReturnDate\n",
      "145  USA0001        0.0      20050203\n",
      "'DlyReturnDate' added successfully for date: 20050204. Sample row:\n",
      "      Barrid  DlyReturn DlyReturnDate\n",
      "145  USA0001        0.0      20050204\n",
      "'DlyReturnDate' added successfully for date: 20050207. Sample row:\n",
      "      Barrid  DlyReturn DlyReturnDate\n",
      "145  USA0001        0.0      20050207\n",
      "'DlyReturnDate' added successfully for date: 20050208. Sample row:\n",
      "      Barrid  DlyReturn DlyReturnDate\n",
      "146  USA0001        0.0      20050208\n",
      "'DlyReturnDate' added successfully for date: 20050209. Sample row:\n",
      "      Barrid  DlyReturn DlyReturnDate\n",
      "146  USA0001        0.0      20050209\n",
      "'DlyReturnDate' added successfully for date: 20050210. Sample row:\n",
      "      Barrid  DlyReturn DlyReturnDate\n",
      "147  USA0001        0.0      20050210\n",
      "'DlyReturnDate' added successfully for date: 20050211. Sample row:\n",
      "      Barrid  DlyReturn DlyReturnDate\n",
      "147  USA0001        0.0      20050211\n",
      "'DlyReturnDate' added successfully for date: 20050214. Sample row:\n",
      "      Barrid  DlyReturn DlyReturnDate\n",
      "147  USA0001        0.0      20050214\n",
      "'DlyReturnDate' added successfully for date: 20050215. Sample row:\n",
      "      Barrid  DlyReturn DlyReturnDate\n",
      "147  USA0001        0.0      20050215\n"
     ]
    },
    {
     "name": "stdout",
     "output_type": "stream",
     "text": [
      "'DlyReturnDate' added successfully for date: 20050216. Sample row:\n",
      "      Barrid  DlyReturn DlyReturnDate\n",
      "147  USA0001        0.0      20050216\n",
      "'DlyReturnDate' added successfully for date: 20050217. Sample row:\n",
      "      Barrid  DlyReturn DlyReturnDate\n",
      "147  USA0001        0.0      20050217\n",
      "'DlyReturnDate' added successfully for date: 20050218. Sample row:\n",
      "      Barrid  DlyReturn DlyReturnDate\n",
      "147  USA0001        0.0      20050218\n",
      "'DlyReturnDate' added successfully for date: 20050222. Sample row:\n",
      "      Barrid  DlyReturn DlyReturnDate\n",
      "147  USA0001        0.0      20050222\n",
      "'DlyReturnDate' added successfully for date: 20050223. Sample row:\n",
      "      Barrid  DlyReturn DlyReturnDate\n",
      "147  USA0001        0.0      20050223\n",
      "'DlyReturnDate' added successfully for date: 20050224. Sample row:\n",
      "      Barrid  DlyReturn DlyReturnDate\n",
      "147  USA0001        0.0      20050224\n",
      "'DlyReturnDate' added successfully for date: 20050225. Sample row:\n",
      "      Barrid  DlyReturn DlyReturnDate\n",
      "147  USA0001        0.0      20050225\n",
      "'DlyReturnDate' added successfully for date: 20050228. Sample row:\n",
      "      Barrid  DlyReturn DlyReturnDate\n",
      "147  USA0001        0.0      20050228\n",
      "'DlyReturnDate' added successfully for date: 20050301. Sample row:\n",
      "      Barrid  DlyReturn DlyReturnDate\n",
      "147  USA0001        0.0      20050301\n",
      "'DlyReturnDate' added successfully for date: 20050302. Sample row:\n",
      "      Barrid  DlyReturn DlyReturnDate\n",
      "147  USA0001        0.0      20050302\n",
      "'DlyReturnDate' added successfully for date: 20050303. Sample row:\n",
      "      Barrid  DlyReturn DlyReturnDate\n",
      "147  USA0001        0.0      20050303\n",
      "'DlyReturnDate' added successfully for date: 20050304. Sample row:\n",
      "      Barrid  DlyReturn DlyReturnDate\n",
      "147  USA0001        0.0      20050304\n",
      "'DlyReturnDate' added successfully for date: 20050307. Sample row:\n",
      "      Barrid  DlyReturn DlyReturnDate\n",
      "147  USA0001        0.0      20050307\n",
      "'DlyReturnDate' added successfully for date: 20050308. Sample row:\n",
      "      Barrid  DlyReturn DlyReturnDate\n",
      "147  USA0001        0.0      20050308\n",
      "'DlyReturnDate' added successfully for date: 20050309. Sample row:\n",
      "      Barrid  DlyReturn DlyReturnDate\n",
      "147  USA0001        0.0      20050309\n",
      "'DlyReturnDate' added successfully for date: 20050310. Sample row:\n",
      "      Barrid  DlyReturn DlyReturnDate\n",
      "147  USA0001        0.0      20050310\n",
      "'DlyReturnDate' added successfully for date: 20050311. Sample row:\n",
      "      Barrid  DlyReturn DlyReturnDate\n",
      "147  USA0001        0.0      20050311\n",
      "'DlyReturnDate' added successfully for date: 20050314. Sample row:\n",
      "      Barrid  DlyReturn DlyReturnDate\n",
      "147  USA0001        0.0      20050314\n",
      "'DlyReturnDate' added successfully for date: 20050315. Sample row:\n",
      "      Barrid  DlyReturn DlyReturnDate\n",
      "148  USA0001        0.0      20050315\n",
      "'DlyReturnDate' added successfully for date: 20050316. Sample row:\n",
      "      Barrid  DlyReturn DlyReturnDate\n",
      "149  USA0001        0.0      20050316\n",
      "'DlyReturnDate' added successfully for date: 20050317. Sample row:\n",
      "      Barrid  DlyReturn DlyReturnDate\n",
      "149  USA0001        0.0      20050317\n",
      "'DlyReturnDate' added successfully for date: 20050318. Sample row:\n",
      "      Barrid  DlyReturn DlyReturnDate\n",
      "149  USA0001        0.0      20050318\n",
      "'DlyReturnDate' added successfully for date: 20050321. Sample row:\n",
      "      Barrid  DlyReturn DlyReturnDate\n",
      "149  USA0001        0.0      20050321\n",
      "'DlyReturnDate' added successfully for date: 20050322. Sample row:\n",
      "      Barrid  DlyReturn DlyReturnDate\n",
      "149  USA0001        0.0      20050322\n",
      "'DlyReturnDate' added successfully for date: 20050323. Sample row:\n",
      "      Barrid  DlyReturn DlyReturnDate\n",
      "149  USA0001        0.0      20050323\n",
      "'DlyReturnDate' added successfully for date: 20050324. Sample row:\n",
      "      Barrid  DlyReturn DlyReturnDate\n",
      "149  USA0001        0.0      20050324\n",
      "'DlyReturnDate' added successfully for date: 20050328. Sample row:\n",
      "      Barrid  DlyReturn DlyReturnDate\n",
      "149  USA0001        0.0      20050328\n",
      "'DlyReturnDate' added successfully for date: 20050329. Sample row:\n",
      "      Barrid  DlyReturn DlyReturnDate\n",
      "149  USA0001        0.0      20050329\n",
      "'DlyReturnDate' added successfully for date: 20050330. Sample row:\n",
      "      Barrid  DlyReturn DlyReturnDate\n",
      "149  USA0001        0.0      20050330\n",
      "'DlyReturnDate' added successfully for date: 20050331. Sample row:\n",
      "      Barrid  DlyReturn DlyReturnDate\n",
      "148  USA0001        0.0      20050331\n",
      "'DlyReturnDate' added successfully for date: 20050401. Sample row:\n",
      "      Barrid  DlyReturn DlyReturnDate\n",
      "147  USA0001        0.0      20050401\n",
      "'DlyReturnDate' added successfully for date: 20050404. Sample row:\n",
      "      Barrid  DlyReturn DlyReturnDate\n",
      "147  USA0001        0.0      20050404\n",
      "'DlyReturnDate' added successfully for date: 20050405. Sample row:\n",
      "      Barrid  DlyReturn DlyReturnDate\n",
      "147  USA0001        0.0      20050405\n",
      "'DlyReturnDate' added successfully for date: 20050406. Sample row:\n",
      "      Barrid  DlyReturn DlyReturnDate\n",
      "147  USA0001        0.0      20050406\n",
      "'DlyReturnDate' added successfully for date: 20050407. Sample row:\n",
      "      Barrid  DlyReturn DlyReturnDate\n",
      "147  USA0001        0.0      20050407\n",
      "'DlyReturnDate' added successfully for date: 20050408. Sample row:\n",
      "      Barrid  DlyReturn DlyReturnDate\n",
      "147  USA0001        0.0      20050408\n",
      "'DlyReturnDate' added successfully for date: 20050411. Sample row:\n",
      "      Barrid  DlyReturn DlyReturnDate\n",
      "147  USA0001   0.010172      20050411\n",
      "'DlyReturnDate' added successfully for date: 20050412. Sample row:\n",
      "      Barrid  DlyReturn DlyReturnDate\n",
      "147  USA0001        0.0      20050412\n",
      "'DlyReturnDate' added successfully for date: 20050413. Sample row:\n",
      "      Barrid  DlyReturn DlyReturnDate\n",
      "147  USA0001        0.0      20050413\n",
      "'DlyReturnDate' added successfully for date: 20050414. Sample row:\n",
      "      Barrid  DlyReturn DlyReturnDate\n",
      "147  USA0001        0.0      20050414\n",
      "'DlyReturnDate' added successfully for date: 20050415. Sample row:\n",
      "      Barrid  DlyReturn DlyReturnDate\n",
      "147  USA0001        0.0      20050415\n",
      "'DlyReturnDate' added successfully for date: 20050418. Sample row:\n",
      "      Barrid  DlyReturn DlyReturnDate\n",
      "148  USA0001        0.0      20050418\n",
      "'DlyReturnDate' added successfully for date: 20050419. Sample row:\n",
      "      Barrid  DlyReturn DlyReturnDate\n",
      "148  USA0001        0.0      20050419\n",
      "'DlyReturnDate' added successfully for date: 20050420. Sample row:\n",
      "      Barrid  DlyReturn DlyReturnDate\n",
      "148  USA0001        0.0      20050420\n",
      "'DlyReturnDate' added successfully for date: 20050421. Sample row:\n",
      "      Barrid  DlyReturn DlyReturnDate\n",
      "148  USA0001        0.0      20050421\n",
      "'DlyReturnDate' added successfully for date: 20050422. Sample row:\n",
      "      Barrid  DlyReturn DlyReturnDate\n",
      "148  USA0001        0.0      20050422\n",
      "'DlyReturnDate' added successfully for date: 20050425. Sample row:\n",
      "      Barrid  DlyReturn DlyReturnDate\n",
      "148  USA0001        0.0      20050425\n",
      "'DlyReturnDate' added successfully for date: 20050426. Sample row:\n",
      "      Barrid  DlyReturn DlyReturnDate\n",
      "148  USA0001        0.0      20050426\n",
      "'DlyReturnDate' added successfully for date: 20050427. Sample row:\n",
      "      Barrid  DlyReturn DlyReturnDate\n",
      "148  USA0001        0.0      20050427\n",
      "'DlyReturnDate' added successfully for date: 20050428. Sample row:\n",
      "      Barrid  DlyReturn DlyReturnDate\n",
      "148  USA0001        0.0      20050428\n",
      "'DlyReturnDate' added successfully for date: 20050429. Sample row:\n",
      "      Barrid  DlyReturn DlyReturnDate\n",
      "149  USA0001        0.0      20050429\n",
      "'DlyReturnDate' added successfully for date: 20050502. Sample row:\n",
      "      Barrid  DlyReturn DlyReturnDate\n",
      "149  USA0001        0.0      20050502\n",
      "'DlyReturnDate' added successfully for date: 20050503. Sample row:\n",
      "      Barrid  DlyReturn DlyReturnDate\n",
      "149  USA0001        0.0      20050503\n",
      "'DlyReturnDate' added successfully for date: 20050504. Sample row:\n",
      "      Barrid  DlyReturn DlyReturnDate\n",
      "149  USA0001        0.0      20050504\n",
      "'DlyReturnDate' added successfully for date: 20050505. Sample row:\n",
      "      Barrid  DlyReturn DlyReturnDate\n",
      "149  USA0001        0.0      20050505\n",
      "'DlyReturnDate' added successfully for date: 20050506. Sample row:\n",
      "      Barrid  DlyReturn DlyReturnDate\n",
      "149  USA0001        0.0      20050506\n",
      "'DlyReturnDate' added successfully for date: 20050509. Sample row:\n",
      "      Barrid  DlyReturn DlyReturnDate\n",
      "149  USA0001        0.0      20050509\n",
      "'DlyReturnDate' added successfully for date: 20050510. Sample row:\n",
      "      Barrid  DlyReturn DlyReturnDate\n",
      "149  USA0001        0.0      20050510\n",
      "'DlyReturnDate' added successfully for date: 20050511. Sample row:\n",
      "      Barrid  DlyReturn DlyReturnDate\n",
      "149  USA0001        0.0      20050511\n",
      "'DlyReturnDate' added successfully for date: 20050512. Sample row:\n",
      "      Barrid  DlyReturn DlyReturnDate\n",
      "149  USA0001        0.0      20050512\n",
      "'DlyReturnDate' added successfully for date: 20050513. Sample row:\n",
      "      Barrid  DlyReturn DlyReturnDate\n",
      "149  USA0001        0.0      20050513\n",
      "'DlyReturnDate' added successfully for date: 20050516. Sample row:\n",
      "      Barrid  DlyReturn DlyReturnDate\n",
      "149  USA0001        0.0      20050516\n",
      "'DlyReturnDate' added successfully for date: 20050517. Sample row:\n",
      "      Barrid  DlyReturn DlyReturnDate\n",
      "149  USA0001        0.0      20050517\n",
      "'DlyReturnDate' added successfully for date: 20050518. Sample row:\n",
      "      Barrid  DlyReturn DlyReturnDate\n",
      "149  USA0001        0.0      20050518\n",
      "'DlyReturnDate' added successfully for date: 20050519. Sample row:\n",
      "      Barrid  DlyReturn DlyReturnDate\n",
      "149  USA0001        0.0      20050519\n",
      "'DlyReturnDate' added successfully for date: 20050520. Sample row:\n",
      "      Barrid  DlyReturn DlyReturnDate\n",
      "149  USA0001        0.0      20050520\n",
      "'DlyReturnDate' added successfully for date: 20050523. Sample row:\n",
      "      Barrid  DlyReturn DlyReturnDate\n",
      "149  USA0001        0.0      20050523\n",
      "'DlyReturnDate' added successfully for date: 20050524. Sample row:\n",
      "      Barrid  DlyReturn DlyReturnDate\n",
      "148  USA0001        0.0      20050524\n",
      "'DlyReturnDate' added successfully for date: 20050525. Sample row:\n",
      "      Barrid  DlyReturn DlyReturnDate\n",
      "148  USA0001        0.0      20050525\n",
      "'DlyReturnDate' added successfully for date: 20050526. Sample row:\n",
      "      Barrid  DlyReturn DlyReturnDate\n",
      "148  USA0001        0.0      20050526\n",
      "'DlyReturnDate' added successfully for date: 20050527. Sample row:\n",
      "      Barrid  DlyReturn DlyReturnDate\n",
      "148  USA0001        0.0      20050527\n",
      "'DlyReturnDate' added successfully for date: 20050531. Sample row:\n",
      "      Barrid  DlyReturn DlyReturnDate\n",
      "148  USA0001        0.0      20050531\n",
      "'DlyReturnDate' added successfully for date: 20050601. Sample row:\n",
      "      Barrid  DlyReturn DlyReturnDate\n",
      "148  USA0001        0.0      20050601\n"
     ]
    },
    {
     "name": "stdout",
     "output_type": "stream",
     "text": [
      "'DlyReturnDate' added successfully for date: 20050602. Sample row:\n",
      "      Barrid  DlyReturn DlyReturnDate\n",
      "148  USA0001        0.0      20050602\n",
      "'DlyReturnDate' added successfully for date: 20050603. Sample row:\n",
      "      Barrid  DlyReturn DlyReturnDate\n",
      "148  USA0001        0.0      20050603\n",
      "'DlyReturnDate' added successfully for date: 20050606. Sample row:\n",
      "      Barrid  DlyReturn DlyReturnDate\n",
      "148  USA0001        0.0      20050606\n",
      "'DlyReturnDate' added successfully for date: 20050607. Sample row:\n",
      "      Barrid  DlyReturn DlyReturnDate\n",
      "148  USA0001        0.0      20050607\n",
      "'DlyReturnDate' added successfully for date: 20050608. Sample row:\n",
      "      Barrid  DlyReturn DlyReturnDate\n",
      "148  USA0001        0.0      20050608\n",
      "'DlyReturnDate' added successfully for date: 20050609. Sample row:\n",
      "      Barrid  DlyReturn DlyReturnDate\n",
      "148  USA0001        0.0      20050609\n",
      "'DlyReturnDate' added successfully for date: 20050610. Sample row:\n",
      "      Barrid  DlyReturn DlyReturnDate\n",
      "148  USA0001        0.0      20050610\n",
      "'DlyReturnDate' added successfully for date: 20050613. Sample row:\n",
      "      Barrid  DlyReturn DlyReturnDate\n",
      "148  USA0001        0.0      20050613\n",
      "'DlyReturnDate' added successfully for date: 20050614. Sample row:\n",
      "      Barrid  DlyReturn DlyReturnDate\n",
      "148  USA0001        0.0      20050614\n",
      "'DlyReturnDate' added successfully for date: 20050615. Sample row:\n",
      "      Barrid  DlyReturn DlyReturnDate\n",
      "148  USA0001        0.0      20050615\n",
      "'DlyReturnDate' added successfully for date: 20050616. Sample row:\n",
      "      Barrid  DlyReturn DlyReturnDate\n",
      "148  USA0001        0.0      20050616\n",
      "'DlyReturnDate' added successfully for date: 20050617. Sample row:\n",
      "      Barrid  DlyReturn DlyReturnDate\n",
      "148  USA0001        0.0      20050617\n",
      "'DlyReturnDate' added successfully for date: 20050620. Sample row:\n",
      "      Barrid  DlyReturn DlyReturnDate\n",
      "148  USA0001        0.0      20050620\n",
      "'DlyReturnDate' added successfully for date: 20050621. Sample row:\n",
      "      Barrid  DlyReturn DlyReturnDate\n",
      "148  USA0001        0.0      20050621\n",
      "'DlyReturnDate' added successfully for date: 20050622. Sample row:\n",
      "      Barrid  DlyReturn DlyReturnDate\n",
      "148  USA0001        0.0      20050622\n",
      "'DlyReturnDate' added successfully for date: 20050623. Sample row:\n",
      "      Barrid  DlyReturn DlyReturnDate\n",
      "148  USA0001        0.0      20050623\n",
      "'DlyReturnDate' added successfully for date: 20050624. Sample row:\n",
      "      Barrid  DlyReturn DlyReturnDate\n",
      "148  USA0001        0.0      20050624\n",
      "'DlyReturnDate' added successfully for date: 20050627. Sample row:\n",
      "      Barrid  DlyReturn DlyReturnDate\n",
      "148  USA0001        0.0      20050627\n",
      "'DlyReturnDate' added successfully for date: 20050628. Sample row:\n",
      "      Barrid  DlyReturn DlyReturnDate\n",
      "148  USA0001        0.0      20050628\n",
      "'DlyReturnDate' added successfully for date: 20050629. Sample row:\n",
      "      Barrid  DlyReturn DlyReturnDate\n",
      "148  USA0001        0.0      20050629\n",
      "'DlyReturnDate' added successfully for date: 20050630. Sample row:\n",
      "      Barrid  DlyReturn DlyReturnDate\n",
      "148  USA0001        0.0      20050630\n",
      "'DlyReturnDate' added successfully for date: 20050701. Sample row:\n",
      "      Barrid  DlyReturn DlyReturnDate\n",
      "148  USA0001        0.0      20050701\n",
      "'DlyReturnDate' added successfully for date: 20050705. Sample row:\n",
      "      Barrid  DlyReturn DlyReturnDate\n",
      "148  USA0001        0.0      20050705\n",
      "'DlyReturnDate' added successfully for date: 20050706. Sample row:\n",
      "      Barrid  DlyReturn DlyReturnDate\n",
      "148  USA0001        0.0      20050706\n",
      "'DlyReturnDate' added successfully for date: 20050707. Sample row:\n",
      "      Barrid  DlyReturn DlyReturnDate\n",
      "148  USA0001        0.0      20050707\n",
      "'DlyReturnDate' added successfully for date: 20050708. Sample row:\n",
      "      Barrid  DlyReturn DlyReturnDate\n",
      "148  USA0001        0.0      20050708\n",
      "'DlyReturnDate' added successfully for date: 20050711. Sample row:\n",
      "      Barrid  DlyReturn DlyReturnDate\n",
      "148  USA0001        0.0      20050711\n",
      "'DlyReturnDate' added successfully for date: 20050712. Sample row:\n",
      "      Barrid  DlyReturn DlyReturnDate\n",
      "148  USA0001        0.0      20050712\n",
      "'DlyReturnDate' added successfully for date: 20050713. Sample row:\n",
      "      Barrid  DlyReturn DlyReturnDate\n",
      "148  USA0001        0.0      20050713\n",
      "'DlyReturnDate' added successfully for date: 20050714. Sample row:\n",
      "      Barrid  DlyReturn DlyReturnDate\n",
      "148  USA0001        0.0      20050714\n",
      "'DlyReturnDate' added successfully for date: 20050715. Sample row:\n",
      "      Barrid  DlyReturn DlyReturnDate\n",
      "148  USA0001        0.0      20050715\n",
      "'DlyReturnDate' added successfully for date: 20050718. Sample row:\n",
      "      Barrid  DlyReturn DlyReturnDate\n",
      "148  USA0001        0.0      20050718\n",
      "'DlyReturnDate' added successfully for date: 20050719. Sample row:\n",
      "      Barrid  DlyReturn DlyReturnDate\n",
      "148  USA0001        0.0      20050719\n",
      "'DlyReturnDate' added successfully for date: 20050720. Sample row:\n",
      "      Barrid  DlyReturn DlyReturnDate\n",
      "148  USA0001        0.0      20050720\n",
      "'DlyReturnDate' added successfully for date: 20050721. Sample row:\n",
      "      Barrid  DlyReturn DlyReturnDate\n",
      "148  USA0001        0.0      20050721\n",
      "'DlyReturnDate' added successfully for date: 20050722. Sample row:\n",
      "      Barrid  DlyReturn DlyReturnDate\n",
      "148  USA0001        0.0      20050722\n",
      "'DlyReturnDate' added successfully for date: 20050725. Sample row:\n",
      "      Barrid  DlyReturn DlyReturnDate\n",
      "148  USA0001        0.0      20050725\n",
      "'DlyReturnDate' added successfully for date: 20050726. Sample row:\n",
      "      Barrid  DlyReturn DlyReturnDate\n",
      "148  USA0001        0.0      20050726\n",
      "'DlyReturnDate' added successfully for date: 20050727. Sample row:\n",
      "      Barrid  DlyReturn DlyReturnDate\n",
      "148  USA0001        0.0      20050727\n",
      "'DlyReturnDate' added successfully for date: 20050728. Sample row:\n",
      "      Barrid  DlyReturn DlyReturnDate\n",
      "148  USA0001        0.0      20050728\n",
      "'DlyReturnDate' added successfully for date: 20050729. Sample row:\n",
      "      Barrid  DlyReturn DlyReturnDate\n",
      "148  USA0001        0.0      20050729\n",
      "'DlyReturnDate' added successfully for date: 20050801. Sample row:\n",
      "      Barrid  DlyReturn DlyReturnDate\n",
      "148  USA0001        0.0      20050801\n",
      "'DlyReturnDate' added successfully for date: 20050802. Sample row:\n",
      "      Barrid  DlyReturn DlyReturnDate\n",
      "148  USA0001        0.0      20050802\n",
      "'DlyReturnDate' added successfully for date: 20050803. Sample row:\n",
      "      Barrid  DlyReturn DlyReturnDate\n",
      "148  USA0001   0.014333      20050803\n",
      "'DlyReturnDate' added successfully for date: 20050804. Sample row:\n",
      "      Barrid  DlyReturn DlyReturnDate\n",
      "148  USA0001        0.0      20050804\n",
      "'DlyReturnDate' added successfully for date: 20050805. Sample row:\n",
      "      Barrid  DlyReturn DlyReturnDate\n",
      "148  USA0001        0.0      20050805\n",
      "'DlyReturnDate' added successfully for date: 20050808. Sample row:\n",
      "      Barrid  DlyReturn DlyReturnDate\n",
      "148  USA0001        0.0      20050808\n",
      "'DlyReturnDate' added successfully for date: 20050809. Sample row:\n",
      "      Barrid  DlyReturn DlyReturnDate\n",
      "148  USA0001        0.0      20050809\n",
      "'DlyReturnDate' added successfully for date: 20050810. Sample row:\n",
      "      Barrid  DlyReturn DlyReturnDate\n",
      "148  USA0001        0.0      20050810\n",
      "'DlyReturnDate' added successfully for date: 20050811. Sample row:\n",
      "      Barrid  DlyReturn DlyReturnDate\n",
      "148  USA0001        0.0      20050811\n",
      "'DlyReturnDate' added successfully for date: 20050812. Sample row:\n",
      "      Barrid  DlyReturn DlyReturnDate\n",
      "148  USA0001        0.0      20050812\n",
      "'DlyReturnDate' added successfully for date: 20050815. Sample row:\n",
      "      Barrid  DlyReturn DlyReturnDate\n",
      "148  USA0001        0.0      20050815\n",
      "'DlyReturnDate' added successfully for date: 20050816. Sample row:\n",
      "      Barrid  DlyReturn DlyReturnDate\n",
      "148  USA0001        0.0      20050816\n",
      "'DlyReturnDate' added successfully for date: 20050817. Sample row:\n",
      "      Barrid  DlyReturn DlyReturnDate\n",
      "148  USA0001        0.0      20050817\n",
      "'DlyReturnDate' added successfully for date: 20050818. Sample row:\n",
      "      Barrid  DlyReturn DlyReturnDate\n",
      "148  USA0001        0.0      20050818\n",
      "'DlyReturnDate' added successfully for date: 20050819. Sample row:\n",
      "      Barrid  DlyReturn DlyReturnDate\n",
      "149  USA0001        0.0      20050819\n",
      "'DlyReturnDate' added successfully for date: 20050822. Sample row:\n",
      "      Barrid  DlyReturn DlyReturnDate\n",
      "149  USA0001        0.0      20050822\n",
      "'DlyReturnDate' added successfully for date: 20050823. Sample row:\n",
      "      Barrid  DlyReturn DlyReturnDate\n",
      "149  USA0001        0.0      20050823\n",
      "'DlyReturnDate' added successfully for date: 20050824. Sample row:\n",
      "      Barrid  DlyReturn DlyReturnDate\n",
      "149  USA0001        0.0      20050824\n",
      "'DlyReturnDate' added successfully for date: 20050825. Sample row:\n",
      "      Barrid  DlyReturn DlyReturnDate\n",
      "149  USA0001        0.0      20050825\n",
      "'DlyReturnDate' added successfully for date: 20050826. Sample row:\n",
      "      Barrid  DlyReturn DlyReturnDate\n",
      "149  USA0001        0.0      20050826\n"
     ]
    },
    {
     "name": "stdout",
     "output_type": "stream",
     "text": [
      "'DlyReturnDate' added successfully for date: 20050829. Sample row:\n",
      "      Barrid  DlyReturn DlyReturnDate\n",
      "149  USA0001        0.0      20050829\n",
      "'DlyReturnDate' added successfully for date: 20050830. Sample row:\n",
      "      Barrid  DlyReturn DlyReturnDate\n",
      "149  USA0001        0.0      20050830\n",
      "'DlyReturnDate' added successfully for date: 20050831. Sample row:\n",
      "      Barrid  DlyReturn DlyReturnDate\n",
      "149  USA0001        0.0      20050831\n",
      "'DlyReturnDate' added successfully for date: 20050901. Sample row:\n",
      "      Barrid  DlyReturn DlyReturnDate\n",
      "149  USA0001        0.0      20050901\n",
      "'DlyReturnDate' added successfully for date: 20050902. Sample row:\n",
      "      Barrid  DlyReturn DlyReturnDate\n",
      "149  USA0001        0.0      20050902\n",
      "'DlyReturnDate' added successfully for date: 20050906. Sample row:\n",
      "      Barrid  DlyReturn DlyReturnDate\n",
      "149  USA0001        0.0      20050906\n",
      "'DlyReturnDate' added successfully for date: 20050907. Sample row:\n",
      "      Barrid  DlyReturn DlyReturnDate\n",
      "149  USA0001        0.0      20050907\n",
      "'DlyReturnDate' added successfully for date: 20050908. Sample row:\n",
      "      Barrid  DlyReturn DlyReturnDate\n",
      "149  USA0001        0.0      20050908\n",
      "'DlyReturnDate' added successfully for date: 20050909. Sample row:\n",
      "      Barrid  DlyReturn DlyReturnDate\n",
      "149  USA0001        0.0      20050909\n",
      "'DlyReturnDate' added successfully for date: 20050912. Sample row:\n",
      "      Barrid  DlyReturn DlyReturnDate\n",
      "149  USA0001        0.0      20050912\n",
      "'DlyReturnDate' added successfully for date: 20050913. Sample row:\n",
      "      Barrid  DlyReturn DlyReturnDate\n",
      "149  USA0001        0.0      20050913\n",
      "'DlyReturnDate' added successfully for date: 20050914. Sample row:\n",
      "      Barrid  DlyReturn DlyReturnDate\n",
      "149  USA0001        0.0      20050914\n",
      "'DlyReturnDate' added successfully for date: 20050915. Sample row:\n",
      "      Barrid  DlyReturn DlyReturnDate\n",
      "149  USA0001        0.0      20050915\n",
      "'DlyReturnDate' added successfully for date: 20050916. Sample row:\n",
      "      Barrid  DlyReturn DlyReturnDate\n",
      "149  USA0001        0.0      20050916\n",
      "'DlyReturnDate' added successfully for date: 20050919. Sample row:\n",
      "      Barrid  DlyReturn DlyReturnDate\n",
      "149  USA0001        0.0      20050919\n",
      "'DlyReturnDate' added successfully for date: 20050920. Sample row:\n",
      "      Barrid  DlyReturn DlyReturnDate\n",
      "149  USA0001        0.0      20050920\n",
      "'DlyReturnDate' added successfully for date: 20050921. Sample row:\n",
      "      Barrid  DlyReturn DlyReturnDate\n",
      "149  USA0001        0.0      20050921\n",
      "'DlyReturnDate' added successfully for date: 20050922. Sample row:\n",
      "      Barrid  DlyReturn DlyReturnDate\n",
      "149  USA0001        0.0      20050922\n",
      "'DlyReturnDate' added successfully for date: 20050923. Sample row:\n",
      "      Barrid  DlyReturn DlyReturnDate\n",
      "149  USA0001        0.0      20050923\n",
      "'DlyReturnDate' added successfully for date: 20050926. Sample row:\n",
      "      Barrid  DlyReturn DlyReturnDate\n",
      "149  USA0001        0.0      20050926\n",
      "'DlyReturnDate' added successfully for date: 20050927. Sample row:\n",
      "      Barrid  DlyReturn DlyReturnDate\n",
      "149  USA0001        0.0      20050927\n",
      "'DlyReturnDate' added successfully for date: 20050928. Sample row:\n",
      "      Barrid  DlyReturn DlyReturnDate\n",
      "149  USA0001        0.0      20050928\n",
      "'DlyReturnDate' added successfully for date: 20050929. Sample row:\n",
      "      Barrid  DlyReturn DlyReturnDate\n",
      "149  USA0001        0.0      20050929\n",
      "'DlyReturnDate' added successfully for date: 20050930. Sample row:\n",
      "      Barrid  DlyReturn DlyReturnDate\n",
      "149  USA0001   0.014507      20050930\n",
      "'DlyReturnDate' added successfully for date: 20051003. Sample row:\n",
      "      Barrid  DlyReturn DlyReturnDate\n",
      "149  USA0001        0.0      20051003\n",
      "'DlyReturnDate' added successfully for date: 20051004. Sample row:\n",
      "      Barrid  DlyReturn DlyReturnDate\n",
      "149  USA0001        0.0      20051004\n",
      "'DlyReturnDate' added successfully for date: 20051005. Sample row:\n",
      "      Barrid  DlyReturn DlyReturnDate\n",
      "149  USA0001        0.0      20051005\n",
      "'DlyReturnDate' added successfully for date: 20051006. Sample row:\n",
      "      Barrid  DlyReturn DlyReturnDate\n",
      "149  USA0001        0.0      20051006\n",
      "'DlyReturnDate' added successfully for date: 20051007. Sample row:\n",
      "      Barrid  DlyReturn DlyReturnDate\n",
      "149  USA0001        0.0      20051007\n",
      "'DlyReturnDate' added successfully for date: 20051010. Sample row:\n",
      "      Barrid  DlyReturn DlyReturnDate\n",
      "149  USA0001        0.0      20051010\n",
      "'DlyReturnDate' added successfully for date: 20051011. Sample row:\n",
      "      Barrid  DlyReturn DlyReturnDate\n",
      "149  USA0001        0.0      20051011\n",
      "'DlyReturnDate' added successfully for date: 20051012. Sample row:\n",
      "      Barrid  DlyReturn DlyReturnDate\n",
      "149  USA0001        0.0      20051012\n",
      "'DlyReturnDate' added successfully for date: 20051013. Sample row:\n",
      "      Barrid  DlyReturn DlyReturnDate\n",
      "149  USA0001        0.0      20051013\n",
      "'DlyReturnDate' added successfully for date: 20051014. Sample row:\n",
      "      Barrid  DlyReturn DlyReturnDate\n",
      "149  USA0001        0.0      20051014\n",
      "'DlyReturnDate' added successfully for date: 20051017. Sample row:\n",
      "      Barrid  DlyReturn DlyReturnDate\n",
      "149  USA0001        0.0      20051017\n",
      "'DlyReturnDate' added successfully for date: 20051018. Sample row:\n",
      "      Barrid  DlyReturn DlyReturnDate\n",
      "149  USA0001        0.0      20051018\n",
      "'DlyReturnDate' added successfully for date: 20051019. Sample row:\n",
      "      Barrid  DlyReturn DlyReturnDate\n",
      "149  USA0001        0.0      20051019\n",
      "'DlyReturnDate' added successfully for date: 20051020. Sample row:\n",
      "      Barrid  DlyReturn DlyReturnDate\n",
      "149  USA0001        0.0      20051020\n",
      "'DlyReturnDate' added successfully for date: 20051021. Sample row:\n",
      "      Barrid  DlyReturn DlyReturnDate\n",
      "149  USA0001        0.0      20051021\n",
      "'DlyReturnDate' added successfully for date: 20051024. Sample row:\n",
      "      Barrid  DlyReturn DlyReturnDate\n",
      "149  USA0001        0.0      20051024\n",
      "'DlyReturnDate' added successfully for date: 20051025. Sample row:\n",
      "      Barrid  DlyReturn DlyReturnDate\n",
      "149  USA0001        0.0      20051025\n",
      "'DlyReturnDate' added successfully for date: 20051026. Sample row:\n",
      "      Barrid  DlyReturn DlyReturnDate\n",
      "149  USA0001        0.0      20051026\n",
      "'DlyReturnDate' added successfully for date: 20051027. Sample row:\n",
      "      Barrid  DlyReturn DlyReturnDate\n",
      "150  USA0001        0.0      20051027\n",
      "'DlyReturnDate' added successfully for date: 20051028. Sample row:\n",
      "      Barrid  DlyReturn DlyReturnDate\n",
      "150  USA0001        0.0      20051028\n",
      "'DlyReturnDate' added successfully for date: 20051031. Sample row:\n",
      "      Barrid  DlyReturn DlyReturnDate\n",
      "150  USA0001        0.0      20051031\n",
      "'DlyReturnDate' added successfully for date: 20051101. Sample row:\n",
      "      Barrid  DlyReturn DlyReturnDate\n",
      "150  USA0001        0.0      20051101\n",
      "'DlyReturnDate' added successfully for date: 20051102. Sample row:\n",
      "      Barrid  DlyReturn DlyReturnDate\n",
      "150  USA0001        0.0      20051102\n",
      "'DlyReturnDate' added successfully for date: 20051103. Sample row:\n",
      "      Barrid  DlyReturn DlyReturnDate\n",
      "150  USA0001        0.0      20051103\n",
      "'DlyReturnDate' added successfully for date: 20051104. Sample row:\n",
      "      Barrid  DlyReturn DlyReturnDate\n",
      "150  USA0001        0.0      20051104\n",
      "'DlyReturnDate' added successfully for date: 20051107. Sample row:\n",
      "      Barrid  DlyReturn DlyReturnDate\n",
      "150  USA0001        0.0      20051107\n",
      "'DlyReturnDate' added successfully for date: 20051108. Sample row:\n",
      "      Barrid  DlyReturn DlyReturnDate\n",
      "150  USA0001        0.0      20051108\n",
      "'DlyReturnDate' added successfully for date: 20051109. Sample row:\n",
      "      Barrid  DlyReturn DlyReturnDate\n",
      "149  USA0001        0.0      20051109\n",
      "'DlyReturnDate' added successfully for date: 20051110. Sample row:\n",
      "      Barrid  DlyReturn DlyReturnDate\n",
      "149  USA0001        0.0      20051110\n",
      "'DlyReturnDate' added successfully for date: 20051111. Sample row:\n",
      "      Barrid  DlyReturn DlyReturnDate\n",
      "149  USA0001        0.0      20051111\n",
      "'DlyReturnDate' added successfully for date: 20051114. Sample row:\n",
      "      Barrid  DlyReturn DlyReturnDate\n",
      "149  USA0001        0.0      20051114\n",
      "'DlyReturnDate' added successfully for date: 20051115. Sample row:\n",
      "      Barrid  DlyReturn DlyReturnDate\n",
      "149  USA0001        0.0      20051115\n",
      "'DlyReturnDate' added successfully for date: 20051116. Sample row:\n",
      "      Barrid  DlyReturn DlyReturnDate\n",
      "149  USA0001        0.0      20051116\n",
      "'DlyReturnDate' added successfully for date: 20051117. Sample row:\n",
      "      Barrid  DlyReturn DlyReturnDate\n",
      "149  USA0001        0.0      20051117\n",
      "'DlyReturnDate' added successfully for date: 20051118. Sample row:\n",
      "      Barrid  DlyReturn DlyReturnDate\n",
      "149  USA0001        0.0      20051118\n",
      "'DlyReturnDate' added successfully for date: 20051121. Sample row:\n",
      "      Barrid  DlyReturn DlyReturnDate\n",
      "148  USA0001        0.0      20051121\n",
      "'DlyReturnDate' added successfully for date: 20051122. Sample row:\n",
      "      Barrid  DlyReturn DlyReturnDate\n",
      "148  USA0001        0.0      20051122\n",
      "'DlyReturnDate' added successfully for date: 20051123. Sample row:\n",
      "      Barrid  DlyReturn DlyReturnDate\n",
      "148  USA0001        0.0      20051123\n",
      "'DlyReturnDate' added successfully for date: 20051125. Sample row:\n",
      "      Barrid  DlyReturn DlyReturnDate\n",
      "148  USA0001        0.0      20051125\n",
      "'DlyReturnDate' added successfully for date: 20051128. Sample row:\n",
      "      Barrid  DlyReturn DlyReturnDate\n",
      "148  USA0001        0.0      20051128\n",
      "'DlyReturnDate' added successfully for date: 20051129. Sample row:\n",
      "      Barrid  DlyReturn DlyReturnDate\n",
      "148  USA0001        0.0      20051129\n",
      "'DlyReturnDate' added successfully for date: 20051130. Sample row:\n",
      "      Barrid  DlyReturn DlyReturnDate\n",
      "148  USA0001        0.0      20051130\n",
      "'DlyReturnDate' added successfully for date: 20051201. Sample row:\n",
      "      Barrid  DlyReturn DlyReturnDate\n",
      "148  USA0001        0.0      20051201\n",
      "'DlyReturnDate' added successfully for date: 20051202. Sample row:\n",
      "      Barrid  DlyReturn DlyReturnDate\n",
      "148  USA0001        0.0      20051202\n",
      "'DlyReturnDate' added successfully for date: 20051205. Sample row:\n",
      "      Barrid  DlyReturn DlyReturnDate\n",
      "148  USA0001        0.0      20051205\n",
      "'DlyReturnDate' added successfully for date: 20051206. Sample row:\n",
      "      Barrid  DlyReturn DlyReturnDate\n",
      "148  USA0001        0.0      20051206\n",
      "'DlyReturnDate' added successfully for date: 20051207. Sample row:\n",
      "      Barrid  DlyReturn DlyReturnDate\n",
      "148  USA0001        0.0      20051207\n",
      "'DlyReturnDate' added successfully for date: 20051208. Sample row:\n",
      "      Barrid  DlyReturn DlyReturnDate\n",
      "148  USA0001        0.0      20051208\n",
      "'DlyReturnDate' added successfully for date: 20051209. Sample row:\n",
      "      Barrid  DlyReturn DlyReturnDate\n",
      "148  USA0001        0.0      20051209\n",
      "'DlyReturnDate' added successfully for date: 20051212. Sample row:\n",
      "      Barrid  DlyReturn DlyReturnDate\n",
      "148  USA0001        0.0      20051212\n",
      "'DlyReturnDate' added successfully for date: 20051213. Sample row:\n",
      "      Barrid  DlyReturn DlyReturnDate\n",
      "148  USA0001        0.0      20051213\n",
      "'DlyReturnDate' added successfully for date: 20051214. Sample row:\n",
      "      Barrid  DlyReturn DlyReturnDate\n",
      "148  USA0001        0.0      20051214\n"
     ]
    },
    {
     "name": "stdout",
     "output_type": "stream",
     "text": [
      "'DlyReturnDate' added successfully for date: 20051215. Sample row:\n",
      "      Barrid  DlyReturn DlyReturnDate\n",
      "148  USA0001        0.0      20051215\n",
      "'DlyReturnDate' added successfully for date: 20051216. Sample row:\n",
      "      Barrid  DlyReturn DlyReturnDate\n",
      "148  USA0001        0.0      20051216\n",
      "'DlyReturnDate' added successfully for date: 20051219. Sample row:\n",
      "      Barrid  DlyReturn DlyReturnDate\n",
      "148  USA0001        0.0      20051219\n",
      "'DlyReturnDate' added successfully for date: 20051220. Sample row:\n",
      "      Barrid  DlyReturn DlyReturnDate\n",
      "148  USA0001        0.0      20051220\n",
      "'DlyReturnDate' added successfully for date: 20051221. Sample row:\n",
      "      Barrid  DlyReturn DlyReturnDate\n",
      "148  USA0001        0.0      20051221\n",
      "'DlyReturnDate' added successfully for date: 20051222. Sample row:\n",
      "      Barrid  DlyReturn DlyReturnDate\n",
      "148  USA0001        0.0      20051222\n",
      "'DlyReturnDate' added successfully for date: 20051223. Sample row:\n",
      "      Barrid  DlyReturn DlyReturnDate\n",
      "148  USA0001        0.0      20051223\n",
      "'DlyReturnDate' added successfully for date: 20051227. Sample row:\n",
      "      Barrid  DlyReturn DlyReturnDate\n",
      "148  USA0001        0.0      20051227\n",
      "'DlyReturnDate' added successfully for date: 20051228. Sample row:\n",
      "      Barrid  DlyReturn DlyReturnDate\n",
      "148  USA0001        0.0      20051228\n",
      "'DlyReturnDate' added successfully for date: 20051229. Sample row:\n",
      "      Barrid  DlyReturn DlyReturnDate\n",
      "148  USA0001   0.015657      20051229\n",
      "'DlyReturnDate' added successfully for date: 20051230. Sample row:\n",
      "      Barrid  DlyReturn DlyReturnDate\n",
      "148  USA0001        0.0      20051230\n"
     ]
    }
   ],
   "source": [
    "\n",
    "\n",
    "# Optional\n",
    "\n",
    "for date, df in daily_return.items():\n",
    "    # Calculate the number of rows in the current DataFrame, to create a matching-length series\n",
    "    n_rows = df.shape[0]\n",
    "    # Create a new column 'DlyReturnDate' filled with the current date\n",
    "    # Ensures that every row in this DataFrame is tagged with the date of the daily return\n",
    "    df['DlyReturnDate'] = pd.Series([date] * n_rows)\n",
    "    \n",
    "    # Verify if the 'DlyReturnDate' column is added correctly\n",
    "    if 'DlyReturnDate' not in df.columns:\n",
    "        print(f\"Failed to add 'DlyReturnDate' for date: {date}\")\n",
    "    else:\n",
    "        # Print a success message with a sample row to verify the correct addition of the 'DlyReturnDate' column\n",
    "        print(f\"'DlyReturnDate' added successfully for date: {date}. Sample row:\\n{df.head(1)}\")"
   ]
  },
  {
   "cell_type": "markdown",
   "metadata": {},
   "source": [
    "## Winsorize\n",
    "\n",
    "As we have done in other projects, we'll want to avoid extremely positive or negative values in our data. Will therefore create a function, `wins`, that will clip our values to a minimum and maximum range. This process is called **Winsorizing**. Remember that this helps us handle noise, which may otherwise cause unusually large positions."
   ]
  },
  {
   "cell_type": "code",
   "execution_count": 6,
   "metadata": {},
   "outputs": [],
   "source": [
    "def wins(x,a,b):\n",
    "    return np.where(x <= a,a, np.where(x >= b, b, x))"
   ]
  },
  {
   "cell_type": "markdown",
   "metadata": {},
   "source": [
    "## Density Plot\n",
    "\n",
    "Let's check our `wins` function by taking a look at the distribution of returns for a single day `20040102`. We will clip our data from `-0.1` to `0.1` and plot it using our `density_plot` function."
   ]
  },
  {
   "cell_type": "code",
   "execution_count": 7,
   "metadata": {},
   "outputs": [
    {
     "data": {
      "image/png": "[encoded data removed]",
      "text/plain": [
       "<matplotlib.figure.Figure at 0x7fdca60086d8>"
      ]
     },
     "metadata": {
      "needs_background": "light"
     },
     "output_type": "display_data"
    }
   ],
   "source": [
    "def density_plot(data): \n",
    "    density = gaussian_kde(data)\n",
    "    xs = np.linspace(np.min(data),np.max(data),200)\n",
    "    density.covariance_factor = lambda : .25\n",
    "    density._compute_covariance()\n",
    "    plt.plot(xs,density(xs))\n",
    "    plt.xlabel('Daily Returns')\n",
    "    plt.ylabel('Density')\n",
    "    plt.show()\n",
    "    \n",
    "test = frames['20040108']\n",
    "test['DlyReturn'] = wins(test['DlyReturn'],-0.1,0.1)\n",
    "density_plot(test['DlyReturn'])"
   ]
  },
  {
   "cell_type": "markdown",
   "metadata": {},
   "source": [
    "## Factor Exposures and Factor Returns\n",
    "\n",
    "Recall that:\n",
    "\n",
    "$r_{i,t} = \\sum_{j=1}^{k} (\\beta_{i,j,t-2} \\times f_{j,t})$  \n",
    "where $i=1...N$ (N assets),   \n",
    "and $j=1...k$ (k factors).\n",
    "\n",
    "where $r_{i,t}$ is the return, $\\beta_{i,j,t-2}$ is the factor exposure, and $f_{j,t}$ is the factor return. Since we get the factor exposures from the Barra data, and we know the returns, it is possible to estimate the factor returns. In this notebook, we will use the Ordinary Least Squares (OLS) method to estimate the factor exposures, $f_{j,t}$, by using $\\beta_{i,j,t-2}$ as the independent variable, and $r_{i,t}$ as the dependent variable."
   ]
  },
  {
   "cell_type": "code",
   "execution_count": 8,
   "metadata": {},
   "outputs": [],
   "source": [
    "def get_formula(factors, Y):\n",
    "    L = [\"0\"]\n",
    "    L.extend(factors)\n",
    "    return Y + \" ~ \" + \" + \".join(L)\n",
    "\n",
    "def factors_from_names(n):\n",
    "    return list(filter(lambda x: \"USFASTD_\" in x, n))\n",
    "\n",
    "def estimate_factor_returns(df): \n",
    "    ## build universe based on filters \n",
    "    estu = df.loc[df.IssuerMarketCap > 1e9].copy(deep=True)\n",
    "  \n",
    "    ## winsorize returns for fitting \n",
    "    estu['DlyReturn'] = wins(estu['DlyReturn'], -0.25, 0.25)\n",
    "  \n",
    "    all_factors = factors_from_names(list(df))\n",
    "    form = get_formula(all_factors, \"DlyReturn\")\n",
    "    model = ols(form, data=estu)\n",
    "    results = model.fit()\n",
    "    return results"
   ]
  },
  {
   "cell_type": "code",
   "execution_count": 9,
   "metadata": {},
   "outputs": [],
   "source": [
    "facret = {}\n",
    "\n",
    "for date in frames:\n",
    "    facret[date] = estimate_factor_returns(frames[date]).params"
   ]
  },
  {
   "cell_type": "code",
   "execution_count": 10,
   "metadata": {},
   "outputs": [
    {
     "data": {
      "text/plain": [
       "[Timestamp('2004-01-06 00:00:00'),\n",
       " Timestamp('2004-01-07 00:00:00'),\n",
       " Timestamp('2004-01-08 00:00:00'),\n",
       " Timestamp('2004-01-09 00:00:00'),\n",
       " Timestamp('2004-01-12 00:00:00'),\n",
       " Timestamp('2004-01-13 00:00:00'),\n",
       " Timestamp('2004-01-14 00:00:00'),\n",
       " Timestamp('2004-01-15 00:00:00'),\n",
       " Timestamp('2004-01-16 00:00:00'),\n",
       " Timestamp('2004-01-20 00:00:00'),\n",
       " Timestamp('2004-01-21 00:00:00'),\n",
       " Timestamp('2004-01-22 00:00:00'),\n",
       " Timestamp('2004-01-23 00:00:00'),\n",
       " Timestamp('2004-01-26 00:00:00'),\n",
       " Timestamp('2004-01-27 00:00:00'),\n",
       " Timestamp('2004-01-28 00:00:00'),\n",
       " Timestamp('2004-01-29 00:00:00'),\n",
       " Timestamp('2004-01-30 00:00:00'),\n",
       " Timestamp('2004-02-02 00:00:00'),\n",
       " Timestamp('2004-02-03 00:00:00'),\n",
       " Timestamp('2004-02-04 00:00:00'),\n",
       " Timestamp('2004-02-05 00:00:00'),\n",
       " Timestamp('2004-02-06 00:00:00'),\n",
       " Timestamp('2004-02-09 00:00:00'),\n",
       " Timestamp('2004-02-10 00:00:00'),\n",
       " Timestamp('2004-02-11 00:00:00'),\n",
       " Timestamp('2004-02-12 00:00:00'),\n",
       " Timestamp('2004-02-13 00:00:00'),\n",
       " Timestamp('2004-02-17 00:00:00'),\n",
       " Timestamp('2004-02-18 00:00:00'),\n",
       " Timestamp('2004-02-19 00:00:00'),\n",
       " Timestamp('2004-02-20 00:00:00'),\n",
       " Timestamp('2004-02-23 00:00:00'),\n",
       " Timestamp('2004-02-24 00:00:00'),\n",
       " Timestamp('2004-02-25 00:00:00'),\n",
       " Timestamp('2004-02-26 00:00:00'),\n",
       " Timestamp('2004-02-27 00:00:00'),\n",
       " Timestamp('2004-03-01 00:00:00'),\n",
       " Timestamp('2004-03-02 00:00:00'),\n",
       " Timestamp('2004-03-03 00:00:00'),\n",
       " Timestamp('2004-03-04 00:00:00'),\n",
       " Timestamp('2004-03-05 00:00:00'),\n",
       " Timestamp('2004-03-08 00:00:00'),\n",
       " Timestamp('2004-03-09 00:00:00'),\n",
       " Timestamp('2004-03-10 00:00:00'),\n",
       " Timestamp('2004-03-11 00:00:00'),\n",
       " Timestamp('2004-03-12 00:00:00'),\n",
       " Timestamp('2004-03-15 00:00:00'),\n",
       " Timestamp('2004-03-16 00:00:00'),\n",
       " Timestamp('2004-03-17 00:00:00'),\n",
       " Timestamp('2004-03-18 00:00:00'),\n",
       " Timestamp('2004-03-19 00:00:00'),\n",
       " Timestamp('2004-03-22 00:00:00'),\n",
       " Timestamp('2004-03-23 00:00:00'),\n",
       " Timestamp('2004-03-24 00:00:00'),\n",
       " Timestamp('2004-03-25 00:00:00'),\n",
       " Timestamp('2004-03-26 00:00:00'),\n",
       " Timestamp('2004-03-29 00:00:00'),\n",
       " Timestamp('2004-03-30 00:00:00'),\n",
       " Timestamp('2004-03-31 00:00:00'),\n",
       " Timestamp('2004-04-01 00:00:00'),\n",
       " Timestamp('2004-04-02 00:00:00'),\n",
       " Timestamp('2004-04-05 00:00:00'),\n",
       " Timestamp('2004-04-06 00:00:00'),\n",
       " Timestamp('2004-04-07 00:00:00'),\n",
       " Timestamp('2004-04-08 00:00:00'),\n",
       " Timestamp('2004-04-12 00:00:00'),\n",
       " Timestamp('2004-04-13 00:00:00'),\n",
       " Timestamp('2004-04-14 00:00:00'),\n",
       " Timestamp('2004-04-15 00:00:00'),\n",
       " Timestamp('2004-04-16 00:00:00'),\n",
       " Timestamp('2004-04-19 00:00:00'),\n",
       " Timestamp('2004-04-20 00:00:00'),\n",
       " Timestamp('2004-04-21 00:00:00'),\n",
       " Timestamp('2004-04-22 00:00:00'),\n",
       " Timestamp('2004-04-23 00:00:00'),\n",
       " Timestamp('2004-04-26 00:00:00'),\n",
       " Timestamp('2004-04-27 00:00:00'),\n",
       " Timestamp('2004-04-28 00:00:00'),\n",
       " Timestamp('2004-04-29 00:00:00'),\n",
       " Timestamp('2004-04-30 00:00:00'),\n",
       " Timestamp('2004-05-03 00:00:00'),\n",
       " Timestamp('2004-05-04 00:00:00'),\n",
       " Timestamp('2004-05-05 00:00:00'),\n",
       " Timestamp('2004-05-06 00:00:00'),\n",
       " Timestamp('2004-05-07 00:00:00'),\n",
       " Timestamp('2004-05-10 00:00:00'),\n",
       " Timestamp('2004-05-11 00:00:00'),\n",
       " Timestamp('2004-05-12 00:00:00'),\n",
       " Timestamp('2004-05-13 00:00:00'),\n",
       " Timestamp('2004-05-14 00:00:00'),\n",
       " Timestamp('2004-05-17 00:00:00'),\n",
       " Timestamp('2004-05-18 00:00:00'),\n",
       " Timestamp('2004-05-19 00:00:00'),\n",
       " Timestamp('2004-05-20 00:00:00'),\n",
       " Timestamp('2004-05-21 00:00:00'),\n",
       " Timestamp('2004-05-24 00:00:00'),\n",
       " Timestamp('2004-05-25 00:00:00'),\n",
       " Timestamp('2004-05-26 00:00:00'),\n",
       " Timestamp('2004-05-27 00:00:00'),\n",
       " Timestamp('2004-05-28 00:00:00'),\n",
       " Timestamp('2004-06-01 00:00:00'),\n",
       " Timestamp('2004-06-02 00:00:00'),\n",
       " Timestamp('2004-06-03 00:00:00'),\n",
       " Timestamp('2004-06-04 00:00:00'),\n",
       " Timestamp('2004-06-07 00:00:00'),\n",
       " Timestamp('2004-06-08 00:00:00'),\n",
       " Timestamp('2004-06-09 00:00:00'),\n",
       " Timestamp('2004-06-10 00:00:00'),\n",
       " Timestamp('2004-06-14 00:00:00'),\n",
       " Timestamp('2004-06-15 00:00:00'),\n",
       " Timestamp('2004-06-16 00:00:00'),\n",
       " Timestamp('2004-06-17 00:00:00'),\n",
       " Timestamp('2004-06-18 00:00:00'),\n",
       " Timestamp('2004-06-21 00:00:00'),\n",
       " Timestamp('2004-06-22 00:00:00'),\n",
       " Timestamp('2004-06-23 00:00:00'),\n",
       " Timestamp('2004-06-24 00:00:00'),\n",
       " Timestamp('2004-06-25 00:00:00'),\n",
       " Timestamp('2004-06-28 00:00:00'),\n",
       " Timestamp('2004-06-29 00:00:00'),\n",
       " Timestamp('2004-06-30 00:00:00'),\n",
       " Timestamp('2004-07-01 00:00:00'),\n",
       " Timestamp('2004-07-02 00:00:00'),\n",
       " Timestamp('2004-07-06 00:00:00'),\n",
       " Timestamp('2004-07-07 00:00:00'),\n",
       " Timestamp('2004-07-08 00:00:00'),\n",
       " Timestamp('2004-07-09 00:00:00'),\n",
       " Timestamp('2004-07-12 00:00:00'),\n",
       " Timestamp('2004-07-13 00:00:00'),\n",
       " Timestamp('2004-07-14 00:00:00'),\n",
       " Timestamp('2004-07-15 00:00:00'),\n",
       " Timestamp('2004-07-16 00:00:00'),\n",
       " Timestamp('2004-07-19 00:00:00'),\n",
       " Timestamp('2004-07-20 00:00:00'),\n",
       " Timestamp('2004-07-21 00:00:00'),\n",
       " Timestamp('2004-07-22 00:00:00'),\n",
       " Timestamp('2004-07-23 00:00:00'),\n",
       " Timestamp('2004-07-26 00:00:00'),\n",
       " Timestamp('2004-07-27 00:00:00'),\n",
       " Timestamp('2004-07-28 00:00:00'),\n",
       " Timestamp('2004-07-29 00:00:00'),\n",
       " Timestamp('2004-07-30 00:00:00'),\n",
       " Timestamp('2004-08-02 00:00:00'),\n",
       " Timestamp('2004-08-03 00:00:00'),\n",
       " Timestamp('2004-08-04 00:00:00'),\n",
       " Timestamp('2004-08-05 00:00:00'),\n",
       " Timestamp('2004-08-06 00:00:00'),\n",
       " Timestamp('2004-08-09 00:00:00'),\n",
       " Timestamp('2004-08-10 00:00:00'),\n",
       " Timestamp('2004-08-11 00:00:00'),\n",
       " Timestamp('2004-08-12 00:00:00'),\n",
       " Timestamp('2004-08-13 00:00:00'),\n",
       " Timestamp('2004-08-16 00:00:00'),\n",
       " Timestamp('2004-08-17 00:00:00'),\n",
       " Timestamp('2004-08-18 00:00:00'),\n",
       " Timestamp('2004-08-19 00:00:00'),\n",
       " Timestamp('2004-08-20 00:00:00'),\n",
       " Timestamp('2004-08-23 00:00:00'),\n",
       " Timestamp('2004-08-24 00:00:00'),\n",
       " Timestamp('2004-08-25 00:00:00'),\n",
       " Timestamp('2004-08-26 00:00:00'),\n",
       " Timestamp('2004-08-27 00:00:00'),\n",
       " Timestamp('2004-08-30 00:00:00'),\n",
       " Timestamp('2004-08-31 00:00:00'),\n",
       " Timestamp('2004-09-01 00:00:00'),\n",
       " Timestamp('2004-09-02 00:00:00'),\n",
       " Timestamp('2004-09-03 00:00:00'),\n",
       " Timestamp('2004-09-07 00:00:00'),\n",
       " Timestamp('2004-09-08 00:00:00'),\n",
       " Timestamp('2004-09-09 00:00:00'),\n",
       " Timestamp('2004-09-10 00:00:00'),\n",
       " Timestamp('2004-09-13 00:00:00'),\n",
       " Timestamp('2004-09-14 00:00:00'),\n",
       " Timestamp('2004-09-15 00:00:00'),\n",
       " Timestamp('2004-09-16 00:00:00'),\n",
       " Timestamp('2004-09-17 00:00:00'),\n",
       " Timestamp('2004-09-20 00:00:00'),\n",
       " Timestamp('2004-09-21 00:00:00'),\n",
       " Timestamp('2004-09-22 00:00:00'),\n",
       " Timestamp('2004-09-23 00:00:00'),\n",
       " Timestamp('2004-09-24 00:00:00'),\n",
       " Timestamp('2004-09-27 00:00:00'),\n",
       " Timestamp('2004-09-28 00:00:00'),\n",
       " Timestamp('2004-09-29 00:00:00'),\n",
       " Timestamp('2004-09-30 00:00:00'),\n",
       " Timestamp('2004-10-01 00:00:00'),\n",
       " Timestamp('2004-10-04 00:00:00'),\n",
       " Timestamp('2004-10-05 00:00:00'),\n",
       " Timestamp('2004-10-06 00:00:00'),\n",
       " Timestamp('2004-10-07 00:00:00'),\n",
       " Timestamp('2004-10-08 00:00:00'),\n",
       " Timestamp('2004-10-11 00:00:00'),\n",
       " Timestamp('2004-10-12 00:00:00'),\n",
       " Timestamp('2004-10-13 00:00:00'),\n",
       " Timestamp('2004-10-14 00:00:00'),\n",
       " Timestamp('2004-10-15 00:00:00'),\n",
       " Timestamp('2004-10-18 00:00:00'),\n",
       " Timestamp('2004-10-19 00:00:00'),\n",
       " Timestamp('2004-10-20 00:00:00'),\n",
       " Timestamp('2004-10-21 00:00:00'),\n",
       " Timestamp('2004-10-22 00:00:00'),\n",
       " Timestamp('2004-10-25 00:00:00'),\n",
       " Timestamp('2004-10-26 00:00:00'),\n",
       " Timestamp('2004-10-27 00:00:00'),\n",
       " Timestamp('2004-10-28 00:00:00'),\n",
       " Timestamp('2004-10-29 00:00:00'),\n",
       " Timestamp('2004-11-01 00:00:00'),\n",
       " Timestamp('2004-11-02 00:00:00'),\n",
       " Timestamp('2004-11-03 00:00:00'),\n",
       " Timestamp('2004-11-04 00:00:00'),\n",
       " Timestamp('2004-11-05 00:00:00'),\n",
       " Timestamp('2004-11-08 00:00:00'),\n",
       " Timestamp('2004-11-09 00:00:00'),\n",
       " Timestamp('2004-11-10 00:00:00'),\n",
       " Timestamp('2004-11-11 00:00:00'),\n",
       " Timestamp('2004-11-12 00:00:00'),\n",
       " Timestamp('2004-11-15 00:00:00'),\n",
       " Timestamp('2004-11-16 00:00:00'),\n",
       " Timestamp('2004-11-17 00:00:00'),\n",
       " Timestamp('2004-11-18 00:00:00'),\n",
       " Timestamp('2004-11-19 00:00:00'),\n",
       " Timestamp('2004-11-22 00:00:00'),\n",
       " Timestamp('2004-11-23 00:00:00'),\n",
       " Timestamp('2004-11-24 00:00:00'),\n",
       " Timestamp('2004-11-26 00:00:00'),\n",
       " Timestamp('2004-11-29 00:00:00'),\n",
       " Timestamp('2004-11-30 00:00:00'),\n",
       " Timestamp('2004-12-01 00:00:00'),\n",
       " Timestamp('2004-12-02 00:00:00'),\n",
       " Timestamp('2004-12-03 00:00:00'),\n",
       " Timestamp('2004-12-06 00:00:00'),\n",
       " Timestamp('2004-12-07 00:00:00'),\n",
       " Timestamp('2004-12-08 00:00:00'),\n",
       " Timestamp('2004-12-09 00:00:00'),\n",
       " Timestamp('2004-12-10 00:00:00'),\n",
       " Timestamp('2004-12-13 00:00:00'),\n",
       " Timestamp('2004-12-14 00:00:00'),\n",
       " Timestamp('2004-12-15 00:00:00'),\n",
       " Timestamp('2004-12-16 00:00:00'),\n",
       " Timestamp('2004-12-17 00:00:00'),\n",
       " Timestamp('2004-12-20 00:00:00'),\n",
       " Timestamp('2004-12-21 00:00:00'),\n",
       " Timestamp('2004-12-22 00:00:00'),\n",
       " Timestamp('2004-12-23 00:00:00'),\n",
       " Timestamp('2004-12-27 00:00:00'),\n",
       " Timestamp('2004-12-28 00:00:00'),\n",
       " Timestamp('2004-12-29 00:00:00'),\n",
       " Timestamp('2004-12-30 00:00:00'),\n",
       " Timestamp('2004-12-31 00:00:00'),\n",
       " Timestamp('2005-01-03 00:00:00'),\n",
       " Timestamp('2005-01-04 00:00:00')]"
      ]
     },
     "execution_count": 10,
     "metadata": {},
     "output_type": "execute_result"
    }
   ],
   "source": [
    "my_dates = sorted(list(map(lambda date: pd.to_datetime(date, format='%Y%m%d'), frames.keys())))\n",
    "\n",
    "my_dates"
   ]
  },
  {
   "cell_type": "markdown",
   "metadata": {},
   "source": [
    "## Choose Alpha Factors\n",
    "\n",
    "We will now choose our alpha factors. Barra's factors include some alpha factors that we have seen before, such as:\n",
    "\n",
    "* **USFASTD_1DREVRSL** : Reversal\n",
    "\n",
    "* **USFASTD_EARNYILD** : Earnings Yield\n",
    "\n",
    "* **USFASTD_VALUE** : Value\n",
    "\n",
    "* **USFASTD_SENTMT** : Sentiment\n",
    "\n",
    "We will choose these alpha factors for now, but you are encouraged to come back to this later and try other factors as well."
   ]
  },
  {
   "cell_type": "code",
   "execution_count": 11,
   "metadata": {},
   "outputs": [
    {
     "name": "stderr",
     "output_type": "stream",
     "text": [
      "/opt/conda/lib/python3.6/site-packages/pandas/plotting/_converter.py:129: FutureWarning: Using an implicitly registered datetime converter for a matplotlib plotting method. The converter was registered by pandas on import. Future versions of pandas will require you to explicitly register matplotlib converters.\n",
      "\n",
      "To register the converters:\n",
      "\t>>> from pandas.plotting import register_matplotlib_converters\n",
      "\t>>> register_matplotlib_converters()\n",
      "  warnings.warn(msg, FutureWarning)\n"
     ]
    },
    {
     "data": {
      "image/png": "[encoded data removed]",
      "text/plain": [
       "<matplotlib.figure.Figure at 0x7fdca5ee4d30>"
      ]
     },
     "metadata": {
      "needs_background": "light"
     },
     "output_type": "display_data"
    }
   ],
   "source": [
    "alpha_factors = [\"USFASTD_1DREVRSL\", \"USFASTD_EARNYILD\", \"USFASTD_VALUE\", \"USFASTD_SENTMT\"]\n",
    "\n",
    "facret_df = pd.DataFrame(index = my_dates)\n",
    "\n",
    "for dt in my_dates: \n",
    "    for alp in alpha_factors: \n",
    "        facret_df.at[dt, alp] = facret[dt.strftime('%Y%m%d')][alp]\n",
    "\n",
    "for column in facret_df.columns:\n",
    "        plt.plot(facret_df[column].cumsum(), label=column)\n",
    "plt.legend(loc='upper left')\n",
    "plt.xlabel('Date')\n",
    "plt.ylabel('Cumulative Factor Returns')\n",
    "plt.show()"
   ]
  },
  {
   "cell_type": "markdown",
   "metadata": {},
   "source": [
    "## Merge Previous Portfolio Holdings \n",
    "\n",
    "In order to optimize our portfolio we will use the previous day's holdings to estimate the trade size and transaction costs. In order to keep track of the holdings from the previous day we will include a column to hold the portfolio holdings of the previous day. These holdings of all our assets will be initialized to zero when the backtest first starts."
   ]
  },
  {
   "cell_type": "code",
   "execution_count": 12,
   "metadata": {},
   "outputs": [],
   "source": [
    "def clean_nas(df): \n",
    "    numeric_columns = df.select_dtypes(include=[np.number]).columns.tolist()\n",
    "    \n",
    "    for numeric_column in numeric_columns: \n",
    "        df[numeric_column] = np.nan_to_num(df[numeric_column])\n",
    "    \n",
    "    return df"
   ]
  },
  {
   "cell_type": "code",
   "execution_count": 13,
   "metadata": {},
   "outputs": [],
   "source": [
    "previous_holdings = pd.DataFrame(data = {\"Barrid\" : [\"USA02P1\"], \"h.opt.previous\" : np.array(0)})\n",
    "df = frames[my_dates[0].strftime('%Y%m%d')]\n",
    "\n",
    "df = df.merge(previous_holdings, how = 'left', on = 'Barrid')\n",
    "df = clean_nas(df)\n",
    "df.loc[df['SpecRisk'] == 0]['SpecRisk'] = median(df['SpecRisk'])\n"
   ]
  },
  {
   "cell_type": "code",
   "execution_count": 14,
   "metadata": {},
   "outputs": [
    {
     "data": {
      "text/html": [
       "<div>\n",
       "<style scoped>\n",
       "    .dataframe tbody tr th:only-of-type {\n",
       "        vertical-align: middle;\n",
       "    }\n",
       "\n",
       "    .dataframe tbody tr th {\n",
       "        vertical-align: top;\n",
       "    }\n",
       "\n",
       "    .dataframe thead th {\n",
       "        text-align: right;\n",
       "    }\n",
       "</style>\n",
       "<table border=\"1\" class=\"dataframe\">\n",
       "  <thead>\n",
       "    <tr style=\"text-align: right;\">\n",
       "      <th></th>\n",
       "      <th>Barrid</th>\n",
       "      <th>h.opt.previous</th>\n",
       "    </tr>\n",
       "  </thead>\n",
       "  <tbody>\n",
       "    <tr>\n",
       "      <th>0</th>\n",
       "      <td>USA02P1</td>\n",
       "      <td>0</td>\n",
       "    </tr>\n",
       "  </tbody>\n",
       "</table>\n",
       "</div>"
      ],
      "text/plain": [
       "    Barrid  h.opt.previous\n",
       "0  USA02P1               0"
      ]
     },
     "execution_count": 14,
     "metadata": {},
     "output_type": "execute_result"
    }
   ],
   "source": [
    "previous_holdings"
   ]
  },
  {
   "cell_type": "code",
   "execution_count": 15,
   "metadata": {},
   "outputs": [
    {
     "data": {
      "text/html": [
       "<div>\n",
       "<style scoped>\n",
       "    .dataframe tbody tr th:only-of-type {\n",
       "        vertical-align: middle;\n",
       "    }\n",
       "\n",
       "    .dataframe tbody tr th {\n",
       "        vertical-align: top;\n",
       "    }\n",
       "\n",
       "    .dataframe thead th {\n",
       "        text-align: right;\n",
       "    }\n",
       "</style>\n",
       "<table border=\"1\" class=\"dataframe\">\n",
       "  <thead>\n",
       "    <tr style=\"text-align: right;\">\n",
       "      <th></th>\n",
       "      <th>Barrid</th>\n",
       "      <th>USFASTD_1DREVRSL</th>\n",
       "      <th>USFASTD_AERODEF</th>\n",
       "      <th>USFASTD_AIRLINES</th>\n",
       "      <th>USFASTD_ALUMSTEL</th>\n",
       "      <th>USFASTD_APPAREL</th>\n",
       "      <th>USFASTD_AUTO</th>\n",
       "      <th>USFASTD_BANKS</th>\n",
       "      <th>USFASTD_BETA</th>\n",
       "      <th>USFASTD_BEVTOB</th>\n",
       "      <th>...</th>\n",
       "      <th>ADTCA_30</th>\n",
       "      <th>IssuerMarketCap</th>\n",
       "      <th>Yield</th>\n",
       "      <th>TotalRisk</th>\n",
       "      <th>SpecRisk</th>\n",
       "      <th>HistBeta</th>\n",
       "      <th>PredBeta</th>\n",
       "      <th>DataDate</th>\n",
       "      <th>DlyReturn</th>\n",
       "      <th>h.opt.previous</th>\n",
       "    </tr>\n",
       "  </thead>\n",
       "  <tbody>\n",
       "    <tr>\n",
       "      <th>12430</th>\n",
       "      <td>USAZZL1</td>\n",
       "      <td>1.895</td>\n",
       "      <td>0.0</td>\n",
       "      <td>0.0</td>\n",
       "      <td>0.0</td>\n",
       "      <td>0.0</td>\n",
       "      <td>0.0</td>\n",
       "      <td>0.0</td>\n",
       "      <td>-0.318</td>\n",
       "      <td>0.0</td>\n",
       "      <td>...</td>\n",
       "      <td>0.00</td>\n",
       "      <td>3.430560e+07</td>\n",
       "      <td>0.000000</td>\n",
       "      <td>58.542009</td>\n",
       "      <td>53.503883</td>\n",
       "      <td>0.855973</td>\n",
       "      <td>1.148298</td>\n",
       "      <td>20040102</td>\n",
       "      <td>0.068966</td>\n",
       "      <td>0.0</td>\n",
       "    </tr>\n",
       "    <tr>\n",
       "      <th>12431</th>\n",
       "      <td>USAZZP1</td>\n",
       "      <td>2.410</td>\n",
       "      <td>0.0</td>\n",
       "      <td>0.0</td>\n",
       "      <td>0.0</td>\n",
       "      <td>0.0</td>\n",
       "      <td>0.0</td>\n",
       "      <td>0.0</td>\n",
       "      <td>-1.100</td>\n",
       "      <td>1.0</td>\n",
       "      <td>...</td>\n",
       "      <td>0.00</td>\n",
       "      <td>2.614480e+06</td>\n",
       "      <td>0.000000</td>\n",
       "      <td>79.293774</td>\n",
       "      <td>76.269788</td>\n",
       "      <td>0.495782</td>\n",
       "      <td>0.872594</td>\n",
       "      <td>20040102</td>\n",
       "      <td>0.000000</td>\n",
       "      <td>0.0</td>\n",
       "    </tr>\n",
       "    <tr>\n",
       "      <th>12432</th>\n",
       "      <td>USAZZR1</td>\n",
       "      <td>2.120</td>\n",
       "      <td>0.0</td>\n",
       "      <td>0.0</td>\n",
       "      <td>0.0</td>\n",
       "      <td>0.0</td>\n",
       "      <td>0.0</td>\n",
       "      <td>0.0</td>\n",
       "      <td>-1.167</td>\n",
       "      <td>0.0</td>\n",
       "      <td>...</td>\n",
       "      <td>0.00</td>\n",
       "      <td>8.280000e+04</td>\n",
       "      <td>0.000000</td>\n",
       "      <td>40.228029</td>\n",
       "      <td>34.504433</td>\n",
       "      <td>0.464922</td>\n",
       "      <td>0.853555</td>\n",
       "      <td>20040102</td>\n",
       "      <td>0.000000</td>\n",
       "      <td>0.0</td>\n",
       "    </tr>\n",
       "    <tr>\n",
       "      <th>12433</th>\n",
       "      <td>USAZZX1</td>\n",
       "      <td>-1.522</td>\n",
       "      <td>0.0</td>\n",
       "      <td>0.0</td>\n",
       "      <td>0.0</td>\n",
       "      <td>0.0</td>\n",
       "      <td>0.0</td>\n",
       "      <td>0.0</td>\n",
       "      <td>0.247</td>\n",
       "      <td>0.0</td>\n",
       "      <td>...</td>\n",
       "      <td>3580.90</td>\n",
       "      <td>2.031860e+06</td>\n",
       "      <td>0.000000</td>\n",
       "      <td>126.289675</td>\n",
       "      <td>123.366131</td>\n",
       "      <td>1.116599</td>\n",
       "      <td>1.320642</td>\n",
       "      <td>20040102</td>\n",
       "      <td>0.058824</td>\n",
       "      <td>0.0</td>\n",
       "    </tr>\n",
       "    <tr>\n",
       "      <th>12434</th>\n",
       "      <td>USAZZY1</td>\n",
       "      <td>-2.405</td>\n",
       "      <td>0.0</td>\n",
       "      <td>0.0</td>\n",
       "      <td>0.0</td>\n",
       "      <td>0.0</td>\n",
       "      <td>0.0</td>\n",
       "      <td>0.0</td>\n",
       "      <td>-0.411</td>\n",
       "      <td>0.0</td>\n",
       "      <td>...</td>\n",
       "      <td>2316266.45</td>\n",
       "      <td>8.306788e+08</td>\n",
       "      <td>0.620877</td>\n",
       "      <td>32.573024</td>\n",
       "      <td>22.297109</td>\n",
       "      <td>0.813423</td>\n",
       "      <td>0.911993</td>\n",
       "      <td>20040102</td>\n",
       "      <td>0.010721</td>\n",
       "      <td>0.0</td>\n",
       "    </tr>\n",
       "  </tbody>\n",
       "</table>\n",
       "<p>5 rows × 94 columns</p>\n",
       "</div>"
      ],
      "text/plain": [
       "        Barrid  USFASTD_1DREVRSL  USFASTD_AERODEF  USFASTD_AIRLINES  \\\n",
       "12430  USAZZL1             1.895              0.0               0.0   \n",
       "12431  USAZZP1             2.410              0.0               0.0   \n",
       "12432  USAZZR1             2.120              0.0               0.0   \n",
       "12433  USAZZX1            -1.522              0.0               0.0   \n",
       "12434  USAZZY1            -2.405              0.0               0.0   \n",
       "\n",
       "       USFASTD_ALUMSTEL  USFASTD_APPAREL  USFASTD_AUTO  USFASTD_BANKS  \\\n",
       "12430               0.0              0.0           0.0            0.0   \n",
       "12431               0.0              0.0           0.0            0.0   \n",
       "12432               0.0              0.0           0.0            0.0   \n",
       "12433               0.0              0.0           0.0            0.0   \n",
       "12434               0.0              0.0           0.0            0.0   \n",
       "\n",
       "       USFASTD_BETA  USFASTD_BEVTOB  ...    ADTCA_30  IssuerMarketCap  \\\n",
       "12430        -0.318             0.0  ...        0.00     3.430560e+07   \n",
       "12431        -1.100             1.0  ...        0.00     2.614480e+06   \n",
       "12432        -1.167             0.0  ...        0.00     8.280000e+04   \n",
       "12433         0.247             0.0  ...     3580.90     2.031860e+06   \n",
       "12434        -0.411             0.0  ...  2316266.45     8.306788e+08   \n",
       "\n",
       "          Yield   TotalRisk    SpecRisk  HistBeta  PredBeta  DataDate  \\\n",
       "12430  0.000000   58.542009   53.503883  0.855973  1.148298  20040102   \n",
       "12431  0.000000   79.293774   76.269788  0.495782  0.872594  20040102   \n",
       "12432  0.000000   40.228029   34.504433  0.464922  0.853555  20040102   \n",
       "12433  0.000000  126.289675  123.366131  1.116599  1.320642  20040102   \n",
       "12434  0.620877   32.573024   22.297109  0.813423  0.911993  20040102   \n",
       "\n",
       "       DlyReturn  h.opt.previous  \n",
       "12430   0.068966             0.0  \n",
       "12431   0.000000             0.0  \n",
       "12432   0.000000             0.0  \n",
       "12433   0.058824             0.0  \n",
       "12434   0.010721             0.0  \n",
       "\n",
       "[5 rows x 94 columns]"
      ]
     },
     "execution_count": 15,
     "metadata": {},
     "output_type": "execute_result"
    }
   ],
   "source": [
    "df.tail()"
   ]
  },
  {
   "cell_type": "markdown",
   "metadata": {},
   "source": [
    "## Build Universe Based on Filters (TODO)\n",
    "\n",
    "In the cell below, implement the function `get_universe` that creates a stock universe by selecting only those companies that have a market capitalization of at least 1 billion dollars **OR** that are in the previous day's holdings, even if on the current day, the company no longer meets the 1 billion dollar criteria.\n",
    "\n",
    "When creating the universe, make sure you use the `.copy()` attribute to create a copy of the data. Also, it is very important to make sure that we are not looking at returns when forming the portfolio! to make this impossible, make sure to drop the column containing the daily return."
   ]
  },
  {
   "cell_type": "code",
   "execution_count": 16,
   "metadata": {},
   "outputs": [
    {
     "name": "stdout",
     "output_type": "stream",
     "text": [
      "Checking for required columns in the DataFrame...\n",
      "All required columns are present.\n",
      "Applying filters to create the stock universe...\n",
      "Selected 2265 stocks based on filters.\n",
      "Removing 'DlyReturn' column to prevent look-ahead bias...\n",
      "Stock universe is ready.\n"
     ]
    }
   ],
   "source": [
    "def get_universe(df):\n",
    "    \"\"\"\n",
    "    Create a stock universe based on filters\n",
    "\n",
    "    Parameters\n",
    "    ----------\n",
    "    df : DataFrame\n",
    "        All stocks\n",
    "        \n",
    "    Returns\n",
    "    -------\n",
    "    universe : DataFrame\n",
    "        Selected stocks based on filters\n",
    "    \"\"\"\n",
    "    \n",
    "    # DONE: Implement\n",
    "  \n",
    "    # Check for required columns in the DataFrame\n",
    "    print(\"Checking for required columns in the DataFrame...\")\n",
    "    required_columns = ['IssuerMarketCap', 'h.opt.previous', 'DlyReturn']\n",
    "    missing_columns = [column for column in required_columns if column not in df.columns]\n",
    "    if missing_columns:\n",
    "        raise ValueError(f\"Missing required columns: {', '.join(missing_columns)}\")\n",
    "    else:\n",
    "        print(\"All required columns are present.\")\n",
    "    \n",
    "    # Apply filters to create the universe:\n",
    "    # Selects rows where the issuer's market capitalization is at least 1 billion\n",
    "    # OR the stock was part of the previous day's holdings.\n",
    "    print(\"Applying filters to create the stock universe...\")\n",
    "    universe = df.loc[(df['IssuerMarketCap'] >= 1e+9) | (df['h.opt.previous'] != 0.0)].copy()\n",
    "    \n",
    "    print(f\"Selected {len(universe)} stocks based on filters.\")\n",
    "         \n",
    "    # Return the universe DataFrame without the 'DlyReturn' column.\n",
    "    # It's crucial to ensure that the daily return data is not considered\n",
    "    # when forming the portfolio to prevent look-ahead bias.\n",
    "    print(\"Removing 'DlyReturn' column to prevent look-ahead bias...\")\n",
    "    universe = universe.drop(['DlyReturn'], axis=1)\n",
    "    \n",
    "    print(\"Stock universe is ready.\")\n",
    "    return universe\n",
    "\n",
    "\n",
    "\n",
    "universe = get_universe(df)"
   ]
  },
  {
   "cell_type": "code",
   "execution_count": 17,
   "metadata": {},
   "outputs": [
    {
     "data": {
      "text/plain": [
       "'20040102'"
      ]
     },
     "execution_count": 17,
     "metadata": {},
     "output_type": "execute_result"
    }
   ],
   "source": [
    "date = str(int(universe['DataDate'][1])) \n",
    "\n",
    "date"
   ]
  },
  {
   "cell_type": "markdown",
   "metadata": {},
   "source": [
    "## Factors\n",
    "\n",
    "We will now extract both the risk factors and alpha factors. We begin by first getting all the factors using the `factors_from_names` function defined previously."
   ]
  },
  {
   "cell_type": "code",
   "execution_count": 18,
   "metadata": {},
   "outputs": [
    {
     "data": {
      "text/plain": [
       "['USFASTD_1DREVRSL',\n",
       " 'USFASTD_AERODEF',\n",
       " 'USFASTD_AIRLINES',\n",
       " 'USFASTD_ALUMSTEL',\n",
       " 'USFASTD_APPAREL',\n",
       " 'USFASTD_AUTO',\n",
       " 'USFASTD_BANKS',\n",
       " 'USFASTD_BETA',\n",
       " 'USFASTD_BEVTOB',\n",
       " 'USFASTD_BIOLIFE',\n",
       " 'USFASTD_BLDGPROD',\n",
       " 'USFASTD_CHEM',\n",
       " 'USFASTD_CNSTENG',\n",
       " 'USFASTD_CNSTMACH',\n",
       " 'USFASTD_CNSTMATL',\n",
       " 'USFASTD_COMMEQP',\n",
       " 'USFASTD_COMPELEC',\n",
       " 'USFASTD_COMSVCS',\n",
       " 'USFASTD_CONGLOM',\n",
       " 'USFASTD_CONTAINR',\n",
       " 'USFASTD_DISTRIB',\n",
       " 'USFASTD_DIVFIN',\n",
       " 'USFASTD_DIVYILD',\n",
       " 'USFASTD_DWNRISK',\n",
       " 'USFASTD_EARNQLTY',\n",
       " 'USFASTD_EARNYILD',\n",
       " 'USFASTD_ELECEQP',\n",
       " 'USFASTD_ELECUTIL',\n",
       " 'USFASTD_FOODPROD',\n",
       " 'USFASTD_FOODRET',\n",
       " 'USFASTD_GASUTIL',\n",
       " 'USFASTD_GROWTH',\n",
       " 'USFASTD_HLTHEQP',\n",
       " 'USFASTD_HLTHSVCS',\n",
       " 'USFASTD_HOMEBLDG',\n",
       " 'USFASTD_HOUSEDUR',\n",
       " 'USFASTD_INDMACH',\n",
       " 'USFASTD_INDMOM',\n",
       " 'USFASTD_INSURNCE',\n",
       " 'USFASTD_INTERNET',\n",
       " 'USFASTD_LEISPROD',\n",
       " 'USFASTD_LEISSVCS',\n",
       " 'USFASTD_LEVERAGE',\n",
       " 'USFASTD_LIFEINS',\n",
       " 'USFASTD_LIQUIDTY',\n",
       " 'USFASTD_LTREVRSL',\n",
       " 'USFASTD_MEDIA',\n",
       " 'USFASTD_MGDHLTH',\n",
       " 'USFASTD_MGMTQLTY',\n",
       " 'USFASTD_MIDCAP',\n",
       " 'USFASTD_MOMENTUM',\n",
       " 'USFASTD_MULTUTIL',\n",
       " 'USFASTD_OILGSCON',\n",
       " 'USFASTD_OILGSDRL',\n",
       " 'USFASTD_OILGSEQP',\n",
       " 'USFASTD_OILGSEXP',\n",
       " 'USFASTD_PAPER',\n",
       " 'USFASTD_PHARMA',\n",
       " 'USFASTD_PRECMTLS',\n",
       " 'USFASTD_PROFIT',\n",
       " 'USFASTD_PROSPECT',\n",
       " 'USFASTD_PSNLPROD',\n",
       " 'USFASTD_REALEST',\n",
       " 'USFASTD_RESTAUR',\n",
       " 'USFASTD_RESVOL',\n",
       " 'USFASTD_ROADRAIL',\n",
       " 'USFASTD_SEASON',\n",
       " 'USFASTD_SEMICOND',\n",
       " 'USFASTD_SEMIEQP',\n",
       " 'USFASTD_SENTMT',\n",
       " 'USFASTD_SIZE',\n",
       " 'USFASTD_SOFTWARE',\n",
       " 'USFASTD_SPLTYRET',\n",
       " 'USFASTD_SPTYCHEM',\n",
       " 'USFASTD_SPTYSTOR',\n",
       " 'USFASTD_STREVRSL',\n",
       " 'USFASTD_TELECOM',\n",
       " 'USFASTD_TRADECO',\n",
       " 'USFASTD_TRANSPRT',\n",
       " 'USFASTD_VALUE',\n",
       " 'USFASTD_WIRELESS']"
      ]
     },
     "execution_count": 18,
     "metadata": {},
     "output_type": "execute_result"
    }
   ],
   "source": [
    "all_factors = factors_from_names(list(universe))\n",
    "\n",
    "all_factors"
   ]
  },
  {
   "cell_type": "markdown",
   "metadata": {},
   "source": [
    "We will now create the function `setdiff` to just select the factors that we have not defined as alpha factors"
   ]
  },
  {
   "cell_type": "code",
   "execution_count": 19,
   "metadata": {},
   "outputs": [],
   "source": [
    "def setdiff(temp1, temp2): \n",
    "    s = set(temp2)\n",
    "    temp3 = [x for x in temp1 if x not in s]\n",
    "    return temp3"
   ]
  },
  {
   "cell_type": "code",
   "execution_count": 20,
   "metadata": {},
   "outputs": [
    {
     "data": {
      "text/plain": [
       "['USFASTD_AERODEF',\n",
       " 'USFASTD_AIRLINES',\n",
       " 'USFASTD_ALUMSTEL',\n",
       " 'USFASTD_APPAREL',\n",
       " 'USFASTD_AUTO',\n",
       " 'USFASTD_BANKS',\n",
       " 'USFASTD_BETA',\n",
       " 'USFASTD_BEVTOB',\n",
       " 'USFASTD_BIOLIFE',\n",
       " 'USFASTD_BLDGPROD',\n",
       " 'USFASTD_CHEM',\n",
       " 'USFASTD_CNSTENG',\n",
       " 'USFASTD_CNSTMACH',\n",
       " 'USFASTD_CNSTMATL',\n",
       " 'USFASTD_COMMEQP',\n",
       " 'USFASTD_COMPELEC',\n",
       " 'USFASTD_COMSVCS',\n",
       " 'USFASTD_CONGLOM',\n",
       " 'USFASTD_CONTAINR',\n",
       " 'USFASTD_DISTRIB',\n",
       " 'USFASTD_DIVFIN',\n",
       " 'USFASTD_DIVYILD',\n",
       " 'USFASTD_DWNRISK',\n",
       " 'USFASTD_EARNQLTY',\n",
       " 'USFASTD_ELECEQP',\n",
       " 'USFASTD_ELECUTIL',\n",
       " 'USFASTD_FOODPROD',\n",
       " 'USFASTD_FOODRET',\n",
       " 'USFASTD_GASUTIL',\n",
       " 'USFASTD_GROWTH',\n",
       " 'USFASTD_HLTHEQP',\n",
       " 'USFASTD_HLTHSVCS',\n",
       " 'USFASTD_HOMEBLDG',\n",
       " 'USFASTD_HOUSEDUR',\n",
       " 'USFASTD_INDMACH',\n",
       " 'USFASTD_INDMOM',\n",
       " 'USFASTD_INSURNCE',\n",
       " 'USFASTD_INTERNET',\n",
       " 'USFASTD_LEISPROD',\n",
       " 'USFASTD_LEISSVCS',\n",
       " 'USFASTD_LEVERAGE',\n",
       " 'USFASTD_LIFEINS',\n",
       " 'USFASTD_LIQUIDTY',\n",
       " 'USFASTD_LTREVRSL',\n",
       " 'USFASTD_MEDIA',\n",
       " 'USFASTD_MGDHLTH',\n",
       " 'USFASTD_MGMTQLTY',\n",
       " 'USFASTD_MIDCAP',\n",
       " 'USFASTD_MOMENTUM',\n",
       " 'USFASTD_MULTUTIL',\n",
       " 'USFASTD_OILGSCON',\n",
       " 'USFASTD_OILGSDRL',\n",
       " 'USFASTD_OILGSEQP',\n",
       " 'USFASTD_OILGSEXP',\n",
       " 'USFASTD_PAPER',\n",
       " 'USFASTD_PHARMA',\n",
       " 'USFASTD_PRECMTLS',\n",
       " 'USFASTD_PROFIT',\n",
       " 'USFASTD_PROSPECT',\n",
       " 'USFASTD_PSNLPROD',\n",
       " 'USFASTD_REALEST',\n",
       " 'USFASTD_RESTAUR',\n",
       " 'USFASTD_RESVOL',\n",
       " 'USFASTD_ROADRAIL',\n",
       " 'USFASTD_SEASON',\n",
       " 'USFASTD_SEMICOND',\n",
       " 'USFASTD_SEMIEQP',\n",
       " 'USFASTD_SIZE',\n",
       " 'USFASTD_SOFTWARE',\n",
       " 'USFASTD_SPLTYRET',\n",
       " 'USFASTD_SPTYCHEM',\n",
       " 'USFASTD_SPTYSTOR',\n",
       " 'USFASTD_STREVRSL',\n",
       " 'USFASTD_TELECOM',\n",
       " 'USFASTD_TRADECO',\n",
       " 'USFASTD_TRANSPRT',\n",
       " 'USFASTD_WIRELESS']"
      ]
     },
     "execution_count": 20,
     "metadata": {},
     "output_type": "execute_result"
    }
   ],
   "source": [
    "risk_factors = setdiff(all_factors, alpha_factors)\n",
    "\n",
    "risk_factors"
   ]
  },
  {
   "cell_type": "markdown",
   "metadata": {},
   "source": [
    "We will also save the column that contains the previous holdings in a separate variable because we are going to use it later when we perform our portfolio optimization."
   ]
  },
  {
   "cell_type": "code",
   "execution_count": 21,
   "metadata": {},
   "outputs": [
    {
     "data": {
      "text/plain": [
       "0        0.0\n",
       "1        0.0\n",
       "2        0.0\n",
       "3        0.0\n",
       "4        0.0\n",
       "5        0.0\n",
       "6        0.0\n",
       "7        0.0\n",
       "8        0.0\n",
       "9        0.0\n",
       "10       0.0\n",
       "11       0.0\n",
       "12       0.0\n",
       "13       0.0\n",
       "14       0.0\n",
       "15       0.0\n",
       "16       0.0\n",
       "17       0.0\n",
       "18       0.0\n",
       "19       0.0\n",
       "20       0.0\n",
       "21       0.0\n",
       "22       0.0\n",
       "23       0.0\n",
       "24       0.0\n",
       "25       0.0\n",
       "26       0.0\n",
       "27       0.0\n",
       "28       0.0\n",
       "29       0.0\n",
       "        ... \n",
       "12083    0.0\n",
       "12106    0.0\n",
       "12129    0.0\n",
       "12138    0.0\n",
       "12152    0.0\n",
       "12160    0.0\n",
       "12167    0.0\n",
       "12188    0.0\n",
       "12198    0.0\n",
       "12229    0.0\n",
       "12250    0.0\n",
       "12251    0.0\n",
       "12270    0.0\n",
       "12276    0.0\n",
       "12277    0.0\n",
       "12292    0.0\n",
       "12294    0.0\n",
       "12296    0.0\n",
       "12297    0.0\n",
       "12300    0.0\n",
       "12303    0.0\n",
       "12306    0.0\n",
       "12310    0.0\n",
       "12328    0.0\n",
       "12347    0.0\n",
       "12350    0.0\n",
       "12358    0.0\n",
       "12380    0.0\n",
       "12391    0.0\n",
       "12422    0.0\n",
       "Name: h.opt.previous, Length: 2265, dtype: float64"
      ]
     },
     "execution_count": 21,
     "metadata": {},
     "output_type": "execute_result"
    }
   ],
   "source": [
    "h0 = universe['h.opt.previous']\n",
    "\n",
    "h0"
   ]
  },
  {
   "cell_type": "markdown",
   "metadata": {},
   "source": [
    "## Matrix of Risk Factor Exposures\n",
    "\n",
    "Our dataframe contains several columns that we'll use as risk factors exposures.  Extract these and put them into a matrix.\n",
    "\n",
    "The data, such as industry category, are already one-hot encoded, but if this were not the case, then using `patsy.dmatrices` would help, as this function extracts categories and performs the one-hot encoding.  We'll practice using this package, as you may find it useful with future data sets.  You could also store the factors in a dataframe if you prefer.\n",
    "\n",
    "#### How to use patsy.dmatrices\n",
    "\n",
    "`patsy.dmatrices` takes in a formula and the dataframe.  The formula tells the function which columns to take.  The formula will look something like this:  \n",
    "`SpecRisk ~ 0 + USFASTD_AERODEF + USFASTD_AIRLINES + ...`  \n",
    "where the variable to the left of the ~ is the \"dependent variable\" and the others to the right are the independent variables (as if we were preparing data to be fit to a model).\n",
    "\n",
    "This just means that the `pasty.dmatrices` function will return two matrix variables, one that contains the single column for the dependent variable `outcome`, and the independent variable columns are stored in a matrix `predictors`.\n",
    "\n",
    "The `predictors` matrix will contain the matrix of risk factors, which is what we want.  We don't actually need the `outcome` matrix; it's just created because that's the way patsy.dmatrices works."
   ]
  },
  {
   "cell_type": "code",
   "execution_count": 22,
   "metadata": {},
   "outputs": [
    {
     "data": {
      "text/plain": [
       "'SpecRisk ~ 0 + USFASTD_AERODEF + USFASTD_AIRLINES + USFASTD_ALUMSTEL + USFASTD_APPAREL + USFASTD_AUTO + USFASTD_BANKS + USFASTD_BETA + USFASTD_BEVTOB + USFASTD_BIOLIFE + USFASTD_BLDGPROD + USFASTD_CHEM + USFASTD_CNSTENG + USFASTD_CNSTMACH + USFASTD_CNSTMATL + USFASTD_COMMEQP + USFASTD_COMPELEC + USFASTD_COMSVCS + USFASTD_CONGLOM + USFASTD_CONTAINR + USFASTD_DISTRIB + USFASTD_DIVFIN + USFASTD_DIVYILD + USFASTD_DWNRISK + USFASTD_EARNQLTY + USFASTD_ELECEQP + USFASTD_ELECUTIL + USFASTD_FOODPROD + USFASTD_FOODRET + USFASTD_GASUTIL + USFASTD_GROWTH + USFASTD_HLTHEQP + USFASTD_HLTHSVCS + USFASTD_HOMEBLDG + USFASTD_HOUSEDUR + USFASTD_INDMACH + USFASTD_INDMOM + USFASTD_INSURNCE + USFASTD_INTERNET + USFASTD_LEISPROD + USFASTD_LEISSVCS + USFASTD_LEVERAGE + USFASTD_LIFEINS + USFASTD_LIQUIDTY + USFASTD_LTREVRSL + USFASTD_MEDIA + USFASTD_MGDHLTH + USFASTD_MGMTQLTY + USFASTD_MIDCAP + USFASTD_MOMENTUM + USFASTD_MULTUTIL + USFASTD_OILGSCON + USFASTD_OILGSDRL + USFASTD_OILGSEQP + USFASTD_OILGSEXP + USFASTD_PAPER + USFASTD_PHARMA + USFASTD_PRECMTLS + USFASTD_PROFIT + USFASTD_PROSPECT + USFASTD_PSNLPROD + USFASTD_REALEST + USFASTD_RESTAUR + USFASTD_RESVOL + USFASTD_ROADRAIL + USFASTD_SEASON + USFASTD_SEMICOND + USFASTD_SEMIEQP + USFASTD_SIZE + USFASTD_SOFTWARE + USFASTD_SPLTYRET + USFASTD_SPTYCHEM + USFASTD_SPTYSTOR + USFASTD_STREVRSL + USFASTD_TELECOM + USFASTD_TRADECO + USFASTD_TRANSPRT + USFASTD_WIRELESS'"
      ]
     },
     "execution_count": 22,
     "metadata": {},
     "output_type": "execute_result"
    }
   ],
   "source": [
    "formula = get_formula(risk_factors, \"SpecRisk\")\n",
    "\n",
    "formula"
   ]
  },
  {
   "cell_type": "code",
   "execution_count": 23,
   "metadata": {},
   "outputs": [],
   "source": [
    "def model_matrix(formula, data): \n",
    "    outcome, predictors = patsy.dmatrices(formula, data)\n",
    "    return predictors"
   ]
  },
  {
   "cell_type": "code",
   "execution_count": 24,
   "metadata": {},
   "outputs": [
    {
     "data": {
      "text/plain": [
       "array([[0., 0., 0., ..., 0., 0., 0.],\n",
       "       [0., 0., 0., ..., 0., 0., 0.],\n",
       "       [0., 0., 0., ..., 0., 0., 0.],\n",
       "       ...,\n",
       "       [0., 0., 0., ..., 0., 0., 0.],\n",
       "       [0., 0., 0., ..., 0., 0., 0.],\n",
       "       [0., 0., 0., ..., 0., 1., 0.]])"
      ]
     },
     "execution_count": 24,
     "metadata": {},
     "output_type": "execute_result"
    }
   ],
   "source": [
    "B = model_matrix(formula, universe)\n",
    "BT = B.transpose()\n",
    "\n",
    "BT"
   ]
  },
  {
   "cell_type": "code",
   "execution_count": 25,
   "metadata": {},
   "outputs": [
    {
     "data": {
      "text/plain": [
       "DesignMatrix with shape (2265, 77)\n",
       "  Columns:\n",
       "    ['USFASTD_AERODEF',\n",
       "     'USFASTD_AIRLINES',\n",
       "     'USFASTD_ALUMSTEL',\n",
       "     'USFASTD_APPAREL',\n",
       "     'USFASTD_AUTO',\n",
       "     'USFASTD_BANKS',\n",
       "     'USFASTD_BETA',\n",
       "     'USFASTD_BEVTOB',\n",
       "     'USFASTD_BIOLIFE',\n",
       "     'USFASTD_BLDGPROD',\n",
       "     'USFASTD_CHEM',\n",
       "     'USFASTD_CNSTENG',\n",
       "     'USFASTD_CNSTMACH',\n",
       "     'USFASTD_CNSTMATL',\n",
       "     'USFASTD_COMMEQP',\n",
       "     'USFASTD_COMPELEC',\n",
       "     'USFASTD_COMSVCS',\n",
       "     'USFASTD_CONGLOM',\n",
       "     'USFASTD_CONTAINR',\n",
       "     'USFASTD_DISTRIB',\n",
       "     'USFASTD_DIVFIN',\n",
       "     'USFASTD_DIVYILD',\n",
       "     'USFASTD_DWNRISK',\n",
       "     'USFASTD_EARNQLTY',\n",
       "     'USFASTD_ELECEQP',\n",
       "     'USFASTD_ELECUTIL',\n",
       "     'USFASTD_FOODPROD',\n",
       "     'USFASTD_FOODRET',\n",
       "     'USFASTD_GASUTIL',\n",
       "     'USFASTD_GROWTH',\n",
       "     'USFASTD_HLTHEQP',\n",
       "     'USFASTD_HLTHSVCS',\n",
       "     'USFASTD_HOMEBLDG',\n",
       "     'USFASTD_HOUSEDUR',\n",
       "     'USFASTD_INDMACH',\n",
       "     'USFASTD_INDMOM',\n",
       "     'USFASTD_INSURNCE',\n",
       "     'USFASTD_INTERNET',\n",
       "     'USFASTD_LEISPROD',\n",
       "     'USFASTD_LEISSVCS',\n",
       "     'USFASTD_LEVERAGE',\n",
       "     'USFASTD_LIFEINS',\n",
       "     'USFASTD_LIQUIDTY',\n",
       "     'USFASTD_LTREVRSL',\n",
       "     'USFASTD_MEDIA',\n",
       "     'USFASTD_MGDHLTH',\n",
       "     'USFASTD_MGMTQLTY',\n",
       "     'USFASTD_MIDCAP',\n",
       "     'USFASTD_MOMENTUM',\n",
       "     'USFASTD_MULTUTIL',\n",
       "     'USFASTD_OILGSCON',\n",
       "     'USFASTD_OILGSDRL',\n",
       "     'USFASTD_OILGSEQP',\n",
       "     'USFASTD_OILGSEXP',\n",
       "     'USFASTD_PAPER',\n",
       "     'USFASTD_PHARMA',\n",
       "     'USFASTD_PRECMTLS',\n",
       "     'USFASTD_PROFIT',\n",
       "     'USFASTD_PROSPECT',\n",
       "     'USFASTD_PSNLPROD',\n",
       "     'USFASTD_REALEST',\n",
       "     'USFASTD_RESTAUR',\n",
       "     'USFASTD_RESVOL',\n",
       "     'USFASTD_ROADRAIL',\n",
       "     'USFASTD_SEASON',\n",
       "     'USFASTD_SEMICOND',\n",
       "     'USFASTD_SEMIEQP',\n",
       "     'USFASTD_SIZE',\n",
       "     'USFASTD_SOFTWARE',\n",
       "     'USFASTD_SPLTYRET',\n",
       "     'USFASTD_SPTYCHEM',\n",
       "     'USFASTD_SPTYSTOR',\n",
       "     'USFASTD_STREVRSL',\n",
       "     'USFASTD_TELECOM',\n",
       "     'USFASTD_TRADECO',\n",
       "     'USFASTD_TRANSPRT',\n",
       "     'USFASTD_WIRELESS']\n",
       "  Terms:\n",
       "    'USFASTD_AERODEF' (column 0)\n",
       "    'USFASTD_AIRLINES' (column 1)\n",
       "    'USFASTD_ALUMSTEL' (column 2)\n",
       "    'USFASTD_APPAREL' (column 3)\n",
       "    'USFASTD_AUTO' (column 4)\n",
       "    'USFASTD_BANKS' (column 5)\n",
       "    'USFASTD_BETA' (column 6)\n",
       "    'USFASTD_BEVTOB' (column 7)\n",
       "    'USFASTD_BIOLIFE' (column 8)\n",
       "    'USFASTD_BLDGPROD' (column 9)\n",
       "    'USFASTD_CHEM' (column 10)\n",
       "    'USFASTD_CNSTENG' (column 11)\n",
       "    'USFASTD_CNSTMACH' (column 12)\n",
       "    'USFASTD_CNSTMATL' (column 13)\n",
       "    'USFASTD_COMMEQP' (column 14)\n",
       "    'USFASTD_COMPELEC' (column 15)\n",
       "    'USFASTD_COMSVCS' (column 16)\n",
       "    'USFASTD_CONGLOM' (column 17)\n",
       "    'USFASTD_CONTAINR' (column 18)\n",
       "    'USFASTD_DISTRIB' (column 19)\n",
       "    'USFASTD_DIVFIN' (column 20)\n",
       "    'USFASTD_DIVYILD' (column 21)\n",
       "    'USFASTD_DWNRISK' (column 22)\n",
       "    'USFASTD_EARNQLTY' (column 23)\n",
       "    'USFASTD_ELECEQP' (column 24)\n",
       "    'USFASTD_ELECUTIL' (column 25)\n",
       "    'USFASTD_FOODPROD' (column 26)\n",
       "    'USFASTD_FOODRET' (column 27)\n",
       "    'USFASTD_GASUTIL' (column 28)\n",
       "    'USFASTD_GROWTH' (column 29)\n",
       "    'USFASTD_HLTHEQP' (column 30)\n",
       "    'USFASTD_HLTHSVCS' (column 31)\n",
       "    'USFASTD_HOMEBLDG' (column 32)\n",
       "    'USFASTD_HOUSEDUR' (column 33)\n",
       "    'USFASTD_INDMACH' (column 34)\n",
       "    'USFASTD_INDMOM' (column 35)\n",
       "    'USFASTD_INSURNCE' (column 36)\n",
       "    'USFASTD_INTERNET' (column 37)\n",
       "    'USFASTD_LEISPROD' (column 38)\n",
       "    'USFASTD_LEISSVCS' (column 39)\n",
       "    'USFASTD_LEVERAGE' (column 40)\n",
       "    'USFASTD_LIFEINS' (column 41)\n",
       "    'USFASTD_LIQUIDTY' (column 42)\n",
       "    'USFASTD_LTREVRSL' (column 43)\n",
       "    'USFASTD_MEDIA' (column 44)\n",
       "    'USFASTD_MGDHLTH' (column 45)\n",
       "    'USFASTD_MGMTQLTY' (column 46)\n",
       "    'USFASTD_MIDCAP' (column 47)\n",
       "    'USFASTD_MOMENTUM' (column 48)\n",
       "    'USFASTD_MULTUTIL' (column 49)\n",
       "    'USFASTD_OILGSCON' (column 50)\n",
       "    'USFASTD_OILGSDRL' (column 51)\n",
       "    'USFASTD_OILGSEQP' (column 52)\n",
       "    'USFASTD_OILGSEXP' (column 53)\n",
       "    'USFASTD_PAPER' (column 54)\n",
       "    'USFASTD_PHARMA' (column 55)\n",
       "    'USFASTD_PRECMTLS' (column 56)\n",
       "    'USFASTD_PROFIT' (column 57)\n",
       "    'USFASTD_PROSPECT' (column 58)\n",
       "    'USFASTD_PSNLPROD' (column 59)\n",
       "    'USFASTD_REALEST' (column 60)\n",
       "    'USFASTD_RESTAUR' (column 61)\n",
       "    'USFASTD_RESVOL' (column 62)\n",
       "    'USFASTD_ROADRAIL' (column 63)\n",
       "    'USFASTD_SEASON' (column 64)\n",
       "    'USFASTD_SEMICOND' (column 65)\n",
       "    'USFASTD_SEMIEQP' (column 66)\n",
       "    'USFASTD_SIZE' (column 67)\n",
       "    'USFASTD_SOFTWARE' (column 68)\n",
       "    'USFASTD_SPLTYRET' (column 69)\n",
       "    'USFASTD_SPTYCHEM' (column 70)\n",
       "    'USFASTD_SPTYSTOR' (column 71)\n",
       "    'USFASTD_STREVRSL' (column 72)\n",
       "    'USFASTD_TELECOM' (column 73)\n",
       "    'USFASTD_TRADECO' (column 74)\n",
       "    'USFASTD_TRANSPRT' (column 75)\n",
       "    'USFASTD_WIRELESS' (column 76)\n",
       "  (to view full data, use np.asarray(this_obj))"
      ]
     },
     "execution_count": 25,
     "metadata": {},
     "output_type": "execute_result"
    }
   ],
   "source": [
    "B"
   ]
  },
  {
   "cell_type": "markdown",
   "metadata": {},
   "source": [
    "## Calculate Specific Variance\n",
    "\n",
    "Notice that the specific risk data is in percent:"
   ]
  },
  {
   "cell_type": "code",
   "execution_count": 26,
   "metadata": {},
   "outputs": [
    {
     "data": {
      "text/plain": [
       "0     9.014505\n",
       "1    11.726327\n",
       "Name: SpecRisk, dtype: float64"
      ]
     },
     "execution_count": 26,
     "metadata": {},
     "output_type": "execute_result"
    }
   ],
   "source": [
    "universe['SpecRisk'][0:2]"
   ]
  },
  {
   "cell_type": "markdown",
   "metadata": {},
   "source": [
    "Therefore, in order to get the specific variance for each stock in the universe we first need to multiply these values by `0.01`  and then square them:"
   ]
  },
  {
   "cell_type": "code",
   "execution_count": 27,
   "metadata": {},
   "outputs": [
    {
     "data": {
      "text/plain": [
       "0        0.008126\n",
       "1        0.013751\n",
       "2        0.032571\n",
       "3        0.043389\n",
       "4        0.046045\n",
       "5        0.014190\n",
       "6        0.020825\n",
       "7        0.033540\n",
       "8        0.019974\n",
       "9        0.037055\n",
       "10       0.069566\n",
       "11       0.026231\n",
       "12       0.015613\n",
       "13       0.036236\n",
       "14       0.007090\n",
       "15       0.046236\n",
       "16       0.057190\n",
       "17       0.014746\n",
       "18       0.040114\n",
       "19       0.039741\n",
       "20       0.057126\n",
       "21       0.038621\n",
       "22       0.057459\n",
       "23       0.045609\n",
       "24       0.020506\n",
       "25       0.038251\n",
       "26       0.005796\n",
       "27       0.082930\n",
       "28       0.033287\n",
       "29       0.038272\n",
       "           ...   \n",
       "12083    0.024959\n",
       "12106    0.098739\n",
       "12129    0.013204\n",
       "12138    0.022257\n",
       "12152    0.038487\n",
       "12160    0.019202\n",
       "12167    0.019431\n",
       "12188    0.008243\n",
       "12198    0.089633\n",
       "12229    0.014120\n",
       "12250    0.074190\n",
       "12251    0.107576\n",
       "12270    0.020839\n",
       "12276    0.051340\n",
       "12277    0.073172\n",
       "12292    0.012866\n",
       "12294    0.006881\n",
       "12296    0.077083\n",
       "12297    0.090917\n",
       "12300    0.020507\n",
       "12303    0.032648\n",
       "12306    0.029965\n",
       "12310    0.101971\n",
       "12328    0.097857\n",
       "12347    0.036097\n",
       "12350    0.025902\n",
       "12358    0.020308\n",
       "12380    0.092327\n",
       "12391    0.113685\n",
       "12422    0.035262\n",
       "Name: SpecRisk, Length: 2265, dtype: float64"
      ]
     },
     "execution_count": 27,
     "metadata": {},
     "output_type": "execute_result"
    }
   ],
   "source": [
    "specVar = (0.01 * universe['SpecRisk']) ** 2\n",
    "\n",
    "specVar"
   ]
  },
  {
   "cell_type": "markdown",
   "metadata": {},
   "source": [
    "## Factor covariance matrix (TODO)\n",
    "\n",
    "Note that we already have factor covariances from Barra data, which is stored in the variable `covariance`.  `covariance` is a dictionary, where the key is each day's date, and the value is a dataframe containing the factor covariances."
   ]
  },
  {
   "cell_type": "code",
   "execution_count": 28,
   "metadata": {},
   "outputs": [
    {
     "data": {
      "text/html": [
       "<div>\n",
       "<style scoped>\n",
       "    .dataframe tbody tr th:only-of-type {\n",
       "        vertical-align: middle;\n",
       "    }\n",
       "\n",
       "    .dataframe tbody tr th {\n",
       "        vertical-align: top;\n",
       "    }\n",
       "\n",
       "    .dataframe thead th {\n",
       "        text-align: right;\n",
       "    }\n",
       "</style>\n",
       "<table border=\"1\" class=\"dataframe\">\n",
       "  <thead>\n",
       "    <tr style=\"text-align: right;\">\n",
       "      <th></th>\n",
       "      <th>Factor1</th>\n",
       "      <th>Factor2</th>\n",
       "      <th>VarCovar</th>\n",
       "      <th>DataDate</th>\n",
       "    </tr>\n",
       "  </thead>\n",
       "  <tbody>\n",
       "    <tr>\n",
       "      <th>0</th>\n",
       "      <td>USFASTD_1DREVRSL</td>\n",
       "      <td>USFASTD_1DREVRSL</td>\n",
       "      <td>1.958869</td>\n",
       "      <td>20040102</td>\n",
       "    </tr>\n",
       "    <tr>\n",
       "      <th>1</th>\n",
       "      <td>USFASTD_1DREVRSL</td>\n",
       "      <td>USFASTD_BETA</td>\n",
       "      <td>1.602458</td>\n",
       "      <td>20040102</td>\n",
       "    </tr>\n",
       "    <tr>\n",
       "      <th>2</th>\n",
       "      <td>USFASTD_1DREVRSL</td>\n",
       "      <td>USFASTD_DIVYILD</td>\n",
       "      <td>-0.012642</td>\n",
       "      <td>20040102</td>\n",
       "    </tr>\n",
       "    <tr>\n",
       "      <th>3</th>\n",
       "      <td>USFASTD_1DREVRSL</td>\n",
       "      <td>USFASTD_DWNRISK</td>\n",
       "      <td>-0.064387</td>\n",
       "      <td>20040102</td>\n",
       "    </tr>\n",
       "    <tr>\n",
       "      <th>4</th>\n",
       "      <td>USFASTD_1DREVRSL</td>\n",
       "      <td>USFASTD_EARNQLTY</td>\n",
       "      <td>0.046573</td>\n",
       "      <td>20040102</td>\n",
       "    </tr>\n",
       "  </tbody>\n",
       "</table>\n",
       "</div>"
      ],
      "text/plain": [
       "            Factor1           Factor2  VarCovar  DataDate\n",
       "0  USFASTD_1DREVRSL  USFASTD_1DREVRSL  1.958869  20040102\n",
       "1  USFASTD_1DREVRSL      USFASTD_BETA  1.602458  20040102\n",
       "2  USFASTD_1DREVRSL   USFASTD_DIVYILD -0.012642  20040102\n",
       "3  USFASTD_1DREVRSL   USFASTD_DWNRISK -0.064387  20040102\n",
       "4  USFASTD_1DREVRSL  USFASTD_EARNQLTY  0.046573  20040102"
      ]
     },
     "execution_count": 28,
     "metadata": {},
     "output_type": "execute_result"
    }
   ],
   "source": [
    "covariance['20040102'].head()"
   ]
  },
  {
   "cell_type": "markdown",
   "metadata": {},
   "source": [
    "In the code below, implement the function `diagonal_factor_cov` to create the factor covariance matrix. Note that the covariances are given in percentage units squared.  Therefore you must re-scale them appropriately so that they're in decimals squared. Use the given `colnames` function to get the column names from `B`. \n",
    "\n",
    "When creating factor covariance matrix, you can store the factor variances and covariances, or just store the factor variances.  Try both, and see if you notice any differences."
   ]
  },
  {
   "cell_type": "code",
   "execution_count": 29,
   "metadata": {},
   "outputs": [],
   "source": [
    "def colnames(B):\n",
    "    if type(B) == patsy.design_info.DesignMatrix: \n",
    "        return B.design_info.column_names\n",
    "    if type(B) == pandas.core.frame.DataFrame: \n",
    "        return B.columns.tolist()\n",
    "    return None"
   ]
  },
  {
   "cell_type": "code",
   "execution_count": 30,
   "metadata": {},
   "outputs": [
    {
     "data": {
      "text/plain": [
       "array([[0.00845121, 0.        , 0.        , ..., 0.        , 0.        ,\n",
       "        0.        ],\n",
       "       [0.        , 0.04305446, 0.        , ..., 0.        , 0.        ,\n",
       "        0.        ],\n",
       "       [0.        , 0.        , 0.02307853, ..., 0.        , 0.        ,\n",
       "        0.        ],\n",
       "       ...,\n",
       "       [0.        , 0.        , 0.        , ..., 0.00521378, 0.        ,\n",
       "        0.        ],\n",
       "       [0.        , 0.        , 0.        , ..., 0.        , 0.00726435,\n",
       "        0.        ],\n",
       "       [0.        , 0.        , 0.        , ..., 0.        , 0.        ,\n",
       "        0.02185539]])"
      ]
     },
     "execution_count": 30,
     "metadata": {},
     "output_type": "execute_result"
    }
   ],
   "source": [
    "import numpy as np\n",
    "import pandas as pd\n",
    "\n",
    "def diagonal_factor_cov(date, B):\n",
    "    \"\"\"\n",
    "    Create the factor covariance matrix\n",
    "\n",
    "    Parameters\n",
    "    ----------\n",
    "    date : string\n",
    "           date. For example 20040102\n",
    "        \n",
    "    B : patsy.design_info.DesignMatrix OR pandas.core.frame.DataFrame\n",
    "        Matrix of Risk Factors\n",
    "        \n",
    "    Returns\n",
    "    -------\n",
    "    Fm : Numpy ndarray\n",
    "        factor covariance matrix\n",
    "    \"\"\"\n",
    "    \n",
    "    # DONE: Implement\n",
    "    \n",
    "    \"\"\"\n",
    "    References\n",
    "    ----------\n",
    "    NumPy for ndarray details: https://numpy.org/doc/stable/reference/arrays.ndarray.html\n",
    "    Pandas for data manipulation: https://pandas.pydata.org/\n",
    "    \"\"\"\n",
    "    assert isinstance(date, str), \"The date parameter must be a string formatted as 'YYYYMMDD'.\"\n",
    "    assert hasattr(B, 'columns') or hasattr(B, 'design_info'), \"B must be a DataFrame or a DesignMatrix with columns.\"\n",
    "    \n",
    "    try:\n",
    "        cv_matrix = covariance[date]\n",
    "    except KeyError:\n",
    "        raise KeyError(f\"Covariance data for date {date} not found.\")\n",
    "    \n",
    "    # Determine the number of factors in the risk model\n",
    "    num_of_factors = B.shape[1]\n",
    "    # Initialize the factor covariance matrix with zeros\n",
    "    factor_matrix = np.zeros((num_of_factors, num_of_factors), dtype=float)\n",
    "    \n",
    "    # Populate the diagonal of the matrix with factor variances\n",
    "    for i in range(num_of_factors):\n",
    "        factor = B.design_info.column_names[i] if hasattr(B, 'design_info') else B.columns[i]\n",
    "        location = (cv_matrix['Factor1'] == factor) & (cv_matrix['Factor2'] == factor)\n",
    "        if location.any():\n",
    "            # Convert variances from percentage units squared to decimals squared\n",
    "            variance_percentage = cv_matrix.loc[location, \"VarCovar\"].iloc[0]\n",
    "            variance_decimal = (0.01 ** 2) * variance_percentage\n",
    "            factor_matrix[i, i] = variance_decimal\n",
    "        else:\n",
    "            print(f\"Warning: No variance found for factor '{factor}' on date {date}. Setting to 0.\")\n",
    "\n",
    "    # Ensure no NaN values are present in the factor covariance matrix\n",
    "    assert not np.isnan(factor_matrix).any(), \"The factor covariance matrix contains NaN values.\"\n",
    "\n",
    "    return factor_matrix\n",
    " \n",
    "Fvar = diagonal_factor_cov(date, B)\n",
    "\n",
    "Fvar"
   ]
  },
  {
   "cell_type": "markdown",
   "metadata": {},
   "source": [
    "## Transaction Costs\n",
    "\n",
    "To get the transaction cost, or slippage, we have to multiply the price change due to market impact by the amount of dollars traded:\n",
    "\n",
    "$$\n",
    "\\mbox{tcost_{i,t}} = \\% \\Delta \\mbox{price}_{i,t} \\times \\mbox{trade}_{i,t}\n",
    "$$\n",
    "\n",
    "In summation notation it looks like this:  \n",
    "$$\n",
    "\\mbox{tcost}_{i,t} = \\sum_i^{N} \\lambda_{i,t} (h_{i,t} - h_{i,t-1})^2\n",
    "$$  \n",
    "where\n",
    "$$\n",
    "\\lambda_{i,t} = \\frac{1}{10\\times \\mbox{ADV}_{i,t}}\n",
    "$$\n",
    "\n",
    "Note that since we're dividing by ADV, we'll want to handle cases when ADV is missing or zero.  In those instances, we can set ADV to a small positive number, such as 10,000, which, in practice assumes that the stock is illiquid. In the code below if there is no volume information we assume the asset is illiquid."
   ]
  },
  {
   "cell_type": "code",
   "execution_count": 31,
   "metadata": {},
   "outputs": [
    {
     "data": {
      "text/plain": [
       "0        1.000000e-05\n",
       "1        1.000000e-05\n",
       "2        1.000000e-05\n",
       "3        1.000000e-05\n",
       "4        1.000000e-05\n",
       "5        1.000000e-05\n",
       "6        1.000000e-05\n",
       "7        1.000000e-05\n",
       "8        1.000000e-05\n",
       "9        1.000000e-05\n",
       "10       1.000000e-05\n",
       "11       1.000000e-05\n",
       "12       1.000000e-05\n",
       "13       1.000000e-05\n",
       "14       1.000000e-05\n",
       "15       1.000000e-05\n",
       "16       1.000000e-05\n",
       "17       1.000000e-05\n",
       "18       1.000000e-05\n",
       "19       1.000000e-05\n",
       "20       1.000000e-05\n",
       "21       1.000000e-05\n",
       "22       1.000000e-05\n",
       "23       1.000000e-05\n",
       "24       1.000000e-05\n",
       "25       1.000000e-05\n",
       "26       1.000000e-05\n",
       "27       1.000000e-05\n",
       "28       1.000000e-05\n",
       "29       1.000000e-05\n",
       "             ...     \n",
       "12083    2.048203e-08\n",
       "12106    3.956336e-09\n",
       "12129    3.650859e-08\n",
       "12138    1.072401e-08\n",
       "12152    7.828642e-09\n",
       "12160    3.498004e-09\n",
       "12167    1.617964e-08\n",
       "12188    6.462989e-09\n",
       "12198    1.092242e-07\n",
       "12229    4.216152e-09\n",
       "12250    2.067077e-09\n",
       "12251    2.110551e-09\n",
       "12270    3.861224e-09\n",
       "12276    7.548518e-09\n",
       "12277    4.986435e-09\n",
       "12292    4.219457e-09\n",
       "12294    2.838724e-07\n",
       "12296    1.014326e-08\n",
       "12297    5.726980e-09\n",
       "12300    8.390016e-09\n",
       "12303    1.046304e-07\n",
       "12306    3.557516e-08\n",
       "12310    5.130779e-09\n",
       "12328    2.466353e-06\n",
       "12347    1.832742e-08\n",
       "12350    1.114254e-08\n",
       "12358    1.824621e-09\n",
       "12380    7.245511e-09\n",
       "12391    8.186089e-09\n",
       "12422    7.648435e-08\n",
       "Name: ADTCA_30, Length: 2265, dtype: float64"
      ]
     },
     "execution_count": 31,
     "metadata": {},
     "output_type": "execute_result"
    }
   ],
   "source": [
    "def get_lambda(universe, composite_volume_column = 'ADTCA_30'):\n",
    "    universe.loc[np.isnan(universe[composite_volume_column]), composite_volume_column] = 1.0e4\n",
    "    universe.loc[universe[composite_volume_column] == 0, composite_volume_column] = 1.0e4 \n",
    "\n",
    "    adv = universe[composite_volume_column]\n",
    "    \n",
    "    return 0.1 / adv\n",
    "\n",
    "Lambda = get_lambda(universe)\n",
    "\n",
    "Lambda"
   ]
  },
  {
   "cell_type": "markdown",
   "metadata": {},
   "source": [
    "## Alpha Combination (TODO)\n",
    "\n",
    "In the code below create a matrix of alpha factors and return it from the function `get_B_alpha`. Create this matrix in the same way you created the matrix of risk factors, i.e. using the `get_formula` and `model_matrix` functions we have defined above. Feel free to go back and look at the previous code."
   ]
  },
  {
   "cell_type": "code",
   "execution_count": 32,
   "metadata": {},
   "outputs": [
    {
     "name": "stdout",
     "output_type": "stream",
     "text": [
      "Generated formula: SpecRisk ~ 0 + USFASTD_1DREVRSL + USFASTD_EARNYILD + USFASTD_VALUE + USFASTD_SENTMT\n"
     ]
    },
    {
     "data": {
      "text/plain": [
       "DesignMatrix with shape (2265, 4)\n",
       "  USFASTD_1DREVRSL  USFASTD_EARNYILD  USFASTD_VALUE  USFASTD_SENTMT\n",
       "            -0.032            -0.298          0.644          -0.922\n",
       "            -0.059            -1.072         -0.646          -0.991\n",
       "             0.457            -0.060         -0.668          -0.092\n",
       "            -0.128            -0.681          0.028          -0.772\n",
       "             0.374             0.392         -0.735           0.489\n",
       "            -0.254             0.185          0.188           0.033\n",
       "            -0.317             0.748          2.049           0.628\n",
       "             0.157            -0.438         -0.449           0.631\n",
       "            -0.550            -0.691         -0.645           0.225\n",
       "            -0.169             0.038         -1.002           0.053\n",
       "            -1.019            -0.946         -0.588           1.371\n",
       "             0.334            -0.197         -0.465          -0.287\n",
       "             0.490             0.036         -0.370          -0.685\n",
       "            -0.169            -0.206         -1.332           0.628\n",
       "            -0.642             0.213         -0.208          -0.082\n",
       "            -0.609            -0.491         -0.429          -0.775\n",
       "            -0.098            -0.491         -0.437          -0.775\n",
       "            -0.230             0.367         -0.050           0.168\n",
       "            -0.175            -0.126         -0.483           0.110\n",
       "            -0.116             0.514          0.233          -0.348\n",
       "             0.701            -0.611         -0.782          -0.342\n",
       "            -0.249            -0.308         -0.934           0.030\n",
       "             0.735            -1.912          0.090           2.681\n",
       "            -0.007            -0.492         -1.112           0.238\n",
       "            -0.133            -0.393         -0.676          -0.205\n",
       "             0.639            -0.869         -0.347           2.628\n",
       "            -0.339             0.799          0.451           0.715\n",
       "            -2.745             0.799          0.456           0.715\n",
       "            -0.560             1.409         -0.473           0.339\n",
       "             0.166            -0.030         -0.361          -0.455\n",
       "  [2235 rows omitted]\n",
       "  Terms:\n",
       "    'USFASTD_1DREVRSL' (column 0)\n",
       "    'USFASTD_EARNYILD' (column 1)\n",
       "    'USFASTD_VALUE' (column 2)\n",
       "    'USFASTD_SENTMT' (column 3)\n",
       "  (to view full data, use np.asarray(this_obj))"
      ]
     },
     "execution_count": 32,
     "metadata": {},
     "output_type": "execute_result"
    }
   ],
   "source": [
    "def get_B_alpha(alpha_factors, universe):\n",
    "\n",
    "    # DONE: Implement\n",
    "\n",
    "    \"\"\"\n",
    "    Generate the model matrix B for alpha factors given a universe of assets.\n",
    "\n",
    "    This function creates a design matrix for alpha factors that are specified for\n",
    "    a given universe of assets. It utilizes a formula derived from the alpha factors\n",
    "    and applies this formula to the universe to construct the model matrix.\n",
    "\n",
    "    Parameters\n",
    "    ----------\n",
    "    alpha_factors : list or similar iterable\n",
    "        A list or iterable of alpha factors to be included in the model.\n",
    "    universe : pandas.DataFrame or similar\n",
    "        A DataFrame or similar structure representing the universe of assets. This\n",
    "        universe is used as the context in which the alpha factors are evaluated to\n",
    "        generate the model matrix.\n",
    "\n",
    "    Returns\n",
    "    -------\n",
    "    numpy.ndarray or pandas.DataFrame\n",
    "        The model matrix B generated based on the alpha factors and the given universe.\n",
    "        The type of the return value depends on the implementation of `model_matrix`.\n",
    "\n",
    "    Notes\n",
    "    -----\n",
    "    - The `model_matrix` function is assumed to take a formula string and a universe,\n",
    "      returning a design matrix.\n",
    "    - The `get_formula` function is assumed to generate a formula string based on the\n",
    "      given alpha factors.\n",
    "\n",
    "      \"\"\"\n",
    "    # Generate the formula for the specified alpha factors\n",
    "    formula = get_formula(alpha_factors, \"SpecRisk\")\n",
    "    \n",
    "    # Print the generated formula to ensure correctness\n",
    "    print(f\"Generated formula: {formula}\")\n",
    "    \n",
    "    # Generate and return the model matrix using the generated formula and the universe\n",
    "    return model_matrix(formula, universe)\n",
    "\n",
    "\n",
    "B_alpha = get_B_alpha(alpha_factors, universe)\n",
    "\n",
    "\n",
    "\n",
    "B_alpha"
   ]
  },
  {
   "cell_type": "markdown",
   "metadata": {},
   "source": [
    "Now that you have the matrix containing the alpha factors we will combine them by adding its rows. By doing this we will collapse the `B_alpha` matrix into a single alpha vector. We'll multiply by `1e-4` so that the expression of expected portfolio return, $\\alpha^T \\mathbf{h}$, is in dollar units. "
   ]
  },
  {
   "cell_type": "code",
   "execution_count": 33,
   "metadata": {},
   "outputs": [
    {
     "name": "stdout",
     "output_type": "stream",
     "text": [
      "Summed alpha vector shape: (2265,)\n"
     ]
    },
    {
     "data": {
      "text/plain": [
       "2265"
      ]
     },
     "execution_count": 33,
     "metadata": {},
     "output_type": "execute_result"
    }
   ],
   "source": [
    "import numpy as np\n",
    "\n",
    "def get_alpha_vec(B_alpha):\n",
    "    \"\"\"\n",
    "    Create an alpha vecrtor\n",
    "\n",
    "    Parameters\n",
    "    ----------        \n",
    "    B_alpha : patsy.design_info.DesignMatrix \n",
    "        Matrix of Alpha Factors\n",
    "        \n",
    "    Returns\n",
    "    -------\n",
    "    alpha_vec : patsy.design_info.DesignMatrix \n",
    "        alpha vecrtor\n",
    "    \"\"\"\n",
    "    \n",
    "    # DONE: Implement\n",
    "    \n",
    "    \"\"\"\n",
    "    Generate an alpha vector from a matrix of alpha factors by summing along rows.\n",
    "\n",
    "    This function computes the sum of alpha factors for each asset (represented as rows\n",
    "    in the input matrix) and scales the result to create an alpha vector. The scaling\n",
    "    factor of 1e-4 is applied to the sum of each row, which could be interpreted as a\n",
    "    normalization or scaling step based on specific model requirements.\n",
    "\n",
    "\n",
    "    References\n",
    "    ----------\n",
    "    - Numpy documentation for sum: https://numpy.org/doc/stable/reference/generated/numpy.sum.html\n",
    "    - Patsy DesignMatrix: https://patsy.readthedocs.io/en/latest/API-reference.html#design-info-objects\n",
    "\n",
    "    Notes\n",
    "    -----\n",
    "    The function assumes the input matrix B_alpha is in an appropriate format where\n",
    "    operations like summation over rows are meaningful and representative of combining\n",
    "    alpha factors for each asset.\n",
    "    \"\"\"\n",
    "    \n",
    "    # Sum alpha factors along each row (axis=1) to aggregate information per asset\n",
    "    sum_alpha = np.sum(B_alpha, axis=1)\n",
    "    \n",
    "    # Print the shape of the summed alpha vector to ensure dimensionality\n",
    "    print(f\"Summed alpha vector shape: {sum_alpha.shape}\")\n",
    "    \n",
    "    # Apply scaling factor to the summed alpha vector\n",
    "    alpha_vec = 1e-4 * sum_alpha\n",
    "    \n",
    "    return alpha_vec\n",
    "\n",
    "\n",
    "# Now pass only the matrix to get_alpha_vec\n",
    "alpha_vec = get_alpha_vec(B_alpha)\n",
    "\n",
    "\n",
    "\n",
    "len(alpha_vec)"
   ]
  },
  {
   "cell_type": "code",
   "execution_count": 34,
   "metadata": {},
   "outputs": [
    {
     "data": {
      "text/plain": [
       "array([-6.080e-05, -2.768e-04, -3.630e-05, ...,  1.900e-06,  1.679e-04,\n",
       "        3.930e-05])"
      ]
     },
     "execution_count": 34,
     "metadata": {},
     "output_type": "execute_result"
    }
   ],
   "source": [
    "alpha_vec"
   ]
  },
  {
   "cell_type": "markdown",
   "metadata": {},
   "source": [
    "#### Optional Challenge\n",
    "\n",
    "You can also try to a more sophisticated method of alpha combination, by choosing the holding for each alpha based on the same metric of its performance, such as the factor returns, or sharpe ratio.  To make this more realistic, you can calculate a rolling average of the sharpe ratio, which is updated for each day.  Remember to only use data that occurs prior to the date of each optimization, and not data that occurs in the future.  Also, since factor returns and sharpe ratios may be negative, consider using a `max` function to give the holdings a lower bound of zero."
   ]
  },
  {
   "cell_type": "markdown",
   "metadata": {},
   "source": [
    "## Objective function (TODO)\n",
    "\n",
    "The objective function is given by:\n",
    "\n",
    "$$\n",
    "f(\\mathbf{h}) = \\frac{1}{2}\\kappa \\mathbf{h}_t^T\\mathbf{Q}^T\\mathbf{Q}\\mathbf{h}_t + \\frac{1}{2} \\kappa \\mathbf{h}_t^T \\mathbf{S} \\mathbf{h}_t - \\mathbf{\\alpha}^T \\mathbf{h}_t + (\\mathbf{h}_{t} - \\mathbf{h}_{t-1})^T \\mathbf{\\Lambda} (\\mathbf{h}_{t} - \\mathbf{h}_{t-1})\n",
    "$$\n",
    "\n",
    "Where the terms correspond to: factor risk + idiosyncratic risk - expected portfolio return + transaction costs, respectively. We should also note that $\\textbf{Q}^T\\textbf{Q}$ is defined to be the same as $\\textbf{BFB}^T$.  Review the lessons if you need a refresher of how we get $\\textbf{Q}$.\n",
    "\n",
    "Our objective is to minimize this objective function. To do this, we will use Scipy's optimization function:\n",
    "\n",
    "`scipy.optimize.fmin_l_bfgs_b(func, initial_guess, func_gradient)`\n",
    "\n",
    "where:\n",
    "\n",
    "* **func** : is the function we want to minimize\n",
    "\n",
    "* **initial_guess** : is out initial guess\n",
    "\n",
    "* **func_gradient** : is the gradient of the function we want to minimize\n",
    "\n",
    "So, in order to use the `scipy.optimize.fmin_l_bfgs_b` function we first need to define its parameters.\n",
    "\n",
    "In the code below implement the function `obj_func(h)` that corresponds to the objective function above that we want to minimize. We will set the risk aversion to be `1.0e-6`."
   ]
  },
  {
   "cell_type": "code",
   "execution_count": 35,
   "metadata": {},
   "outputs": [],
   "source": [
    "risk_aversion = 1.0e-6\n",
    "\n",
    "\n",
    "def get_obj_func(h0, risk_aversion, Q, specVar, alpha_vec, Lambda):\n",
    "    \"\"\"\n",
    "    Constructs the objective function for a given optimization problem.\n",
    "\n",
    "    Parameters:\n",
    "    - h0: Initial holdings (numpy array).\n",
    "    - risk_aversion: Risk aversion coefficient (scalar).\n",
    "    - Q: Covariance matrix of asset returns (numpy array).\n",
    "    - specVar: Specific variance of assets (numpy array).\n",
    "    - alpha_vec: Alpha vector, expected returns above the benchmark (numpy array).\n",
    "    - Lambda: Transaction cost coefficient (scalar or numpy array).\n",
    "\n",
    "    Returns:\n",
    "    - obj_func: A function that computes the value of the objective function.\n",
    "    \"\"\"\n",
    "    def obj_func(h):\n",
    "        # DONE: Implement\n",
    "        \"\"\"\n",
    "        Computes the value of the objective function.\n",
    "\n",
    "        Parameters:\n",
    "        - h: Current holdings (numpy array).\n",
    "\n",
    "        Returns:\n",
    "        - Value of the objective function evaluated at h (scalar).\n",
    "        \"\"\"\n",
    "        # Ensure input is an array to prevent unexpected behavior\n",
    "        h = np.asarray(h)\n",
    "        \n",
    "        # Compute the objective function\n",
    "        objective = (\n",
    "            0.5 * risk_aversion * np.sum(np.matmul(Q, h)**2) +  # Quadratic risk term\n",
    "            0.5 * risk_aversion * np.dot(h**2, specVar) -  # Risk aversion times specific variance term\n",
    "            np.dot(h, alpha_vec) +  # Alpha term\n",
    "            np.dot((h - h0)**2, Lambda)  # Transaction cost term\n",
    "        )\n",
    "        return objective\n",
    "    \n",
    "    return obj_func\n",
    "\n"
   ]
  },
  {
   "cell_type": "markdown",
   "metadata": {},
   "source": [
    "## Gradient (TODO)\n",
    "\n",
    "Now that we can generate the objective function using `get_obj_func`, we can now create a similar function with its gradient. The reason we're interested in calculating the gradient is so that we can tell the optimizer in which direction, and how much, it should shift the portfolio holdings in order to improve the objective function (minimize variance, minimize transaction cost, and maximize expected portfolio return).\n",
    "\n",
    "Before we implement the function we first need to know what the gradient looks like. The gradient, or derivative of the objective function, with respect to the portfolio holdings h, is given by:  \n",
    "\n",
    "$$\n",
    "f'(\\mathbf{h}) = \\frac{1}{2}\\kappa (2\\mathbf{Q}^T\\mathbf{Qh}) + \\frac{1}{2}\\kappa (2\\mathbf{Sh}) - \\mathbf{\\alpha} + 2(\\mathbf{h}_{t} - \\mathbf{h}_{t-1}) \\mathbf{\\Lambda}\n",
    "$$\n",
    "\n",
    "In the code below, implement the function `grad(h)` that corresponds to the function of the gradient given above."
   ]
  },
  {
   "cell_type": "code",
   "execution_count": 36,
   "metadata": {},
   "outputs": [],
   "source": [
    "def get_grad_func(h0, risk_aversion, Q, QT, specVar, alpha_vec, Lambda):\n",
    "    \"\"\"\n",
    "    Generates a gradient function for portfolio optimization.\n",
    "\n",
    "    Parameters:\n",
    "    - h0: numpy.ndarray, the initial portfolio holdings.\n",
    "    - risk_aversion: float, the risk aversion coefficient.\n",
    "    - Q: numpy.ndarray, the covariance matrix of asset returns.\n",
    "    - QT: numpy.ndarray, the transpose of the covariance matrix Q.\n",
    "    - specVar: numpy.ndarray, the specific variances of the assets.\n",
    "    - alpha_vec: numpy.ndarray, the alpha vector, representing expected returns.\n",
    "    - Lambda: float or numpy.ndarray, the transaction cost coefficient(s).\n",
    "\n",
    "    Returns:\n",
    "    - grad_func: function, a function that computes the gradient of the\n",
    "      portfolio's objective function with respect to the holdings vector h.\n",
    "    \"\"\"    \n",
    "    def grad_func(h):\n",
    "        # DONE: Implement\n",
    "        \"\"\"\n",
    "        Computes the gradient of the objective function at holdings h.\n",
    "\n",
    "        Parameters:\n",
    "        - h: numpy.ndarray, the current portfolio holdings.\n",
    "\n",
    "        Returns:\n",
    "        - numpy.ndarray, the gradient of the objective function.\n",
    "        \"\"\"\n",
    "\n",
    "        # Ensuring input is a numpy array for matrix operations\n",
    "        h = np.asarray(h)\n",
    "\n",
    "        # Calculate the gradient of the objective function\n",
    "        gradient = risk_aversion * np.matmul(QT, np.matmul(Q, h)) + \\\n",
    "                   risk_aversion * specVar * h - \\\n",
    "                   alpha_vec + \\\n",
    "                   2 * (h - h0) * Lambda\n",
    "\n",
    "        return gradient\n",
    "\n",
    "    # Check for common issues that could result in incorrect calculations\n",
    "    assert h0.shape == alpha_vec.shape, \"h0 and alpha_vec must have the same shape.\"\n",
    "    assert specVar.shape[0] == h0.shape[0], \"specVar length must match the number of assets in h0.\"\n",
    "    if isinstance(Lambda, np.ndarray):\n",
    "        assert Lambda.shape == h0.shape, \"Lambda (if array) must match the shape of h0.\"\n",
    "\n",
    "    return grad_func\n"
   ]
  },
  {
   "cell_type": "markdown",
   "metadata": {},
   "source": [
    "## Optimize (TODO)\n",
    "\n",
    "Now that we can generate the objective function using `get_obj_func`, and its corresponding gradient using `get_grad_func` we are ready to minimize the objective function using Scipy's optimization function. For this, we will use out initial holdings as our `initial_guess` parameter.\n",
    "\n",
    "In the cell below, implement the function `get_h_star` that optimizes the objective function. Use the objective function (`obj_func`) and gradient function (`grad_func`) provided within `get_h_star` to optimize the objective function using the `scipy.optimize.fmin_l_bfgs_b` function."
   ]
  },
  {
   "cell_type": "code",
   "execution_count": 37,
   "metadata": {},
   "outputs": [
    {
     "name": "stdout",
     "output_type": "stream",
     "text": [
      "h0 type: <class 'numpy.ndarray'>, shape: (2265,)\n",
      "specVar type: <class 'numpy.ndarray'>, shape: (2265,)\n",
      "alpha_vec type: <class 'numpy.ndarray'>, shape: (2265,)\n",
      "Lambda type: <class 'numpy.ndarray'>, shape: (2265,)\n",
      "Optimization completed with status: b'CONVERGENCE: REL_REDUCTION_OF_F_<=_FACTR*EPSMCH'\n"
     ]
    }
   ],
   "source": [
    "risk_aversion = 1.0e-6\n",
    "\n",
    "Q = np.matmul(scipy.linalg.sqrtm(Fvar), BT)\n",
    "QT = Q.transpose()\n",
    "\n",
    "def get_h_star(risk_aversion, Q, QT, specVar, alpha_vec, h0, Lambda):\n",
    "    \"\"\"\n",
    "    Optimize the objective function\n",
    "\n",
    "    Parameters\n",
    "    ----------        \n",
    "    risk_aversion : int or float \n",
    "        Trader's risk aversion\n",
    "        \n",
    "    Q : patsy.design_info.DesignMatrix \n",
    "        Q Matrix\n",
    "        \n",
    "    QT : patsy.design_info.DesignMatrix \n",
    "        Transpose of the Q Matrix\n",
    "        \n",
    "    specVar: Pandas Series \n",
    "        Specific Variance\n",
    "        \n",
    "    alpha_vec: patsy.design_info.DesignMatrix \n",
    "        alpha vector\n",
    "        \n",
    "    h0 : Pandas Series  \n",
    "        initial holdings\n",
    "        \n",
    "    Lambda : Pandas Series  \n",
    "        Lambda\n",
    "        \n",
    "    Returns\n",
    "    -------\n",
    "    optimizer_result[0]: Numpy ndarray \n",
    "        optimized holdings\n",
    "    \"\"\"\n",
    "    # DONE: Implement \n",
    "    # Convert h0 to a numpy array if it's not already\n",
    "    if not isinstance(h0, np.ndarray):\n",
    "        h0 = h0.values\n",
    "    \n",
    "    # Ensure all inputs are numpy arrays for compatibility with scipy.optimize\n",
    "    specVar = np.asarray(specVar)\n",
    "    alpha_vec = np.asarray(alpha_vec)\n",
    "    Lambda = np.asarray(Lambda)\n",
    "    \n",
    "    obj_func = get_obj_func(h0, risk_aversion, Q, specVar, alpha_vec, Lambda)\n",
    "    grad_func = get_grad_func(h0, risk_aversion, Q, QT, specVar, alpha_vec, Lambda)\n",
    "    \n",
    "    \"\"\"\n",
    "    References\n",
    "    ----------\n",
    "    - scipy.optimize.fmin_l_bfgs_b: https://docs.scipy.org/doc/scipy/reference/generated/scipy.optimize.fmin_l_bfgs_b.html\n",
    "    - NumPy for handling arrays: https://numpy.org/doc/stable/\n",
    "    - Pandas Series documentation: https://pandas.pydata.org/pandas-docs/stable/reference/api/pandas.Series.html\n",
    "\n",
    " \n",
    "    Notes\n",
    "    -----\n",
    "    - The objective and gradient functions (`get_obj_func` and `get_grad_func`) are essential for\n",
    "      this optimization but are not defined in this snippet. They must be implemented to represent\n",
    "      the specific optimization problem being solved.\n",
    "    \"\"\"\n",
    "    # print types and shapes\n",
    "    print(f\"h0 type: {type(h0)}, shape: {h0.shape}\")\n",
    "    print(f\"specVar type: {type(specVar)}, shape: {specVar.shape}\")\n",
    "    print(f\"alpha_vec type: {type(alpha_vec)}, shape: {alpha_vec.shape}\")\n",
    "    print(f\"Lambda type: {type(Lambda)}, shape: {Lambda.shape}\")\n",
    "    \n",
    "    try:\n",
    "        optimizer_result = scipy.optimize.fmin_l_bfgs_b(obj_func, h0, fprime=grad_func)\n",
    "        print(f\"Optimization completed with status: {optimizer_result[2]['task']}\")\n",
    "        return optimizer_result[0]\n",
    "    except Exception as e:\n",
    "        print(f\"Optimization failed with error: {e}\")\n",
    "        return None   \n",
    "              \n",
    "\n",
    "h_star = get_h_star(risk_aversion, Q, QT, specVar, alpha_vec, h0, Lambda)\n"
   ]
  },
  {
   "cell_type": "code",
   "execution_count": 38,
   "metadata": {},
   "outputs": [
    {
     "data": {
      "text/plain": [
       "array([ -4.09683222, -22.20962474,   1.53073513, ..., 765.83126287,\n",
       "       512.36508617, 528.85338124])"
      ]
     },
     "execution_count": 38,
     "metadata": {},
     "output_type": "execute_result"
    }
   ],
   "source": [
    "h_star"
   ]
  },
  {
   "cell_type": "code",
   "execution_count": 39,
   "metadata": {},
   "outputs": [
    {
     "data": {
      "text/plain": [
       "1e-06"
      ]
     },
     "execution_count": 39,
     "metadata": {},
     "output_type": "execute_result"
    }
   ],
   "source": [
    "risk_aversion"
   ]
  },
  {
   "cell_type": "code",
   "execution_count": 40,
   "metadata": {},
   "outputs": [
    {
     "data": {
      "text/plain": [
       "array([[0.        , 0.        , 0.        , ..., 0.        , 0.        ,\n",
       "        0.        ],\n",
       "       [0.        , 0.        , 0.        , ..., 0.        , 0.        ,\n",
       "        0.        ],\n",
       "       [0.        , 0.        , 0.        , ..., 0.        , 0.        ,\n",
       "        0.        ],\n",
       "       ...,\n",
       "       [0.        , 0.        , 0.        , ..., 0.        , 0.        ,\n",
       "        0.        ],\n",
       "       [0.        , 0.        , 0.        , ..., 0.        , 0.        ,\n",
       "        0.        ],\n",
       "       [0.        , 0.        , 0.        , ..., 0.        , 0.14783569,\n",
       "        0.        ]])"
      ]
     },
     "execution_count": 40,
     "metadata": {},
     "output_type": "execute_result"
    }
   ],
   "source": [
    "Q"
   ]
  },
  {
   "cell_type": "code",
   "execution_count": 41,
   "metadata": {},
   "outputs": [
    {
     "data": {
      "text/plain": [
       "array([[0.        , 0.        , 0.        , ..., 0.        , 0.        ,\n",
       "        0.        ],\n",
       "       [0.        , 0.        , 0.        , ..., 0.        , 0.        ,\n",
       "        0.        ],\n",
       "       [0.        , 0.        , 0.        , ..., 0.        , 0.        ,\n",
       "        0.        ],\n",
       "       ...,\n",
       "       [0.        , 0.        , 0.        , ..., 0.        , 0.        ,\n",
       "        0.        ],\n",
       "       [0.        , 0.        , 0.        , ..., 0.        , 0.        ,\n",
       "        0.14783569],\n",
       "       [0.        , 0.        , 0.        , ..., 0.        , 0.        ,\n",
       "        0.        ]])"
      ]
     },
     "execution_count": 41,
     "metadata": {},
     "output_type": "execute_result"
    }
   ],
   "source": [
    "QT"
   ]
  },
  {
   "cell_type": "code",
   "execution_count": 42,
   "metadata": {},
   "outputs": [
    {
     "data": {
      "text/plain": [
       "0        0.008126\n",
       "1        0.013751\n",
       "2        0.032571\n",
       "3        0.043389\n",
       "4        0.046045\n",
       "5        0.014190\n",
       "6        0.020825\n",
       "7        0.033540\n",
       "8        0.019974\n",
       "9        0.037055\n",
       "10       0.069566\n",
       "11       0.026231\n",
       "12       0.015613\n",
       "13       0.036236\n",
       "14       0.007090\n",
       "15       0.046236\n",
       "16       0.057190\n",
       "17       0.014746\n",
       "18       0.040114\n",
       "19       0.039741\n",
       "20       0.057126\n",
       "21       0.038621\n",
       "22       0.057459\n",
       "23       0.045609\n",
       "24       0.020506\n",
       "25       0.038251\n",
       "26       0.005796\n",
       "27       0.082930\n",
       "28       0.033287\n",
       "29       0.038272\n",
       "           ...   \n",
       "12083    0.024959\n",
       "12106    0.098739\n",
       "12129    0.013204\n",
       "12138    0.022257\n",
       "12152    0.038487\n",
       "12160    0.019202\n",
       "12167    0.019431\n",
       "12188    0.008243\n",
       "12198    0.089633\n",
       "12229    0.014120\n",
       "12250    0.074190\n",
       "12251    0.107576\n",
       "12270    0.020839\n",
       "12276    0.051340\n",
       "12277    0.073172\n",
       "12292    0.012866\n",
       "12294    0.006881\n",
       "12296    0.077083\n",
       "12297    0.090917\n",
       "12300    0.020507\n",
       "12303    0.032648\n",
       "12306    0.029965\n",
       "12310    0.101971\n",
       "12328    0.097857\n",
       "12347    0.036097\n",
       "12350    0.025902\n",
       "12358    0.020308\n",
       "12380    0.092327\n",
       "12391    0.113685\n",
       "12422    0.035262\n",
       "Name: SpecRisk, Length: 2265, dtype: float64"
      ]
     },
     "execution_count": 42,
     "metadata": {},
     "output_type": "execute_result"
    }
   ],
   "source": [
    "specVar"
   ]
  },
  {
   "cell_type": "markdown",
   "metadata": {},
   "source": [
    "After we have optimized our objective function we can now use, `h_star` to create our optimal portfolio:"
   ]
  },
  {
   "cell_type": "code",
   "execution_count": 43,
   "metadata": {},
   "outputs": [
    {
     "data": {
      "text/html": [
       "<div>\n",
       "<style scoped>\n",
       "    .dataframe tbody tr th:only-of-type {\n",
       "        vertical-align: middle;\n",
       "    }\n",
       "\n",
       "    .dataframe tbody tr th {\n",
       "        vertical-align: top;\n",
       "    }\n",
       "\n",
       "    .dataframe thead th {\n",
       "        text-align: right;\n",
       "    }\n",
       "</style>\n",
       "<table border=\"1\" class=\"dataframe\">\n",
       "  <thead>\n",
       "    <tr style=\"text-align: right;\">\n",
       "      <th></th>\n",
       "      <th>Barrid</th>\n",
       "      <th>h.opt</th>\n",
       "    </tr>\n",
       "  </thead>\n",
       "  <tbody>\n",
       "    <tr>\n",
       "      <th>0</th>\n",
       "      <td>USA0001</td>\n",
       "      <td>-4.096832</td>\n",
       "    </tr>\n",
       "    <tr>\n",
       "      <th>1</th>\n",
       "      <td>USA0011</td>\n",
       "      <td>-22.209625</td>\n",
       "    </tr>\n",
       "    <tr>\n",
       "      <th>2</th>\n",
       "      <td>USA0031</td>\n",
       "      <td>1.530735</td>\n",
       "    </tr>\n",
       "    <tr>\n",
       "      <th>3</th>\n",
       "      <td>USA0062</td>\n",
       "      <td>-5.747743</td>\n",
       "    </tr>\n",
       "    <tr>\n",
       "      <th>4</th>\n",
       "      <td>USA00E2</td>\n",
       "      <td>6.823530</td>\n",
       "    </tr>\n",
       "    <tr>\n",
       "      <th>5</th>\n",
       "      <td>USA00F1</td>\n",
       "      <td>-5.710422</td>\n",
       "    </tr>\n",
       "    <tr>\n",
       "      <th>6</th>\n",
       "      <td>USA00G2</td>\n",
       "      <td>7.622006</td>\n",
       "    </tr>\n",
       "    <tr>\n",
       "      <th>7</th>\n",
       "      <td>USA00H1</td>\n",
       "      <td>4.822573</td>\n",
       "    </tr>\n",
       "    <tr>\n",
       "      <th>8</th>\n",
       "      <td>USA00I1</td>\n",
       "      <td>-9.646374</td>\n",
       "    </tr>\n",
       "    <tr>\n",
       "      <th>9</th>\n",
       "      <td>USA00J1</td>\n",
       "      <td>-3.177720</td>\n",
       "    </tr>\n",
       "    <tr>\n",
       "      <th>10</th>\n",
       "      <td>USA00K1</td>\n",
       "      <td>-7.853150</td>\n",
       "    </tr>\n",
       "    <tr>\n",
       "      <th>11</th>\n",
       "      <td>USA00P1</td>\n",
       "      <td>1.484717</td>\n",
       "    </tr>\n",
       "    <tr>\n",
       "      <th>12</th>\n",
       "      <td>USA00R1</td>\n",
       "      <td>-3.245538</td>\n",
       "    </tr>\n",
       "    <tr>\n",
       "      <th>13</th>\n",
       "      <td>USA00S1</td>\n",
       "      <td>0.689004</td>\n",
       "    </tr>\n",
       "    <tr>\n",
       "      <th>14</th>\n",
       "      <td>USA00V1</td>\n",
       "      <td>-4.734765</td>\n",
       "    </tr>\n",
       "    <tr>\n",
       "      <th>15</th>\n",
       "      <td>USA0131</td>\n",
       "      <td>-11.267658</td>\n",
       "    </tr>\n",
       "    <tr>\n",
       "      <th>16</th>\n",
       "      <td>USA0161</td>\n",
       "      <td>-7.187591</td>\n",
       "    </tr>\n",
       "    <tr>\n",
       "      <th>17</th>\n",
       "      <td>USA01I1</td>\n",
       "      <td>2.193364</td>\n",
       "    </tr>\n",
       "    <tr>\n",
       "      <th>18</th>\n",
       "      <td>USA01J2</td>\n",
       "      <td>-6.893639</td>\n",
       "    </tr>\n",
       "    <tr>\n",
       "      <th>19</th>\n",
       "      <td>USA01L1</td>\n",
       "      <td>-1.082148</td>\n",
       "    </tr>\n",
       "    <tr>\n",
       "      <th>20</th>\n",
       "      <td>USA01P1</td>\n",
       "      <td>-0.089999</td>\n",
       "    </tr>\n",
       "    <tr>\n",
       "      <th>21</th>\n",
       "      <td>USA01Q1</td>\n",
       "      <td>-4.277018</td>\n",
       "    </tr>\n",
       "    <tr>\n",
       "      <th>22</th>\n",
       "      <td>USA0202</td>\n",
       "      <td>13.547363</td>\n",
       "    </tr>\n",
       "    <tr>\n",
       "      <th>23</th>\n",
       "      <td>USA0231</td>\n",
       "      <td>-4.546447</td>\n",
       "    </tr>\n",
       "    <tr>\n",
       "      <th>24</th>\n",
       "      <td>USA0281</td>\n",
       "      <td>-5.340732</td>\n",
       "    </tr>\n",
       "    <tr>\n",
       "      <th>25</th>\n",
       "      <td>USA0291</td>\n",
       "      <td>14.631298</td>\n",
       "    </tr>\n",
       "    <tr>\n",
       "      <th>26</th>\n",
       "      <td>USA02A1</td>\n",
       "      <td>2.257747</td>\n",
       "    </tr>\n",
       "    <tr>\n",
       "      <th>27</th>\n",
       "      <td>USA02B1</td>\n",
       "      <td>-8.418235</td>\n",
       "    </tr>\n",
       "    <tr>\n",
       "      <th>28</th>\n",
       "      <td>USA02H1</td>\n",
       "      <td>0.477050</td>\n",
       "    </tr>\n",
       "    <tr>\n",
       "      <th>29</th>\n",
       "      <td>USA02P1</td>\n",
       "      <td>-4.866049</td>\n",
       "    </tr>\n",
       "    <tr>\n",
       "      <th>...</th>\n",
       "      <td>...</td>\n",
       "      <td>...</td>\n",
       "    </tr>\n",
       "    <tr>\n",
       "      <th>12083</th>\n",
       "      <td>USAZGN1</td>\n",
       "      <td>-1601.020469</td>\n",
       "    </tr>\n",
       "    <tr>\n",
       "      <th>12106</th>\n",
       "      <td>USAZHT1</td>\n",
       "      <td>90.986937</td>\n",
       "    </tr>\n",
       "    <tr>\n",
       "      <th>12129</th>\n",
       "      <td>USAZJ11</td>\n",
       "      <td>42.721298</td>\n",
       "    </tr>\n",
       "    <tr>\n",
       "      <th>12138</th>\n",
       "      <td>USAZJH1</td>\n",
       "      <td>-1588.509584</td>\n",
       "    </tr>\n",
       "    <tr>\n",
       "      <th>12152</th>\n",
       "      <td>USAZK61</td>\n",
       "      <td>737.953103</td>\n",
       "    </tr>\n",
       "    <tr>\n",
       "      <th>12160</th>\n",
       "      <td>USAZKM1</td>\n",
       "      <td>4541.908274</td>\n",
       "    </tr>\n",
       "    <tr>\n",
       "      <th>12167</th>\n",
       "      <td>USAZKZ1</td>\n",
       "      <td>3362.280832</td>\n",
       "    </tr>\n",
       "    <tr>\n",
       "      <th>12188</th>\n",
       "      <td>USAZM61</td>\n",
       "      <td>1138.659001</td>\n",
       "    </tr>\n",
       "    <tr>\n",
       "      <th>12198</th>\n",
       "      <td>USAZMU1</td>\n",
       "      <td>-30.144500</td>\n",
       "    </tr>\n",
       "    <tr>\n",
       "      <th>12229</th>\n",
       "      <td>USAZOE1</td>\n",
       "      <td>-8457.397546</td>\n",
       "    </tr>\n",
       "    <tr>\n",
       "      <th>12250</th>\n",
       "      <td>USAZPE1</td>\n",
       "      <td>-3717.456969</td>\n",
       "    </tr>\n",
       "    <tr>\n",
       "      <th>12251</th>\n",
       "      <td>USAZPF1</td>\n",
       "      <td>743.839821</td>\n",
       "    </tr>\n",
       "    <tr>\n",
       "      <th>12270</th>\n",
       "      <td>USAZQD1</td>\n",
       "      <td>-7305.309718</td>\n",
       "    </tr>\n",
       "    <tr>\n",
       "      <th>12276</th>\n",
       "      <td>USAZQK1</td>\n",
       "      <td>1394.786860</td>\n",
       "    </tr>\n",
       "    <tr>\n",
       "      <th>12277</th>\n",
       "      <td>USAZQN1</td>\n",
       "      <td>2226.756774</td>\n",
       "    </tr>\n",
       "    <tr>\n",
       "      <th>12292</th>\n",
       "      <td>USAZRB1</td>\n",
       "      <td>2359.501715</td>\n",
       "    </tr>\n",
       "    <tr>\n",
       "      <th>12294</th>\n",
       "      <td>USAZRD1</td>\n",
       "      <td>110.406532</td>\n",
       "    </tr>\n",
       "    <tr>\n",
       "      <th>12296</th>\n",
       "      <td>USAZRG1</td>\n",
       "      <td>-2094.231555</td>\n",
       "    </tr>\n",
       "    <tr>\n",
       "      <th>12297</th>\n",
       "      <td>USAZRK1</td>\n",
       "      <td>-2502.143621</td>\n",
       "    </tr>\n",
       "    <tr>\n",
       "      <th>12300</th>\n",
       "      <td>USAZRU1</td>\n",
       "      <td>-437.064624</td>\n",
       "    </tr>\n",
       "    <tr>\n",
       "      <th>12303</th>\n",
       "      <td>USAZRY1</td>\n",
       "      <td>-411.420693</td>\n",
       "    </tr>\n",
       "    <tr>\n",
       "      <th>12306</th>\n",
       "      <td>USAZS21</td>\n",
       "      <td>349.636853</td>\n",
       "    </tr>\n",
       "    <tr>\n",
       "      <th>12310</th>\n",
       "      <td>USAZS81</td>\n",
       "      <td>2719.843266</td>\n",
       "    </tr>\n",
       "    <tr>\n",
       "      <th>12328</th>\n",
       "      <td>USAZTI1</td>\n",
       "      <td>-13.554183</td>\n",
       "    </tr>\n",
       "    <tr>\n",
       "      <th>12347</th>\n",
       "      <td>USAZUA1</td>\n",
       "      <td>453.865736</td>\n",
       "    </tr>\n",
       "    <tr>\n",
       "      <th>12350</th>\n",
       "      <td>USAZUH1</td>\n",
       "      <td>1081.959619</td>\n",
       "    </tr>\n",
       "    <tr>\n",
       "      <th>12358</th>\n",
       "      <td>USAZV51</td>\n",
       "      <td>5394.083098</td>\n",
       "    </tr>\n",
       "    <tr>\n",
       "      <th>12380</th>\n",
       "      <td>USAZWU1</td>\n",
       "      <td>765.831263</td>\n",
       "    </tr>\n",
       "    <tr>\n",
       "      <th>12391</th>\n",
       "      <td>USAZXI1</td>\n",
       "      <td>512.365086</td>\n",
       "    </tr>\n",
       "    <tr>\n",
       "      <th>12422</th>\n",
       "      <td>USAZZ81</td>\n",
       "      <td>528.853381</td>\n",
       "    </tr>\n",
       "  </tbody>\n",
       "</table>\n",
       "<p>2265 rows × 2 columns</p>\n",
       "</div>"
      ],
      "text/plain": [
       "        Barrid        h.opt\n",
       "0      USA0001    -4.096832\n",
       "1      USA0011   -22.209625\n",
       "2      USA0031     1.530735\n",
       "3      USA0062    -5.747743\n",
       "4      USA00E2     6.823530\n",
       "5      USA00F1    -5.710422\n",
       "6      USA00G2     7.622006\n",
       "7      USA00H1     4.822573\n",
       "8      USA00I1    -9.646374\n",
       "9      USA00J1    -3.177720\n",
       "10     USA00K1    -7.853150\n",
       "11     USA00P1     1.484717\n",
       "12     USA00R1    -3.245538\n",
       "13     USA00S1     0.689004\n",
       "14     USA00V1    -4.734765\n",
       "15     USA0131   -11.267658\n",
       "16     USA0161    -7.187591\n",
       "17     USA01I1     2.193364\n",
       "18     USA01J2    -6.893639\n",
       "19     USA01L1    -1.082148\n",
       "20     USA01P1    -0.089999\n",
       "21     USA01Q1    -4.277018\n",
       "22     USA0202    13.547363\n",
       "23     USA0231    -4.546447\n",
       "24     USA0281    -5.340732\n",
       "25     USA0291    14.631298\n",
       "26     USA02A1     2.257747\n",
       "27     USA02B1    -8.418235\n",
       "28     USA02H1     0.477050\n",
       "29     USA02P1    -4.866049\n",
       "...        ...          ...\n",
       "12083  USAZGN1 -1601.020469\n",
       "12106  USAZHT1    90.986937\n",
       "12129  USAZJ11    42.721298\n",
       "12138  USAZJH1 -1588.509584\n",
       "12152  USAZK61   737.953103\n",
       "12160  USAZKM1  4541.908274\n",
       "12167  USAZKZ1  3362.280832\n",
       "12188  USAZM61  1138.659001\n",
       "12198  USAZMU1   -30.144500\n",
       "12229  USAZOE1 -8457.397546\n",
       "12250  USAZPE1 -3717.456969\n",
       "12251  USAZPF1   743.839821\n",
       "12270  USAZQD1 -7305.309718\n",
       "12276  USAZQK1  1394.786860\n",
       "12277  USAZQN1  2226.756774\n",
       "12292  USAZRB1  2359.501715\n",
       "12294  USAZRD1   110.406532\n",
       "12296  USAZRG1 -2094.231555\n",
       "12297  USAZRK1 -2502.143621\n",
       "12300  USAZRU1  -437.064624\n",
       "12303  USAZRY1  -411.420693\n",
       "12306  USAZS21   349.636853\n",
       "12310  USAZS81  2719.843266\n",
       "12328  USAZTI1   -13.554183\n",
       "12347  USAZUA1   453.865736\n",
       "12350  USAZUH1  1081.959619\n",
       "12358  USAZV51  5394.083098\n",
       "12380  USAZWU1   765.831263\n",
       "12391  USAZXI1   512.365086\n",
       "12422  USAZZ81   528.853381\n",
       "\n",
       "[2265 rows x 2 columns]"
      ]
     },
     "execution_count": 43,
     "metadata": {},
     "output_type": "execute_result"
    }
   ],
   "source": [
    "opt_portfolio = pd.DataFrame(data = {\"Barrid\" : universe['Barrid'], \"h.opt\" : h_star})\n",
    "\n",
    "opt_portfolio"
   ]
  },
  {
   "cell_type": "markdown",
   "metadata": {},
   "source": [
    "## Risk Exposures (TODO)\n",
    "\n",
    "We can also use `h_star` to calculate our portfolio's risk and alpha exposures.\n",
    "\n",
    "In the cells below implement the functions `get_risk_exposures` and `get_portfolio_alpha_exposure` that calculate the portfolio's risk and alpha exposures, respectively."
   ]
  },
  {
   "cell_type": "code",
   "execution_count": 44,
   "metadata": {},
   "outputs": [
    {
     "data": {
      "text/plain": [
       "USFASTD_AERODEF      -4082.295786\n",
       "USFASTD_AIRLINES      -899.979138\n",
       "USFASTD_ALUMSTEL     -5778.290394\n",
       "USFASTD_APPAREL       3248.092562\n",
       "USFASTD_AUTO          3164.876780\n",
       "USFASTD_BANKS        17935.823742\n",
       "USFASTD_BETA         -5723.704570\n",
       "USFASTD_BEVTOB       -8723.590843\n",
       "USFASTD_BIOLIFE      -7268.030675\n",
       "USFASTD_BLDGPROD     -1748.074234\n",
       "USFASTD_CHEM        -12210.851834\n",
       "USFASTD_CNSTENG       1459.818326\n",
       "USFASTD_CNSTMACH       690.532365\n",
       "USFASTD_CNSTMATL      2679.814873\n",
       "USFASTD_COMMEQP      -1245.083808\n",
       "USFASTD_COMPELEC     -1975.555103\n",
       "USFASTD_COMSVCS     -21345.867200\n",
       "USFASTD_CONGLOM      -1948.769302\n",
       "USFASTD_CONTAINR     -5420.863643\n",
       "USFASTD_DISTRIB       5886.239105\n",
       "USFASTD_DIVFIN        8708.558396\n",
       "USFASTD_DIVYILD        484.571786\n",
       "USFASTD_DWNRISK      15448.067981\n",
       "USFASTD_EARNQLTY   -136803.600645\n",
       "USFASTD_ELECEQP      -8248.372021\n",
       "USFASTD_ELECUTIL      9487.549363\n",
       "USFASTD_FOODPROD     -4461.220204\n",
       "USFASTD_FOODRET       3186.839570\n",
       "USFASTD_GASUTIL       7201.553045\n",
       "USFASTD_GROWTH     -135368.713212\n",
       "                        ...      \n",
       "USFASTD_MIDCAP       53877.984608\n",
       "USFASTD_MOMENTUM    -48453.858789\n",
       "USFASTD_MULTUTIL     -2086.692043\n",
       "USFASTD_OILGSCON      5182.695808\n",
       "USFASTD_OILGSDRL     -1463.885161\n",
       "USFASTD_OILGSEQP     -1431.964359\n",
       "USFASTD_OILGSEXP      5529.450291\n",
       "USFASTD_PAPER         -314.355489\n",
       "USFASTD_PHARMA       -3699.407711\n",
       "USFASTD_PRECMTLS     -2775.802629\n",
       "USFASTD_PROFIT     -100552.985474\n",
       "USFASTD_PROSPECT     52162.256872\n",
       "USFASTD_PSNLPROD    -16114.583369\n",
       "USFASTD_REALEST     -14474.307411\n",
       "USFASTD_RESTAUR      -1074.234349\n",
       "USFASTD_RESVOL      -25922.296368\n",
       "USFASTD_ROADRAIL     11847.453844\n",
       "USFASTD_SEASON       55919.320247\n",
       "USFASTD_SEMICOND      -299.440651\n",
       "USFASTD_SEMIEQP        896.541970\n",
       "USFASTD_SIZE         -5490.317625\n",
       "USFASTD_SOFTWARE     -6470.043589\n",
       "USFASTD_SPLTYRET      2745.084026\n",
       "USFASTD_SPTYCHEM    -11065.375793\n",
       "USFASTD_SPTYSTOR     10757.201403\n",
       "USFASTD_STREVRSL     43331.073825\n",
       "USFASTD_TELECOM       1553.297326\n",
       "USFASTD_TRADECO      -5912.139954\n",
       "USFASTD_TRANSPRT     -1374.279517\n",
       "USFASTD_WIRELESS      4602.122105\n",
       "Length: 77, dtype: float64"
      ]
     },
     "execution_count": 44,
     "metadata": {},
     "output_type": "execute_result"
    }
   ],
   "source": [
    "def get_risk_exposures(B, BT, h_star):\n",
    "    \"\"\"\n",
    "    Calculate portfolio's Risk Exposure\n",
    "\n",
    "    Parameters\n",
    "    ----------\n",
    "    B : patsy.design_info.DesignMatrix \n",
    "        Matrix of Risk Factors\n",
    "        \n",
    "    BT : patsy.design_info.DesignMatrix \n",
    "        Transpose of Matrix of Risk Factors\n",
    "        \n",
    "    h_star: Numpy ndarray \n",
    "        optimized holdings\n",
    "        \n",
    "    Returns\n",
    "    -------\n",
    "    risk_exposures : Pandas Series\n",
    "        Risk Exposures\n",
    "    \"\"\"\n",
    "    # DONE: Implement\n",
    "\n",
    "    \"\"\"\n",
    "    Calculate the portfolio's risk exposures by multiplying the transpose of the risk factor\n",
    "    matrix (BT) by the optimized holdings vector (h_star). This operation projects the portfolio's\n",
    "    holdings onto the risk factors to determine the portfolio's exposure to each factor.\n",
    "\n",
    "    Returns\n",
    "    -------\n",
    "    pandas.Series\n",
    "        A series where the index corresponds to the risk factors and the values represent the portfolio's\n",
    "        exposure to each risk factor.\n",
    "\n",
    "    References\n",
    "    ----------\n",
    "    - NumPy for matrix operations: https://numpy.org/doc/stable/reference/\n",
    "    - Pandas Series documentation: https://pandas.pydata.org/pandas-docs/stable/reference/api/pandas.Series.html\n",
    "\n",
    "    \"\"\"\n",
    "\n",
    "    # Perform the matrix multiplication to calculate risk exposures\n",
    "    risk_exposure_values = np.matmul(BT, h_star)\n",
    "    \n",
    "    # Convert the resulting vector into a pandas Series with risk factors as index\n",
    "    risk_exposures = pd.Series(risk_exposure_values, index=colnames(B))\n",
    "\n",
    "    return risk_exposures\n",
    "\n",
    "risk_exposures = get_risk_exposures(B, BT, h_star)\n",
    "\n",
    "\n",
    "risk_exposures"
   ]
  },
  {
   "cell_type": "code",
   "execution_count": 45,
   "metadata": {},
   "outputs": [
    {
     "data": {
      "text/plain": [
       "USFASTD_1DREVRSL    2.258736e+06\n",
       "USFASTD_EARNYILD    1.752850e+06\n",
       "USFASTD_VALUE       2.254451e+06\n",
       "USFASTD_SENTMT      1.271108e+06\n",
       "dtype: float64"
      ]
     },
     "execution_count": 45,
     "metadata": {},
     "output_type": "execute_result"
    }
   ],
   "source": [
    "def get_portfolio_alpha_exposure(B_alpha, h_star):\n",
    "    \"\"\"\n",
    "    Calculate portfolio's Alpha Exposure\n",
    "\n",
    "    Parameters\n",
    "    ----------\n",
    "    B_alpha : patsy.design_info.DesignMatrix \n",
    "        Matrix of Alpha Factors\n",
    "        \n",
    "    h_star: Numpy ndarray \n",
    "        optimized holdings\n",
    "        \n",
    "    Returns\n",
    "    -------\n",
    "    alpha_exposures : Pandas Series\n",
    "        Alpha Exposures\n",
    "    \"\"\"\n",
    "    \n",
    "    # DONE: Implement\n",
    "        \n",
    "    # Calculate alpha exposures as the dot product of factor matrix and holdings\n",
    "    alpha_exposures = np.matmul(B_alpha.transpose(), h_star)\n",
    "    \n",
    "    # Convert the result into a Pandas Series for better readability and indexing\n",
    "    try:\n",
    "        # Assuming B_alpha is a Patsy DesignMatrix with column names\n",
    "        alpha_exposures = pd.Series(alpha_exposures, index=B_alpha.design_info.column_names)\n",
    "    except AttributeError:\n",
    "        # Fallback if B_alpha does not have design_info attribute, e.g., if it's an ndarray\n",
    "        alpha_exposures = pd.Series(alpha_exposures)\n",
    "    \n",
    "    return alpha_exposures\n",
    "\n",
    "portfolio_alpha_exposure = get_portfolio_alpha_exposure(B_alpha, h_star)\n",
    "\n",
    "portfolio_alpha_exposure"
   ]
  },
  {
   "cell_type": "markdown",
   "metadata": {},
   "source": [
    "## Transaction Costs (TODO)\n",
    "\n",
    "We can also use `h_star` to calculate our total transaction costs:\n",
    "$$\n",
    "\\mbox{tcost} = \\sum_i^{N} \\lambda_{i} (h_{i,t} - h_{i,t-1})^2\n",
    "$$\n",
    "\n",
    "In the cell below, implement the function `get_total_transaction_costs` that calculates the total transaction costs according to the equation above:"
   ]
  },
  {
   "cell_type": "code",
   "execution_count": 46,
   "metadata": {},
   "outputs": [
    {
     "data": {
      "text/plain": [
       "104.82993501072761"
      ]
     },
     "execution_count": 46,
     "metadata": {},
     "output_type": "execute_result"
    }
   ],
   "source": [
    "def get_total_transaction_costs(h0, h_star, Lambda):\n",
    "    \"\"\"\n",
    "    Calculate Total Transaction Costs\n",
    "\n",
    "    Parameters\n",
    "    ----------\n",
    "    h0 : Pandas Series\n",
    "        initial holdings (before optimization)\n",
    "        \n",
    "    h_star: Numpy ndarray \n",
    "        optimized holdings\n",
    "        \n",
    "    Lambda : Pandas Series  \n",
    "        Lambda\n",
    "        \n",
    "    Returns\n",
    "    -------\n",
    "    total_transaction_costs : float\n",
    "        Total Transaction Costs\n",
    "    \"\"\"\n",
    "    \n",
    "    # Done: Implement\n",
    "    \"\"\"\n",
    "    Calculate the total transaction costs incurred from adjusting the portfolio from initial holdings (h0) to\n",
    "    optimized holdings (h_star), given a cost coefficient (Lambda). This implementation assumes quadratic transaction\n",
    "    costs as commonly used in portfolio optimization models.\n",
    "\n",
    " \n",
    "    Notes\n",
    "    -----\n",
    "    - Ensure that h0, h_star, and Lambda are aligned and have the same indices/assets.\n",
    "    - This function assumes that the transaction costs increase quadratically with the size of the trade.\n",
    "\n",
    "    \"\"\"\n",
    "    # Validate input types and alignment\n",
    "    if not isinstance(h0, pd.Series) or not isinstance(Lambda, pd.Series):\n",
    "        raise ValueError(\"h0 and Lambda must be Pandas Series.\")\n",
    "    if isinstance(h_star, np.ndarray):\n",
    "        h_star = pd.Series(h_star, index=h0.index)  # Convert numpy array to Series for alignment\n",
    "    elif not isinstance(h_star, pd.Series):\n",
    "        raise ValueError(\"h_star must be a Numpy ndarray or a Pandas Series.\")\n",
    "    \n",
    "    # Check for index alignment\n",
    "    if not h0.index.equals(Lambda.index) or not h0.index.equals(h_star.index):\n",
    "        raise ValueError(\"Indices of h0, h_star, and Lambda must match.\")\n",
    "    \n",
    "    # Calculate total transaction costs\n",
    "    total_transaction_costs = np.dot((h_star - h0)**2, Lambda)\n",
    "    \n",
    "    return total_transaction_costs    \n",
    "    \n",
    "    \n",
    "\n",
    "total_transaction_costs = get_total_transaction_costs(h0, h_star, Lambda)\n",
    "\n",
    "\n",
    "total_transaction_costs"
   ]
  },
  {
   "cell_type": "markdown",
   "metadata": {},
   "source": [
    "## Putting It All Together\n",
    "\n",
    "We can now take all the above functions we created above and use them to create a single function, `form_optimal_portfolio` that returns the optimal portfolio, the risk and alpha exposures, and the total transactions costs."
   ]
  },
  {
   "cell_type": "code",
   "execution_count": 47,
   "metadata": {},
   "outputs": [],
   "source": [
    "def form_optimal_portfolio(df, previous, risk_aversion):\n",
    "    df = df.merge(previous, how = 'left', on = 'Barrid')\n",
    "    df = clean_nas(df)\n",
    "    df.loc[df['SpecRisk'] == 0]['SpecRisk'] = median(df['SpecRisk'])\n",
    "  \n",
    "    universe = get_universe(df)\n",
    "    date = str(int(universe['DataDate'][1]))\n",
    "  \n",
    "    all_factors = factors_from_names(list(universe))\n",
    "    risk_factors = setdiff(all_factors, alpha_factors)\n",
    "  \n",
    "    h0 = universe['h.opt.previous']\n",
    "  \n",
    "    B = model_matrix(get_formula(risk_factors, \"SpecRisk\"), universe)\n",
    "    BT = B.transpose()\n",
    "  \n",
    "    specVar = (0.01 * universe['SpecRisk']) ** 2\n",
    "    Fvar = diagonal_factor_cov(date, B)\n",
    "    \n",
    "    Lambda = get_lambda(universe)\n",
    "    B_alpha = get_B_alpha(alpha_factors, universe)\n",
    "    alpha_vec = get_alpha_vec(B_alpha)\n",
    "  \n",
    "    Q = np.matmul(scipy.linalg.sqrtm(Fvar), BT)\n",
    "    QT = Q.transpose()\n",
    "    \n",
    "    h_star = get_h_star(risk_aversion, Q, QT, specVar, alpha_vec, h0, Lambda)\n",
    "    opt_portfolio = pd.DataFrame(data = {\"Barrid\" : universe['Barrid'], \"h.opt\" : h_star})\n",
    "    \n",
    "    risk_exposures = get_risk_exposures(B, BT, h_star)\n",
    "    portfolio_alpha_exposure = get_portfolio_alpha_exposure(B_alpha, h_star)\n",
    "    total_transaction_costs = get_total_transaction_costs(h0, h_star, Lambda)\n",
    "  \n",
    "    return {\n",
    "        \"opt.portfolio\" : opt_portfolio, \n",
    "        \"risk.exposures\" : risk_exposures, \n",
    "        \"alpha.exposures\" : portfolio_alpha_exposure,\n",
    "        \"total.cost\" : total_transaction_costs}"
   ]
  },
  {
   "cell_type": "markdown",
   "metadata": {},
   "source": [
    "## Build tradelist\n",
    "\n",
    "The trade list is the most recent optimal asset holdings minus the previous day's optimal holdings."
   ]
  },
  {
   "cell_type": "code",
   "execution_count": 48,
   "metadata": {},
   "outputs": [],
   "source": [
    "def build_tradelist(prev_holdings, opt_result):\n",
    "    tmp = prev_holdings.merge(opt_result['opt.portfolio'], how='outer', on = 'Barrid')\n",
    "    tmp['h.opt.previous'] = np.nan_to_num(tmp['h.opt.previous'])\n",
    "    tmp['h.opt'] = np.nan_to_num(tmp['h.opt'])\n",
    "    return tmp"
   ]
  },
  {
   "cell_type": "markdown",
   "metadata": {},
   "source": [
    "## Save optimal holdings as previous optimal holdings.\n",
    "\n",
    "As we walk through each day, we'll re-use the column for previous holdings by storing the \"current\" optimal holdings as the \"previous\" optimal holdings."
   ]
  },
  {
   "cell_type": "code",
   "execution_count": 49,
   "metadata": {},
   "outputs": [],
   "source": [
    "def convert_to_previous(result): \n",
    "    prev = result['opt.portfolio']\n",
    "    prev = prev.rename(index=str, columns={\"h.opt\": \"h.opt.previous\"}, copy=True, inplace=False)\n",
    "    return prev"
   ]
  },
  {
   "cell_type": "markdown",
   "metadata": {},
   "source": [
    "## Run the backtest\n",
    "\n",
    "Walk through each day, calculating the optimal portfolio holdings and trade list.  This may take some time, but should finish sooner if you've chosen all the optimizations you learned in the lessons."
   ]
  },
  {
   "cell_type": "code",
   "execution_count": 50,
   "metadata": {},
   "outputs": [
    {
     "name": "stderr",
     "output_type": "stream",
     "text": [
      "\r",
      "Optimizing Portfolio:   0%|          | 0/252 [00:00<?, ?day/s]"
     ]
    },
    {
     "name": "stdout",
     "output_type": "stream",
     "text": [
      "Checking for required columns in the DataFrame...\n",
      "All required columns are present.\n",
      "Applying filters to create the stock universe...\n",
      "Selected 2265 stocks based on filters.\n",
      "Removing 'DlyReturn' column to prevent look-ahead bias...\n",
      "Stock universe is ready.\n",
      "Generated formula: SpecRisk ~ 0 + USFASTD_1DREVRSL + USFASTD_EARNYILD + USFASTD_VALUE + USFASTD_SENTMT\n",
      "Summed alpha vector shape: (2265,)\n",
      "h0 type: <class 'numpy.ndarray'>, shape: (2265,)\n",
      "specVar type: <class 'numpy.ndarray'>, shape: (2265,)\n",
      "alpha_vec type: <class 'numpy.ndarray'>, shape: (2265,)\n",
      "Lambda type: <class 'numpy.ndarray'>, shape: (2265,)\n",
      "Optimization completed with status: b'CONVERGENCE: REL_REDUCTION_OF_F_<=_FACTR*EPSMCH'\n"
     ]
    },
    {
     "name": "stderr",
     "output_type": "stream",
     "text": [
      "\r",
      "Optimizing Portfolio:   0%|          | 1/252 [00:19<1:20:34, 19.26s/day]"
     ]
    },
    {
     "name": "stdout",
     "output_type": "stream",
     "text": [
      "Checking for required columns in the DataFrame...\n",
      "All required columns are present.\n",
      "Applying filters to create the stock universe...\n",
      "Selected 2285 stocks based on filters.\n",
      "Removing 'DlyReturn' column to prevent look-ahead bias...\n",
      "Stock universe is ready.\n",
      "Generated formula: SpecRisk ~ 0 + USFASTD_1DREVRSL + USFASTD_EARNYILD + USFASTD_VALUE + USFASTD_SENTMT\n",
      "Summed alpha vector shape: (2285,)\n",
      "h0 type: <class 'numpy.ndarray'>, shape: (2285,)\n",
      "specVar type: <class 'numpy.ndarray'>, shape: (2285,)\n",
      "alpha_vec type: <class 'numpy.ndarray'>, shape: (2285,)\n",
      "Lambda type: <class 'numpy.ndarray'>, shape: (2285,)\n"
     ]
    },
    {
     "name": "stderr",
     "output_type": "stream",
     "text": [
      "\r",
      "Optimizing Portfolio:   1%|          | 2/252 [00:42<1:27:37, 21.03s/day]"
     ]
    },
    {
     "name": "stdout",
     "output_type": "stream",
     "text": [
      "Optimization completed with status: b'CONVERGENCE: REL_REDUCTION_OF_F_<=_FACTR*EPSMCH'\n",
      "Checking for required columns in the DataFrame...\n",
      "All required columns are present.\n",
      "Applying filters to create the stock universe...\n",
      "Selected 2294 stocks based on filters.\n",
      "Removing 'DlyReturn' column to prevent look-ahead bias...\n",
      "Stock universe is ready.\n",
      "Generated formula: SpecRisk ~ 0 + USFASTD_1DREVRSL + USFASTD_EARNYILD + USFASTD_VALUE + USFASTD_SENTMT\n",
      "Summed alpha vector shape: (2294,)\n",
      "h0 type: <class 'numpy.ndarray'>, shape: (2294,)\n",
      "specVar type: <class 'numpy.ndarray'>, shape: (2294,)\n",
      "alpha_vec type: <class 'numpy.ndarray'>, shape: (2294,)\n",
      "Lambda type: <class 'numpy.ndarray'>, shape: (2294,)\n",
      "Optimization completed with status: b'CONVERGENCE: REL_REDUCTION_OF_F_<=_FACTR*EPSMCH'\n"
     ]
    },
    {
     "name": "stderr",
     "output_type": "stream",
     "text": [
      "\r",
      "Optimizing Portfolio:   1%|          | 3/252 [01:16<1:45:12, 25.35s/day]"
     ]
    },
    {
     "name": "stdout",
     "output_type": "stream",
     "text": [
      "Checking for required columns in the DataFrame...\n",
      "All required columns are present.\n",
      "Applying filters to create the stock universe...\n",
      "Selected 2301 stocks based on filters.\n",
      "Removing 'DlyReturn' column to prevent look-ahead bias...\n",
      "Stock universe is ready.\n",
      "Generated formula: SpecRisk ~ 0 + USFASTD_1DREVRSL + USFASTD_EARNYILD + USFASTD_VALUE + USFASTD_SENTMT\n",
      "Summed alpha vector shape: (2301,)\n",
      "h0 type: <class 'numpy.ndarray'>, shape: (2301,)\n",
      "specVar type: <class 'numpy.ndarray'>, shape: (2301,)\n",
      "alpha_vec type: <class 'numpy.ndarray'>, shape: (2301,)\n",
      "Lambda type: <class 'numpy.ndarray'>, shape: (2301,)\n",
      "Optimization completed with status: b'CONVERGENCE: NORM_OF_PROJECTED_GRADIENT_<=_PGTOL'\n"
     ]
    },
    {
     "name": "stderr",
     "output_type": "stream",
     "text": [
      "\r",
      "Optimizing Portfolio:   2%|▏         | 4/252 [01:47<1:50:55, 26.84s/day]"
     ]
    },
    {
     "name": "stdout",
     "output_type": "stream",
     "text": [
      "Checking for required columns in the DataFrame...\n",
      "All required columns are present.\n",
      "Applying filters to create the stock universe...\n",
      "Selected 2308 stocks based on filters.\n",
      "Removing 'DlyReturn' column to prevent look-ahead bias...\n",
      "Stock universe is ready.\n",
      "Generated formula: SpecRisk ~ 0 + USFASTD_1DREVRSL + USFASTD_EARNYILD + USFASTD_VALUE + USFASTD_SENTMT\n",
      "Summed alpha vector shape: (2308,)\n",
      "h0 type: <class 'numpy.ndarray'>, shape: (2308,)\n",
      "specVar type: <class 'numpy.ndarray'>, shape: (2308,)\n",
      "alpha_vec type: <class 'numpy.ndarray'>, shape: (2308,)\n",
      "Lambda type: <class 'numpy.ndarray'>, shape: (2308,)\n",
      "Optimization completed with status: b'CONVERGENCE: REL_REDUCTION_OF_F_<=_FACTR*EPSMCH'\n"
     ]
    },
    {
     "name": "stderr",
     "output_type": "stream",
     "text": [
      "\r",
      "Optimizing Portfolio:   2%|▏         | 5/252 [02:04<1:42:13, 24.83s/day]"
     ]
    },
    {
     "name": "stdout",
     "output_type": "stream",
     "text": [
      "Checking for required columns in the DataFrame...\n",
      "All required columns are present.\n",
      "Applying filters to create the stock universe...\n",
      "Selected 2315 stocks based on filters.\n",
      "Removing 'DlyReturn' column to prevent look-ahead bias...\n",
      "Stock universe is ready.\n",
      "Generated formula: SpecRisk ~ 0 + USFASTD_1DREVRSL + USFASTD_EARNYILD + USFASTD_VALUE + USFASTD_SENTMT\n",
      "Summed alpha vector shape: (2315,)\n",
      "h0 type: <class 'numpy.ndarray'>, shape: (2315,)\n",
      "specVar type: <class 'numpy.ndarray'>, shape: (2315,)\n",
      "alpha_vec type: <class 'numpy.ndarray'>, shape: (2315,)\n",
      "Lambda type: <class 'numpy.ndarray'>, shape: (2315,)\n",
      "Optimization completed with status: b'CONVERGENCE: NORM_OF_PROJECTED_GRADIENT_<=_PGTOL'\n"
     ]
    },
    {
     "name": "stderr",
     "output_type": "stream",
     "text": [
      "\r",
      "Optimizing Portfolio:   2%|▏         | 6/252 [02:28<1:41:26, 24.74s/day]"
     ]
    },
    {
     "name": "stdout",
     "output_type": "stream",
     "text": [
      "Checking for required columns in the DataFrame...\n",
      "All required columns are present.\n",
      "Applying filters to create the stock universe...\n",
      "Selected 2324 stocks based on filters.\n",
      "Removing 'DlyReturn' column to prevent look-ahead bias...\n",
      "Stock universe is ready.\n",
      "Generated formula: SpecRisk ~ 0 + USFASTD_1DREVRSL + USFASTD_EARNYILD + USFASTD_VALUE + USFASTD_SENTMT\n",
      "Summed alpha vector shape: (2324,)\n",
      "h0 type: <class 'numpy.ndarray'>, shape: (2324,)\n",
      "specVar type: <class 'numpy.ndarray'>, shape: (2324,)\n",
      "alpha_vec type: <class 'numpy.ndarray'>, shape: (2324,)\n",
      "Lambda type: <class 'numpy.ndarray'>, shape: (2324,)\n",
      "Optimization completed with status: b'CONVERGENCE: NORM_OF_PROJECTED_GRADIENT_<=_PGTOL'\n"
     ]
    },
    {
     "name": "stderr",
     "output_type": "stream",
     "text": [
      "\r",
      "Optimizing Portfolio:   3%|▎         | 7/252 [02:50<1:39:36, 24.39s/day]"
     ]
    },
    {
     "name": "stdout",
     "output_type": "stream",
     "text": [
      "Checking for required columns in the DataFrame...\n",
      "All required columns are present.\n",
      "Applying filters to create the stock universe...\n",
      "Selected 2328 stocks based on filters.\n",
      "Removing 'DlyReturn' column to prevent look-ahead bias...\n",
      "Stock universe is ready.\n",
      "Generated formula: SpecRisk ~ 0 + USFASTD_1DREVRSL + USFASTD_EARNYILD + USFASTD_VALUE + USFASTD_SENTMT\n",
      "Summed alpha vector shape: (2328,)\n",
      "h0 type: <class 'numpy.ndarray'>, shape: (2328,)\n",
      "specVar type: <class 'numpy.ndarray'>, shape: (2328,)\n",
      "alpha_vec type: <class 'numpy.ndarray'>, shape: (2328,)\n",
      "Lambda type: <class 'numpy.ndarray'>, shape: (2328,)\n",
      "Optimization completed with status: b'CONVERGENCE: NORM_OF_PROJECTED_GRADIENT_<=_PGTOL'\n"
     ]
    },
    {
     "name": "stderr",
     "output_type": "stream",
     "text": [
      "\r",
      "Optimizing Portfolio:   3%|▎         | 8/252 [03:06<1:34:43, 23.29s/day]"
     ]
    },
    {
     "name": "stdout",
     "output_type": "stream",
     "text": [
      "Checking for required columns in the DataFrame...\n",
      "All required columns are present.\n",
      "Applying filters to create the stock universe...\n",
      "Selected 2330 stocks based on filters.\n",
      "Removing 'DlyReturn' column to prevent look-ahead bias...\n",
      "Stock universe is ready.\n",
      "Generated formula: SpecRisk ~ 0 + USFASTD_1DREVRSL + USFASTD_EARNYILD + USFASTD_VALUE + USFASTD_SENTMT\n",
      "Summed alpha vector shape: (2330,)\n",
      "h0 type: <class 'numpy.ndarray'>, shape: (2330,)\n",
      "specVar type: <class 'numpy.ndarray'>, shape: (2330,)\n",
      "alpha_vec type: <class 'numpy.ndarray'>, shape: (2330,)\n",
      "Lambda type: <class 'numpy.ndarray'>, shape: (2330,)\n",
      "Optimization completed with status: b'CONVERGENCE: REL_REDUCTION_OF_F_<=_FACTR*EPSMCH'\n"
     ]
    },
    {
     "name": "stderr",
     "output_type": "stream",
     "text": [
      "\r",
      "Optimizing Portfolio:   4%|▎         | 9/252 [03:18<1:29:29, 22.09s/day]"
     ]
    },
    {
     "name": "stdout",
     "output_type": "stream",
     "text": [
      "Checking for required columns in the DataFrame...\n",
      "All required columns are present.\n",
      "Applying filters to create the stock universe...\n",
      "Selected 2332 stocks based on filters.\n",
      "Removing 'DlyReturn' column to prevent look-ahead bias...\n",
      "Stock universe is ready.\n",
      "Generated formula: SpecRisk ~ 0 + USFASTD_1DREVRSL + USFASTD_EARNYILD + USFASTD_VALUE + USFASTD_SENTMT\n",
      "Summed alpha vector shape: (2332,)\n",
      "h0 type: <class 'numpy.ndarray'>, shape: (2332,)\n",
      "specVar type: <class 'numpy.ndarray'>, shape: (2332,)\n",
      "alpha_vec type: <class 'numpy.ndarray'>, shape: (2332,)\n",
      "Lambda type: <class 'numpy.ndarray'>, shape: (2332,)\n",
      "Optimization completed with status: b'CONVERGENCE: NORM_OF_PROJECTED_GRADIENT_<=_PGTOL'\n"
     ]
    },
    {
     "name": "stderr",
     "output_type": "stream",
     "text": [
      "\r",
      "Optimizing Portfolio:   4%|▍         | 10/252 [03:45<1:30:48, 22.52s/day]"
     ]
    },
    {
     "name": "stdout",
     "output_type": "stream",
     "text": [
      "Checking for required columns in the DataFrame...\n",
      "All required columns are present.\n",
      "Applying filters to create the stock universe...\n",
      "Selected 2341 stocks based on filters.\n",
      "Removing 'DlyReturn' column to prevent look-ahead bias...\n",
      "Stock universe is ready.\n",
      "Generated formula: SpecRisk ~ 0 + USFASTD_1DREVRSL + USFASTD_EARNYILD + USFASTD_VALUE + USFASTD_SENTMT\n",
      "Summed alpha vector shape: (2341,)\n",
      "h0 type: <class 'numpy.ndarray'>, shape: (2341,)\n",
      "specVar type: <class 'numpy.ndarray'>, shape: (2341,)\n",
      "alpha_vec type: <class 'numpy.ndarray'>, shape: (2341,)\n",
      "Lambda type: <class 'numpy.ndarray'>, shape: (2341,)\n",
      "Optimization completed with status: b'CONVERGENCE: REL_REDUCTION_OF_F_<=_FACTR*EPSMCH'\n"
     ]
    },
    {
     "name": "stderr",
     "output_type": "stream",
     "text": [
      "\r",
      "Optimizing Portfolio:   4%|▍         | 11/252 [04:02<1:28:23, 22.00s/day]"
     ]
    },
    {
     "name": "stdout",
     "output_type": "stream",
     "text": [
      "Checking for required columns in the DataFrame...\n",
      "All required columns are present.\n",
      "Applying filters to create the stock universe...\n",
      "Selected 2357 stocks based on filters.\n",
      "Removing 'DlyReturn' column to prevent look-ahead bias...\n",
      "Stock universe is ready.\n",
      "Generated formula: SpecRisk ~ 0 + USFASTD_1DREVRSL + USFASTD_EARNYILD + USFASTD_VALUE + USFASTD_SENTMT\n",
      "Summed alpha vector shape: (2357,)\n",
      "h0 type: <class 'numpy.ndarray'>, shape: (2357,)\n",
      "specVar type: <class 'numpy.ndarray'>, shape: (2357,)\n",
      "alpha_vec type: <class 'numpy.ndarray'>, shape: (2357,)\n",
      "Lambda type: <class 'numpy.ndarray'>, shape: (2357,)\n",
      "Optimization completed with status: b'CONVERGENCE: NORM_OF_PROJECTED_GRADIENT_<=_PGTOL'\n"
     ]
    },
    {
     "name": "stderr",
     "output_type": "stream",
     "text": [
      "\r",
      "Optimizing Portfolio:   5%|▍         | 12/252 [04:14<1:24:55, 21.23s/day]"
     ]
    },
    {
     "name": "stdout",
     "output_type": "stream",
     "text": [
      "Checking for required columns in the DataFrame...\n",
      "All required columns are present.\n",
      "Applying filters to create the stock universe...\n",
      "Selected 2361 stocks based on filters.\n",
      "Removing 'DlyReturn' column to prevent look-ahead bias...\n",
      "Stock universe is ready.\n",
      "Generated formula: SpecRisk ~ 0 + USFASTD_1DREVRSL + USFASTD_EARNYILD + USFASTD_VALUE + USFASTD_SENTMT\n",
      "Summed alpha vector shape: (2361,)\n",
      "h0 type: <class 'numpy.ndarray'>, shape: (2361,)\n",
      "specVar type: <class 'numpy.ndarray'>, shape: (2361,)\n",
      "alpha_vec type: <class 'numpy.ndarray'>, shape: (2361,)\n",
      "Lambda type: <class 'numpy.ndarray'>, shape: (2361,)\n",
      "Optimization completed with status: b'CONVERGENCE: NORM_OF_PROJECTED_GRADIENT_<=_PGTOL'\n"
     ]
    },
    {
     "name": "stderr",
     "output_type": "stream",
     "text": [
      "\r",
      "Optimizing Portfolio:   5%|▌         | 13/252 [04:32<1:23:23, 20.94s/day]"
     ]
    },
    {
     "name": "stdout",
     "output_type": "stream",
     "text": [
      "Checking for required columns in the DataFrame...\n",
      "All required columns are present.\n",
      "Applying filters to create the stock universe...\n",
      "Selected 2366 stocks based on filters.\n",
      "Removing 'DlyReturn' column to prevent look-ahead bias...\n",
      "Stock universe is ready.\n",
      "Generated formula: SpecRisk ~ 0 + USFASTD_1DREVRSL + USFASTD_EARNYILD + USFASTD_VALUE + USFASTD_SENTMT\n",
      "Summed alpha vector shape: (2366,)\n",
      "h0 type: <class 'numpy.ndarray'>, shape: (2366,)\n",
      "specVar type: <class 'numpy.ndarray'>, shape: (2366,)\n",
      "alpha_vec type: <class 'numpy.ndarray'>, shape: (2366,)\n",
      "Lambda type: <class 'numpy.ndarray'>, shape: (2366,)\n",
      "Optimization completed with status: b'CONVERGENCE: NORM_OF_PROJECTED_GRADIENT_<=_PGTOL'\n"
     ]
    },
    {
     "name": "stderr",
     "output_type": "stream",
     "text": [
      "\r",
      "Optimizing Portfolio:   6%|▌         | 14/252 [04:42<1:19:54, 20.15s/day]"
     ]
    },
    {
     "name": "stdout",
     "output_type": "stream",
     "text": [
      "Checking for required columns in the DataFrame...\n",
      "All required columns are present.\n",
      "Applying filters to create the stock universe...\n",
      "Selected 2370 stocks based on filters.\n",
      "Removing 'DlyReturn' column to prevent look-ahead bias...\n",
      "Stock universe is ready.\n",
      "Generated formula: SpecRisk ~ 0 + USFASTD_1DREVRSL + USFASTD_EARNYILD + USFASTD_VALUE + USFASTD_SENTMT\n",
      "Summed alpha vector shape: (2370,)\n",
      "h0 type: <class 'numpy.ndarray'>, shape: (2370,)\n",
      "specVar type: <class 'numpy.ndarray'>, shape: (2370,)\n",
      "alpha_vec type: <class 'numpy.ndarray'>, shape: (2370,)\n",
      "Lambda type: <class 'numpy.ndarray'>, shape: (2370,)\n",
      "Optimization completed with status: b'CONVERGENCE: NORM_OF_PROJECTED_GRADIENT_<=_PGTOL'\n"
     ]
    },
    {
     "name": "stderr",
     "output_type": "stream",
     "text": [
      "\r",
      "Optimizing Portfolio:   6%|▌         | 15/252 [04:51<1:16:49, 19.45s/day]"
     ]
    },
    {
     "name": "stdout",
     "output_type": "stream",
     "text": [
      "Checking for required columns in the DataFrame...\n",
      "All required columns are present.\n",
      "Applying filters to create the stock universe...\n",
      "Selected 2374 stocks based on filters.\n",
      "Removing 'DlyReturn' column to prevent look-ahead bias...\n",
      "Stock universe is ready.\n",
      "Generated formula: SpecRisk ~ 0 + USFASTD_1DREVRSL + USFASTD_EARNYILD + USFASTD_VALUE + USFASTD_SENTMT\n",
      "Summed alpha vector shape: (2374,)\n",
      "h0 type: <class 'numpy.ndarray'>, shape: (2374,)\n",
      "specVar type: <class 'numpy.ndarray'>, shape: (2374,)\n",
      "alpha_vec type: <class 'numpy.ndarray'>, shape: (2374,)\n",
      "Lambda type: <class 'numpy.ndarray'>, shape: (2374,)\n",
      "Optimization completed with status: b'CONVERGENCE: NORM_OF_PROJECTED_GRADIENT_<=_PGTOL'\n"
     ]
    },
    {
     "name": "stderr",
     "output_type": "stream",
     "text": [
      "\r",
      "Optimizing Portfolio:   6%|▋         | 16/252 [05:02<1:14:27, 18.93s/day]"
     ]
    },
    {
     "name": "stdout",
     "output_type": "stream",
     "text": [
      "Checking for required columns in the DataFrame...\n",
      "All required columns are present.\n",
      "Applying filters to create the stock universe...\n",
      "Selected 2375 stocks based on filters.\n",
      "Removing 'DlyReturn' column to prevent look-ahead bias...\n",
      "Stock universe is ready.\n",
      "Generated formula: SpecRisk ~ 0 + USFASTD_1DREVRSL + USFASTD_EARNYILD + USFASTD_VALUE + USFASTD_SENTMT\n",
      "Summed alpha vector shape: (2375,)\n",
      "h0 type: <class 'numpy.ndarray'>, shape: (2375,)\n",
      "specVar type: <class 'numpy.ndarray'>, shape: (2375,)\n",
      "alpha_vec type: <class 'numpy.ndarray'>, shape: (2375,)\n",
      "Lambda type: <class 'numpy.ndarray'>, shape: (2375,)\n",
      "Optimization completed with status: b'CONVERGENCE: NORM_OF_PROJECTED_GRADIENT_<=_PGTOL'\n"
     ]
    },
    {
     "name": "stderr",
     "output_type": "stream",
     "text": [
      "\r",
      "Optimizing Portfolio:   7%|▋         | 17/252 [05:11<1:11:49, 18.34s/day]"
     ]
    },
    {
     "name": "stdout",
     "output_type": "stream",
     "text": [
      "Checking for required columns in the DataFrame...\n",
      "All required columns are present.\n",
      "Applying filters to create the stock universe...\n",
      "Selected 2374 stocks based on filters.\n",
      "Removing 'DlyReturn' column to prevent look-ahead bias...\n",
      "Stock universe is ready.\n",
      "Generated formula: SpecRisk ~ 0 + USFASTD_1DREVRSL + USFASTD_EARNYILD + USFASTD_VALUE + USFASTD_SENTMT\n",
      "Summed alpha vector shape: (2374,)\n",
      "h0 type: <class 'numpy.ndarray'>, shape: (2374,)\n",
      "specVar type: <class 'numpy.ndarray'>, shape: (2374,)\n",
      "alpha_vec type: <class 'numpy.ndarray'>, shape: (2374,)\n",
      "Lambda type: <class 'numpy.ndarray'>, shape: (2374,)\n",
      "Optimization completed with status: b'CONVERGENCE: NORM_OF_PROJECTED_GRADIENT_<=_PGTOL'\n"
     ]
    },
    {
     "name": "stderr",
     "output_type": "stream",
     "text": [
      "\r",
      "Optimizing Portfolio:   7%|▋         | 18/252 [05:23<1:10:02, 17.96s/day]"
     ]
    },
    {
     "name": "stdout",
     "output_type": "stream",
     "text": [
      "Checking for required columns in the DataFrame...\n",
      "All required columns are present.\n",
      "Applying filters to create the stock universe...\n",
      "Selected 2373 stocks based on filters.\n",
      "Removing 'DlyReturn' column to prevent look-ahead bias...\n",
      "Stock universe is ready.\n",
      "Generated formula: SpecRisk ~ 0 + USFASTD_1DREVRSL + USFASTD_EARNYILD + USFASTD_VALUE + USFASTD_SENTMT\n",
      "Summed alpha vector shape: (2373,)\n",
      "h0 type: <class 'numpy.ndarray'>, shape: (2373,)\n",
      "specVar type: <class 'numpy.ndarray'>, shape: (2373,)\n",
      "alpha_vec type: <class 'numpy.ndarray'>, shape: (2373,)\n",
      "Lambda type: <class 'numpy.ndarray'>, shape: (2373,)\n",
      "Optimization completed with status: b'CONVERGENCE: NORM_OF_PROJECTED_GRADIENT_<=_PGTOL'\n"
     ]
    },
    {
     "name": "stderr",
     "output_type": "stream",
     "text": [
      "\r",
      "Optimizing Portfolio:   8%|▊         | 19/252 [05:34<1:08:17, 17.59s/day]"
     ]
    },
    {
     "name": "stdout",
     "output_type": "stream",
     "text": [
      "Checking for required columns in the DataFrame...\n",
      "All required columns are present.\n",
      "Applying filters to create the stock universe...\n",
      "Selected 2375 stocks based on filters.\n",
      "Removing 'DlyReturn' column to prevent look-ahead bias...\n",
      "Stock universe is ready.\n",
      "Generated formula: SpecRisk ~ 0 + USFASTD_1DREVRSL + USFASTD_EARNYILD + USFASTD_VALUE + USFASTD_SENTMT\n",
      "Summed alpha vector shape: (2375,)\n",
      "h0 type: <class 'numpy.ndarray'>, shape: (2375,)\n",
      "specVar type: <class 'numpy.ndarray'>, shape: (2375,)\n",
      "alpha_vec type: <class 'numpy.ndarray'>, shape: (2375,)\n",
      "Lambda type: <class 'numpy.ndarray'>, shape: (2375,)\n",
      "Optimization completed with status: b'CONVERGENCE: NORM_OF_PROJECTED_GRADIENT_<=_PGTOL'\n"
     ]
    },
    {
     "name": "stderr",
     "output_type": "stream",
     "text": [
      "\r",
      "Optimizing Portfolio:   8%|▊         | 20/252 [05:40<1:05:53, 17.04s/day]"
     ]
    },
    {
     "name": "stdout",
     "output_type": "stream",
     "text": [
      "Checking for required columns in the DataFrame...\n",
      "All required columns are present.\n",
      "Applying filters to create the stock universe...\n",
      "Selected 2377 stocks based on filters.\n",
      "Removing 'DlyReturn' column to prevent look-ahead bias...\n",
      "Stock universe is ready.\n",
      "Generated formula: SpecRisk ~ 0 + USFASTD_1DREVRSL + USFASTD_EARNYILD + USFASTD_VALUE + USFASTD_SENTMT\n",
      "Summed alpha vector shape: (2377,)\n",
      "h0 type: <class 'numpy.ndarray'>, shape: (2377,)\n",
      "specVar type: <class 'numpy.ndarray'>, shape: (2377,)\n",
      "alpha_vec type: <class 'numpy.ndarray'>, shape: (2377,)\n",
      "Lambda type: <class 'numpy.ndarray'>, shape: (2377,)\n",
      "Optimization completed with status: b'CONVERGENCE: NORM_OF_PROJECTED_GRADIENT_<=_PGTOL'\n"
     ]
    },
    {
     "name": "stderr",
     "output_type": "stream",
     "text": [
      "\r",
      "Optimizing Portfolio:   8%|▊         | 21/252 [05:48<1:03:51, 16.59s/day]"
     ]
    },
    {
     "name": "stdout",
     "output_type": "stream",
     "text": [
      "Checking for required columns in the DataFrame...\n",
      "All required columns are present.\n",
      "Applying filters to create the stock universe...\n",
      "Selected 2382 stocks based on filters.\n",
      "Removing 'DlyReturn' column to prevent look-ahead bias...\n",
      "Stock universe is ready.\n",
      "Generated formula: SpecRisk ~ 0 + USFASTD_1DREVRSL + USFASTD_EARNYILD + USFASTD_VALUE + USFASTD_SENTMT\n",
      "Summed alpha vector shape: (2382,)\n",
      "h0 type: <class 'numpy.ndarray'>, shape: (2382,)\n",
      "specVar type: <class 'numpy.ndarray'>, shape: (2382,)\n",
      "alpha_vec type: <class 'numpy.ndarray'>, shape: (2382,)\n",
      "Lambda type: <class 'numpy.ndarray'>, shape: (2382,)\n",
      "Optimization completed with status: b'CONVERGENCE: NORM_OF_PROJECTED_GRADIENT_<=_PGTOL'\n"
     ]
    },
    {
     "name": "stderr",
     "output_type": "stream",
     "text": [
      "\r",
      "Optimizing Portfolio:   9%|▊         | 22/252 [05:54<1:01:45, 16.11s/day]"
     ]
    },
    {
     "name": "stdout",
     "output_type": "stream",
     "text": [
      "Checking for required columns in the DataFrame...\n",
      "All required columns are present.\n",
      "Applying filters to create the stock universe...\n",
      "Selected 2384 stocks based on filters.\n",
      "Removing 'DlyReturn' column to prevent look-ahead bias...\n",
      "Stock universe is ready.\n",
      "Generated formula: SpecRisk ~ 0 + USFASTD_1DREVRSL + USFASTD_EARNYILD + USFASTD_VALUE + USFASTD_SENTMT\n",
      "Summed alpha vector shape: (2384,)\n",
      "h0 type: <class 'numpy.ndarray'>, shape: (2384,)\n",
      "specVar type: <class 'numpy.ndarray'>, shape: (2384,)\n",
      "alpha_vec type: <class 'numpy.ndarray'>, shape: (2384,)\n",
      "Lambda type: <class 'numpy.ndarray'>, shape: (2384,)\n",
      "Optimization completed with status: b'CONVERGENCE: NORM_OF_PROJECTED_GRADIENT_<=_PGTOL'\n"
     ]
    },
    {
     "name": "stderr",
     "output_type": "stream",
     "text": [
      "\r",
      "Optimizing Portfolio:   9%|▉         | 23/252 [06:01<59:58, 15.72s/day]  "
     ]
    },
    {
     "name": "stdout",
     "output_type": "stream",
     "text": [
      "Checking for required columns in the DataFrame...\n",
      "All required columns are present.\n",
      "Applying filters to create the stock universe...\n",
      "Selected 2385 stocks based on filters.\n",
      "Removing 'DlyReturn' column to prevent look-ahead bias...\n",
      "Stock universe is ready.\n",
      "Generated formula: SpecRisk ~ 0 + USFASTD_1DREVRSL + USFASTD_EARNYILD + USFASTD_VALUE + USFASTD_SENTMT\n",
      "Summed alpha vector shape: (2385,)\n",
      "h0 type: <class 'numpy.ndarray'>, shape: (2385,)\n",
      "specVar type: <class 'numpy.ndarray'>, shape: (2385,)\n",
      "alpha_vec type: <class 'numpy.ndarray'>, shape: (2385,)\n",
      "Lambda type: <class 'numpy.ndarray'>, shape: (2385,)\n",
      "Optimization completed with status: b'CONVERGENCE: NORM_OF_PROJECTED_GRADIENT_<=_PGTOL'\n"
     ]
    },
    {
     "name": "stderr",
     "output_type": "stream",
     "text": [
      "\r",
      "Optimizing Portfolio:  10%|▉         | 24/252 [06:12<59:01, 15.53s/day]"
     ]
    },
    {
     "name": "stdout",
     "output_type": "stream",
     "text": [
      "Checking for required columns in the DataFrame...\n",
      "All required columns are present.\n",
      "Applying filters to create the stock universe...\n",
      "Selected 2386 stocks based on filters.\n",
      "Removing 'DlyReturn' column to prevent look-ahead bias...\n",
      "Stock universe is ready.\n",
      "Generated formula: SpecRisk ~ 0 + USFASTD_1DREVRSL + USFASTD_EARNYILD + USFASTD_VALUE + USFASTD_SENTMT\n",
      "Summed alpha vector shape: (2386,)\n",
      "h0 type: <class 'numpy.ndarray'>, shape: (2386,)\n",
      "specVar type: <class 'numpy.ndarray'>, shape: (2386,)\n",
      "alpha_vec type: <class 'numpy.ndarray'>, shape: (2386,)\n",
      "Lambda type: <class 'numpy.ndarray'>, shape: (2386,)\n",
      "Optimization completed with status: b'CONVERGENCE: NORM_OF_PROJECTED_GRADIENT_<=_PGTOL'\n"
     ]
    },
    {
     "name": "stderr",
     "output_type": "stream",
     "text": [
      "\r",
      "Optimizing Portfolio:  10%|▉         | 25/252 [06:22<57:56, 15.31s/day]"
     ]
    },
    {
     "name": "stdout",
     "output_type": "stream",
     "text": [
      "Checking for required columns in the DataFrame...\n",
      "All required columns are present.\n",
      "Applying filters to create the stock universe...\n",
      "Selected 2387 stocks based on filters.\n",
      "Removing 'DlyReturn' column to prevent look-ahead bias...\n",
      "Stock universe is ready.\n",
      "Generated formula: SpecRisk ~ 0 + USFASTD_1DREVRSL + USFASTD_EARNYILD + USFASTD_VALUE + USFASTD_SENTMT\n",
      "Summed alpha vector shape: (2387,)\n",
      "h0 type: <class 'numpy.ndarray'>, shape: (2387,)\n",
      "specVar type: <class 'numpy.ndarray'>, shape: (2387,)\n",
      "alpha_vec type: <class 'numpy.ndarray'>, shape: (2387,)\n",
      "Lambda type: <class 'numpy.ndarray'>, shape: (2387,)\n",
      "Optimization completed with status: b'CONVERGENCE: NORM_OF_PROJECTED_GRADIENT_<=_PGTOL'\n"
     ]
    },
    {
     "name": "stderr",
     "output_type": "stream",
     "text": [
      "\r",
      "Optimizing Portfolio:  10%|█         | 26/252 [06:51<59:34, 15.82s/day]"
     ]
    },
    {
     "name": "stdout",
     "output_type": "stream",
     "text": [
      "Checking for required columns in the DataFrame...\n",
      "All required columns are present.\n",
      "Applying filters to create the stock universe...\n",
      "Selected 2390 stocks based on filters.\n",
      "Removing 'DlyReturn' column to prevent look-ahead bias...\n",
      "Stock universe is ready.\n",
      "Generated formula: SpecRisk ~ 0 + USFASTD_1DREVRSL + USFASTD_EARNYILD + USFASTD_VALUE + USFASTD_SENTMT\n",
      "Summed alpha vector shape: (2390,)\n",
      "h0 type: <class 'numpy.ndarray'>, shape: (2390,)\n",
      "specVar type: <class 'numpy.ndarray'>, shape: (2390,)\n",
      "alpha_vec type: <class 'numpy.ndarray'>, shape: (2390,)\n",
      "Lambda type: <class 'numpy.ndarray'>, shape: (2390,)\n",
      "Optimization completed with status: b'CONVERGENCE: NORM_OF_PROJECTED_GRADIENT_<=_PGTOL'\n"
     ]
    },
    {
     "name": "stderr",
     "output_type": "stream",
     "text": [
      "\r",
      "Optimizing Portfolio:  11%|█         | 27/252 [07:19<1:01:02, 16.28s/day]"
     ]
    },
    {
     "name": "stdout",
     "output_type": "stream",
     "text": [
      "Checking for required columns in the DataFrame...\n",
      "All required columns are present.\n",
      "Applying filters to create the stock universe...\n",
      "Selected 2394 stocks based on filters.\n",
      "Removing 'DlyReturn' column to prevent look-ahead bias...\n",
      "Stock universe is ready.\n",
      "Generated formula: SpecRisk ~ 0 + USFASTD_1DREVRSL + USFASTD_EARNYILD + USFASTD_VALUE + USFASTD_SENTMT\n",
      "Summed alpha vector shape: (2394,)\n",
      "h0 type: <class 'numpy.ndarray'>, shape: (2394,)\n",
      "specVar type: <class 'numpy.ndarray'>, shape: (2394,)\n",
      "alpha_vec type: <class 'numpy.ndarray'>, shape: (2394,)\n",
      "Lambda type: <class 'numpy.ndarray'>, shape: (2394,)\n",
      "Optimization completed with status: b'CONVERGENCE: NORM_OF_PROJECTED_GRADIENT_<=_PGTOL'\n"
     ]
    },
    {
     "name": "stderr",
     "output_type": "stream",
     "text": [
      "\r",
      "Optimizing Portfolio:  11%|█         | 28/252 [07:35<1:00:45, 16.27s/day]"
     ]
    },
    {
     "name": "stdout",
     "output_type": "stream",
     "text": [
      "Checking for required columns in the DataFrame...\n",
      "All required columns are present.\n",
      "Applying filters to create the stock universe...\n",
      "Selected 2398 stocks based on filters.\n",
      "Removing 'DlyReturn' column to prevent look-ahead bias...\n",
      "Stock universe is ready.\n",
      "Generated formula: SpecRisk ~ 0 + USFASTD_1DREVRSL + USFASTD_EARNYILD + USFASTD_VALUE + USFASTD_SENTMT\n",
      "Summed alpha vector shape: (2398,)\n",
      "h0 type: <class 'numpy.ndarray'>, shape: (2398,)\n",
      "specVar type: <class 'numpy.ndarray'>, shape: (2398,)\n",
      "alpha_vec type: <class 'numpy.ndarray'>, shape: (2398,)\n",
      "Lambda type: <class 'numpy.ndarray'>, shape: (2398,)\n",
      "Optimization completed with status: b'CONVERGENCE: NORM_OF_PROJECTED_GRADIENT_<=_PGTOL'\n"
     ]
    },
    {
     "name": "stderr",
     "output_type": "stream",
     "text": [
      "\r",
      "Optimizing Portfolio:  12%|█▏        | 29/252 [07:54<1:00:50, 16.37s/day]"
     ]
    },
    {
     "name": "stdout",
     "output_type": "stream",
     "text": [
      "Checking for required columns in the DataFrame...\n",
      "All required columns are present.\n",
      "Applying filters to create the stock universe...\n",
      "Selected 2398 stocks based on filters.\n",
      "Removing 'DlyReturn' column to prevent look-ahead bias...\n",
      "Stock universe is ready.\n",
      "Generated formula: SpecRisk ~ 0 + USFASTD_1DREVRSL + USFASTD_EARNYILD + USFASTD_VALUE + USFASTD_SENTMT\n",
      "Summed alpha vector shape: (2398,)\n",
      "h0 type: <class 'numpy.ndarray'>, shape: (2398,)\n",
      "specVar type: <class 'numpy.ndarray'>, shape: (2398,)\n",
      "alpha_vec type: <class 'numpy.ndarray'>, shape: (2398,)\n",
      "Lambda type: <class 'numpy.ndarray'>, shape: (2398,)\n",
      "Optimization completed with status: b'CONVERGENCE: NORM_OF_PROJECTED_GRADIENT_<=_PGTOL'\n"
     ]
    },
    {
     "name": "stderr",
     "output_type": "stream",
     "text": [
      "\r",
      "Optimizing Portfolio:  12%|█▏        | 30/252 [08:05<59:54, 16.19s/day]  "
     ]
    },
    {
     "name": "stdout",
     "output_type": "stream",
     "text": [
      "Checking for required columns in the DataFrame...\n",
      "All required columns are present.\n",
      "Applying filters to create the stock universe...\n",
      "Selected 2400 stocks based on filters.\n",
      "Removing 'DlyReturn' column to prevent look-ahead bias...\n",
      "Stock universe is ready.\n",
      "Generated formula: SpecRisk ~ 0 + USFASTD_1DREVRSL + USFASTD_EARNYILD + USFASTD_VALUE + USFASTD_SENTMT\n",
      "Summed alpha vector shape: (2400,)\n",
      "h0 type: <class 'numpy.ndarray'>, shape: (2400,)\n",
      "specVar type: <class 'numpy.ndarray'>, shape: (2400,)\n",
      "alpha_vec type: <class 'numpy.ndarray'>, shape: (2400,)\n",
      "Lambda type: <class 'numpy.ndarray'>, shape: (2400,)\n",
      "Optimization completed with status: b'CONVERGENCE: NORM_OF_PROJECTED_GRADIENT_<=_PGTOL'\n"
     ]
    },
    {
     "name": "stderr",
     "output_type": "stream",
     "text": [
      "\r",
      "Optimizing Portfolio:  12%|█▏        | 31/252 [08:18<59:17, 16.10s/day]"
     ]
    },
    {
     "name": "stdout",
     "output_type": "stream",
     "text": [
      "Checking for required columns in the DataFrame...\n",
      "All required columns are present.\n",
      "Applying filters to create the stock universe...\n",
      "Selected 2401 stocks based on filters.\n",
      "Removing 'DlyReturn' column to prevent look-ahead bias...\n",
      "Stock universe is ready.\n",
      "Generated formula: SpecRisk ~ 0 + USFASTD_1DREVRSL + USFASTD_EARNYILD + USFASTD_VALUE + USFASTD_SENTMT\n",
      "Summed alpha vector shape: (2401,)\n",
      "h0 type: <class 'numpy.ndarray'>, shape: (2401,)\n",
      "specVar type: <class 'numpy.ndarray'>, shape: (2401,)\n",
      "alpha_vec type: <class 'numpy.ndarray'>, shape: (2401,)\n",
      "Lambda type: <class 'numpy.ndarray'>, shape: (2401,)\n",
      "Optimization completed with status: b'CONVERGENCE: NORM_OF_PROJECTED_GRADIENT_<=_PGTOL'\n"
     ]
    },
    {
     "name": "stderr",
     "output_type": "stream",
     "text": [
      "\r",
      "Optimizing Portfolio:  13%|█▎        | 32/252 [08:31<58:38, 15.99s/day]"
     ]
    },
    {
     "name": "stdout",
     "output_type": "stream",
     "text": [
      "Checking for required columns in the DataFrame...\n",
      "All required columns are present.\n",
      "Applying filters to create the stock universe...\n",
      "Selected 2400 stocks based on filters.\n",
      "Removing 'DlyReturn' column to prevent look-ahead bias...\n",
      "Stock universe is ready.\n",
      "Generated formula: SpecRisk ~ 0 + USFASTD_1DREVRSL + USFASTD_EARNYILD + USFASTD_VALUE + USFASTD_SENTMT\n",
      "Summed alpha vector shape: (2400,)\n",
      "h0 type: <class 'numpy.ndarray'>, shape: (2400,)\n",
      "specVar type: <class 'numpy.ndarray'>, shape: (2400,)\n",
      "alpha_vec type: <class 'numpy.ndarray'>, shape: (2400,)\n",
      "Lambda type: <class 'numpy.ndarray'>, shape: (2400,)\n",
      "Optimization completed with status: b'CONVERGENCE: NORM_OF_PROJECTED_GRADIENT_<=_PGTOL'\n"
     ]
    },
    {
     "name": "stderr",
     "output_type": "stream",
     "text": [
      "\r",
      "Optimizing Portfolio:  13%|█▎        | 33/252 [08:51<58:48, 16.11s/day]"
     ]
    },
    {
     "name": "stdout",
     "output_type": "stream",
     "text": [
      "Checking for required columns in the DataFrame...\n",
      "All required columns are present.\n",
      "Applying filters to create the stock universe...\n",
      "Selected 2402 stocks based on filters.\n",
      "Removing 'DlyReturn' column to prevent look-ahead bias...\n",
      "Stock universe is ready.\n",
      "Generated formula: SpecRisk ~ 0 + USFASTD_1DREVRSL + USFASTD_EARNYILD + USFASTD_VALUE + USFASTD_SENTMT\n",
      "Summed alpha vector shape: (2402,)\n",
      "h0 type: <class 'numpy.ndarray'>, shape: (2402,)\n",
      "specVar type: <class 'numpy.ndarray'>, shape: (2402,)\n",
      "alpha_vec type: <class 'numpy.ndarray'>, shape: (2402,)\n",
      "Lambda type: <class 'numpy.ndarray'>, shape: (2402,)\n",
      "Optimization completed with status: b'CONVERGENCE: NORM_OF_PROJECTED_GRADIENT_<=_PGTOL'\n"
     ]
    },
    {
     "name": "stderr",
     "output_type": "stream",
     "text": [
      "\r",
      "Optimizing Portfolio:  13%|█▎        | 34/252 [09:07<58:29, 16.10s/day]"
     ]
    },
    {
     "name": "stdout",
     "output_type": "stream",
     "text": [
      "Checking for required columns in the DataFrame...\n",
      "All required columns are present.\n",
      "Applying filters to create the stock universe...\n",
      "Selected 2403 stocks based on filters.\n",
      "Removing 'DlyReturn' column to prevent look-ahead bias...\n",
      "Stock universe is ready.\n",
      "Generated formula: SpecRisk ~ 0 + USFASTD_1DREVRSL + USFASTD_EARNYILD + USFASTD_VALUE + USFASTD_SENTMT\n",
      "Summed alpha vector shape: (2403,)\n",
      "h0 type: <class 'numpy.ndarray'>, shape: (2403,)\n",
      "specVar type: <class 'numpy.ndarray'>, shape: (2403,)\n",
      "alpha_vec type: <class 'numpy.ndarray'>, shape: (2403,)\n",
      "Lambda type: <class 'numpy.ndarray'>, shape: (2403,)\n",
      "Optimization completed with status: b'CONVERGENCE: NORM_OF_PROJECTED_GRADIENT_<=_PGTOL'\n"
     ]
    },
    {
     "name": "stderr",
     "output_type": "stream",
     "text": [
      "\r",
      "Optimizing Portfolio:  14%|█▍        | 35/252 [09:19<57:48, 15.98s/day]"
     ]
    },
    {
     "name": "stdout",
     "output_type": "stream",
     "text": [
      "Checking for required columns in the DataFrame...\n",
      "All required columns are present.\n",
      "Applying filters to create the stock universe...\n",
      "Selected 2407 stocks based on filters.\n",
      "Removing 'DlyReturn' column to prevent look-ahead bias...\n",
      "Stock universe is ready.\n",
      "Generated formula: SpecRisk ~ 0 + USFASTD_1DREVRSL + USFASTD_EARNYILD + USFASTD_VALUE + USFASTD_SENTMT\n",
      "Summed alpha vector shape: (2407,)\n",
      "h0 type: <class 'numpy.ndarray'>, shape: (2407,)\n",
      "specVar type: <class 'numpy.ndarray'>, shape: (2407,)\n",
      "alpha_vec type: <class 'numpy.ndarray'>, shape: (2407,)\n",
      "Lambda type: <class 'numpy.ndarray'>, shape: (2407,)\n",
      "Optimization completed with status: b'CONVERGENCE: REL_REDUCTION_OF_F_<=_FACTR*EPSMCH'\n"
     ]
    },
    {
     "name": "stderr",
     "output_type": "stream",
     "text": [
      "\r",
      "Optimizing Portfolio:  14%|█▍        | 36/252 [09:33<57:19, 15.92s/day]"
     ]
    },
    {
     "name": "stdout",
     "output_type": "stream",
     "text": [
      "Checking for required columns in the DataFrame...\n",
      "All required columns are present.\n",
      "Applying filters to create the stock universe...\n",
      "Selected 2409 stocks based on filters.\n",
      "Removing 'DlyReturn' column to prevent look-ahead bias...\n",
      "Stock universe is ready.\n",
      "Generated formula: SpecRisk ~ 0 + USFASTD_1DREVRSL + USFASTD_EARNYILD + USFASTD_VALUE + USFASTD_SENTMT\n",
      "Summed alpha vector shape: (2409,)\n",
      "h0 type: <class 'numpy.ndarray'>, shape: (2409,)\n",
      "specVar type: <class 'numpy.ndarray'>, shape: (2409,)\n",
      "alpha_vec type: <class 'numpy.ndarray'>, shape: (2409,)\n",
      "Lambda type: <class 'numpy.ndarray'>, shape: (2409,)\n",
      "Optimization completed with status: b'CONVERGENCE: REL_REDUCTION_OF_F_<=_FACTR*EPSMCH'\n"
     ]
    },
    {
     "name": "stderr",
     "output_type": "stream",
     "text": [
      "\r",
      "Optimizing Portfolio:  15%|█▍        | 37/252 [09:50<57:11, 15.96s/day]"
     ]
    },
    {
     "name": "stdout",
     "output_type": "stream",
     "text": [
      "Checking for required columns in the DataFrame...\n",
      "All required columns are present.\n",
      "Applying filters to create the stock universe...\n",
      "Selected 2410 stocks based on filters.\n",
      "Removing 'DlyReturn' column to prevent look-ahead bias...\n",
      "Stock universe is ready.\n",
      "Generated formula: SpecRisk ~ 0 + USFASTD_1DREVRSL + USFASTD_EARNYILD + USFASTD_VALUE + USFASTD_SENTMT\n",
      "Summed alpha vector shape: (2410,)\n",
      "h0 type: <class 'numpy.ndarray'>, shape: (2410,)\n",
      "specVar type: <class 'numpy.ndarray'>, shape: (2410,)\n",
      "alpha_vec type: <class 'numpy.ndarray'>, shape: (2410,)\n",
      "Lambda type: <class 'numpy.ndarray'>, shape: (2410,)\n",
      "Optimization completed with status: b'CONVERGENCE: NORM_OF_PROJECTED_GRADIENT_<=_PGTOL'\n"
     ]
    },
    {
     "name": "stderr",
     "output_type": "stream",
     "text": [
      "\r",
      "Optimizing Portfolio:  15%|█▌        | 38/252 [10:03<56:37, 15.88s/day]"
     ]
    },
    {
     "name": "stdout",
     "output_type": "stream",
     "text": [
      "Checking for required columns in the DataFrame...\n",
      "All required columns are present.\n",
      "Applying filters to create the stock universe...\n",
      "Selected 2410 stocks based on filters.\n",
      "Removing 'DlyReturn' column to prevent look-ahead bias...\n",
      "Stock universe is ready.\n",
      "Generated formula: SpecRisk ~ 0 + USFASTD_1DREVRSL + USFASTD_EARNYILD + USFASTD_VALUE + USFASTD_SENTMT\n",
      "Summed alpha vector shape: (2410,)\n",
      "h0 type: <class 'numpy.ndarray'>, shape: (2410,)\n",
      "specVar type: <class 'numpy.ndarray'>, shape: (2410,)\n",
      "alpha_vec type: <class 'numpy.ndarray'>, shape: (2410,)\n",
      "Lambda type: <class 'numpy.ndarray'>, shape: (2410,)\n",
      "Optimization completed with status: b'CONVERGENCE: NORM_OF_PROJECTED_GRADIENT_<=_PGTOL'\n"
     ]
    },
    {
     "name": "stderr",
     "output_type": "stream",
     "text": [
      "\r",
      "Optimizing Portfolio:  15%|█▌        | 39/252 [10:16<56:06, 15.81s/day]"
     ]
    },
    {
     "name": "stdout",
     "output_type": "stream",
     "text": [
      "Checking for required columns in the DataFrame...\n",
      "All required columns are present.\n",
      "Applying filters to create the stock universe...\n",
      "Selected 2418 stocks based on filters.\n",
      "Removing 'DlyReturn' column to prevent look-ahead bias...\n",
      "Stock universe is ready.\n",
      "Generated formula: SpecRisk ~ 0 + USFASTD_1DREVRSL + USFASTD_EARNYILD + USFASTD_VALUE + USFASTD_SENTMT\n",
      "Summed alpha vector shape: (2418,)\n",
      "h0 type: <class 'numpy.ndarray'>, shape: (2418,)\n",
      "specVar type: <class 'numpy.ndarray'>, shape: (2418,)\n",
      "alpha_vec type: <class 'numpy.ndarray'>, shape: (2418,)\n",
      "Lambda type: <class 'numpy.ndarray'>, shape: (2418,)\n",
      "Optimization completed with status: b'CONVERGENCE: REL_REDUCTION_OF_F_<=_FACTR*EPSMCH'\n"
     ]
    },
    {
     "name": "stderr",
     "output_type": "stream",
     "text": [
      "\r",
      "Optimizing Portfolio:  16%|█▌        | 40/252 [10:49<57:23, 16.24s/day]"
     ]
    },
    {
     "name": "stdout",
     "output_type": "stream",
     "text": [
      "Checking for required columns in the DataFrame...\n",
      "All required columns are present.\n",
      "Applying filters to create the stock universe...\n",
      "Selected 2421 stocks based on filters.\n",
      "Removing 'DlyReturn' column to prevent look-ahead bias...\n",
      "Stock universe is ready.\n",
      "Generated formula: SpecRisk ~ 0 + USFASTD_1DREVRSL + USFASTD_EARNYILD + USFASTD_VALUE + USFASTD_SENTMT\n",
      "Summed alpha vector shape: (2421,)\n",
      "h0 type: <class 'numpy.ndarray'>, shape: (2421,)\n",
      "specVar type: <class 'numpy.ndarray'>, shape: (2421,)\n",
      "alpha_vec type: <class 'numpy.ndarray'>, shape: (2421,)\n",
      "Lambda type: <class 'numpy.ndarray'>, shape: (2421,)\n",
      "Optimization completed with status: b'CONVERGENCE: NORM_OF_PROJECTED_GRADIENT_<=_PGTOL'\n"
     ]
    },
    {
     "name": "stderr",
     "output_type": "stream",
     "text": [
      "\r",
      "Optimizing Portfolio:  16%|█▋        | 41/252 [11:09<57:24, 16.33s/day]"
     ]
    },
    {
     "name": "stdout",
     "output_type": "stream",
     "text": [
      "Checking for required columns in the DataFrame...\n",
      "All required columns are present.\n",
      "Applying filters to create the stock universe...\n",
      "Selected 2422 stocks based on filters.\n",
      "Removing 'DlyReturn' column to prevent look-ahead bias...\n",
      "Stock universe is ready.\n",
      "Generated formula: SpecRisk ~ 0 + USFASTD_1DREVRSL + USFASTD_EARNYILD + USFASTD_VALUE + USFASTD_SENTMT\n",
      "Summed alpha vector shape: (2422,)\n",
      "h0 type: <class 'numpy.ndarray'>, shape: (2422,)\n",
      "specVar type: <class 'numpy.ndarray'>, shape: (2422,)\n",
      "alpha_vec type: <class 'numpy.ndarray'>, shape: (2422,)\n",
      "Lambda type: <class 'numpy.ndarray'>, shape: (2422,)\n",
      "Optimization completed with status: b'CONVERGENCE: NORM_OF_PROJECTED_GRADIENT_<=_PGTOL'\n"
     ]
    },
    {
     "name": "stderr",
     "output_type": "stream",
     "text": [
      "\r",
      "Optimizing Portfolio:  17%|█▋        | 42/252 [11:35<57:58, 16.56s/day]"
     ]
    },
    {
     "name": "stdout",
     "output_type": "stream",
     "text": [
      "Checking for required columns in the DataFrame...\n",
      "All required columns are present.\n",
      "Applying filters to create the stock universe...\n",
      "Selected 2423 stocks based on filters.\n",
      "Removing 'DlyReturn' column to prevent look-ahead bias...\n",
      "Stock universe is ready.\n",
      "Generated formula: SpecRisk ~ 0 + USFASTD_1DREVRSL + USFASTD_EARNYILD + USFASTD_VALUE + USFASTD_SENTMT\n",
      "Summed alpha vector shape: (2423,)\n",
      "h0 type: <class 'numpy.ndarray'>, shape: (2423,)\n",
      "specVar type: <class 'numpy.ndarray'>, shape: (2423,)\n",
      "alpha_vec type: <class 'numpy.ndarray'>, shape: (2423,)\n",
      "Lambda type: <class 'numpy.ndarray'>, shape: (2423,)\n",
      "Optimization completed with status: b'CONVERGENCE: NORM_OF_PROJECTED_GRADIENT_<=_PGTOL'\n"
     ]
    },
    {
     "name": "stderr",
     "output_type": "stream",
     "text": [
      "\r",
      "Optimizing Portfolio:  17%|█▋        | 43/252 [12:12<59:21, 17.04s/day]"
     ]
    },
    {
     "name": "stdout",
     "output_type": "stream",
     "text": [
      "Checking for required columns in the DataFrame...\n",
      "All required columns are present.\n",
      "Applying filters to create the stock universe...\n",
      "Selected 2427 stocks based on filters.\n",
      "Removing 'DlyReturn' column to prevent look-ahead bias...\n",
      "Stock universe is ready.\n",
      "Generated formula: SpecRisk ~ 0 + USFASTD_1DREVRSL + USFASTD_EARNYILD + USFASTD_VALUE + USFASTD_SENTMT\n",
      "Summed alpha vector shape: (2427,)\n",
      "h0 type: <class 'numpy.ndarray'>, shape: (2427,)\n",
      "specVar type: <class 'numpy.ndarray'>, shape: (2427,)\n",
      "alpha_vec type: <class 'numpy.ndarray'>, shape: (2427,)\n",
      "Lambda type: <class 'numpy.ndarray'>, shape: (2427,)\n",
      "Optimization completed with status: b'CONVERGENCE: NORM_OF_PROJECTED_GRADIENT_<=_PGTOL'\n"
     ]
    },
    {
     "name": "stderr",
     "output_type": "stream",
     "text": [
      "\r",
      "Optimizing Portfolio:  17%|█▋        | 44/252 [12:43<1:00:07, 17.34s/day]"
     ]
    },
    {
     "name": "stdout",
     "output_type": "stream",
     "text": [
      "Checking for required columns in the DataFrame...\n",
      "All required columns are present.\n",
      "Applying filters to create the stock universe...\n",
      "Selected 2427 stocks based on filters.\n",
      "Removing 'DlyReturn' column to prevent look-ahead bias...\n",
      "Stock universe is ready.\n",
      "Generated formula: SpecRisk ~ 0 + USFASTD_1DREVRSL + USFASTD_EARNYILD + USFASTD_VALUE + USFASTD_SENTMT\n",
      "Summed alpha vector shape: (2427,)\n",
      "h0 type: <class 'numpy.ndarray'>, shape: (2427,)\n",
      "specVar type: <class 'numpy.ndarray'>, shape: (2427,)\n",
      "alpha_vec type: <class 'numpy.ndarray'>, shape: (2427,)\n",
      "Lambda type: <class 'numpy.ndarray'>, shape: (2427,)\n",
      "Optimization completed with status: b'CONVERGENCE: NORM_OF_PROJECTED_GRADIENT_<=_PGTOL'\n"
     ]
    },
    {
     "name": "stderr",
     "output_type": "stream",
     "text": [
      "\r",
      "Optimizing Portfolio:  18%|█▊        | 45/252 [13:11<1:00:40, 17.59s/day]"
     ]
    },
    {
     "name": "stdout",
     "output_type": "stream",
     "text": [
      "Checking for required columns in the DataFrame...\n",
      "All required columns are present.\n",
      "Applying filters to create the stock universe...\n",
      "Selected 2427 stocks based on filters.\n",
      "Removing 'DlyReturn' column to prevent look-ahead bias...\n",
      "Stock universe is ready.\n",
      "Generated formula: SpecRisk ~ 0 + USFASTD_1DREVRSL + USFASTD_EARNYILD + USFASTD_VALUE + USFASTD_SENTMT\n",
      "Summed alpha vector shape: (2427,)\n",
      "h0 type: <class 'numpy.ndarray'>, shape: (2427,)\n",
      "specVar type: <class 'numpy.ndarray'>, shape: (2427,)\n",
      "alpha_vec type: <class 'numpy.ndarray'>, shape: (2427,)\n",
      "Lambda type: <class 'numpy.ndarray'>, shape: (2427,)\n",
      "Optimization completed with status: b'CONVERGENCE: REL_REDUCTION_OF_F_<=_FACTR*EPSMCH'\n"
     ]
    },
    {
     "name": "stderr",
     "output_type": "stream",
     "text": [
      "\r",
      "Optimizing Portfolio:  18%|█▊        | 46/252 [13:36<1:00:56, 17.75s/day]"
     ]
    },
    {
     "name": "stdout",
     "output_type": "stream",
     "text": [
      "Checking for required columns in the DataFrame...\n",
      "All required columns are present.\n",
      "Applying filters to create the stock universe...\n",
      "Selected 2427 stocks based on filters.\n",
      "Removing 'DlyReturn' column to prevent look-ahead bias...\n",
      "Stock universe is ready.\n",
      "Generated formula: SpecRisk ~ 0 + USFASTD_1DREVRSL + USFASTD_EARNYILD + USFASTD_VALUE + USFASTD_SENTMT\n",
      "Summed alpha vector shape: (2427,)\n",
      "h0 type: <class 'numpy.ndarray'>, shape: (2427,)\n",
      "specVar type: <class 'numpy.ndarray'>, shape: (2427,)\n",
      "alpha_vec type: <class 'numpy.ndarray'>, shape: (2427,)\n",
      "Lambda type: <class 'numpy.ndarray'>, shape: (2427,)\n",
      "Optimization completed with status: b'CONVERGENCE: REL_REDUCTION_OF_F_<=_FACTR*EPSMCH'\n"
     ]
    },
    {
     "name": "stderr",
     "output_type": "stream",
     "text": [
      "\r",
      "Optimizing Portfolio:  19%|█▊        | 47/252 [14:30<1:03:14, 18.51s/day]"
     ]
    },
    {
     "name": "stdout",
     "output_type": "stream",
     "text": [
      "Checking for required columns in the DataFrame...\n",
      "All required columns are present.\n",
      "Applying filters to create the stock universe...\n",
      "Selected 2427 stocks based on filters.\n",
      "Removing 'DlyReturn' column to prevent look-ahead bias...\n",
      "Stock universe is ready.\n",
      "Generated formula: SpecRisk ~ 0 + USFASTD_1DREVRSL + USFASTD_EARNYILD + USFASTD_VALUE + USFASTD_SENTMT\n",
      "Summed alpha vector shape: (2427,)\n",
      "h0 type: <class 'numpy.ndarray'>, shape: (2427,)\n",
      "specVar type: <class 'numpy.ndarray'>, shape: (2427,)\n",
      "alpha_vec type: <class 'numpy.ndarray'>, shape: (2427,)\n",
      "Lambda type: <class 'numpy.ndarray'>, shape: (2427,)\n",
      "Optimization completed with status: b'CONVERGENCE: REL_REDUCTION_OF_F_<=_FACTR*EPSMCH'\n"
     ]
    },
    {
     "name": "stderr",
     "output_type": "stream",
     "text": [
      "\r",
      "Optimizing Portfolio:  19%|█▉        | 48/252 [14:53<1:03:18, 18.62s/day]"
     ]
    },
    {
     "name": "stdout",
     "output_type": "stream",
     "text": [
      "Checking for required columns in the DataFrame...\n",
      "All required columns are present.\n",
      "Applying filters to create the stock universe...\n",
      "Selected 2430 stocks based on filters.\n",
      "Removing 'DlyReturn' column to prevent look-ahead bias...\n",
      "Stock universe is ready.\n",
      "Generated formula: SpecRisk ~ 0 + USFASTD_1DREVRSL + USFASTD_EARNYILD + USFASTD_VALUE + USFASTD_SENTMT\n",
      "Summed alpha vector shape: (2430,)\n",
      "h0 type: <class 'numpy.ndarray'>, shape: (2430,)\n",
      "specVar type: <class 'numpy.ndarray'>, shape: (2430,)\n",
      "alpha_vec type: <class 'numpy.ndarray'>, shape: (2430,)\n",
      "Lambda type: <class 'numpy.ndarray'>, shape: (2430,)\n",
      "Optimization completed with status: b'CONVERGENCE: REL_REDUCTION_OF_F_<=_FACTR*EPSMCH'\n"
     ]
    },
    {
     "name": "stderr",
     "output_type": "stream",
     "text": [
      "\r",
      "Optimizing Portfolio:  19%|█▉        | 49/252 [15:21<1:03:36, 18.80s/day]"
     ]
    },
    {
     "name": "stdout",
     "output_type": "stream",
     "text": [
      "Checking for required columns in the DataFrame...\n",
      "All required columns are present.\n",
      "Applying filters to create the stock universe...\n",
      "Selected 2430 stocks based on filters.\n",
      "Removing 'DlyReturn' column to prevent look-ahead bias...\n",
      "Stock universe is ready.\n",
      "Generated formula: SpecRisk ~ 0 + USFASTD_1DREVRSL + USFASTD_EARNYILD + USFASTD_VALUE + USFASTD_SENTMT\n",
      "Summed alpha vector shape: (2430,)\n",
      "h0 type: <class 'numpy.ndarray'>, shape: (2430,)\n",
      "specVar type: <class 'numpy.ndarray'>, shape: (2430,)\n",
      "alpha_vec type: <class 'numpy.ndarray'>, shape: (2430,)\n",
      "Lambda type: <class 'numpy.ndarray'>, shape: (2430,)\n",
      "Optimization completed with status: b'CONVERGENCE: NORM_OF_PROJECTED_GRADIENT_<=_PGTOL'\n"
     ]
    },
    {
     "name": "stderr",
     "output_type": "stream",
     "text": [
      "\r",
      "Optimizing Portfolio:  20%|█▉        | 50/252 [15:36<1:03:04, 18.73s/day]"
     ]
    },
    {
     "name": "stdout",
     "output_type": "stream",
     "text": [
      "Checking for required columns in the DataFrame...\n",
      "All required columns are present.\n",
      "Applying filters to create the stock universe...\n",
      "Selected 2431 stocks based on filters.\n",
      "Removing 'DlyReturn' column to prevent look-ahead bias...\n",
      "Stock universe is ready.\n",
      "Generated formula: SpecRisk ~ 0 + USFASTD_1DREVRSL + USFASTD_EARNYILD + USFASTD_VALUE + USFASTD_SENTMT\n",
      "Summed alpha vector shape: (2431,)\n",
      "h0 type: <class 'numpy.ndarray'>, shape: (2431,)\n",
      "specVar type: <class 'numpy.ndarray'>, shape: (2431,)\n",
      "alpha_vec type: <class 'numpy.ndarray'>, shape: (2431,)\n",
      "Lambda type: <class 'numpy.ndarray'>, shape: (2431,)\n",
      "Optimization completed with status: b'CONVERGENCE: NORM_OF_PROJECTED_GRADIENT_<=_PGTOL'\n"
     ]
    },
    {
     "name": "stderr",
     "output_type": "stream",
     "text": [
      "\r",
      "Optimizing Portfolio:  20%|██        | 51/252 [15:46<1:02:10, 18.56s/day]"
     ]
    },
    {
     "name": "stdout",
     "output_type": "stream",
     "text": [
      "Checking for required columns in the DataFrame...\n",
      "All required columns are present.\n",
      "Applying filters to create the stock universe...\n",
      "Selected 2434 stocks based on filters.\n",
      "Removing 'DlyReturn' column to prevent look-ahead bias...\n",
      "Stock universe is ready.\n",
      "Generated formula: SpecRisk ~ 0 + USFASTD_1DREVRSL + USFASTD_EARNYILD + USFASTD_VALUE + USFASTD_SENTMT\n",
      "Summed alpha vector shape: (2434,)\n",
      "h0 type: <class 'numpy.ndarray'>, shape: (2434,)\n",
      "specVar type: <class 'numpy.ndarray'>, shape: (2434,)\n",
      "alpha_vec type: <class 'numpy.ndarray'>, shape: (2434,)\n",
      "Lambda type: <class 'numpy.ndarray'>, shape: (2434,)\n",
      "Optimization completed with status: b'CONVERGENCE: NORM_OF_PROJECTED_GRADIENT_<=_PGTOL'\n"
     ]
    },
    {
     "name": "stderr",
     "output_type": "stream",
     "text": [
      "\r",
      "Optimizing Portfolio:  21%|██        | 52/252 [15:52<1:01:02, 18.31s/day]"
     ]
    },
    {
     "name": "stdout",
     "output_type": "stream",
     "text": [
      "Checking for required columns in the DataFrame...\n",
      "All required columns are present.\n",
      "Applying filters to create the stock universe...\n",
      "Selected 2435 stocks based on filters.\n",
      "Removing 'DlyReturn' column to prevent look-ahead bias...\n",
      "Stock universe is ready.\n",
      "Generated formula: SpecRisk ~ 0 + USFASTD_1DREVRSL + USFASTD_EARNYILD + USFASTD_VALUE + USFASTD_SENTMT\n",
      "Summed alpha vector shape: (2435,)\n",
      "h0 type: <class 'numpy.ndarray'>, shape: (2435,)\n",
      "specVar type: <class 'numpy.ndarray'>, shape: (2435,)\n",
      "alpha_vec type: <class 'numpy.ndarray'>, shape: (2435,)\n",
      "Lambda type: <class 'numpy.ndarray'>, shape: (2435,)\n",
      "Optimization completed with status: b'CONVERGENCE: REL_REDUCTION_OF_F_<=_FACTR*EPSMCH'\n"
     ]
    },
    {
     "name": "stderr",
     "output_type": "stream",
     "text": [
      "\r",
      "Optimizing Portfolio:  21%|██        | 53/252 [16:12<1:00:53, 18.36s/day]"
     ]
    },
    {
     "name": "stdout",
     "output_type": "stream",
     "text": [
      "Checking for required columns in the DataFrame...\n",
      "All required columns are present.\n",
      "Applying filters to create the stock universe...\n",
      "Selected 2436 stocks based on filters.\n",
      "Removing 'DlyReturn' column to prevent look-ahead bias...\n",
      "Stock universe is ready.\n",
      "Generated formula: SpecRisk ~ 0 + USFASTD_1DREVRSL + USFASTD_EARNYILD + USFASTD_VALUE + USFASTD_SENTMT\n",
      "Summed alpha vector shape: (2436,)\n",
      "h0 type: <class 'numpy.ndarray'>, shape: (2436,)\n",
      "specVar type: <class 'numpy.ndarray'>, shape: (2436,)\n",
      "alpha_vec type: <class 'numpy.ndarray'>, shape: (2436,)\n",
      "Lambda type: <class 'numpy.ndarray'>, shape: (2436,)\n"
     ]
    },
    {
     "name": "stderr",
     "output_type": "stream",
     "text": [
      "\r",
      "Optimizing Portfolio:  21%|██▏       | 54/252 [16:22<1:00:00, 18.19s/day]"
     ]
    },
    {
     "name": "stdout",
     "output_type": "stream",
     "text": [
      "Optimization completed with status: b'CONVERGENCE: NORM_OF_PROJECTED_GRADIENT_<=_PGTOL'\n",
      "Checking for required columns in the DataFrame...\n",
      "All required columns are present.\n",
      "Applying filters to create the stock universe...\n",
      "Selected 2436 stocks based on filters.\n",
      "Removing 'DlyReturn' column to prevent look-ahead bias...\n",
      "Stock universe is ready.\n",
      "Generated formula: SpecRisk ~ 0 + USFASTD_1DREVRSL + USFASTD_EARNYILD + USFASTD_VALUE + USFASTD_SENTMT\n",
      "Summed alpha vector shape: (2436,)\n",
      "h0 type: <class 'numpy.ndarray'>, shape: (2436,)\n",
      "specVar type: <class 'numpy.ndarray'>, shape: (2436,)\n",
      "alpha_vec type: <class 'numpy.ndarray'>, shape: (2436,)\n",
      "Lambda type: <class 'numpy.ndarray'>, shape: (2436,)\n",
      "Optimization completed with status: b'CONVERGENCE: REL_REDUCTION_OF_F_<=_FACTR*EPSMCH'\n"
     ]
    },
    {
     "name": "stderr",
     "output_type": "stream",
     "text": [
      "\r",
      "Optimizing Portfolio:  22%|██▏       | 55/252 [17:07<1:01:20, 18.68s/day]"
     ]
    },
    {
     "name": "stdout",
     "output_type": "stream",
     "text": [
      "Checking for required columns in the DataFrame...\n",
      "All required columns are present.\n",
      "Applying filters to create the stock universe...\n",
      "Selected 2436 stocks based on filters.\n",
      "Removing 'DlyReturn' column to prevent look-ahead bias...\n",
      "Stock universe is ready.\n",
      "Generated formula: SpecRisk ~ 0 + USFASTD_1DREVRSL + USFASTD_EARNYILD + USFASTD_VALUE + USFASTD_SENTMT\n",
      "Summed alpha vector shape: (2436,)\n",
      "h0 type: <class 'numpy.ndarray'>, shape: (2436,)\n",
      "specVar type: <class 'numpy.ndarray'>, shape: (2436,)\n",
      "alpha_vec type: <class 'numpy.ndarray'>, shape: (2436,)\n",
      "Lambda type: <class 'numpy.ndarray'>, shape: (2436,)\n",
      "Optimization completed with status: b'CONVERGENCE: NORM_OF_PROJECTED_GRADIENT_<=_PGTOL'\n"
     ]
    },
    {
     "name": "stderr",
     "output_type": "stream",
     "text": [
      "\r",
      "Optimizing Portfolio:  22%|██▏       | 56/252 [17:32<1:01:23, 18.79s/day]"
     ]
    },
    {
     "name": "stdout",
     "output_type": "stream",
     "text": [
      "Checking for required columns in the DataFrame...\n",
      "All required columns are present.\n",
      "Applying filters to create the stock universe...\n",
      "Selected 2436 stocks based on filters.\n",
      "Removing 'DlyReturn' column to prevent look-ahead bias...\n",
      "Stock universe is ready.\n",
      "Generated formula: SpecRisk ~ 0 + USFASTD_1DREVRSL + USFASTD_EARNYILD + USFASTD_VALUE + USFASTD_SENTMT\n",
      "Summed alpha vector shape: (2436,)\n",
      "h0 type: <class 'numpy.ndarray'>, shape: (2436,)\n",
      "specVar type: <class 'numpy.ndarray'>, shape: (2436,)\n",
      "alpha_vec type: <class 'numpy.ndarray'>, shape: (2436,)\n",
      "Lambda type: <class 'numpy.ndarray'>, shape: (2436,)\n",
      "Optimization completed with status: b'CONVERGENCE: NORM_OF_PROJECTED_GRADIENT_<=_PGTOL'\n"
     ]
    },
    {
     "name": "stderr",
     "output_type": "stream",
     "text": [
      "\r",
      "Optimizing Portfolio:  23%|██▎       | 57/252 [17:42<1:00:33, 18.63s/day]"
     ]
    },
    {
     "name": "stdout",
     "output_type": "stream",
     "text": [
      "Checking for required columns in the DataFrame...\n",
      "All required columns are present.\n",
      "Applying filters to create the stock universe...\n",
      "Selected 2436 stocks based on filters.\n",
      "Removing 'DlyReturn' column to prevent look-ahead bias...\n",
      "Stock universe is ready.\n",
      "Generated formula: SpecRisk ~ 0 + USFASTD_1DREVRSL + USFASTD_EARNYILD + USFASTD_VALUE + USFASTD_SENTMT\n",
      "Summed alpha vector shape: (2436,)\n",
      "h0 type: <class 'numpy.ndarray'>, shape: (2436,)\n",
      "specVar type: <class 'numpy.ndarray'>, shape: (2436,)\n",
      "alpha_vec type: <class 'numpy.ndarray'>, shape: (2436,)\n",
      "Lambda type: <class 'numpy.ndarray'>, shape: (2436,)\n",
      "Optimization completed with status: b'CONVERGENCE: NORM_OF_PROJECTED_GRADIENT_<=_PGTOL'\n"
     ]
    },
    {
     "name": "stderr",
     "output_type": "stream",
     "text": [
      "\r",
      "Optimizing Portfolio:  23%|██▎       | 58/252 [17:50<59:40, 18.46s/day]  "
     ]
    },
    {
     "name": "stdout",
     "output_type": "stream",
     "text": [
      "Checking for required columns in the DataFrame...\n",
      "All required columns are present.\n",
      "Applying filters to create the stock universe...\n",
      "Selected 2436 stocks based on filters.\n",
      "Removing 'DlyReturn' column to prevent look-ahead bias...\n",
      "Stock universe is ready.\n",
      "Generated formula: SpecRisk ~ 0 + USFASTD_1DREVRSL + USFASTD_EARNYILD + USFASTD_VALUE + USFASTD_SENTMT\n",
      "Summed alpha vector shape: (2436,)\n",
      "h0 type: <class 'numpy.ndarray'>, shape: (2436,)\n",
      "specVar type: <class 'numpy.ndarray'>, shape: (2436,)\n",
      "alpha_vec type: <class 'numpy.ndarray'>, shape: (2436,)\n",
      "Lambda type: <class 'numpy.ndarray'>, shape: (2436,)\n",
      "Optimization completed with status: b'CONVERGENCE: NORM_OF_PROJECTED_GRADIENT_<=_PGTOL'\n"
     ]
    },
    {
     "name": "stderr",
     "output_type": "stream",
     "text": [
      "\r",
      "Optimizing Portfolio:  23%|██▎       | 59/252 [17:57<58:44, 18.26s/day]"
     ]
    },
    {
     "name": "stdout",
     "output_type": "stream",
     "text": [
      "Checking for required columns in the DataFrame...\n",
      "All required columns are present.\n",
      "Applying filters to create the stock universe...\n",
      "Selected 2436 stocks based on filters.\n",
      "Removing 'DlyReturn' column to prevent look-ahead bias...\n",
      "Stock universe is ready.\n",
      "Generated formula: SpecRisk ~ 0 + USFASTD_1DREVRSL + USFASTD_EARNYILD + USFASTD_VALUE + USFASTD_SENTMT\n",
      "Summed alpha vector shape: (2436,)\n",
      "h0 type: <class 'numpy.ndarray'>, shape: (2436,)\n",
      "specVar type: <class 'numpy.ndarray'>, shape: (2436,)\n",
      "alpha_vec type: <class 'numpy.ndarray'>, shape: (2436,)\n",
      "Lambda type: <class 'numpy.ndarray'>, shape: (2436,)\n"
     ]
    },
    {
     "name": "stderr",
     "output_type": "stream",
     "text": [
      "\r",
      "Optimizing Portfolio:  24%|██▍       | 60/252 [18:06<57:56, 18.11s/day]"
     ]
    },
    {
     "name": "stdout",
     "output_type": "stream",
     "text": [
      "Optimization completed with status: b'CONVERGENCE: NORM_OF_PROJECTED_GRADIENT_<=_PGTOL'\n",
      "Checking for required columns in the DataFrame...\n",
      "All required columns are present.\n",
      "Applying filters to create the stock universe...\n",
      "Selected 2437 stocks based on filters.\n",
      "Removing 'DlyReturn' column to prevent look-ahead bias...\n",
      "Stock universe is ready.\n",
      "Generated formula: SpecRisk ~ 0 + USFASTD_1DREVRSL + USFASTD_EARNYILD + USFASTD_VALUE + USFASTD_SENTMT\n",
      "Summed alpha vector shape: (2437,)\n",
      "h0 type: <class 'numpy.ndarray'>, shape: (2437,)\n",
      "specVar type: <class 'numpy.ndarray'>, shape: (2437,)\n",
      "alpha_vec type: <class 'numpy.ndarray'>, shape: (2437,)\n",
      "Lambda type: <class 'numpy.ndarray'>, shape: (2437,)\n",
      "Optimization completed with status: b'CONVERGENCE: NORM_OF_PROJECTED_GRADIENT_<=_PGTOL'\n"
     ]
    },
    {
     "name": "stderr",
     "output_type": "stream",
     "text": [
      "\r",
      "Optimizing Portfolio:  24%|██▍       | 61/252 [18:43<58:37, 18.42s/day]"
     ]
    },
    {
     "name": "stdout",
     "output_type": "stream",
     "text": [
      "Checking for required columns in the DataFrame...\n",
      "All required columns are present.\n",
      "Applying filters to create the stock universe...\n",
      "Selected 2436 stocks based on filters.\n",
      "Removing 'DlyReturn' column to prevent look-ahead bias...\n",
      "Stock universe is ready.\n",
      "Generated formula: SpecRisk ~ 0 + USFASTD_1DREVRSL + USFASTD_EARNYILD + USFASTD_VALUE + USFASTD_SENTMT\n",
      "Summed alpha vector shape: (2436,)\n",
      "h0 type: <class 'numpy.ndarray'>, shape: (2436,)\n",
      "specVar type: <class 'numpy.ndarray'>, shape: (2436,)\n",
      "alpha_vec type: <class 'numpy.ndarray'>, shape: (2436,)\n",
      "Lambda type: <class 'numpy.ndarray'>, shape: (2436,)\n",
      "Optimization completed with status: b'CONVERGENCE: NORM_OF_PROJECTED_GRADIENT_<=_PGTOL'\n"
     ]
    },
    {
     "name": "stderr",
     "output_type": "stream",
     "text": [
      "\r",
      "Optimizing Portfolio:  25%|██▍       | 62/252 [18:59<58:13, 18.39s/day]"
     ]
    },
    {
     "name": "stdout",
     "output_type": "stream",
     "text": [
      "Checking for required columns in the DataFrame...\n",
      "All required columns are present.\n",
      "Applying filters to create the stock universe...\n",
      "Selected 2441 stocks based on filters.\n",
      "Removing 'DlyReturn' column to prevent look-ahead bias...\n",
      "Stock universe is ready.\n",
      "Generated formula: SpecRisk ~ 0 + USFASTD_1DREVRSL + USFASTD_EARNYILD + USFASTD_VALUE + USFASTD_SENTMT\n",
      "Summed alpha vector shape: (2441,)\n",
      "h0 type: <class 'numpy.ndarray'>, shape: (2441,)\n",
      "specVar type: <class 'numpy.ndarray'>, shape: (2441,)\n",
      "alpha_vec type: <class 'numpy.ndarray'>, shape: (2441,)\n",
      "Lambda type: <class 'numpy.ndarray'>, shape: (2441,)\n",
      "Optimization completed with status: b'CONVERGENCE: REL_REDUCTION_OF_F_<=_FACTR*EPSMCH'\n"
     ]
    },
    {
     "name": "stderr",
     "output_type": "stream",
     "text": [
      "\r",
      "Optimizing Portfolio:  25%|██▌       | 63/252 [19:46<59:20, 18.84s/day]"
     ]
    },
    {
     "name": "stdout",
     "output_type": "stream",
     "text": [
      "Checking for required columns in the DataFrame...\n",
      "All required columns are present.\n",
      "Applying filters to create the stock universe...\n",
      "Selected 2449 stocks based on filters.\n",
      "Removing 'DlyReturn' column to prevent look-ahead bias...\n",
      "Stock universe is ready.\n",
      "Generated formula: SpecRisk ~ 0 + USFASTD_1DREVRSL + USFASTD_EARNYILD + USFASTD_VALUE + USFASTD_SENTMT\n",
      "Summed alpha vector shape: (2449,)\n",
      "h0 type: <class 'numpy.ndarray'>, shape: (2449,)\n",
      "specVar type: <class 'numpy.ndarray'>, shape: (2449,)\n",
      "alpha_vec type: <class 'numpy.ndarray'>, shape: (2449,)\n",
      "Lambda type: <class 'numpy.ndarray'>, shape: (2449,)\n",
      "Optimization completed with status: b'CONVERGENCE: REL_REDUCTION_OF_F_<=_FACTR*EPSMCH'\n"
     ]
    },
    {
     "name": "stderr",
     "output_type": "stream",
     "text": [
      "\r",
      "Optimizing Portfolio:  25%|██▌       | 64/252 [20:05<59:01, 18.84s/day]"
     ]
    },
    {
     "name": "stdout",
     "output_type": "stream",
     "text": [
      "Checking for required columns in the DataFrame...\n",
      "All required columns are present.\n",
      "Applying filters to create the stock universe...\n",
      "Selected 2451 stocks based on filters.\n",
      "Removing 'DlyReturn' column to prevent look-ahead bias...\n",
      "Stock universe is ready.\n",
      "Generated formula: SpecRisk ~ 0 + USFASTD_1DREVRSL + USFASTD_EARNYILD + USFASTD_VALUE + USFASTD_SENTMT\n",
      "Summed alpha vector shape: (2451,)\n",
      "h0 type: <class 'numpy.ndarray'>, shape: (2451,)\n",
      "specVar type: <class 'numpy.ndarray'>, shape: (2451,)\n",
      "alpha_vec type: <class 'numpy.ndarray'>, shape: (2451,)\n",
      "Lambda type: <class 'numpy.ndarray'>, shape: (2451,)\n",
      "Optimization completed with status: b'CONVERGENCE: REL_REDUCTION_OF_F_<=_FACTR*EPSMCH'\n"
     ]
    },
    {
     "name": "stderr",
     "output_type": "stream",
     "text": [
      "\r",
      "Optimizing Portfolio:  26%|██▌       | 65/252 [20:21<58:33, 18.79s/day]"
     ]
    },
    {
     "name": "stdout",
     "output_type": "stream",
     "text": [
      "Checking for required columns in the DataFrame...\n",
      "All required columns are present.\n",
      "Applying filters to create the stock universe...\n",
      "Selected 2451 stocks based on filters.\n",
      "Removing 'DlyReturn' column to prevent look-ahead bias...\n",
      "Stock universe is ready.\n",
      "Generated formula: SpecRisk ~ 0 + USFASTD_1DREVRSL + USFASTD_EARNYILD + USFASTD_VALUE + USFASTD_SENTMT\n",
      "Summed alpha vector shape: (2451,)\n",
      "h0 type: <class 'numpy.ndarray'>, shape: (2451,)\n",
      "specVar type: <class 'numpy.ndarray'>, shape: (2451,)\n",
      "alpha_vec type: <class 'numpy.ndarray'>, shape: (2451,)\n",
      "Lambda type: <class 'numpy.ndarray'>, shape: (2451,)\n",
      "Optimization completed with status: b'CONVERGENCE: NORM_OF_PROJECTED_GRADIENT_<=_PGTOL'\n"
     ]
    },
    {
     "name": "stderr",
     "output_type": "stream",
     "text": [
      "\r",
      "Optimizing Portfolio:  26%|██▌       | 66/252 [20:49<58:41, 18.93s/day]"
     ]
    },
    {
     "name": "stdout",
     "output_type": "stream",
     "text": [
      "Checking for required columns in the DataFrame...\n",
      "All required columns are present.\n",
      "Applying filters to create the stock universe...\n",
      "Selected 2451 stocks based on filters.\n",
      "Removing 'DlyReturn' column to prevent look-ahead bias...\n",
      "Stock universe is ready.\n",
      "Generated formula: SpecRisk ~ 0 + USFASTD_1DREVRSL + USFASTD_EARNYILD + USFASTD_VALUE + USFASTD_SENTMT\n",
      "Summed alpha vector shape: (2451,)\n",
      "h0 type: <class 'numpy.ndarray'>, shape: (2451,)\n",
      "specVar type: <class 'numpy.ndarray'>, shape: (2451,)\n",
      "alpha_vec type: <class 'numpy.ndarray'>, shape: (2451,)\n",
      "Lambda type: <class 'numpy.ndarray'>, shape: (2451,)\n",
      "Optimization completed with status: b'CONVERGENCE: NORM_OF_PROJECTED_GRADIENT_<=_PGTOL'\n"
     ]
    },
    {
     "name": "stderr",
     "output_type": "stream",
     "text": [
      "\r",
      "Optimizing Portfolio:  27%|██▋       | 67/252 [21:46<1:00:06, 19.49s/day]"
     ]
    },
    {
     "name": "stdout",
     "output_type": "stream",
     "text": [
      "Checking for required columns in the DataFrame...\n",
      "All required columns are present.\n",
      "Applying filters to create the stock universe...\n",
      "Selected 2450 stocks based on filters.\n",
      "Removing 'DlyReturn' column to prevent look-ahead bias...\n",
      "Stock universe is ready.\n",
      "Generated formula: SpecRisk ~ 0 + USFASTD_1DREVRSL + USFASTD_EARNYILD + USFASTD_VALUE + USFASTD_SENTMT\n",
      "Summed alpha vector shape: (2450,)\n",
      "h0 type: <class 'numpy.ndarray'>, shape: (2450,)\n",
      "specVar type: <class 'numpy.ndarray'>, shape: (2450,)\n",
      "alpha_vec type: <class 'numpy.ndarray'>, shape: (2450,)\n",
      "Lambda type: <class 'numpy.ndarray'>, shape: (2450,)\n",
      "Optimization completed with status: b'CONVERGENCE: REL_REDUCTION_OF_F_<=_FACTR*EPSMCH'\n"
     ]
    },
    {
     "name": "stderr",
     "output_type": "stream",
     "text": [
      "\r",
      "Optimizing Portfolio:  27%|██▋       | 68/252 [22:17<1:00:18, 19.66s/day]"
     ]
    },
    {
     "name": "stdout",
     "output_type": "stream",
     "text": [
      "Checking for required columns in the DataFrame...\n",
      "All required columns are present.\n",
      "Applying filters to create the stock universe...\n",
      "Selected 2455 stocks based on filters.\n",
      "Removing 'DlyReturn' column to prevent look-ahead bias...\n",
      "Stock universe is ready.\n",
      "Generated formula: SpecRisk ~ 0 + USFASTD_1DREVRSL + USFASTD_EARNYILD + USFASTD_VALUE + USFASTD_SENTMT\n",
      "Summed alpha vector shape: (2455,)\n",
      "h0 type: <class 'numpy.ndarray'>, shape: (2455,)\n",
      "specVar type: <class 'numpy.ndarray'>, shape: (2455,)\n",
      "alpha_vec type: <class 'numpy.ndarray'>, shape: (2455,)\n",
      "Lambda type: <class 'numpy.ndarray'>, shape: (2455,)\n",
      "Optimization completed with status: b'CONVERGENCE: REL_REDUCTION_OF_F_<=_FACTR*EPSMCH'\n"
     ]
    },
    {
     "name": "stderr",
     "output_type": "stream",
     "text": [
      "\r",
      "Optimizing Portfolio:  27%|██▋       | 69/252 [23:03<1:01:09, 20.05s/day]"
     ]
    },
    {
     "name": "stdout",
     "output_type": "stream",
     "text": [
      "Checking for required columns in the DataFrame...\n",
      "All required columns are present.\n",
      "Applying filters to create the stock universe...\n",
      "Selected 2456 stocks based on filters.\n",
      "Removing 'DlyReturn' column to prevent look-ahead bias...\n",
      "Stock universe is ready.\n",
      "Generated formula: SpecRisk ~ 0 + USFASTD_1DREVRSL + USFASTD_EARNYILD + USFASTD_VALUE + USFASTD_SENTMT\n",
      "Summed alpha vector shape: (2456,)\n",
      "h0 type: <class 'numpy.ndarray'>, shape: (2456,)\n",
      "specVar type: <class 'numpy.ndarray'>, shape: (2456,)\n",
      "alpha_vec type: <class 'numpy.ndarray'>, shape: (2456,)\n",
      "Lambda type: <class 'numpy.ndarray'>, shape: (2456,)\n",
      "Optimization completed with status: b'CONVERGENCE: REL_REDUCTION_OF_F_<=_FACTR*EPSMCH'\n"
     ]
    },
    {
     "name": "stderr",
     "output_type": "stream",
     "text": [
      "\r",
      "Optimizing Portfolio:  28%|██▊       | 70/252 [23:30<1:01:07, 20.15s/day]"
     ]
    },
    {
     "name": "stdout",
     "output_type": "stream",
     "text": [
      "Checking for required columns in the DataFrame...\n",
      "All required columns are present.\n",
      "Applying filters to create the stock universe...\n",
      "Selected 2456 stocks based on filters.\n",
      "Removing 'DlyReturn' column to prevent look-ahead bias...\n",
      "Stock universe is ready.\n",
      "Generated formula: SpecRisk ~ 0 + USFASTD_1DREVRSL + USFASTD_EARNYILD + USFASTD_VALUE + USFASTD_SENTMT\n",
      "Summed alpha vector shape: (2456,)\n",
      "h0 type: <class 'numpy.ndarray'>, shape: (2456,)\n",
      "specVar type: <class 'numpy.ndarray'>, shape: (2456,)\n",
      "alpha_vec type: <class 'numpy.ndarray'>, shape: (2456,)\n",
      "Lambda type: <class 'numpy.ndarray'>, shape: (2456,)\n",
      "Optimization completed with status: b'CONVERGENCE: NORM_OF_PROJECTED_GRADIENT_<=_PGTOL'\n"
     ]
    },
    {
     "name": "stderr",
     "output_type": "stream",
     "text": [
      "\r",
      "Optimizing Portfolio:  28%|██▊       | 71/252 [23:50<1:00:47, 20.15s/day]"
     ]
    },
    {
     "name": "stdout",
     "output_type": "stream",
     "text": [
      "Checking for required columns in the DataFrame...\n",
      "All required columns are present.\n",
      "Applying filters to create the stock universe...\n",
      "Selected 2458 stocks based on filters.\n",
      "Removing 'DlyReturn' column to prevent look-ahead bias...\n",
      "Stock universe is ready.\n",
      "Generated formula: SpecRisk ~ 0 + USFASTD_1DREVRSL + USFASTD_EARNYILD + USFASTD_VALUE + USFASTD_SENTMT\n",
      "Summed alpha vector shape: (2458,)\n",
      "h0 type: <class 'numpy.ndarray'>, shape: (2458,)\n",
      "specVar type: <class 'numpy.ndarray'>, shape: (2458,)\n",
      "alpha_vec type: <class 'numpy.ndarray'>, shape: (2458,)\n",
      "Lambda type: <class 'numpy.ndarray'>, shape: (2458,)\n",
      "Optimization completed with status: b'CONVERGENCE: REL_REDUCTION_OF_F_<=_FACTR*EPSMCH'\n"
     ]
    },
    {
     "name": "stderr",
     "output_type": "stream",
     "text": [
      "\r",
      "Optimizing Portfolio:  29%|██▊       | 72/252 [24:50<1:02:05, 20.70s/day]"
     ]
    },
    {
     "name": "stdout",
     "output_type": "stream",
     "text": [
      "Checking for required columns in the DataFrame...\n",
      "All required columns are present.\n",
      "Applying filters to create the stock universe...\n",
      "Selected 2459 stocks based on filters.\n",
      "Removing 'DlyReturn' column to prevent look-ahead bias...\n",
      "Stock universe is ready.\n",
      "Generated formula: SpecRisk ~ 0 + USFASTD_1DREVRSL + USFASTD_EARNYILD + USFASTD_VALUE + USFASTD_SENTMT\n",
      "Summed alpha vector shape: (2459,)\n",
      "h0 type: <class 'numpy.ndarray'>, shape: (2459,)\n",
      "specVar type: <class 'numpy.ndarray'>, shape: (2459,)\n",
      "alpha_vec type: <class 'numpy.ndarray'>, shape: (2459,)\n",
      "Lambda type: <class 'numpy.ndarray'>, shape: (2459,)\n",
      "Optimization completed with status: b'CONVERGENCE: NORM_OF_PROJECTED_GRADIENT_<=_PGTOL'\n"
     ]
    },
    {
     "name": "stderr",
     "output_type": "stream",
     "text": [
      "\r",
      "Optimizing Portfolio:  29%|██▉       | 73/252 [25:13<1:01:51, 20.73s/day]"
     ]
    },
    {
     "name": "stdout",
     "output_type": "stream",
     "text": [
      "Checking for required columns in the DataFrame...\n",
      "All required columns are present.\n",
      "Applying filters to create the stock universe...\n",
      "Selected 2460 stocks based on filters.\n",
      "Removing 'DlyReturn' column to prevent look-ahead bias...\n",
      "Stock universe is ready.\n",
      "Generated formula: SpecRisk ~ 0 + USFASTD_1DREVRSL + USFASTD_EARNYILD + USFASTD_VALUE + USFASTD_SENTMT\n",
      "Summed alpha vector shape: (2460,)\n",
      "h0 type: <class 'numpy.ndarray'>, shape: (2460,)\n",
      "specVar type: <class 'numpy.ndarray'>, shape: (2460,)\n",
      "alpha_vec type: <class 'numpy.ndarray'>, shape: (2460,)\n",
      "Lambda type: <class 'numpy.ndarray'>, shape: (2460,)\n",
      "Optimization completed with status: b'CONVERGENCE: REL_REDUCTION_OF_F_<=_FACTR*EPSMCH'\n"
     ]
    },
    {
     "name": "stderr",
     "output_type": "stream",
     "text": [
      "\r",
      "Optimizing Portfolio:  29%|██▉       | 74/252 [25:29<1:01:18, 20.66s/day]"
     ]
    },
    {
     "name": "stdout",
     "output_type": "stream",
     "text": [
      "Checking for required columns in the DataFrame...\n",
      "All required columns are present.\n",
      "Applying filters to create the stock universe...\n",
      "Selected 2465 stocks based on filters.\n",
      "Removing 'DlyReturn' column to prevent look-ahead bias...\n",
      "Stock universe is ready.\n",
      "Generated formula: SpecRisk ~ 0 + USFASTD_1DREVRSL + USFASTD_EARNYILD + USFASTD_VALUE + USFASTD_SENTMT\n",
      "Summed alpha vector shape: (2465,)\n",
      "h0 type: <class 'numpy.ndarray'>, shape: (2465,)\n",
      "specVar type: <class 'numpy.ndarray'>, shape: (2465,)\n",
      "alpha_vec type: <class 'numpy.ndarray'>, shape: (2465,)\n",
      "Lambda type: <class 'numpy.ndarray'>, shape: (2465,)\n",
      "Optimization completed with status: b'CONVERGENCE: REL_REDUCTION_OF_F_<=_FACTR*EPSMCH'\n"
     ]
    },
    {
     "name": "stderr",
     "output_type": "stream",
     "text": [
      "\r",
      "Optimizing Portfolio:  30%|██▉       | 75/252 [25:49<1:00:57, 20.66s/day]"
     ]
    },
    {
     "name": "stdout",
     "output_type": "stream",
     "text": [
      "Checking for required columns in the DataFrame...\n",
      "All required columns are present.\n",
      "Applying filters to create the stock universe...\n",
      "Selected 2464 stocks based on filters.\n",
      "Removing 'DlyReturn' column to prevent look-ahead bias...\n",
      "Stock universe is ready.\n",
      "Generated formula: SpecRisk ~ 0 + USFASTD_1DREVRSL + USFASTD_EARNYILD + USFASTD_VALUE + USFASTD_SENTMT\n",
      "Summed alpha vector shape: (2464,)\n",
      "h0 type: <class 'numpy.ndarray'>, shape: (2464,)\n",
      "specVar type: <class 'numpy.ndarray'>, shape: (2464,)\n",
      "alpha_vec type: <class 'numpy.ndarray'>, shape: (2464,)\n",
      "Lambda type: <class 'numpy.ndarray'>, shape: (2464,)\n",
      "Optimization completed with status: b'CONVERGENCE: REL_REDUCTION_OF_F_<=_FACTR*EPSMCH'\n"
     ]
    },
    {
     "name": "stderr",
     "output_type": "stream",
     "text": [
      "\r",
      "Optimizing Portfolio:  30%|███       | 76/252 [26:14<1:00:45, 20.71s/day]"
     ]
    },
    {
     "name": "stdout",
     "output_type": "stream",
     "text": [
      "Checking for required columns in the DataFrame...\n",
      "All required columns are present.\n",
      "Applying filters to create the stock universe...\n",
      "Selected 2466 stocks based on filters.\n",
      "Removing 'DlyReturn' column to prevent look-ahead bias...\n",
      "Stock universe is ready.\n",
      "Generated formula: SpecRisk ~ 0 + USFASTD_1DREVRSL + USFASTD_EARNYILD + USFASTD_VALUE + USFASTD_SENTMT\n",
      "Summed alpha vector shape: (2466,)\n",
      "h0 type: <class 'numpy.ndarray'>, shape: (2466,)\n",
      "specVar type: <class 'numpy.ndarray'>, shape: (2466,)\n",
      "alpha_vec type: <class 'numpy.ndarray'>, shape: (2466,)\n",
      "Lambda type: <class 'numpy.ndarray'>, shape: (2466,)\n",
      "Optimization completed with status: b'CONVERGENCE: REL_REDUCTION_OF_F_<=_FACTR*EPSMCH'\n"
     ]
    },
    {
     "name": "stderr",
     "output_type": "stream",
     "text": [
      "\r",
      "Optimizing Portfolio:  31%|███       | 77/252 [26:43<1:00:44, 20.83s/day]"
     ]
    },
    {
     "name": "stdout",
     "output_type": "stream",
     "text": [
      "Checking for required columns in the DataFrame...\n",
      "All required columns are present.\n",
      "Applying filters to create the stock universe...\n",
      "Selected 2468 stocks based on filters.\n",
      "Removing 'DlyReturn' column to prevent look-ahead bias...\n",
      "Stock universe is ready.\n",
      "Generated formula: SpecRisk ~ 0 + USFASTD_1DREVRSL + USFASTD_EARNYILD + USFASTD_VALUE + USFASTD_SENTMT\n",
      "Summed alpha vector shape: (2468,)\n",
      "h0 type: <class 'numpy.ndarray'>, shape: (2468,)\n",
      "specVar type: <class 'numpy.ndarray'>, shape: (2468,)\n",
      "alpha_vec type: <class 'numpy.ndarray'>, shape: (2468,)\n",
      "Lambda type: <class 'numpy.ndarray'>, shape: (2468,)\n",
      "Optimization completed with status: b'CONVERGENCE: NORM_OF_PROJECTED_GRADIENT_<=_PGTOL'\n"
     ]
    },
    {
     "name": "stderr",
     "output_type": "stream",
     "text": [
      "\r",
      "Optimizing Portfolio:  31%|███       | 78/252 [27:13<1:00:44, 20.95s/day]"
     ]
    },
    {
     "name": "stdout",
     "output_type": "stream",
     "text": [
      "Checking for required columns in the DataFrame...\n",
      "All required columns are present.\n",
      "Applying filters to create the stock universe...\n",
      "Selected 2469 stocks based on filters.\n",
      "Removing 'DlyReturn' column to prevent look-ahead bias...\n",
      "Stock universe is ready.\n",
      "Generated formula: SpecRisk ~ 0 + USFASTD_1DREVRSL + USFASTD_EARNYILD + USFASTD_VALUE + USFASTD_SENTMT\n",
      "Summed alpha vector shape: (2469,)\n",
      "h0 type: <class 'numpy.ndarray'>, shape: (2469,)\n",
      "specVar type: <class 'numpy.ndarray'>, shape: (2469,)\n",
      "alpha_vec type: <class 'numpy.ndarray'>, shape: (2469,)\n",
      "Lambda type: <class 'numpy.ndarray'>, shape: (2469,)\n",
      "Optimization completed with status: b'CONVERGENCE: REL_REDUCTION_OF_F_<=_FACTR*EPSMCH'\n"
     ]
    },
    {
     "name": "stderr",
     "output_type": "stream",
     "text": [
      "\r",
      "Optimizing Portfolio:  31%|███▏      | 79/252 [27:51<1:00:59, 21.16s/day]"
     ]
    },
    {
     "name": "stdout",
     "output_type": "stream",
     "text": [
      "Checking for required columns in the DataFrame...\n",
      "All required columns are present.\n",
      "Applying filters to create the stock universe...\n",
      "Selected 2469 stocks based on filters.\n",
      "Removing 'DlyReturn' column to prevent look-ahead bias...\n",
      "Stock universe is ready.\n",
      "Generated formula: SpecRisk ~ 0 + USFASTD_1DREVRSL + USFASTD_EARNYILD + USFASTD_VALUE + USFASTD_SENTMT\n",
      "Summed alpha vector shape: (2469,)\n",
      "h0 type: <class 'numpy.ndarray'>, shape: (2469,)\n",
      "specVar type: <class 'numpy.ndarray'>, shape: (2469,)\n",
      "alpha_vec type: <class 'numpy.ndarray'>, shape: (2469,)\n",
      "Lambda type: <class 'numpy.ndarray'>, shape: (2469,)\n",
      "Optimization completed with status: b'CONVERGENCE: NORM_OF_PROJECTED_GRADIENT_<=_PGTOL'\n"
     ]
    },
    {
     "name": "stderr",
     "output_type": "stream",
     "text": [
      "\r",
      "Optimizing Portfolio:  32%|███▏      | 80/252 [29:11<1:02:44, 21.89s/day]"
     ]
    },
    {
     "name": "stdout",
     "output_type": "stream",
     "text": [
      "Checking for required columns in the DataFrame...\n",
      "All required columns are present.\n",
      "Applying filters to create the stock universe...\n",
      "Selected 2468 stocks based on filters.\n",
      "Removing 'DlyReturn' column to prevent look-ahead bias...\n",
      "Stock universe is ready.\n",
      "Generated formula: SpecRisk ~ 0 + USFASTD_1DREVRSL + USFASTD_EARNYILD + USFASTD_VALUE + USFASTD_SENTMT\n",
      "Summed alpha vector shape: (2468,)\n",
      "h0 type: <class 'numpy.ndarray'>, shape: (2468,)\n",
      "specVar type: <class 'numpy.ndarray'>, shape: (2468,)\n",
      "alpha_vec type: <class 'numpy.ndarray'>, shape: (2468,)\n",
      "Lambda type: <class 'numpy.ndarray'>, shape: (2468,)\n",
      "Optimization completed with status: b'CONVERGENCE: REL_REDUCTION_OF_F_<=_FACTR*EPSMCH'\n"
     ]
    },
    {
     "name": "stderr",
     "output_type": "stream",
     "text": [
      "\r",
      "Optimizing Portfolio:  32%|███▏      | 81/252 [29:44<1:02:48, 22.04s/day]"
     ]
    },
    {
     "name": "stdout",
     "output_type": "stream",
     "text": [
      "Checking for required columns in the DataFrame...\n",
      "All required columns are present.\n",
      "Applying filters to create the stock universe...\n",
      "Selected 2467 stocks based on filters.\n",
      "Removing 'DlyReturn' column to prevent look-ahead bias...\n",
      "Stock universe is ready.\n",
      "Generated formula: SpecRisk ~ 0 + USFASTD_1DREVRSL + USFASTD_EARNYILD + USFASTD_VALUE + USFASTD_SENTMT\n",
      "Summed alpha vector shape: (2467,)\n",
      "h0 type: <class 'numpy.ndarray'>, shape: (2467,)\n",
      "specVar type: <class 'numpy.ndarray'>, shape: (2467,)\n",
      "alpha_vec type: <class 'numpy.ndarray'>, shape: (2467,)\n",
      "Lambda type: <class 'numpy.ndarray'>, shape: (2467,)\n",
      "Optimization completed with status: b'CONVERGENCE: REL_REDUCTION_OF_F_<=_FACTR*EPSMCH'\n"
     ]
    },
    {
     "name": "stderr",
     "output_type": "stream",
     "text": [
      "\r",
      "Optimizing Portfolio:  33%|███▎      | 82/252 [30:27<1:03:08, 22.28s/day]"
     ]
    },
    {
     "name": "stdout",
     "output_type": "stream",
     "text": [
      "Checking for required columns in the DataFrame...\n",
      "All required columns are present.\n",
      "Applying filters to create the stock universe...\n",
      "Selected 2467 stocks based on filters.\n",
      "Removing 'DlyReturn' column to prevent look-ahead bias...\n",
      "Stock universe is ready.\n",
      "Generated formula: SpecRisk ~ 0 + USFASTD_1DREVRSL + USFASTD_EARNYILD + USFASTD_VALUE + USFASTD_SENTMT\n",
      "Summed alpha vector shape: (2467,)\n",
      "h0 type: <class 'numpy.ndarray'>, shape: (2467,)\n",
      "specVar type: <class 'numpy.ndarray'>, shape: (2467,)\n",
      "alpha_vec type: <class 'numpy.ndarray'>, shape: (2467,)\n",
      "Lambda type: <class 'numpy.ndarray'>, shape: (2467,)\n",
      "Optimization completed with status: b'CONVERGENCE: REL_REDUCTION_OF_F_<=_FACTR*EPSMCH'\n"
     ]
    },
    {
     "name": "stderr",
     "output_type": "stream",
     "text": [
      "\r",
      "Optimizing Portfolio:  33%|███▎      | 83/252 [31:30<1:04:09, 22.78s/day]"
     ]
    },
    {
     "name": "stdout",
     "output_type": "stream",
     "text": [
      "Checking for required columns in the DataFrame...\n",
      "All required columns are present.\n",
      "Applying filters to create the stock universe...\n",
      "Selected 2468 stocks based on filters.\n",
      "Removing 'DlyReturn' column to prevent look-ahead bias...\n",
      "Stock universe is ready.\n",
      "Generated formula: SpecRisk ~ 0 + USFASTD_1DREVRSL + USFASTD_EARNYILD + USFASTD_VALUE + USFASTD_SENTMT\n",
      "Summed alpha vector shape: (2468,)\n",
      "h0 type: <class 'numpy.ndarray'>, shape: (2468,)\n",
      "specVar type: <class 'numpy.ndarray'>, shape: (2468,)\n",
      "alpha_vec type: <class 'numpy.ndarray'>, shape: (2468,)\n",
      "Lambda type: <class 'numpy.ndarray'>, shape: (2468,)\n",
      "Optimization completed with status: b'CONVERGENCE: NORM_OF_PROJECTED_GRADIENT_<=_PGTOL'\n"
     ]
    },
    {
     "name": "stderr",
     "output_type": "stream",
     "text": [
      "\r",
      "Optimizing Portfolio:  33%|███▎      | 84/252 [31:56<1:03:53, 22.82s/day]"
     ]
    },
    {
     "name": "stdout",
     "output_type": "stream",
     "text": [
      "Checking for required columns in the DataFrame...\n",
      "All required columns are present.\n",
      "Applying filters to create the stock universe...\n",
      "Selected 2470 stocks based on filters.\n",
      "Removing 'DlyReturn' column to prevent look-ahead bias...\n",
      "Stock universe is ready.\n",
      "Generated formula: SpecRisk ~ 0 + USFASTD_1DREVRSL + USFASTD_EARNYILD + USFASTD_VALUE + USFASTD_SENTMT\n",
      "Summed alpha vector shape: (2470,)\n",
      "h0 type: <class 'numpy.ndarray'>, shape: (2470,)\n",
      "specVar type: <class 'numpy.ndarray'>, shape: (2470,)\n",
      "alpha_vec type: <class 'numpy.ndarray'>, shape: (2470,)\n",
      "Lambda type: <class 'numpy.ndarray'>, shape: (2470,)\n",
      "Optimization completed with status: b'CONVERGENCE: NORM_OF_PROJECTED_GRADIENT_<=_PGTOL'\n"
     ]
    },
    {
     "name": "stderr",
     "output_type": "stream",
     "text": [
      "\r",
      "Optimizing Portfolio:  34%|███▎      | 85/252 [32:12<1:03:17, 22.74s/day]"
     ]
    },
    {
     "name": "stdout",
     "output_type": "stream",
     "text": [
      "Checking for required columns in the DataFrame...\n",
      "All required columns are present.\n",
      "Applying filters to create the stock universe...\n",
      "Selected 2472 stocks based on filters.\n",
      "Removing 'DlyReturn' column to prevent look-ahead bias...\n",
      "Stock universe is ready.\n",
      "Generated formula: SpecRisk ~ 0 + USFASTD_1DREVRSL + USFASTD_EARNYILD + USFASTD_VALUE + USFASTD_SENTMT\n",
      "Summed alpha vector shape: (2472,)\n",
      "h0 type: <class 'numpy.ndarray'>, shape: (2472,)\n",
      "specVar type: <class 'numpy.ndarray'>, shape: (2472,)\n",
      "alpha_vec type: <class 'numpy.ndarray'>, shape: (2472,)\n",
      "Lambda type: <class 'numpy.ndarray'>, shape: (2472,)\n",
      "Optimization completed with status: b'CONVERGENCE: NORM_OF_PROJECTED_GRADIENT_<=_PGTOL'\n"
     ]
    },
    {
     "name": "stderr",
     "output_type": "stream",
     "text": [
      "\r",
      "Optimizing Portfolio:  34%|███▍      | 86/252 [32:32<1:02:47, 22.70s/day]"
     ]
    },
    {
     "name": "stdout",
     "output_type": "stream",
     "text": [
      "Checking for required columns in the DataFrame...\n",
      "All required columns are present.\n",
      "Applying filters to create the stock universe...\n",
      "Selected 2472 stocks based on filters.\n",
      "Removing 'DlyReturn' column to prevent look-ahead bias...\n",
      "Stock universe is ready.\n",
      "Generated formula: SpecRisk ~ 0 + USFASTD_1DREVRSL + USFASTD_EARNYILD + USFASTD_VALUE + USFASTD_SENTMT\n",
      "Summed alpha vector shape: (2472,)\n",
      "h0 type: <class 'numpy.ndarray'>, shape: (2472,)\n",
      "specVar type: <class 'numpy.ndarray'>, shape: (2472,)\n",
      "alpha_vec type: <class 'numpy.ndarray'>, shape: (2472,)\n",
      "Lambda type: <class 'numpy.ndarray'>, shape: (2472,)\n",
      "Optimization completed with status: b'CONVERGENCE: NORM_OF_PROJECTED_GRADIENT_<=_PGTOL'\n"
     ]
    },
    {
     "name": "stderr",
     "output_type": "stream",
     "text": [
      "\r",
      "Optimizing Portfolio:  35%|███▍      | 87/252 [32:55<1:02:26, 22.71s/day]"
     ]
    },
    {
     "name": "stdout",
     "output_type": "stream",
     "text": [
      "Checking for required columns in the DataFrame...\n",
      "All required columns are present.\n",
      "Applying filters to create the stock universe...\n",
      "Selected 2473 stocks based on filters.\n",
      "Removing 'DlyReturn' column to prevent look-ahead bias...\n",
      "Stock universe is ready.\n",
      "Generated formula: SpecRisk ~ 0 + USFASTD_1DREVRSL + USFASTD_EARNYILD + USFASTD_VALUE + USFASTD_SENTMT\n",
      "Summed alpha vector shape: (2473,)\n",
      "h0 type: <class 'numpy.ndarray'>, shape: (2473,)\n",
      "specVar type: <class 'numpy.ndarray'>, shape: (2473,)\n",
      "alpha_vec type: <class 'numpy.ndarray'>, shape: (2473,)\n",
      "Lambda type: <class 'numpy.ndarray'>, shape: (2473,)\n",
      "Optimization completed with status: b'CONVERGENCE: NORM_OF_PROJECTED_GRADIENT_<=_PGTOL'\n"
     ]
    },
    {
     "name": "stderr",
     "output_type": "stream",
     "text": [
      "\r",
      "Optimizing Portfolio:  35%|███▍      | 88/252 [33:14<1:01:56, 22.66s/day]"
     ]
    },
    {
     "name": "stdout",
     "output_type": "stream",
     "text": [
      "Checking for required columns in the DataFrame...\n",
      "All required columns are present.\n",
      "Applying filters to create the stock universe...\n",
      "Selected 2473 stocks based on filters.\n",
      "Removing 'DlyReturn' column to prevent look-ahead bias...\n",
      "Stock universe is ready.\n",
      "Generated formula: SpecRisk ~ 0 + USFASTD_1DREVRSL + USFASTD_EARNYILD + USFASTD_VALUE + USFASTD_SENTMT\n",
      "Summed alpha vector shape: (2473,)\n",
      "h0 type: <class 'numpy.ndarray'>, shape: (2473,)\n",
      "specVar type: <class 'numpy.ndarray'>, shape: (2473,)\n",
      "alpha_vec type: <class 'numpy.ndarray'>, shape: (2473,)\n",
      "Lambda type: <class 'numpy.ndarray'>, shape: (2473,)\n",
      "Optimization completed with status: b'CONVERGENCE: NORM_OF_PROJECTED_GRADIENT_<=_PGTOL'\n"
     ]
    },
    {
     "name": "stderr",
     "output_type": "stream",
     "text": [
      "\r",
      "Optimizing Portfolio:  35%|███▌      | 89/252 [33:34<1:01:30, 22.64s/day]"
     ]
    },
    {
     "name": "stdout",
     "output_type": "stream",
     "text": [
      "Checking for required columns in the DataFrame...\n",
      "All required columns are present.\n",
      "Applying filters to create the stock universe...\n",
      "Selected 2475 stocks based on filters.\n",
      "Removing 'DlyReturn' column to prevent look-ahead bias...\n",
      "Stock universe is ready.\n",
      "Generated formula: SpecRisk ~ 0 + USFASTD_1DREVRSL + USFASTD_EARNYILD + USFASTD_VALUE + USFASTD_SENTMT\n",
      "Summed alpha vector shape: (2475,)\n",
      "h0 type: <class 'numpy.ndarray'>, shape: (2475,)\n",
      "specVar type: <class 'numpy.ndarray'>, shape: (2475,)\n",
      "alpha_vec type: <class 'numpy.ndarray'>, shape: (2475,)\n",
      "Lambda type: <class 'numpy.ndarray'>, shape: (2475,)\n",
      "Optimization completed with status: b'CONVERGENCE: NORM_OF_PROJECTED_GRADIENT_<=_PGTOL'\n"
     ]
    },
    {
     "name": "stderr",
     "output_type": "stream",
     "text": [
      "\r",
      "Optimizing Portfolio:  36%|███▌      | 90/252 [33:56<1:01:06, 22.63s/day]"
     ]
    },
    {
     "name": "stdout",
     "output_type": "stream",
     "text": [
      "Checking for required columns in the DataFrame...\n",
      "All required columns are present.\n",
      "Applying filters to create the stock universe...\n",
      "Selected 2475 stocks based on filters.\n",
      "Removing 'DlyReturn' column to prevent look-ahead bias...\n",
      "Stock universe is ready.\n",
      "Generated formula: SpecRisk ~ 0 + USFASTD_1DREVRSL + USFASTD_EARNYILD + USFASTD_VALUE + USFASTD_SENTMT\n",
      "Summed alpha vector shape: (2475,)\n",
      "h0 type: <class 'numpy.ndarray'>, shape: (2475,)\n",
      "specVar type: <class 'numpy.ndarray'>, shape: (2475,)\n",
      "alpha_vec type: <class 'numpy.ndarray'>, shape: (2475,)\n",
      "Lambda type: <class 'numpy.ndarray'>, shape: (2475,)\n",
      "Optimization completed with status: b'CONVERGENCE: NORM_OF_PROJECTED_GRADIENT_<=_PGTOL'\n"
     ]
    },
    {
     "name": "stderr",
     "output_type": "stream",
     "text": [
      "\r",
      "Optimizing Portfolio:  36%|███▌      | 91/252 [34:31<1:01:05, 22.77s/day]"
     ]
    },
    {
     "name": "stdout",
     "output_type": "stream",
     "text": [
      "Checking for required columns in the DataFrame...\n",
      "All required columns are present.\n",
      "Applying filters to create the stock universe...\n",
      "Selected 2475 stocks based on filters.\n",
      "Removing 'DlyReturn' column to prevent look-ahead bias...\n",
      "Stock universe is ready.\n",
      "Generated formula: SpecRisk ~ 0 + USFASTD_1DREVRSL + USFASTD_EARNYILD + USFASTD_VALUE + USFASTD_SENTMT\n",
      "Summed alpha vector shape: (2475,)\n",
      "h0 type: <class 'numpy.ndarray'>, shape: (2475,)\n",
      "specVar type: <class 'numpy.ndarray'>, shape: (2475,)\n",
      "alpha_vec type: <class 'numpy.ndarray'>, shape: (2475,)\n",
      "Lambda type: <class 'numpy.ndarray'>, shape: (2475,)\n",
      "Optimization completed with status: b'CONVERGENCE: NORM_OF_PROJECTED_GRADIENT_<=_PGTOL'\n"
     ]
    },
    {
     "name": "stderr",
     "output_type": "stream",
     "text": [
      "\r",
      "Optimizing Portfolio:  37%|███▋      | 92/252 [34:48<1:00:31, 22.70s/day]"
     ]
    },
    {
     "name": "stdout",
     "output_type": "stream",
     "text": [
      "Checking for required columns in the DataFrame...\n",
      "All required columns are present.\n",
      "Applying filters to create the stock universe...\n",
      "Selected 2475 stocks based on filters.\n",
      "Removing 'DlyReturn' column to prevent look-ahead bias...\n",
      "Stock universe is ready.\n",
      "Generated formula: SpecRisk ~ 0 + USFASTD_1DREVRSL + USFASTD_EARNYILD + USFASTD_VALUE + USFASTD_SENTMT\n",
      "Summed alpha vector shape: (2475,)\n",
      "h0 type: <class 'numpy.ndarray'>, shape: (2475,)\n",
      "specVar type: <class 'numpy.ndarray'>, shape: (2475,)\n",
      "alpha_vec type: <class 'numpy.ndarray'>, shape: (2475,)\n",
      "Lambda type: <class 'numpy.ndarray'>, shape: (2475,)\n",
      "Optimization completed with status: b'CONVERGENCE: NORM_OF_PROJECTED_GRADIENT_<=_PGTOL'\n"
     ]
    },
    {
     "name": "stderr",
     "output_type": "stream",
     "text": [
      "\r",
      "Optimizing Portfolio:  37%|███▋      | 93/252 [34:58<59:48, 22.57s/day]  "
     ]
    },
    {
     "name": "stdout",
     "output_type": "stream",
     "text": [
      "Checking for required columns in the DataFrame...\n",
      "All required columns are present.\n",
      "Applying filters to create the stock universe...\n",
      "Selected 2476 stocks based on filters.\n",
      "Removing 'DlyReturn' column to prevent look-ahead bias...\n",
      "Stock universe is ready.\n",
      "Generated formula: SpecRisk ~ 0 + USFASTD_1DREVRSL + USFASTD_EARNYILD + USFASTD_VALUE + USFASTD_SENTMT\n",
      "Summed alpha vector shape: (2476,)\n",
      "h0 type: <class 'numpy.ndarray'>, shape: (2476,)\n",
      "specVar type: <class 'numpy.ndarray'>, shape: (2476,)\n",
      "alpha_vec type: <class 'numpy.ndarray'>, shape: (2476,)\n",
      "Lambda type: <class 'numpy.ndarray'>, shape: (2476,)\n",
      "Optimization completed with status: b'CONVERGENCE: NORM_OF_PROJECTED_GRADIENT_<=_PGTOL'\n"
     ]
    },
    {
     "name": "stderr",
     "output_type": "stream",
     "text": [
      "\r",
      "Optimizing Portfolio:  37%|███▋      | 94/252 [35:09<59:05, 22.44s/day]"
     ]
    },
    {
     "name": "stdout",
     "output_type": "stream",
     "text": [
      "Checking for required columns in the DataFrame...\n",
      "All required columns are present.\n",
      "Applying filters to create the stock universe...\n",
      "Selected 2477 stocks based on filters.\n",
      "Removing 'DlyReturn' column to prevent look-ahead bias...\n",
      "Stock universe is ready.\n",
      "Generated formula: SpecRisk ~ 0 + USFASTD_1DREVRSL + USFASTD_EARNYILD + USFASTD_VALUE + USFASTD_SENTMT\n",
      "Summed alpha vector shape: (2477,)\n",
      "h0 type: <class 'numpy.ndarray'>, shape: (2477,)\n",
      "specVar type: <class 'numpy.ndarray'>, shape: (2477,)\n",
      "alpha_vec type: <class 'numpy.ndarray'>, shape: (2477,)\n",
      "Lambda type: <class 'numpy.ndarray'>, shape: (2477,)\n",
      "Optimization completed with status: b'CONVERGENCE: NORM_OF_PROJECTED_GRADIENT_<=_PGTOL'\n"
     ]
    },
    {
     "name": "stderr",
     "output_type": "stream",
     "text": [
      "\r",
      "Optimizing Portfolio:  38%|███▊      | 95/252 [35:27<58:35, 22.39s/day]"
     ]
    },
    {
     "name": "stdout",
     "output_type": "stream",
     "text": [
      "Checking for required columns in the DataFrame...\n",
      "All required columns are present.\n",
      "Applying filters to create the stock universe...\n",
      "Selected 2477 stocks based on filters.\n",
      "Removing 'DlyReturn' column to prevent look-ahead bias...\n",
      "Stock universe is ready.\n",
      "Generated formula: SpecRisk ~ 0 + USFASTD_1DREVRSL + USFASTD_EARNYILD + USFASTD_VALUE + USFASTD_SENTMT\n",
      "Summed alpha vector shape: (2477,)\n",
      "h0 type: <class 'numpy.ndarray'>, shape: (2477,)\n",
      "specVar type: <class 'numpy.ndarray'>, shape: (2477,)\n",
      "alpha_vec type: <class 'numpy.ndarray'>, shape: (2477,)\n",
      "Lambda type: <class 'numpy.ndarray'>, shape: (2477,)\n",
      "Optimization completed with status: b'CONVERGENCE: NORM_OF_PROJECTED_GRADIENT_<=_PGTOL'\n"
     ]
    },
    {
     "name": "stderr",
     "output_type": "stream",
     "text": [
      "\r",
      "Optimizing Portfolio:  38%|███▊      | 96/252 [36:01<58:31, 22.51s/day]"
     ]
    },
    {
     "name": "stdout",
     "output_type": "stream",
     "text": [
      "Checking for required columns in the DataFrame...\n",
      "All required columns are present.\n",
      "Applying filters to create the stock universe...\n",
      "Selected 2477 stocks based on filters.\n",
      "Removing 'DlyReturn' column to prevent look-ahead bias...\n",
      "Stock universe is ready.\n",
      "Generated formula: SpecRisk ~ 0 + USFASTD_1DREVRSL + USFASTD_EARNYILD + USFASTD_VALUE + USFASTD_SENTMT\n",
      "Summed alpha vector shape: (2477,)\n",
      "h0 type: <class 'numpy.ndarray'>, shape: (2477,)\n",
      "specVar type: <class 'numpy.ndarray'>, shape: (2477,)\n",
      "alpha_vec type: <class 'numpy.ndarray'>, shape: (2477,)\n",
      "Lambda type: <class 'numpy.ndarray'>, shape: (2477,)\n",
      "Optimization completed with status: b'CONVERGENCE: REL_REDUCTION_OF_F_<=_FACTR*EPSMCH'\n"
     ]
    },
    {
     "name": "stderr",
     "output_type": "stream",
     "text": [
      "\r",
      "Optimizing Portfolio:  38%|███▊      | 97/252 [36:15<57:55, 22.43s/day]"
     ]
    },
    {
     "name": "stdout",
     "output_type": "stream",
     "text": [
      "Checking for required columns in the DataFrame...\n",
      "All required columns are present.\n",
      "Applying filters to create the stock universe...\n",
      "Selected 2479 stocks based on filters.\n",
      "Removing 'DlyReturn' column to prevent look-ahead bias...\n",
      "Stock universe is ready.\n",
      "Generated formula: SpecRisk ~ 0 + USFASTD_1DREVRSL + USFASTD_EARNYILD + USFASTD_VALUE + USFASTD_SENTMT\n",
      "Summed alpha vector shape: (2479,)\n",
      "h0 type: <class 'numpy.ndarray'>, shape: (2479,)\n",
      "specVar type: <class 'numpy.ndarray'>, shape: (2479,)\n",
      "alpha_vec type: <class 'numpy.ndarray'>, shape: (2479,)\n",
      "Lambda type: <class 'numpy.ndarray'>, shape: (2479,)\n",
      "Optimization completed with status: b'CONVERGENCE: NORM_OF_PROJECTED_GRADIENT_<=_PGTOL'\n"
     ]
    },
    {
     "name": "stderr",
     "output_type": "stream",
     "text": [
      "\r",
      "Optimizing Portfolio:  39%|███▉      | 98/252 [36:25<57:15, 22.31s/day]"
     ]
    },
    {
     "name": "stdout",
     "output_type": "stream",
     "text": [
      "Checking for required columns in the DataFrame...\n",
      "All required columns are present.\n",
      "Applying filters to create the stock universe...\n",
      "Selected 2480 stocks based on filters.\n",
      "Removing 'DlyReturn' column to prevent look-ahead bias...\n",
      "Stock universe is ready.\n",
      "Generated formula: SpecRisk ~ 0 + USFASTD_1DREVRSL + USFASTD_EARNYILD + USFASTD_VALUE + USFASTD_SENTMT\n",
      "Summed alpha vector shape: (2480,)\n",
      "h0 type: <class 'numpy.ndarray'>, shape: (2480,)\n",
      "specVar type: <class 'numpy.ndarray'>, shape: (2480,)\n",
      "alpha_vec type: <class 'numpy.ndarray'>, shape: (2480,)\n",
      "Lambda type: <class 'numpy.ndarray'>, shape: (2480,)\n",
      "Optimization completed with status: b'CONVERGENCE: NORM_OF_PROJECTED_GRADIENT_<=_PGTOL'\n"
     ]
    },
    {
     "name": "stderr",
     "output_type": "stream",
     "text": [
      "\r",
      "Optimizing Portfolio:  39%|███▉      | 99/252 [36:32<56:28, 22.14s/day]"
     ]
    },
    {
     "name": "stdout",
     "output_type": "stream",
     "text": [
      "Checking for required columns in the DataFrame...\n",
      "All required columns are present.\n",
      "Applying filters to create the stock universe...\n",
      "Selected 2481 stocks based on filters.\n",
      "Removing 'DlyReturn' column to prevent look-ahead bias...\n",
      "Stock universe is ready.\n",
      "Generated formula: SpecRisk ~ 0 + USFASTD_1DREVRSL + USFASTD_EARNYILD + USFASTD_VALUE + USFASTD_SENTMT\n",
      "Summed alpha vector shape: (2481,)\n",
      "h0 type: <class 'numpy.ndarray'>, shape: (2481,)\n",
      "specVar type: <class 'numpy.ndarray'>, shape: (2481,)\n",
      "alpha_vec type: <class 'numpy.ndarray'>, shape: (2481,)\n",
      "Lambda type: <class 'numpy.ndarray'>, shape: (2481,)\n",
      "Optimization completed with status: b'CONVERGENCE: NORM_OF_PROJECTED_GRADIENT_<=_PGTOL'\n"
     ]
    },
    {
     "name": "stderr",
     "output_type": "stream",
     "text": [
      "\r",
      "Optimizing Portfolio:  40%|███▉      | 100/252 [36:48<55:56, 22.08s/day]"
     ]
    },
    {
     "name": "stdout",
     "output_type": "stream",
     "text": [
      "Checking for required columns in the DataFrame...\n",
      "All required columns are present.\n",
      "Applying filters to create the stock universe...\n",
      "Selected 2482 stocks based on filters.\n",
      "Removing 'DlyReturn' column to prevent look-ahead bias...\n",
      "Stock universe is ready.\n",
      "Generated formula: SpecRisk ~ 0 + USFASTD_1DREVRSL + USFASTD_EARNYILD + USFASTD_VALUE + USFASTD_SENTMT\n",
      "Summed alpha vector shape: (2482,)\n",
      "h0 type: <class 'numpy.ndarray'>, shape: (2482,)\n",
      "specVar type: <class 'numpy.ndarray'>, shape: (2482,)\n",
      "alpha_vec type: <class 'numpy.ndarray'>, shape: (2482,)\n",
      "Lambda type: <class 'numpy.ndarray'>, shape: (2482,)\n",
      "Optimization completed with status: b'CONVERGENCE: NORM_OF_PROJECTED_GRADIENT_<=_PGTOL'\n"
     ]
    },
    {
     "name": "stderr",
     "output_type": "stream",
     "text": [
      "\r",
      "Optimizing Portfolio:  40%|████      | 101/252 [37:01<55:21, 22.00s/day]"
     ]
    },
    {
     "name": "stdout",
     "output_type": "stream",
     "text": [
      "Checking for required columns in the DataFrame...\n",
      "All required columns are present.\n",
      "Applying filters to create the stock universe...\n",
      "Selected 2478 stocks based on filters.\n",
      "Removing 'DlyReturn' column to prevent look-ahead bias...\n",
      "Stock universe is ready.\n",
      "Generated formula: SpecRisk ~ 0 + USFASTD_1DREVRSL + USFASTD_EARNYILD + USFASTD_VALUE + USFASTD_SENTMT\n",
      "Summed alpha vector shape: (2478,)\n",
      "h0 type: <class 'numpy.ndarray'>, shape: (2478,)\n",
      "specVar type: <class 'numpy.ndarray'>, shape: (2478,)\n",
      "alpha_vec type: <class 'numpy.ndarray'>, shape: (2478,)\n",
      "Lambda type: <class 'numpy.ndarray'>, shape: (2478,)\n",
      "Optimization completed with status: b'CONVERGENCE: NORM_OF_PROJECTED_GRADIENT_<=_PGTOL'\n"
     ]
    },
    {
     "name": "stderr",
     "output_type": "stream",
     "text": [
      "\r",
      "Optimizing Portfolio:  40%|████      | 102/252 [37:24<55:00, 22.01s/day]"
     ]
    },
    {
     "name": "stdout",
     "output_type": "stream",
     "text": [
      "Checking for required columns in the DataFrame...\n",
      "All required columns are present.\n",
      "Applying filters to create the stock universe...\n",
      "Selected 2479 stocks based on filters.\n",
      "Removing 'DlyReturn' column to prevent look-ahead bias...\n",
      "Stock universe is ready.\n",
      "Generated formula: SpecRisk ~ 0 + USFASTD_1DREVRSL + USFASTD_EARNYILD + USFASTD_VALUE + USFASTD_SENTMT\n",
      "Summed alpha vector shape: (2479,)\n",
      "h0 type: <class 'numpy.ndarray'>, shape: (2479,)\n",
      "specVar type: <class 'numpy.ndarray'>, shape: (2479,)\n",
      "alpha_vec type: <class 'numpy.ndarray'>, shape: (2479,)\n",
      "Lambda type: <class 'numpy.ndarray'>, shape: (2479,)\n",
      "Optimization completed with status: b'CONVERGENCE: REL_REDUCTION_OF_F_<=_FACTR*EPSMCH'\n"
     ]
    },
    {
     "name": "stderr",
     "output_type": "stream",
     "text": [
      "\r",
      "Optimizing Portfolio:  41%|████      | 103/252 [37:53<54:49, 22.08s/day]"
     ]
    },
    {
     "name": "stdout",
     "output_type": "stream",
     "text": [
      "Checking for required columns in the DataFrame...\n",
      "All required columns are present.\n",
      "Applying filters to create the stock universe...\n",
      "Selected 2484 stocks based on filters.\n",
      "Removing 'DlyReturn' column to prevent look-ahead bias...\n",
      "Stock universe is ready.\n",
      "Generated formula: SpecRisk ~ 0 + USFASTD_1DREVRSL + USFASTD_EARNYILD + USFASTD_VALUE + USFASTD_SENTMT\n",
      "Summed alpha vector shape: (2484,)\n",
      "h0 type: <class 'numpy.ndarray'>, shape: (2484,)\n",
      "specVar type: <class 'numpy.ndarray'>, shape: (2484,)\n",
      "alpha_vec type: <class 'numpy.ndarray'>, shape: (2484,)\n",
      "Lambda type: <class 'numpy.ndarray'>, shape: (2484,)\n",
      "Optimization completed with status: b'CONVERGENCE: NORM_OF_PROJECTED_GRADIENT_<=_PGTOL'\n"
     ]
    },
    {
     "name": "stderr",
     "output_type": "stream",
     "text": [
      "\r",
      "Optimizing Portfolio:  41%|████▏     | 104/252 [38:07<54:14, 21.99s/day]"
     ]
    },
    {
     "name": "stdout",
     "output_type": "stream",
     "text": [
      "Checking for required columns in the DataFrame...\n",
      "All required columns are present.\n",
      "Applying filters to create the stock universe...\n",
      "Selected 2485 stocks based on filters.\n",
      "Removing 'DlyReturn' column to prevent look-ahead bias...\n",
      "Stock universe is ready.\n",
      "Generated formula: SpecRisk ~ 0 + USFASTD_1DREVRSL + USFASTD_EARNYILD + USFASTD_VALUE + USFASTD_SENTMT\n",
      "Summed alpha vector shape: (2485,)\n",
      "h0 type: <class 'numpy.ndarray'>, shape: (2485,)\n",
      "specVar type: <class 'numpy.ndarray'>, shape: (2485,)\n",
      "alpha_vec type: <class 'numpy.ndarray'>, shape: (2485,)\n",
      "Lambda type: <class 'numpy.ndarray'>, shape: (2485,)\n",
      "Optimization completed with status: b'CONVERGENCE: REL_REDUCTION_OF_F_<=_FACTR*EPSMCH'\n"
     ]
    },
    {
     "name": "stderr",
     "output_type": "stream",
     "text": [
      "\r",
      "Optimizing Portfolio:  42%|████▏     | 105/252 [38:23<53:45, 21.94s/day]"
     ]
    },
    {
     "name": "stdout",
     "output_type": "stream",
     "text": [
      "Checking for required columns in the DataFrame...\n",
      "All required columns are present.\n",
      "Applying filters to create the stock universe...\n",
      "Selected 2485 stocks based on filters.\n",
      "Removing 'DlyReturn' column to prevent look-ahead bias...\n",
      "Stock universe is ready.\n",
      "Generated formula: SpecRisk ~ 0 + USFASTD_1DREVRSL + USFASTD_EARNYILD + USFASTD_VALUE + USFASTD_SENTMT\n",
      "Summed alpha vector shape: (2485,)\n",
      "h0 type: <class 'numpy.ndarray'>, shape: (2485,)\n",
      "specVar type: <class 'numpy.ndarray'>, shape: (2485,)\n",
      "alpha_vec type: <class 'numpy.ndarray'>, shape: (2485,)\n",
      "Lambda type: <class 'numpy.ndarray'>, shape: (2485,)\n"
     ]
    },
    {
     "name": "stderr",
     "output_type": "stream",
     "text": [
      "\r",
      "Optimizing Portfolio:  42%|████▏     | 106/252 [39:02<53:46, 22.10s/day]"
     ]
    },
    {
     "name": "stdout",
     "output_type": "stream",
     "text": [
      "Optimization completed with status: b'CONVERGENCE: NORM_OF_PROJECTED_GRADIENT_<=_PGTOL'\n",
      "Checking for required columns in the DataFrame...\n",
      "All required columns are present.\n",
      "Applying filters to create the stock universe...\n",
      "Selected 2485 stocks based on filters.\n",
      "Removing 'DlyReturn' column to prevent look-ahead bias...\n",
      "Stock universe is ready.\n",
      "Generated formula: SpecRisk ~ 0 + USFASTD_1DREVRSL + USFASTD_EARNYILD + USFASTD_VALUE + USFASTD_SENTMT\n",
      "Summed alpha vector shape: (2485,)\n",
      "h0 type: <class 'numpy.ndarray'>, shape: (2485,)\n",
      "specVar type: <class 'numpy.ndarray'>, shape: (2485,)\n",
      "alpha_vec type: <class 'numpy.ndarray'>, shape: (2485,)\n",
      "Lambda type: <class 'numpy.ndarray'>, shape: (2485,)\n",
      "Optimization completed with status: b'CONVERGENCE: REL_REDUCTION_OF_F_<=_FACTR*EPSMCH'\n"
     ]
    },
    {
     "name": "stderr",
     "output_type": "stream",
     "text": [
      "\r",
      "Optimizing Portfolio:  42%|████▏     | 107/252 [39:33<53:36, 22.19s/day]"
     ]
    },
    {
     "name": "stdout",
     "output_type": "stream",
     "text": [
      "Checking for required columns in the DataFrame...\n",
      "All required columns are present.\n",
      "Applying filters to create the stock universe...\n",
      "Selected 2489 stocks based on filters.\n",
      "Removing 'DlyReturn' column to prevent look-ahead bias...\n",
      "Stock universe is ready.\n",
      "Generated formula: SpecRisk ~ 0 + USFASTD_1DREVRSL + USFASTD_EARNYILD + USFASTD_VALUE + USFASTD_SENTMT\n",
      "Summed alpha vector shape: (2489,)\n",
      "h0 type: <class 'numpy.ndarray'>, shape: (2489,)\n",
      "specVar type: <class 'numpy.ndarray'>, shape: (2489,)\n",
      "alpha_vec type: <class 'numpy.ndarray'>, shape: (2489,)\n",
      "Lambda type: <class 'numpy.ndarray'>, shape: (2489,)\n",
      "Optimization completed with status: b'CONVERGENCE: REL_REDUCTION_OF_F_<=_FACTR*EPSMCH'\n"
     ]
    },
    {
     "name": "stderr",
     "output_type": "stream",
     "text": [
      "\r",
      "Optimizing Portfolio:  43%|████▎     | 108/252 [40:06<53:28, 22.28s/day]"
     ]
    },
    {
     "name": "stdout",
     "output_type": "stream",
     "text": [
      "Checking for required columns in the DataFrame...\n",
      "All required columns are present.\n",
      "Applying filters to create the stock universe...\n",
      "Selected 2490 stocks based on filters.\n",
      "Removing 'DlyReturn' column to prevent look-ahead bias...\n",
      "Stock universe is ready.\n",
      "Generated formula: SpecRisk ~ 0 + USFASTD_1DREVRSL + USFASTD_EARNYILD + USFASTD_VALUE + USFASTD_SENTMT\n",
      "Summed alpha vector shape: (2490,)\n",
      "h0 type: <class 'numpy.ndarray'>, shape: (2490,)\n",
      "specVar type: <class 'numpy.ndarray'>, shape: (2490,)\n",
      "alpha_vec type: <class 'numpy.ndarray'>, shape: (2490,)\n",
      "Lambda type: <class 'numpy.ndarray'>, shape: (2490,)\n",
      "Optimization completed with status: b'CONVERGENCE: NORM_OF_PROJECTED_GRADIENT_<=_PGTOL'\n"
     ]
    },
    {
     "name": "stderr",
     "output_type": "stream",
     "text": [
      "\r",
      "Optimizing Portfolio:  43%|████▎     | 109/252 [40:36<53:16, 22.35s/day]"
     ]
    },
    {
     "name": "stdout",
     "output_type": "stream",
     "text": [
      "Checking for required columns in the DataFrame...\n",
      "All required columns are present.\n",
      "Applying filters to create the stock universe...\n",
      "Selected 2490 stocks based on filters.\n",
      "Removing 'DlyReturn' column to prevent look-ahead bias...\n",
      "Stock universe is ready.\n",
      "Generated formula: SpecRisk ~ 0 + USFASTD_1DREVRSL + USFASTD_EARNYILD + USFASTD_VALUE + USFASTD_SENTMT\n",
      "Summed alpha vector shape: (2490,)\n",
      "h0 type: <class 'numpy.ndarray'>, shape: (2490,)\n",
      "specVar type: <class 'numpy.ndarray'>, shape: (2490,)\n",
      "alpha_vec type: <class 'numpy.ndarray'>, shape: (2490,)\n",
      "Lambda type: <class 'numpy.ndarray'>, shape: (2490,)\n",
      "Optimization completed with status: b'CONVERGENCE: NORM_OF_PROJECTED_GRADIENT_<=_PGTOL'\n"
     ]
    },
    {
     "name": "stderr",
     "output_type": "stream",
     "text": [
      "\r",
      "Optimizing Portfolio:  44%|████▎     | 110/252 [40:55<52:49, 22.32s/day]"
     ]
    },
    {
     "name": "stdout",
     "output_type": "stream",
     "text": [
      "Checking for required columns in the DataFrame...\n",
      "All required columns are present.\n",
      "Applying filters to create the stock universe...\n",
      "Selected 2491 stocks based on filters.\n",
      "Removing 'DlyReturn' column to prevent look-ahead bias...\n",
      "Stock universe is ready.\n",
      "Generated formula: SpecRisk ~ 0 + USFASTD_1DREVRSL + USFASTD_EARNYILD + USFASTD_VALUE + USFASTD_SENTMT\n",
      "Summed alpha vector shape: (2491,)\n",
      "h0 type: <class 'numpy.ndarray'>, shape: (2491,)\n",
      "specVar type: <class 'numpy.ndarray'>, shape: (2491,)\n",
      "alpha_vec type: <class 'numpy.ndarray'>, shape: (2491,)\n",
      "Lambda type: <class 'numpy.ndarray'>, shape: (2491,)\n",
      "Optimization completed with status: b'CONVERGENCE: REL_REDUCTION_OF_F_<=_FACTR*EPSMCH'\n"
     ]
    },
    {
     "name": "stderr",
     "output_type": "stream",
     "text": [
      "\r",
      "Optimizing Portfolio:  44%|████▍     | 111/252 [41:40<52:56, 22.53s/day]"
     ]
    },
    {
     "name": "stdout",
     "output_type": "stream",
     "text": [
      "Checking for required columns in the DataFrame...\n",
      "All required columns are present.\n",
      "Applying filters to create the stock universe...\n",
      "Selected 2493 stocks based on filters.\n",
      "Removing 'DlyReturn' column to prevent look-ahead bias...\n",
      "Stock universe is ready.\n",
      "Generated formula: SpecRisk ~ 0 + USFASTD_1DREVRSL + USFASTD_EARNYILD + USFASTD_VALUE + USFASTD_SENTMT\n",
      "Summed alpha vector shape: (2493,)\n",
      "h0 type: <class 'numpy.ndarray'>, shape: (2493,)\n",
      "specVar type: <class 'numpy.ndarray'>, shape: (2493,)\n",
      "alpha_vec type: <class 'numpy.ndarray'>, shape: (2493,)\n",
      "Lambda type: <class 'numpy.ndarray'>, shape: (2493,)\n",
      "Optimization completed with status: b'CONVERGENCE: REL_REDUCTION_OF_F_<=_FACTR*EPSMCH'\n"
     ]
    },
    {
     "name": "stderr",
     "output_type": "stream",
     "text": [
      "\r",
      "Optimizing Portfolio:  44%|████▍     | 112/252 [42:18<52:53, 22.67s/day]"
     ]
    },
    {
     "name": "stdout",
     "output_type": "stream",
     "text": [
      "Checking for required columns in the DataFrame...\n",
      "All required columns are present.\n",
      "Applying filters to create the stock universe...\n",
      "Selected 2494 stocks based on filters.\n",
      "Removing 'DlyReturn' column to prevent look-ahead bias...\n",
      "Stock universe is ready.\n",
      "Generated formula: SpecRisk ~ 0 + USFASTD_1DREVRSL + USFASTD_EARNYILD + USFASTD_VALUE + USFASTD_SENTMT\n",
      "Summed alpha vector shape: (2494,)\n",
      "h0 type: <class 'numpy.ndarray'>, shape: (2494,)\n",
      "specVar type: <class 'numpy.ndarray'>, shape: (2494,)\n",
      "alpha_vec type: <class 'numpy.ndarray'>, shape: (2494,)\n",
      "Lambda type: <class 'numpy.ndarray'>, shape: (2494,)\n",
      "Optimization completed with status: b'CONVERGENCE: REL_REDUCTION_OF_F_<=_FACTR*EPSMCH'\n"
     ]
    },
    {
     "name": "stderr",
     "output_type": "stream",
     "text": [
      "\r",
      "Optimizing Portfolio:  45%|████▍     | 113/252 [42:43<52:33, 22.69s/day]"
     ]
    },
    {
     "name": "stdout",
     "output_type": "stream",
     "text": [
      "Checking for required columns in the DataFrame...\n",
      "All required columns are present.\n",
      "Applying filters to create the stock universe...\n",
      "Selected 2497 stocks based on filters.\n",
      "Removing 'DlyReturn' column to prevent look-ahead bias...\n",
      "Stock universe is ready.\n",
      "Generated formula: SpecRisk ~ 0 + USFASTD_1DREVRSL + USFASTD_EARNYILD + USFASTD_VALUE + USFASTD_SENTMT\n",
      "Summed alpha vector shape: (2497,)\n",
      "h0 type: <class 'numpy.ndarray'>, shape: (2497,)\n",
      "specVar type: <class 'numpy.ndarray'>, shape: (2497,)\n",
      "alpha_vec type: <class 'numpy.ndarray'>, shape: (2497,)\n",
      "Lambda type: <class 'numpy.ndarray'>, shape: (2497,)\n",
      "Optimization completed with status: b'CONVERGENCE: REL_REDUCTION_OF_F_<=_FACTR*EPSMCH'\n"
     ]
    },
    {
     "name": "stderr",
     "output_type": "stream",
     "text": [
      "\r",
      "Optimizing Portfolio:  45%|████▌     | 114/252 [43:34<52:45, 22.94s/day]"
     ]
    },
    {
     "name": "stdout",
     "output_type": "stream",
     "text": [
      "Checking for required columns in the DataFrame...\n",
      "All required columns are present.\n",
      "Applying filters to create the stock universe...\n",
      "Selected 2498 stocks based on filters.\n",
      "Removing 'DlyReturn' column to prevent look-ahead bias...\n",
      "Stock universe is ready.\n",
      "Generated formula: SpecRisk ~ 0 + USFASTD_1DREVRSL + USFASTD_EARNYILD + USFASTD_VALUE + USFASTD_SENTMT\n",
      "Summed alpha vector shape: (2498,)\n",
      "h0 type: <class 'numpy.ndarray'>, shape: (2498,)\n",
      "specVar type: <class 'numpy.ndarray'>, shape: (2498,)\n",
      "alpha_vec type: <class 'numpy.ndarray'>, shape: (2498,)\n",
      "Lambda type: <class 'numpy.ndarray'>, shape: (2498,)\n",
      "Optimization completed with status: b'CONVERGENCE: REL_REDUCTION_OF_F_<=_FACTR*EPSMCH'\n"
     ]
    },
    {
     "name": "stderr",
     "output_type": "stream",
     "text": [
      "\r",
      "Optimizing Portfolio:  46%|████▌     | 115/252 [43:57<52:21, 22.93s/day]"
     ]
    },
    {
     "name": "stdout",
     "output_type": "stream",
     "text": [
      "Checking for required columns in the DataFrame...\n",
      "All required columns are present.\n",
      "Applying filters to create the stock universe...\n",
      "Selected 2499 stocks based on filters.\n",
      "Removing 'DlyReturn' column to prevent look-ahead bias...\n",
      "Stock universe is ready.\n",
      "Generated formula: SpecRisk ~ 0 + USFASTD_1DREVRSL + USFASTD_EARNYILD + USFASTD_VALUE + USFASTD_SENTMT\n",
      "Summed alpha vector shape: (2499,)\n",
      "h0 type: <class 'numpy.ndarray'>, shape: (2499,)\n",
      "specVar type: <class 'numpy.ndarray'>, shape: (2499,)\n",
      "alpha_vec type: <class 'numpy.ndarray'>, shape: (2499,)\n",
      "Lambda type: <class 'numpy.ndarray'>, shape: (2499,)\n",
      "Optimization completed with status: b'CONVERGENCE: REL_REDUCTION_OF_F_<=_FACTR*EPSMCH'\n"
     ]
    },
    {
     "name": "stderr",
     "output_type": "stream",
     "text": [
      "\r",
      "Optimizing Portfolio:  46%|████▌     | 116/252 [44:59<52:45, 23.27s/day]"
     ]
    },
    {
     "name": "stdout",
     "output_type": "stream",
     "text": [
      "Checking for required columns in the DataFrame...\n",
      "All required columns are present.\n",
      "Applying filters to create the stock universe...\n",
      "Selected 2500 stocks based on filters.\n",
      "Removing 'DlyReturn' column to prevent look-ahead bias...\n",
      "Stock universe is ready.\n",
      "Generated formula: SpecRisk ~ 0 + USFASTD_1DREVRSL + USFASTD_EARNYILD + USFASTD_VALUE + USFASTD_SENTMT\n",
      "Summed alpha vector shape: (2500,)\n",
      "h0 type: <class 'numpy.ndarray'>, shape: (2500,)\n",
      "specVar type: <class 'numpy.ndarray'>, shape: (2500,)\n",
      "alpha_vec type: <class 'numpy.ndarray'>, shape: (2500,)\n",
      "Lambda type: <class 'numpy.ndarray'>, shape: (2500,)\n",
      "Optimization completed with status: b'CONVERGENCE: REL_REDUCTION_OF_F_<=_FACTR*EPSMCH'\n"
     ]
    },
    {
     "name": "stderr",
     "output_type": "stream",
     "text": [
      "\r",
      "Optimizing Portfolio:  46%|████▋     | 117/252 [45:36<52:37, 23.39s/day]"
     ]
    },
    {
     "name": "stdout",
     "output_type": "stream",
     "text": [
      "Checking for required columns in the DataFrame...\n",
      "All required columns are present.\n",
      "Applying filters to create the stock universe...\n",
      "Selected 2503 stocks based on filters.\n",
      "Removing 'DlyReturn' column to prevent look-ahead bias...\n",
      "Stock universe is ready.\n",
      "Generated formula: SpecRisk ~ 0 + USFASTD_1DREVRSL + USFASTD_EARNYILD + USFASTD_VALUE + USFASTD_SENTMT\n",
      "Summed alpha vector shape: (2503,)\n",
      "h0 type: <class 'numpy.ndarray'>, shape: (2503,)\n",
      "specVar type: <class 'numpy.ndarray'>, shape: (2503,)\n",
      "alpha_vec type: <class 'numpy.ndarray'>, shape: (2503,)\n",
      "Lambda type: <class 'numpy.ndarray'>, shape: (2503,)\n",
      "Optimization completed with status: b'CONVERGENCE: REL_REDUCTION_OF_F_<=_FACTR*EPSMCH'\n"
     ]
    },
    {
     "name": "stderr",
     "output_type": "stream",
     "text": [
      "\r",
      "Optimizing Portfolio:  47%|████▋     | 118/252 [46:05<52:20, 23.44s/day]"
     ]
    },
    {
     "name": "stdout",
     "output_type": "stream",
     "text": [
      "Checking for required columns in the DataFrame...\n",
      "All required columns are present.\n",
      "Applying filters to create the stock universe...\n",
      "Selected 2507 stocks based on filters.\n",
      "Removing 'DlyReturn' column to prevent look-ahead bias...\n",
      "Stock universe is ready.\n",
      "Generated formula: SpecRisk ~ 0 + USFASTD_1DREVRSL + USFASTD_EARNYILD + USFASTD_VALUE + USFASTD_SENTMT\n",
      "Summed alpha vector shape: (2507,)\n",
      "h0 type: <class 'numpy.ndarray'>, shape: (2507,)\n",
      "specVar type: <class 'numpy.ndarray'>, shape: (2507,)\n",
      "alpha_vec type: <class 'numpy.ndarray'>, shape: (2507,)\n",
      "Lambda type: <class 'numpy.ndarray'>, shape: (2507,)\n",
      "Optimization completed with status: b'CONVERGENCE: REL_REDUCTION_OF_F_<=_FACTR*EPSMCH'\n"
     ]
    },
    {
     "name": "stderr",
     "output_type": "stream",
     "text": [
      "\r",
      "Optimizing Portfolio:  47%|████▋     | 119/252 [46:28<51:56, 23.43s/day]"
     ]
    },
    {
     "name": "stdout",
     "output_type": "stream",
     "text": [
      "Checking for required columns in the DataFrame...\n",
      "All required columns are present.\n",
      "Applying filters to create the stock universe...\n",
      "Selected 2506 stocks based on filters.\n",
      "Removing 'DlyReturn' column to prevent look-ahead bias...\n",
      "Stock universe is ready.\n",
      "Generated formula: SpecRisk ~ 0 + USFASTD_1DREVRSL + USFASTD_EARNYILD + USFASTD_VALUE + USFASTD_SENTMT\n",
      "Summed alpha vector shape: (2506,)\n",
      "h0 type: <class 'numpy.ndarray'>, shape: (2506,)\n",
      "specVar type: <class 'numpy.ndarray'>, shape: (2506,)\n",
      "alpha_vec type: <class 'numpy.ndarray'>, shape: (2506,)\n",
      "Lambda type: <class 'numpy.ndarray'>, shape: (2506,)\n"
     ]
    },
    {
     "name": "stderr",
     "output_type": "stream",
     "text": [
      "\r",
      "Optimizing Portfolio:  48%|████▊     | 120/252 [46:49<51:30, 23.41s/day]"
     ]
    },
    {
     "name": "stdout",
     "output_type": "stream",
     "text": [
      "Optimization completed with status: b'CONVERGENCE: REL_REDUCTION_OF_F_<=_FACTR*EPSMCH'\n",
      "Checking for required columns in the DataFrame...\n",
      "All required columns are present.\n",
      "Applying filters to create the stock universe...\n",
      "Selected 2509 stocks based on filters.\n",
      "Removing 'DlyReturn' column to prevent look-ahead bias...\n",
      "Stock universe is ready.\n",
      "Generated formula: SpecRisk ~ 0 + USFASTD_1DREVRSL + USFASTD_EARNYILD + USFASTD_VALUE + USFASTD_SENTMT\n",
      "Summed alpha vector shape: (2509,)\n",
      "h0 type: <class 'numpy.ndarray'>, shape: (2509,)\n",
      "specVar type: <class 'numpy.ndarray'>, shape: (2509,)\n",
      "alpha_vec type: <class 'numpy.ndarray'>, shape: (2509,)\n",
      "Lambda type: <class 'numpy.ndarray'>, shape: (2509,)\n",
      "Optimization completed with status: b'CONVERGENCE: REL_REDUCTION_OF_F_<=_FACTR*EPSMCH'\n"
     ]
    },
    {
     "name": "stderr",
     "output_type": "stream",
     "text": [
      "\r",
      "Optimizing Portfolio:  48%|████▊     | 121/252 [47:17<51:12, 23.45s/day]"
     ]
    },
    {
     "name": "stdout",
     "output_type": "stream",
     "text": [
      "Checking for required columns in the DataFrame...\n",
      "All required columns are present.\n",
      "Applying filters to create the stock universe...\n",
      "Selected 2507 stocks based on filters.\n",
      "Removing 'DlyReturn' column to prevent look-ahead bias...\n",
      "Stock universe is ready.\n",
      "Generated formula: SpecRisk ~ 0 + USFASTD_1DREVRSL + USFASTD_EARNYILD + USFASTD_VALUE + USFASTD_SENTMT\n",
      "Summed alpha vector shape: (2507,)\n",
      "h0 type: <class 'numpy.ndarray'>, shape: (2507,)\n",
      "specVar type: <class 'numpy.ndarray'>, shape: (2507,)\n",
      "alpha_vec type: <class 'numpy.ndarray'>, shape: (2507,)\n",
      "Lambda type: <class 'numpy.ndarray'>, shape: (2507,)\n",
      "Optimization completed with status: b'CONVERGENCE: REL_REDUCTION_OF_F_<=_FACTR*EPSMCH'\n"
     ]
    },
    {
     "name": "stderr",
     "output_type": "stream",
     "text": [
      "\r",
      "Optimizing Portfolio:  48%|████▊     | 122/252 [47:51<51:00, 23.54s/day]"
     ]
    },
    {
     "name": "stdout",
     "output_type": "stream",
     "text": [
      "Checking for required columns in the DataFrame...\n",
      "All required columns are present.\n",
      "Applying filters to create the stock universe...\n",
      "Selected 2505 stocks based on filters.\n",
      "Removing 'DlyReturn' column to prevent look-ahead bias...\n",
      "Stock universe is ready.\n",
      "Generated formula: SpecRisk ~ 0 + USFASTD_1DREVRSL + USFASTD_EARNYILD + USFASTD_VALUE + USFASTD_SENTMT\n",
      "Summed alpha vector shape: (2505,)\n",
      "h0 type: <class 'numpy.ndarray'>, shape: (2505,)\n",
      "specVar type: <class 'numpy.ndarray'>, shape: (2505,)\n",
      "alpha_vec type: <class 'numpy.ndarray'>, shape: (2505,)\n",
      "Lambda type: <class 'numpy.ndarray'>, shape: (2505,)\n",
      "Optimization completed with status: b'CONVERGENCE: REL_REDUCTION_OF_F_<=_FACTR*EPSMCH'\n"
     ]
    },
    {
     "name": "stderr",
     "output_type": "stream",
     "text": [
      "\r",
      "Optimizing Portfolio:  49%|████▉     | 123/252 [48:22<50:44, 23.60s/day]"
     ]
    },
    {
     "name": "stdout",
     "output_type": "stream",
     "text": [
      "Checking for required columns in the DataFrame...\n",
      "All required columns are present.\n",
      "Applying filters to create the stock universe...\n",
      "Selected 2506 stocks based on filters.\n",
      "Removing 'DlyReturn' column to prevent look-ahead bias...\n",
      "Stock universe is ready.\n",
      "Generated formula: SpecRisk ~ 0 + USFASTD_1DREVRSL + USFASTD_EARNYILD + USFASTD_VALUE + USFASTD_SENTMT\n",
      "Summed alpha vector shape: (2506,)\n",
      "h0 type: <class 'numpy.ndarray'>, shape: (2506,)\n",
      "specVar type: <class 'numpy.ndarray'>, shape: (2506,)\n",
      "alpha_vec type: <class 'numpy.ndarray'>, shape: (2506,)\n",
      "Lambda type: <class 'numpy.ndarray'>, shape: (2506,)\n",
      "Optimization completed with status: b'CONVERGENCE: REL_REDUCTION_OF_F_<=_FACTR*EPSMCH'\n"
     ]
    },
    {
     "name": "stderr",
     "output_type": "stream",
     "text": [
      "\r",
      "Optimizing Portfolio:  49%|████▉     | 124/252 [48:51<50:26, 23.64s/day]"
     ]
    },
    {
     "name": "stdout",
     "output_type": "stream",
     "text": [
      "Checking for required columns in the DataFrame...\n",
      "All required columns are present.\n",
      "Applying filters to create the stock universe...\n",
      "Selected 2507 stocks based on filters.\n",
      "Removing 'DlyReturn' column to prevent look-ahead bias...\n",
      "Stock universe is ready.\n",
      "Generated formula: SpecRisk ~ 0 + USFASTD_1DREVRSL + USFASTD_EARNYILD + USFASTD_VALUE + USFASTD_SENTMT\n",
      "Summed alpha vector shape: (2507,)\n",
      "h0 type: <class 'numpy.ndarray'>, shape: (2507,)\n",
      "specVar type: <class 'numpy.ndarray'>, shape: (2507,)\n",
      "alpha_vec type: <class 'numpy.ndarray'>, shape: (2507,)\n",
      "Lambda type: <class 'numpy.ndarray'>, shape: (2507,)\n",
      "Optimization completed with status: b'CONVERGENCE: NORM_OF_PROJECTED_GRADIENT_<=_PGTOL'\n"
     ]
    },
    {
     "name": "stderr",
     "output_type": "stream",
     "text": [
      "\r",
      "Optimizing Portfolio:  50%|████▉     | 125/252 [49:10<49:57, 23.60s/day]"
     ]
    },
    {
     "name": "stdout",
     "output_type": "stream",
     "text": [
      "Checking for required columns in the DataFrame...\n",
      "All required columns are present.\n",
      "Applying filters to create the stock universe...\n",
      "Selected 2508 stocks based on filters.\n",
      "Removing 'DlyReturn' column to prevent look-ahead bias...\n",
      "Stock universe is ready.\n",
      "Generated formula: SpecRisk ~ 0 + USFASTD_1DREVRSL + USFASTD_EARNYILD + USFASTD_VALUE + USFASTD_SENTMT\n",
      "Summed alpha vector shape: (2508,)\n",
      "h0 type: <class 'numpy.ndarray'>, shape: (2508,)\n",
      "specVar type: <class 'numpy.ndarray'>, shape: (2508,)\n",
      "alpha_vec type: <class 'numpy.ndarray'>, shape: (2508,)\n",
      "Lambda type: <class 'numpy.ndarray'>, shape: (2508,)\n",
      "Optimization completed with status: b'CONVERGENCE: NORM_OF_PROJECTED_GRADIENT_<=_PGTOL'\n"
     ]
    },
    {
     "name": "stderr",
     "output_type": "stream",
     "text": [
      "\r",
      "Optimizing Portfolio:  50%|█████     | 126/252 [49:22<49:22, 23.52s/day]"
     ]
    },
    {
     "name": "stdout",
     "output_type": "stream",
     "text": [
      "Checking for required columns in the DataFrame...\n",
      "All required columns are present.\n",
      "Applying filters to create the stock universe...\n",
      "Selected 2510 stocks based on filters.\n",
      "Removing 'DlyReturn' column to prevent look-ahead bias...\n",
      "Stock universe is ready.\n",
      "Generated formula: SpecRisk ~ 0 + USFASTD_1DREVRSL + USFASTD_EARNYILD + USFASTD_VALUE + USFASTD_SENTMT\n",
      "Summed alpha vector shape: (2510,)\n",
      "h0 type: <class 'numpy.ndarray'>, shape: (2510,)\n",
      "specVar type: <class 'numpy.ndarray'>, shape: (2510,)\n",
      "alpha_vec type: <class 'numpy.ndarray'>, shape: (2510,)\n",
      "Lambda type: <class 'numpy.ndarray'>, shape: (2510,)\n",
      "Optimization completed with status: b'CONVERGENCE: NORM_OF_PROJECTED_GRADIENT_<=_PGTOL'\n"
     ]
    },
    {
     "name": "stderr",
     "output_type": "stream",
     "text": [
      "\r",
      "Optimizing Portfolio:  50%|█████     | 127/252 [49:39<48:52, 23.46s/day]"
     ]
    },
    {
     "name": "stdout",
     "output_type": "stream",
     "text": [
      "Checking for required columns in the DataFrame...\n",
      "All required columns are present.\n",
      "Applying filters to create the stock universe...\n",
      "Selected 2511 stocks based on filters.\n",
      "Removing 'DlyReturn' column to prevent look-ahead bias...\n",
      "Stock universe is ready.\n",
      "Generated formula: SpecRisk ~ 0 + USFASTD_1DREVRSL + USFASTD_EARNYILD + USFASTD_VALUE + USFASTD_SENTMT\n",
      "Summed alpha vector shape: (2511,)\n",
      "h0 type: <class 'numpy.ndarray'>, shape: (2511,)\n",
      "specVar type: <class 'numpy.ndarray'>, shape: (2511,)\n",
      "alpha_vec type: <class 'numpy.ndarray'>, shape: (2511,)\n",
      "Lambda type: <class 'numpy.ndarray'>, shape: (2511,)\n",
      "Optimization completed with status: b'CONVERGENCE: NORM_OF_PROJECTED_GRADIENT_<=_PGTOL'\n"
     ]
    },
    {
     "name": "stderr",
     "output_type": "stream",
     "text": [
      "\r",
      "Optimizing Portfolio:  51%|█████     | 128/252 [50:17<48:43, 23.58s/day]"
     ]
    },
    {
     "name": "stdout",
     "output_type": "stream",
     "text": [
      "Checking for required columns in the DataFrame...\n",
      "All required columns are present.\n",
      "Applying filters to create the stock universe...\n",
      "Selected 2511 stocks based on filters.\n",
      "Removing 'DlyReturn' column to prevent look-ahead bias...\n",
      "Stock universe is ready.\n",
      "Generated formula: SpecRisk ~ 0 + USFASTD_1DREVRSL + USFASTD_EARNYILD + USFASTD_VALUE + USFASTD_SENTMT\n",
      "Summed alpha vector shape: (2511,)\n",
      "h0 type: <class 'numpy.ndarray'>, shape: (2511,)\n",
      "specVar type: <class 'numpy.ndarray'>, shape: (2511,)\n",
      "alpha_vec type: <class 'numpy.ndarray'>, shape: (2511,)\n",
      "Lambda type: <class 'numpy.ndarray'>, shape: (2511,)\n",
      "Optimization completed with status: b'CONVERGENCE: REL_REDUCTION_OF_F_<=_FACTR*EPSMCH'\n"
     ]
    },
    {
     "name": "stderr",
     "output_type": "stream",
     "text": [
      "\r",
      "Optimizing Portfolio:  51%|█████     | 129/252 [50:43<48:21, 23.59s/day]"
     ]
    },
    {
     "name": "stdout",
     "output_type": "stream",
     "text": [
      "Checking for required columns in the DataFrame...\n",
      "All required columns are present.\n",
      "Applying filters to create the stock universe...\n",
      "Selected 2512 stocks based on filters.\n",
      "Removing 'DlyReturn' column to prevent look-ahead bias...\n",
      "Stock universe is ready.\n",
      "Generated formula: SpecRisk ~ 0 + USFASTD_1DREVRSL + USFASTD_EARNYILD + USFASTD_VALUE + USFASTD_SENTMT\n",
      "Summed alpha vector shape: (2512,)\n",
      "h0 type: <class 'numpy.ndarray'>, shape: (2512,)\n",
      "specVar type: <class 'numpy.ndarray'>, shape: (2512,)\n",
      "alpha_vec type: <class 'numpy.ndarray'>, shape: (2512,)\n",
      "Lambda type: <class 'numpy.ndarray'>, shape: (2512,)\n",
      "Optimization completed with status: b'CONVERGENCE: REL_REDUCTION_OF_F_<=_FACTR*EPSMCH'\n"
     ]
    },
    {
     "name": "stderr",
     "output_type": "stream",
     "text": [
      "\r",
      "Optimizing Portfolio:  52%|█████▏    | 130/252 [51:50<48:39, 23.93s/day]"
     ]
    },
    {
     "name": "stdout",
     "output_type": "stream",
     "text": [
      "Checking for required columns in the DataFrame...\n",
      "All required columns are present.\n",
      "Applying filters to create the stock universe...\n",
      "Selected 2514 stocks based on filters.\n",
      "Removing 'DlyReturn' column to prevent look-ahead bias...\n",
      "Stock universe is ready.\n",
      "Generated formula: SpecRisk ~ 0 + USFASTD_1DREVRSL + USFASTD_EARNYILD + USFASTD_VALUE + USFASTD_SENTMT\n",
      "Summed alpha vector shape: (2514,)\n",
      "h0 type: <class 'numpy.ndarray'>, shape: (2514,)\n",
      "specVar type: <class 'numpy.ndarray'>, shape: (2514,)\n",
      "alpha_vec type: <class 'numpy.ndarray'>, shape: (2514,)\n",
      "Lambda type: <class 'numpy.ndarray'>, shape: (2514,)\n",
      "Optimization completed with status: b'CONVERGENCE: NORM_OF_PROJECTED_GRADIENT_<=_PGTOL'\n"
     ]
    },
    {
     "name": "stderr",
     "output_type": "stream",
     "text": [
      "\r",
      "Optimizing Portfolio:  52%|█████▏    | 131/252 [52:22<48:23, 23.99s/day]"
     ]
    },
    {
     "name": "stdout",
     "output_type": "stream",
     "text": [
      "Checking for required columns in the DataFrame...\n",
      "All required columns are present.\n",
      "Applying filters to create the stock universe...\n",
      "Selected 2515 stocks based on filters.\n",
      "Removing 'DlyReturn' column to prevent look-ahead bias...\n",
      "Stock universe is ready.\n",
      "Generated formula: SpecRisk ~ 0 + USFASTD_1DREVRSL + USFASTD_EARNYILD + USFASTD_VALUE + USFASTD_SENTMT\n",
      "Summed alpha vector shape: (2515,)\n",
      "h0 type: <class 'numpy.ndarray'>, shape: (2515,)\n",
      "specVar type: <class 'numpy.ndarray'>, shape: (2515,)\n",
      "alpha_vec type: <class 'numpy.ndarray'>, shape: (2515,)\n",
      "Lambda type: <class 'numpy.ndarray'>, shape: (2515,)\n",
      "Optimization completed with status: b'CONVERGENCE: NORM_OF_PROJECTED_GRADIENT_<=_PGTOL'\n"
     ]
    },
    {
     "name": "stderr",
     "output_type": "stream",
     "text": [
      "\r",
      "Optimizing Portfolio:  52%|█████▏    | 132/252 [52:36<47:49, 23.92s/day]"
     ]
    },
    {
     "name": "stdout",
     "output_type": "stream",
     "text": [
      "Checking for required columns in the DataFrame...\n",
      "All required columns are present.\n",
      "Applying filters to create the stock universe...\n",
      "Selected 2512 stocks based on filters.\n",
      "Removing 'DlyReturn' column to prevent look-ahead bias...\n",
      "Stock universe is ready.\n",
      "Generated formula: SpecRisk ~ 0 + USFASTD_1DREVRSL + USFASTD_EARNYILD + USFASTD_VALUE + USFASTD_SENTMT\n",
      "Summed alpha vector shape: (2512,)\n",
      "h0 type: <class 'numpy.ndarray'>, shape: (2512,)\n",
      "specVar type: <class 'numpy.ndarray'>, shape: (2512,)\n",
      "alpha_vec type: <class 'numpy.ndarray'>, shape: (2512,)\n",
      "Lambda type: <class 'numpy.ndarray'>, shape: (2512,)\n",
      "Optimization completed with status: b'CONVERGENCE: NORM_OF_PROJECTED_GRADIENT_<=_PGTOL'\n"
     ]
    },
    {
     "name": "stderr",
     "output_type": "stream",
     "text": [
      "\r",
      "Optimizing Portfolio:  53%|█████▎    | 133/252 [52:53<47:19, 23.86s/day]"
     ]
    },
    {
     "name": "stdout",
     "output_type": "stream",
     "text": [
      "Checking for required columns in the DataFrame...\n",
      "All required columns are present.\n",
      "Applying filters to create the stock universe...\n",
      "Selected 2514 stocks based on filters.\n",
      "Removing 'DlyReturn' column to prevent look-ahead bias...\n",
      "Stock universe is ready.\n",
      "Generated formula: SpecRisk ~ 0 + USFASTD_1DREVRSL + USFASTD_EARNYILD + USFASTD_VALUE + USFASTD_SENTMT\n",
      "Summed alpha vector shape: (2514,)\n",
      "h0 type: <class 'numpy.ndarray'>, shape: (2514,)\n",
      "specVar type: <class 'numpy.ndarray'>, shape: (2514,)\n",
      "alpha_vec type: <class 'numpy.ndarray'>, shape: (2514,)\n",
      "Lambda type: <class 'numpy.ndarray'>, shape: (2514,)\n",
      "Optimization completed with status: b'CONVERGENCE: NORM_OF_PROJECTED_GRADIENT_<=_PGTOL'\n"
     ]
    },
    {
     "name": "stderr",
     "output_type": "stream",
     "text": [
      "\r",
      "Optimizing Portfolio:  53%|█████▎    | 134/252 [53:22<47:00, 23.90s/day]"
     ]
    },
    {
     "name": "stdout",
     "output_type": "stream",
     "text": [
      "Checking for required columns in the DataFrame...\n",
      "All required columns are present.\n",
      "Applying filters to create the stock universe...\n",
      "Selected 2515 stocks based on filters.\n",
      "Removing 'DlyReturn' column to prevent look-ahead bias...\n",
      "Stock universe is ready.\n",
      "Generated formula: SpecRisk ~ 0 + USFASTD_1DREVRSL + USFASTD_EARNYILD + USFASTD_VALUE + USFASTD_SENTMT\n",
      "Summed alpha vector shape: (2515,)\n",
      "h0 type: <class 'numpy.ndarray'>, shape: (2515,)\n",
      "specVar type: <class 'numpy.ndarray'>, shape: (2515,)\n",
      "alpha_vec type: <class 'numpy.ndarray'>, shape: (2515,)\n",
      "Lambda type: <class 'numpy.ndarray'>, shape: (2515,)\n",
      "Optimization completed with status: b'CONVERGENCE: NORM_OF_PROJECTED_GRADIENT_<=_PGTOL'\n"
     ]
    },
    {
     "name": "stderr",
     "output_type": "stream",
     "text": [
      "\r",
      "Optimizing Portfolio:  54%|█████▎    | 135/252 [53:51<46:40, 23.94s/day]"
     ]
    },
    {
     "name": "stdout",
     "output_type": "stream",
     "text": [
      "Checking for required columns in the DataFrame...\n",
      "All required columns are present.\n",
      "Applying filters to create the stock universe...\n",
      "Selected 2515 stocks based on filters.\n",
      "Removing 'DlyReturn' column to prevent look-ahead bias...\n",
      "Stock universe is ready.\n",
      "Generated formula: SpecRisk ~ 0 + USFASTD_1DREVRSL + USFASTD_EARNYILD + USFASTD_VALUE + USFASTD_SENTMT\n",
      "Summed alpha vector shape: (2515,)\n",
      "h0 type: <class 'numpy.ndarray'>, shape: (2515,)\n",
      "specVar type: <class 'numpy.ndarray'>, shape: (2515,)\n",
      "alpha_vec type: <class 'numpy.ndarray'>, shape: (2515,)\n",
      "Lambda type: <class 'numpy.ndarray'>, shape: (2515,)\n",
      "Optimization completed with status: b'CONVERGENCE: NORM_OF_PROJECTED_GRADIENT_<=_PGTOL'\n"
     ]
    },
    {
     "name": "stderr",
     "output_type": "stream",
     "text": [
      "\r",
      "Optimizing Portfolio:  54%|█████▍    | 136/252 [54:11<46:13, 23.91s/day]"
     ]
    },
    {
     "name": "stdout",
     "output_type": "stream",
     "text": [
      "Checking for required columns in the DataFrame...\n",
      "All required columns are present.\n",
      "Applying filters to create the stock universe...\n",
      "Selected 2516 stocks based on filters.\n",
      "Removing 'DlyReturn' column to prevent look-ahead bias...\n",
      "Stock universe is ready.\n",
      "Generated formula: SpecRisk ~ 0 + USFASTD_1DREVRSL + USFASTD_EARNYILD + USFASTD_VALUE + USFASTD_SENTMT\n",
      "Summed alpha vector shape: (2516,)\n",
      "h0 type: <class 'numpy.ndarray'>, shape: (2516,)\n",
      "specVar type: <class 'numpy.ndarray'>, shape: (2516,)\n",
      "alpha_vec type: <class 'numpy.ndarray'>, shape: (2516,)\n",
      "Lambda type: <class 'numpy.ndarray'>, shape: (2516,)\n",
      "Optimization completed with status: b'CONVERGENCE: NORM_OF_PROJECTED_GRADIENT_<=_PGTOL'\n"
     ]
    },
    {
     "name": "stderr",
     "output_type": "stream",
     "text": [
      "\r",
      "Optimizing Portfolio:  54%|█████▍    | 137/252 [54:34<45:48, 23.90s/day]"
     ]
    },
    {
     "name": "stdout",
     "output_type": "stream",
     "text": [
      "Checking for required columns in the DataFrame...\n",
      "All required columns are present.\n",
      "Applying filters to create the stock universe...\n",
      "Selected 2516 stocks based on filters.\n",
      "Removing 'DlyReturn' column to prevent look-ahead bias...\n",
      "Stock universe is ready.\n",
      "Generated formula: SpecRisk ~ 0 + USFASTD_1DREVRSL + USFASTD_EARNYILD + USFASTD_VALUE + USFASTD_SENTMT\n",
      "Summed alpha vector shape: (2516,)\n",
      "h0 type: <class 'numpy.ndarray'>, shape: (2516,)\n",
      "specVar type: <class 'numpy.ndarray'>, shape: (2516,)\n",
      "alpha_vec type: <class 'numpy.ndarray'>, shape: (2516,)\n",
      "Lambda type: <class 'numpy.ndarray'>, shape: (2516,)\n",
      "Optimization completed with status: b'CONVERGENCE: NORM_OF_PROJECTED_GRADIENT_<=_PGTOL'\n"
     ]
    },
    {
     "name": "stderr",
     "output_type": "stream",
     "text": [
      "\r",
      "Optimizing Portfolio:  55%|█████▍    | 138/252 [54:51<45:19, 23.85s/day]"
     ]
    },
    {
     "name": "stdout",
     "output_type": "stream",
     "text": [
      "Checking for required columns in the DataFrame...\n",
      "All required columns are present.\n",
      "Applying filters to create the stock universe...\n",
      "Selected 2517 stocks based on filters.\n",
      "Removing 'DlyReturn' column to prevent look-ahead bias...\n",
      "Stock universe is ready.\n",
      "Generated formula: SpecRisk ~ 0 + USFASTD_1DREVRSL + USFASTD_EARNYILD + USFASTD_VALUE + USFASTD_SENTMT\n",
      "Summed alpha vector shape: (2517,)\n",
      "h0 type: <class 'numpy.ndarray'>, shape: (2517,)\n",
      "specVar type: <class 'numpy.ndarray'>, shape: (2517,)\n",
      "alpha_vec type: <class 'numpy.ndarray'>, shape: (2517,)\n",
      "Lambda type: <class 'numpy.ndarray'>, shape: (2517,)\n",
      "Optimization completed with status: b'CONVERGENCE: NORM_OF_PROJECTED_GRADIENT_<=_PGTOL'\n"
     ]
    },
    {
     "name": "stderr",
     "output_type": "stream",
     "text": [
      "\r",
      "Optimizing Portfolio:  55%|█████▌    | 139/252 [55:03<44:45, 23.77s/day]"
     ]
    },
    {
     "name": "stdout",
     "output_type": "stream",
     "text": [
      "Checking for required columns in the DataFrame...\n",
      "All required columns are present.\n",
      "Applying filters to create the stock universe...\n",
      "Selected 2517 stocks based on filters.\n",
      "Removing 'DlyReturn' column to prevent look-ahead bias...\n",
      "Stock universe is ready.\n",
      "Generated formula: SpecRisk ~ 0 + USFASTD_1DREVRSL + USFASTD_EARNYILD + USFASTD_VALUE + USFASTD_SENTMT\n",
      "Summed alpha vector shape: (2517,)\n",
      "h0 type: <class 'numpy.ndarray'>, shape: (2517,)\n",
      "specVar type: <class 'numpy.ndarray'>, shape: (2517,)\n",
      "alpha_vec type: <class 'numpy.ndarray'>, shape: (2517,)\n",
      "Lambda type: <class 'numpy.ndarray'>, shape: (2517,)\n",
      "Optimization completed with status: b'CONVERGENCE: NORM_OF_PROJECTED_GRADIENT_<=_PGTOL'\n"
     ]
    },
    {
     "name": "stderr",
     "output_type": "stream",
     "text": [
      "\r",
      "Optimizing Portfolio:  56%|█████▌    | 140/252 [55:35<44:28, 23.83s/day]"
     ]
    },
    {
     "name": "stdout",
     "output_type": "stream",
     "text": [
      "Checking for required columns in the DataFrame...\n",
      "All required columns are present.\n",
      "Applying filters to create the stock universe...\n",
      "Selected 2517 stocks based on filters.\n",
      "Removing 'DlyReturn' column to prevent look-ahead bias...\n",
      "Stock universe is ready.\n",
      "Generated formula: SpecRisk ~ 0 + USFASTD_1DREVRSL + USFASTD_EARNYILD + USFASTD_VALUE + USFASTD_SENTMT\n",
      "Summed alpha vector shape: (2517,)\n",
      "h0 type: <class 'numpy.ndarray'>, shape: (2517,)\n",
      "specVar type: <class 'numpy.ndarray'>, shape: (2517,)\n",
      "alpha_vec type: <class 'numpy.ndarray'>, shape: (2517,)\n",
      "Lambda type: <class 'numpy.ndarray'>, shape: (2517,)\n",
      "Optimization completed with status: b'CONVERGENCE: NORM_OF_PROJECTED_GRADIENT_<=_PGTOL'\n"
     ]
    },
    {
     "name": "stderr",
     "output_type": "stream",
     "text": [
      "\r",
      "Optimizing Portfolio:  56%|█████▌    | 141/252 [56:02<44:06, 23.85s/day]"
     ]
    },
    {
     "name": "stdout",
     "output_type": "stream",
     "text": [
      "Checking for required columns in the DataFrame...\n",
      "All required columns are present.\n",
      "Applying filters to create the stock universe...\n",
      "Selected 2517 stocks based on filters.\n",
      "Removing 'DlyReturn' column to prevent look-ahead bias...\n",
      "Stock universe is ready.\n",
      "Generated formula: SpecRisk ~ 0 + USFASTD_1DREVRSL + USFASTD_EARNYILD + USFASTD_VALUE + USFASTD_SENTMT\n",
      "Summed alpha vector shape: (2517,)\n",
      "h0 type: <class 'numpy.ndarray'>, shape: (2517,)\n",
      "specVar type: <class 'numpy.ndarray'>, shape: (2517,)\n",
      "alpha_vec type: <class 'numpy.ndarray'>, shape: (2517,)\n",
      "Lambda type: <class 'numpy.ndarray'>, shape: (2517,)\n",
      "Optimization completed with status: b'CONVERGENCE: REL_REDUCTION_OF_F_<=_FACTR*EPSMCH'\n"
     ]
    },
    {
     "name": "stderr",
     "output_type": "stream",
     "text": [
      "\r",
      "Optimizing Portfolio:  56%|█████▋    | 142/252 [56:28<43:45, 23.86s/day]"
     ]
    },
    {
     "name": "stdout",
     "output_type": "stream",
     "text": [
      "Checking for required columns in the DataFrame...\n",
      "All required columns are present.\n",
      "Applying filters to create the stock universe...\n",
      "Selected 2516 stocks based on filters.\n",
      "Removing 'DlyReturn' column to prevent look-ahead bias...\n",
      "Stock universe is ready.\n",
      "Generated formula: SpecRisk ~ 0 + USFASTD_1DREVRSL + USFASTD_EARNYILD + USFASTD_VALUE + USFASTD_SENTMT\n",
      "Summed alpha vector shape: (2516,)\n",
      "h0 type: <class 'numpy.ndarray'>, shape: (2516,)\n",
      "specVar type: <class 'numpy.ndarray'>, shape: (2516,)\n",
      "alpha_vec type: <class 'numpy.ndarray'>, shape: (2516,)\n",
      "Lambda type: <class 'numpy.ndarray'>, shape: (2516,)\n",
      "Optimization completed with status: b'CONVERGENCE: NORM_OF_PROJECTED_GRADIENT_<=_PGTOL'\n"
     ]
    },
    {
     "name": "stderr",
     "output_type": "stream",
     "text": [
      "\r",
      "Optimizing Portfolio:  57%|█████▋    | 143/252 [57:17<43:40, 24.04s/day]"
     ]
    },
    {
     "name": "stdout",
     "output_type": "stream",
     "text": [
      "Checking for required columns in the DataFrame...\n",
      "All required columns are present.\n",
      "Applying filters to create the stock universe...\n",
      "Selected 2517 stocks based on filters.\n",
      "Removing 'DlyReturn' column to prevent look-ahead bias...\n",
      "Stock universe is ready.\n",
      "Generated formula: SpecRisk ~ 0 + USFASTD_1DREVRSL + USFASTD_EARNYILD + USFASTD_VALUE + USFASTD_SENTMT\n",
      "Summed alpha vector shape: (2517,)\n",
      "h0 type: <class 'numpy.ndarray'>, shape: (2517,)\n",
      "specVar type: <class 'numpy.ndarray'>, shape: (2517,)\n",
      "alpha_vec type: <class 'numpy.ndarray'>, shape: (2517,)\n",
      "Lambda type: <class 'numpy.ndarray'>, shape: (2517,)\n",
      "Optimization completed with status: b'CONVERGENCE: NORM_OF_PROJECTED_GRADIENT_<=_PGTOL'\n"
     ]
    },
    {
     "name": "stderr",
     "output_type": "stream",
     "text": [
      "\r",
      "Optimizing Portfolio:  57%|█████▋    | 144/252 [57:46<43:19, 24.07s/day]"
     ]
    },
    {
     "name": "stdout",
     "output_type": "stream",
     "text": [
      "Checking for required columns in the DataFrame...\n",
      "All required columns are present.\n",
      "Applying filters to create the stock universe...\n",
      "Selected 2516 stocks based on filters.\n",
      "Removing 'DlyReturn' column to prevent look-ahead bias...\n",
      "Stock universe is ready.\n",
      "Generated formula: SpecRisk ~ 0 + USFASTD_1DREVRSL + USFASTD_EARNYILD + USFASTD_VALUE + USFASTD_SENTMT\n",
      "Summed alpha vector shape: (2516,)\n",
      "h0 type: <class 'numpy.ndarray'>, shape: (2516,)\n",
      "specVar type: <class 'numpy.ndarray'>, shape: (2516,)\n",
      "alpha_vec type: <class 'numpy.ndarray'>, shape: (2516,)\n",
      "Lambda type: <class 'numpy.ndarray'>, shape: (2516,)\n",
      "Optimization completed with status: b'CONVERGENCE: NORM_OF_PROJECTED_GRADIENT_<=_PGTOL'\n"
     ]
    },
    {
     "name": "stderr",
     "output_type": "stream",
     "text": [
      "\r",
      "Optimizing Portfolio:  58%|█████▊    | 145/252 [58:14<42:58, 24.10s/day]"
     ]
    },
    {
     "name": "stdout",
     "output_type": "stream",
     "text": [
      "Checking for required columns in the DataFrame...\n",
      "All required columns are present.\n",
      "Applying filters to create the stock universe...\n",
      "Selected 2518 stocks based on filters.\n",
      "Removing 'DlyReturn' column to prevent look-ahead bias...\n",
      "Stock universe is ready.\n",
      "Generated formula: SpecRisk ~ 0 + USFASTD_1DREVRSL + USFASTD_EARNYILD + USFASTD_VALUE + USFASTD_SENTMT\n",
      "Summed alpha vector shape: (2518,)\n",
      "h0 type: <class 'numpy.ndarray'>, shape: (2518,)\n",
      "specVar type: <class 'numpy.ndarray'>, shape: (2518,)\n",
      "alpha_vec type: <class 'numpy.ndarray'>, shape: (2518,)\n",
      "Lambda type: <class 'numpy.ndarray'>, shape: (2518,)\n",
      "Optimization completed with status: b'CONVERGENCE: NORM_OF_PROJECTED_GRADIENT_<=_PGTOL'\n"
     ]
    },
    {
     "name": "stderr",
     "output_type": "stream",
     "text": [
      "\r",
      "Optimizing Portfolio:  58%|█████▊    | 146/252 [58:25<42:24, 24.01s/day]"
     ]
    },
    {
     "name": "stdout",
     "output_type": "stream",
     "text": [
      "Checking for required columns in the DataFrame...\n",
      "All required columns are present.\n",
      "Applying filters to create the stock universe...\n",
      "Selected 2518 stocks based on filters.\n",
      "Removing 'DlyReturn' column to prevent look-ahead bias...\n",
      "Stock universe is ready.\n",
      "Generated formula: SpecRisk ~ 0 + USFASTD_1DREVRSL + USFASTD_EARNYILD + USFASTD_VALUE + USFASTD_SENTMT\n",
      "Summed alpha vector shape: (2518,)\n",
      "h0 type: <class 'numpy.ndarray'>, shape: (2518,)\n",
      "specVar type: <class 'numpy.ndarray'>, shape: (2518,)\n",
      "alpha_vec type: <class 'numpy.ndarray'>, shape: (2518,)\n",
      "Lambda type: <class 'numpy.ndarray'>, shape: (2518,)\n",
      "Optimization completed with status: b'CONVERGENCE: NORM_OF_PROJECTED_GRADIENT_<=_PGTOL'\n"
     ]
    },
    {
     "name": "stderr",
     "output_type": "stream",
     "text": [
      "\r",
      "Optimizing Portfolio:  58%|█████▊    | 147/252 [58:35<41:50, 23.91s/day]"
     ]
    },
    {
     "name": "stdout",
     "output_type": "stream",
     "text": [
      "Checking for required columns in the DataFrame...\n",
      "All required columns are present.\n",
      "Applying filters to create the stock universe...\n",
      "Selected 2518 stocks based on filters.\n",
      "Removing 'DlyReturn' column to prevent look-ahead bias...\n",
      "Stock universe is ready.\n",
      "Generated formula: SpecRisk ~ 0 + USFASTD_1DREVRSL + USFASTD_EARNYILD + USFASTD_VALUE + USFASTD_SENTMT\n",
      "Summed alpha vector shape: (2518,)\n",
      "h0 type: <class 'numpy.ndarray'>, shape: (2518,)\n",
      "specVar type: <class 'numpy.ndarray'>, shape: (2518,)\n",
      "alpha_vec type: <class 'numpy.ndarray'>, shape: (2518,)\n",
      "Lambda type: <class 'numpy.ndarray'>, shape: (2518,)\n",
      "Optimization completed with status: b'CONVERGENCE: NORM_OF_PROJECTED_GRADIENT_<=_PGTOL'\n"
     ]
    },
    {
     "name": "stderr",
     "output_type": "stream",
     "text": [
      "\r",
      "Optimizing Portfolio:  59%|█████▊    | 148/252 [58:49<41:19, 23.85s/day]"
     ]
    },
    {
     "name": "stdout",
     "output_type": "stream",
     "text": [
      "Checking for required columns in the DataFrame...\n",
      "All required columns are present.\n",
      "Applying filters to create the stock universe...\n",
      "Selected 2519 stocks based on filters.\n",
      "Removing 'DlyReturn' column to prevent look-ahead bias...\n",
      "Stock universe is ready.\n",
      "Generated formula: SpecRisk ~ 0 + USFASTD_1DREVRSL + USFASTD_EARNYILD + USFASTD_VALUE + USFASTD_SENTMT\n",
      "Summed alpha vector shape: (2519,)\n",
      "h0 type: <class 'numpy.ndarray'>, shape: (2519,)\n",
      "specVar type: <class 'numpy.ndarray'>, shape: (2519,)\n",
      "alpha_vec type: <class 'numpy.ndarray'>, shape: (2519,)\n",
      "Lambda type: <class 'numpy.ndarray'>, shape: (2519,)\n",
      "Optimization completed with status: b'CONVERGENCE: NORM_OF_PROJECTED_GRADIENT_<=_PGTOL'\n"
     ]
    },
    {
     "name": "stderr",
     "output_type": "stream",
     "text": [
      "\r",
      "Optimizing Portfolio:  59%|█████▉    | 149/252 [59:02<40:48, 23.77s/day]"
     ]
    },
    {
     "name": "stdout",
     "output_type": "stream",
     "text": [
      "Checking for required columns in the DataFrame...\n",
      "All required columns are present.\n",
      "Applying filters to create the stock universe...\n",
      "Selected 2520 stocks based on filters.\n",
      "Removing 'DlyReturn' column to prevent look-ahead bias...\n",
      "Stock universe is ready.\n",
      "Generated formula: SpecRisk ~ 0 + USFASTD_1DREVRSL + USFASTD_EARNYILD + USFASTD_VALUE + USFASTD_SENTMT\n",
      "Summed alpha vector shape: (2520,)\n",
      "h0 type: <class 'numpy.ndarray'>, shape: (2520,)\n",
      "specVar type: <class 'numpy.ndarray'>, shape: (2520,)\n",
      "alpha_vec type: <class 'numpy.ndarray'>, shape: (2520,)\n",
      "Lambda type: <class 'numpy.ndarray'>, shape: (2520,)\n",
      "Optimization completed with status: b'CONVERGENCE: REL_REDUCTION_OF_F_<=_FACTR*EPSMCH'\n"
     ]
    },
    {
     "name": "stderr",
     "output_type": "stream",
     "text": [
      "\r",
      "Optimizing Portfolio:  60%|█████▉    | 150/252 [59:22<40:22, 23.75s/day]"
     ]
    },
    {
     "name": "stdout",
     "output_type": "stream",
     "text": [
      "Checking for required columns in the DataFrame...\n",
      "All required columns are present.\n",
      "Applying filters to create the stock universe...\n",
      "Selected 2519 stocks based on filters.\n",
      "Removing 'DlyReturn' column to prevent look-ahead bias...\n",
      "Stock universe is ready.\n",
      "Generated formula: SpecRisk ~ 0 + USFASTD_1DREVRSL + USFASTD_EARNYILD + USFASTD_VALUE + USFASTD_SENTMT\n",
      "Summed alpha vector shape: (2519,)\n",
      "h0 type: <class 'numpy.ndarray'>, shape: (2519,)\n",
      "specVar type: <class 'numpy.ndarray'>, shape: (2519,)\n",
      "alpha_vec type: <class 'numpy.ndarray'>, shape: (2519,)\n",
      "Lambda type: <class 'numpy.ndarray'>, shape: (2519,)\n",
      "Optimization completed with status: b'CONVERGENCE: NORM_OF_PROJECTED_GRADIENT_<=_PGTOL'\n"
     ]
    },
    {
     "name": "stderr",
     "output_type": "stream",
     "text": [
      "\r",
      "Optimizing Portfolio:  60%|█████▉    | 151/252 [59:47<39:59, 23.76s/day]"
     ]
    },
    {
     "name": "stdout",
     "output_type": "stream",
     "text": [
      "Checking for required columns in the DataFrame...\n",
      "All required columns are present.\n",
      "Applying filters to create the stock universe...\n",
      "Selected 2520 stocks based on filters.\n",
      "Removing 'DlyReturn' column to prevent look-ahead bias...\n",
      "Stock universe is ready.\n",
      "Generated formula: SpecRisk ~ 0 + USFASTD_1DREVRSL + USFASTD_EARNYILD + USFASTD_VALUE + USFASTD_SENTMT\n",
      "Summed alpha vector shape: (2520,)\n",
      "h0 type: <class 'numpy.ndarray'>, shape: (2520,)\n",
      "specVar type: <class 'numpy.ndarray'>, shape: (2520,)\n",
      "alpha_vec type: <class 'numpy.ndarray'>, shape: (2520,)\n",
      "Lambda type: <class 'numpy.ndarray'>, shape: (2520,)\n",
      "Optimization completed with status: b'CONVERGENCE: NORM_OF_PROJECTED_GRADIENT_<=_PGTOL'\n"
     ]
    },
    {
     "name": "stderr",
     "output_type": "stream",
     "text": [
      "\r",
      "Optimizing Portfolio:  60%|██████    | 152/252 [59:58<39:27, 23.67s/day]"
     ]
    },
    {
     "name": "stdout",
     "output_type": "stream",
     "text": [
      "Checking for required columns in the DataFrame...\n",
      "All required columns are present.\n",
      "Applying filters to create the stock universe...\n",
      "Selected 2520 stocks based on filters.\n",
      "Removing 'DlyReturn' column to prevent look-ahead bias...\n",
      "Stock universe is ready.\n",
      "Generated formula: SpecRisk ~ 0 + USFASTD_1DREVRSL + USFASTD_EARNYILD + USFASTD_VALUE + USFASTD_SENTMT\n",
      "Summed alpha vector shape: (2520,)\n",
      "h0 type: <class 'numpy.ndarray'>, shape: (2520,)\n",
      "specVar type: <class 'numpy.ndarray'>, shape: (2520,)\n",
      "alpha_vec type: <class 'numpy.ndarray'>, shape: (2520,)\n",
      "Lambda type: <class 'numpy.ndarray'>, shape: (2520,)\n",
      "Optimization completed with status: b'CONVERGENCE: NORM_OF_PROJECTED_GRADIENT_<=_PGTOL'\n"
     ]
    },
    {
     "name": "stderr",
     "output_type": "stream",
     "text": [
      "\r",
      "Optimizing Portfolio:  61%|██████    | 153/252 [1:00:16<39:00, 23.64s/day]"
     ]
    },
    {
     "name": "stdout",
     "output_type": "stream",
     "text": [
      "Checking for required columns in the DataFrame...\n",
      "All required columns are present.\n",
      "Applying filters to create the stock universe...\n",
      "Selected 2519 stocks based on filters.\n",
      "Removing 'DlyReturn' column to prevent look-ahead bias...\n",
      "Stock universe is ready.\n",
      "Generated formula: SpecRisk ~ 0 + USFASTD_1DREVRSL + USFASTD_EARNYILD + USFASTD_VALUE + USFASTD_SENTMT\n",
      "Summed alpha vector shape: (2519,)\n",
      "h0 type: <class 'numpy.ndarray'>, shape: (2519,)\n",
      "specVar type: <class 'numpy.ndarray'>, shape: (2519,)\n",
      "alpha_vec type: <class 'numpy.ndarray'>, shape: (2519,)\n",
      "Lambda type: <class 'numpy.ndarray'>, shape: (2519,)\n",
      "Optimization completed with status: b'CONVERGENCE: NORM_OF_PROJECTED_GRADIENT_<=_PGTOL'\n"
     ]
    },
    {
     "name": "stderr",
     "output_type": "stream",
     "text": [
      "\r",
      "Optimizing Portfolio:  61%|██████    | 154/252 [1:00:37<38:34, 23.62s/day]"
     ]
    },
    {
     "name": "stdout",
     "output_type": "stream",
     "text": [
      "Checking for required columns in the DataFrame...\n",
      "All required columns are present.\n",
      "Applying filters to create the stock universe...\n",
      "Selected 2518 stocks based on filters.\n",
      "Removing 'DlyReturn' column to prevent look-ahead bias...\n",
      "Stock universe is ready.\n",
      "Generated formula: SpecRisk ~ 0 + USFASTD_1DREVRSL + USFASTD_EARNYILD + USFASTD_VALUE + USFASTD_SENTMT\n",
      "Summed alpha vector shape: (2518,)\n",
      "h0 type: <class 'numpy.ndarray'>, shape: (2518,)\n",
      "specVar type: <class 'numpy.ndarray'>, shape: (2518,)\n",
      "alpha_vec type: <class 'numpy.ndarray'>, shape: (2518,)\n",
      "Lambda type: <class 'numpy.ndarray'>, shape: (2518,)\n",
      "Optimization completed with status: b'CONVERGENCE: REL_REDUCTION_OF_F_<=_FACTR*EPSMCH'\n"
     ]
    },
    {
     "name": "stderr",
     "output_type": "stream",
     "text": [
      "\r",
      "Optimizing Portfolio:  62%|██████▏   | 155/252 [1:01:14<38:19, 23.71s/day]"
     ]
    },
    {
     "name": "stdout",
     "output_type": "stream",
     "text": [
      "Checking for required columns in the DataFrame...\n",
      "All required columns are present.\n",
      "Applying filters to create the stock universe...\n",
      "Selected 2520 stocks based on filters.\n",
      "Removing 'DlyReturn' column to prevent look-ahead bias...\n",
      "Stock universe is ready.\n",
      "Generated formula: SpecRisk ~ 0 + USFASTD_1DREVRSL + USFASTD_EARNYILD + USFASTD_VALUE + USFASTD_SENTMT\n",
      "Summed alpha vector shape: (2520,)\n",
      "h0 type: <class 'numpy.ndarray'>, shape: (2520,)\n",
      "specVar type: <class 'numpy.ndarray'>, shape: (2520,)\n",
      "alpha_vec type: <class 'numpy.ndarray'>, shape: (2520,)\n",
      "Lambda type: <class 'numpy.ndarray'>, shape: (2520,)\n",
      "Optimization completed with status: b'CONVERGENCE: REL_REDUCTION_OF_F_<=_FACTR*EPSMCH'\n"
     ]
    },
    {
     "name": "stderr",
     "output_type": "stream",
     "text": [
      "\r",
      "Optimizing Portfolio:  62%|██████▏   | 156/252 [1:01:39<37:56, 23.71s/day]"
     ]
    },
    {
     "name": "stdout",
     "output_type": "stream",
     "text": [
      "Checking for required columns in the DataFrame...\n",
      "All required columns are present.\n",
      "Applying filters to create the stock universe...\n",
      "Selected 2521 stocks based on filters.\n",
      "Removing 'DlyReturn' column to prevent look-ahead bias...\n",
      "Stock universe is ready.\n",
      "Generated formula: SpecRisk ~ 0 + USFASTD_1DREVRSL + USFASTD_EARNYILD + USFASTD_VALUE + USFASTD_SENTMT\n",
      "Summed alpha vector shape: (2521,)\n",
      "h0 type: <class 'numpy.ndarray'>, shape: (2521,)\n",
      "specVar type: <class 'numpy.ndarray'>, shape: (2521,)\n",
      "alpha_vec type: <class 'numpy.ndarray'>, shape: (2521,)\n",
      "Lambda type: <class 'numpy.ndarray'>, shape: (2521,)\n",
      "Optimization completed with status: b'CONVERGENCE: NORM_OF_PROJECTED_GRADIENT_<=_PGTOL'\n"
     ]
    },
    {
     "name": "stderr",
     "output_type": "stream",
     "text": [
      "\r",
      "Optimizing Portfolio:  62%|██████▏   | 157/252 [1:01:57<37:29, 23.68s/day]"
     ]
    },
    {
     "name": "stdout",
     "output_type": "stream",
     "text": [
      "Checking for required columns in the DataFrame...\n",
      "All required columns are present.\n",
      "Applying filters to create the stock universe...\n",
      "Selected 2521 stocks based on filters.\n",
      "Removing 'DlyReturn' column to prevent look-ahead bias...\n",
      "Stock universe is ready.\n",
      "Generated formula: SpecRisk ~ 0 + USFASTD_1DREVRSL + USFASTD_EARNYILD + USFASTD_VALUE + USFASTD_SENTMT\n",
      "Summed alpha vector shape: (2521,)\n",
      "h0 type: <class 'numpy.ndarray'>, shape: (2521,)\n",
      "specVar type: <class 'numpy.ndarray'>, shape: (2521,)\n",
      "alpha_vec type: <class 'numpy.ndarray'>, shape: (2521,)\n",
      "Lambda type: <class 'numpy.ndarray'>, shape: (2521,)\n",
      "Optimization completed with status: b'CONVERGENCE: NORM_OF_PROJECTED_GRADIENT_<=_PGTOL'\n"
     ]
    },
    {
     "name": "stderr",
     "output_type": "stream",
     "text": [
      "\r",
      "Optimizing Portfolio:  63%|██████▎   | 158/252 [1:02:13<37:01, 23.63s/day]"
     ]
    },
    {
     "name": "stdout",
     "output_type": "stream",
     "text": [
      "Checking for required columns in the DataFrame...\n",
      "All required columns are present.\n",
      "Applying filters to create the stock universe...\n",
      "Selected 2522 stocks based on filters.\n",
      "Removing 'DlyReturn' column to prevent look-ahead bias...\n",
      "Stock universe is ready.\n",
      "Generated formula: SpecRisk ~ 0 + USFASTD_1DREVRSL + USFASTD_EARNYILD + USFASTD_VALUE + USFASTD_SENTMT\n",
      "Summed alpha vector shape: (2522,)\n",
      "h0 type: <class 'numpy.ndarray'>, shape: (2522,)\n",
      "specVar type: <class 'numpy.ndarray'>, shape: (2522,)\n",
      "alpha_vec type: <class 'numpy.ndarray'>, shape: (2522,)\n",
      "Lambda type: <class 'numpy.ndarray'>, shape: (2522,)\n",
      "Optimization completed with status: b'CONVERGENCE: NORM_OF_PROJECTED_GRADIENT_<=_PGTOL'\n"
     ]
    },
    {
     "name": "stderr",
     "output_type": "stream",
     "text": [
      "\r",
      "Optimizing Portfolio:  63%|██████▎   | 159/252 [1:02:59<36:50, 23.77s/day]"
     ]
    },
    {
     "name": "stdout",
     "output_type": "stream",
     "text": [
      "Checking for required columns in the DataFrame...\n",
      "All required columns are present.\n",
      "Applying filters to create the stock universe...\n",
      "Selected 2521 stocks based on filters.\n",
      "Removing 'DlyReturn' column to prevent look-ahead bias...\n",
      "Stock universe is ready.\n",
      "Generated formula: SpecRisk ~ 0 + USFASTD_1DREVRSL + USFASTD_EARNYILD + USFASTD_VALUE + USFASTD_SENTMT\n",
      "Summed alpha vector shape: (2521,)\n",
      "h0 type: <class 'numpy.ndarray'>, shape: (2521,)\n",
      "specVar type: <class 'numpy.ndarray'>, shape: (2521,)\n",
      "alpha_vec type: <class 'numpy.ndarray'>, shape: (2521,)\n",
      "Lambda type: <class 'numpy.ndarray'>, shape: (2521,)\n",
      "Optimization completed with status: b'CONVERGENCE: NORM_OF_PROJECTED_GRADIENT_<=_PGTOL'\n"
     ]
    },
    {
     "name": "stderr",
     "output_type": "stream",
     "text": [
      "\r",
      "Optimizing Portfolio:  63%|██████▎   | 160/252 [1:03:31<36:31, 23.82s/day]"
     ]
    },
    {
     "name": "stdout",
     "output_type": "stream",
     "text": [
      "Checking for required columns in the DataFrame...\n",
      "All required columns are present.\n",
      "Applying filters to create the stock universe...\n",
      "Selected 2523 stocks based on filters.\n",
      "Removing 'DlyReturn' column to prevent look-ahead bias...\n",
      "Stock universe is ready.\n",
      "Generated formula: SpecRisk ~ 0 + USFASTD_1DREVRSL + USFASTD_EARNYILD + USFASTD_VALUE + USFASTD_SENTMT\n",
      "Summed alpha vector shape: (2523,)\n",
      "h0 type: <class 'numpy.ndarray'>, shape: (2523,)\n",
      "specVar type: <class 'numpy.ndarray'>, shape: (2523,)\n",
      "alpha_vec type: <class 'numpy.ndarray'>, shape: (2523,)\n",
      "Lambda type: <class 'numpy.ndarray'>, shape: (2523,)\n",
      "Optimization completed with status: b'CONVERGENCE: REL_REDUCTION_OF_F_<=_FACTR*EPSMCH'\n"
     ]
    },
    {
     "name": "stderr",
     "output_type": "stream",
     "text": [
      "\r",
      "Optimizing Portfolio:  64%|██████▍   | 161/252 [1:04:13<36:17, 23.93s/day]"
     ]
    },
    {
     "name": "stdout",
     "output_type": "stream",
     "text": [
      "Checking for required columns in the DataFrame...\n",
      "All required columns are present.\n",
      "Applying filters to create the stock universe...\n",
      "Selected 2525 stocks based on filters.\n",
      "Removing 'DlyReturn' column to prevent look-ahead bias...\n",
      "Stock universe is ready.\n",
      "Generated formula: SpecRisk ~ 0 + USFASTD_1DREVRSL + USFASTD_EARNYILD + USFASTD_VALUE + USFASTD_SENTMT\n",
      "Summed alpha vector shape: (2525,)\n",
      "h0 type: <class 'numpy.ndarray'>, shape: (2525,)\n",
      "specVar type: <class 'numpy.ndarray'>, shape: (2525,)\n",
      "alpha_vec type: <class 'numpy.ndarray'>, shape: (2525,)\n",
      "Lambda type: <class 'numpy.ndarray'>, shape: (2525,)\n",
      "Optimization completed with status: b'CONVERGENCE: NORM_OF_PROJECTED_GRADIENT_<=_PGTOL'\n"
     ]
    },
    {
     "name": "stderr",
     "output_type": "stream",
     "text": [
      "\r",
      "Optimizing Portfolio:  64%|██████▍   | 162/252 [1:04:30<35:50, 23.89s/day]"
     ]
    },
    {
     "name": "stdout",
     "output_type": "stream",
     "text": [
      "Checking for required columns in the DataFrame...\n",
      "All required columns are present.\n",
      "Applying filters to create the stock universe...\n",
      "Selected 2525 stocks based on filters.\n",
      "Removing 'DlyReturn' column to prevent look-ahead bias...\n",
      "Stock universe is ready.\n",
      "Generated formula: SpecRisk ~ 0 + USFASTD_1DREVRSL + USFASTD_EARNYILD + USFASTD_VALUE + USFASTD_SENTMT\n",
      "Summed alpha vector shape: (2525,)\n",
      "h0 type: <class 'numpy.ndarray'>, shape: (2525,)\n",
      "specVar type: <class 'numpy.ndarray'>, shape: (2525,)\n",
      "alpha_vec type: <class 'numpy.ndarray'>, shape: (2525,)\n",
      "Lambda type: <class 'numpy.ndarray'>, shape: (2525,)\n",
      "Optimization completed with status: b'CONVERGENCE: NORM_OF_PROJECTED_GRADIENT_<=_PGTOL'\n"
     ]
    },
    {
     "name": "stderr",
     "output_type": "stream",
     "text": [
      "\r",
      "Optimizing Portfolio:  65%|██████▍   | 163/252 [1:04:45<35:21, 23.84s/day]"
     ]
    },
    {
     "name": "stdout",
     "output_type": "stream",
     "text": [
      "Checking for required columns in the DataFrame...\n",
      "All required columns are present.\n",
      "Applying filters to create the stock universe...\n",
      "Selected 2525 stocks based on filters.\n",
      "Removing 'DlyReturn' column to prevent look-ahead bias...\n",
      "Stock universe is ready.\n",
      "Generated formula: SpecRisk ~ 0 + USFASTD_1DREVRSL + USFASTD_EARNYILD + USFASTD_VALUE + USFASTD_SENTMT\n",
      "Summed alpha vector shape: (2525,)\n",
      "h0 type: <class 'numpy.ndarray'>, shape: (2525,)\n",
      "specVar type: <class 'numpy.ndarray'>, shape: (2525,)\n",
      "alpha_vec type: <class 'numpy.ndarray'>, shape: (2525,)\n",
      "Lambda type: <class 'numpy.ndarray'>, shape: (2525,)\n",
      "Optimization completed with status: b'CONVERGENCE: NORM_OF_PROJECTED_GRADIENT_<=_PGTOL'\n"
     ]
    },
    {
     "name": "stderr",
     "output_type": "stream",
     "text": [
      "\r",
      "Optimizing Portfolio:  65%|██████▌   | 164/252 [1:04:56<34:50, 23.76s/day]"
     ]
    },
    {
     "name": "stdout",
     "output_type": "stream",
     "text": [
      "Checking for required columns in the DataFrame...\n",
      "All required columns are present.\n",
      "Applying filters to create the stock universe...\n",
      "Selected 2526 stocks based on filters.\n",
      "Removing 'DlyReturn' column to prevent look-ahead bias...\n",
      "Stock universe is ready.\n",
      "Generated formula: SpecRisk ~ 0 + USFASTD_1DREVRSL + USFASTD_EARNYILD + USFASTD_VALUE + USFASTD_SENTMT\n",
      "Summed alpha vector shape: (2526,)\n",
      "h0 type: <class 'numpy.ndarray'>, shape: (2526,)\n",
      "specVar type: <class 'numpy.ndarray'>, shape: (2526,)\n",
      "alpha_vec type: <class 'numpy.ndarray'>, shape: (2526,)\n",
      "Lambda type: <class 'numpy.ndarray'>, shape: (2526,)\n",
      "Optimization completed with status: b'CONVERGENCE: NORM_OF_PROJECTED_GRADIENT_<=_PGTOL'\n"
     ]
    },
    {
     "name": "stderr",
     "output_type": "stream",
     "text": [
      "\r",
      "Optimizing Portfolio:  65%|██████▌   | 165/252 [1:05:10<34:22, 23.70s/day]"
     ]
    },
    {
     "name": "stdout",
     "output_type": "stream",
     "text": [
      "Checking for required columns in the DataFrame...\n",
      "All required columns are present.\n",
      "Applying filters to create the stock universe...\n",
      "Selected 2525 stocks based on filters.\n",
      "Removing 'DlyReturn' column to prevent look-ahead bias...\n",
      "Stock universe is ready.\n",
      "Generated formula: SpecRisk ~ 0 + USFASTD_1DREVRSL + USFASTD_EARNYILD + USFASTD_VALUE + USFASTD_SENTMT\n",
      "Summed alpha vector shape: (2525,)\n",
      "h0 type: <class 'numpy.ndarray'>, shape: (2525,)\n",
      "specVar type: <class 'numpy.ndarray'>, shape: (2525,)\n",
      "alpha_vec type: <class 'numpy.ndarray'>, shape: (2525,)\n",
      "Lambda type: <class 'numpy.ndarray'>, shape: (2525,)\n",
      "Optimization completed with status: b'CONVERGENCE: REL_REDUCTION_OF_F_<=_FACTR*EPSMCH'\n"
     ]
    },
    {
     "name": "stderr",
     "output_type": "stream",
     "text": [
      "\r",
      "Optimizing Portfolio:  66%|██████▌   | 166/252 [1:05:24<33:52, 23.64s/day]"
     ]
    },
    {
     "name": "stdout",
     "output_type": "stream",
     "text": [
      "Checking for required columns in the DataFrame...\n",
      "All required columns are present.\n",
      "Applying filters to create the stock universe...\n",
      "Selected 2526 stocks based on filters.\n",
      "Removing 'DlyReturn' column to prevent look-ahead bias...\n",
      "Stock universe is ready.\n",
      "Generated formula: SpecRisk ~ 0 + USFASTD_1DREVRSL + USFASTD_EARNYILD + USFASTD_VALUE + USFASTD_SENTMT\n",
      "Summed alpha vector shape: (2526,)\n",
      "h0 type: <class 'numpy.ndarray'>, shape: (2526,)\n",
      "specVar type: <class 'numpy.ndarray'>, shape: (2526,)\n",
      "alpha_vec type: <class 'numpy.ndarray'>, shape: (2526,)\n",
      "Lambda type: <class 'numpy.ndarray'>, shape: (2526,)\n",
      "Optimization completed with status: b'CONVERGENCE: NORM_OF_PROJECTED_GRADIENT_<=_PGTOL'\n"
     ]
    },
    {
     "name": "stderr",
     "output_type": "stream",
     "text": [
      "\r",
      "Optimizing Portfolio:  66%|██████▋   | 167/252 [1:05:57<33:34, 23.70s/day]"
     ]
    },
    {
     "name": "stdout",
     "output_type": "stream",
     "text": [
      "Checking for required columns in the DataFrame...\n",
      "All required columns are present.\n",
      "Applying filters to create the stock universe...\n",
      "Selected 2528 stocks based on filters.\n",
      "Removing 'DlyReturn' column to prevent look-ahead bias...\n",
      "Stock universe is ready.\n",
      "Generated formula: SpecRisk ~ 0 + USFASTD_1DREVRSL + USFASTD_EARNYILD + USFASTD_VALUE + USFASTD_SENTMT\n",
      "Summed alpha vector shape: (2528,)\n",
      "h0 type: <class 'numpy.ndarray'>, shape: (2528,)\n",
      "specVar type: <class 'numpy.ndarray'>, shape: (2528,)\n",
      "alpha_vec type: <class 'numpy.ndarray'>, shape: (2528,)\n",
      "Lambda type: <class 'numpy.ndarray'>, shape: (2528,)\n",
      "Optimization completed with status: b'CONVERGENCE: REL_REDUCTION_OF_F_<=_FACTR*EPSMCH'\n"
     ]
    },
    {
     "name": "stderr",
     "output_type": "stream",
     "text": [
      "\r",
      "Optimizing Portfolio:  67%|██████▋   | 168/252 [1:06:23<33:11, 23.71s/day]"
     ]
    },
    {
     "name": "stdout",
     "output_type": "stream",
     "text": [
      "Checking for required columns in the DataFrame...\n",
      "All required columns are present.\n",
      "Applying filters to create the stock universe...\n",
      "Selected 2528 stocks based on filters.\n",
      "Removing 'DlyReturn' column to prevent look-ahead bias...\n",
      "Stock universe is ready.\n",
      "Generated formula: SpecRisk ~ 0 + USFASTD_1DREVRSL + USFASTD_EARNYILD + USFASTD_VALUE + USFASTD_SENTMT\n",
      "Summed alpha vector shape: (2528,)\n",
      "h0 type: <class 'numpy.ndarray'>, shape: (2528,)\n",
      "specVar type: <class 'numpy.ndarray'>, shape: (2528,)\n",
      "alpha_vec type: <class 'numpy.ndarray'>, shape: (2528,)\n",
      "Lambda type: <class 'numpy.ndarray'>, shape: (2528,)\n"
     ]
    },
    {
     "name": "stderr",
     "output_type": "stream",
     "text": [
      "\r",
      "Optimizing Portfolio:  67%|██████▋   | 169/252 [1:06:35<32:42, 23.64s/day]"
     ]
    },
    {
     "name": "stdout",
     "output_type": "stream",
     "text": [
      "Optimization completed with status: b'CONVERGENCE: NORM_OF_PROJECTED_GRADIENT_<=_PGTOL'\n",
      "Checking for required columns in the DataFrame...\n",
      "All required columns are present.\n",
      "Applying filters to create the stock universe...\n",
      "Selected 2529 stocks based on filters.\n",
      "Removing 'DlyReturn' column to prevent look-ahead bias...\n",
      "Stock universe is ready.\n",
      "Generated formula: SpecRisk ~ 0 + USFASTD_1DREVRSL + USFASTD_EARNYILD + USFASTD_VALUE + USFASTD_SENTMT\n",
      "Summed alpha vector shape: (2529,)\n",
      "h0 type: <class 'numpy.ndarray'>, shape: (2529,)\n",
      "specVar type: <class 'numpy.ndarray'>, shape: (2529,)\n",
      "alpha_vec type: <class 'numpy.ndarray'>, shape: (2529,)\n",
      "Lambda type: <class 'numpy.ndarray'>, shape: (2529,)\n",
      "Optimization completed with status: b'CONVERGENCE: REL_REDUCTION_OF_F_<=_FACTR*EPSMCH'\n"
     ]
    },
    {
     "name": "stderr",
     "output_type": "stream",
     "text": [
      "\r",
      "Optimizing Portfolio:  67%|██████▋   | 170/252 [1:07:00<32:19, 23.65s/day]"
     ]
    },
    {
     "name": "stdout",
     "output_type": "stream",
     "text": [
      "Checking for required columns in the DataFrame...\n",
      "All required columns are present.\n",
      "Applying filters to create the stock universe...\n",
      "Selected 2532 stocks based on filters.\n",
      "Removing 'DlyReturn' column to prevent look-ahead bias...\n",
      "Stock universe is ready.\n",
      "Generated formula: SpecRisk ~ 0 + USFASTD_1DREVRSL + USFASTD_EARNYILD + USFASTD_VALUE + USFASTD_SENTMT\n",
      "Summed alpha vector shape: (2532,)\n",
      "h0 type: <class 'numpy.ndarray'>, shape: (2532,)\n",
      "specVar type: <class 'numpy.ndarray'>, shape: (2532,)\n",
      "alpha_vec type: <class 'numpy.ndarray'>, shape: (2532,)\n",
      "Lambda type: <class 'numpy.ndarray'>, shape: (2532,)\n",
      "Optimization completed with status: b'CONVERGENCE: NORM_OF_PROJECTED_GRADIENT_<=_PGTOL'\n"
     ]
    },
    {
     "name": "stderr",
     "output_type": "stream",
     "text": [
      "\r",
      "Optimizing Portfolio:  68%|██████▊   | 171/252 [1:07:23<31:55, 23.65s/day]"
     ]
    },
    {
     "name": "stdout",
     "output_type": "stream",
     "text": [
      "Checking for required columns in the DataFrame...\n",
      "All required columns are present.\n",
      "Applying filters to create the stock universe...\n",
      "Selected 2532 stocks based on filters.\n",
      "Removing 'DlyReturn' column to prevent look-ahead bias...\n",
      "Stock universe is ready.\n",
      "Generated formula: SpecRisk ~ 0 + USFASTD_1DREVRSL + USFASTD_EARNYILD + USFASTD_VALUE + USFASTD_SENTMT\n",
      "Summed alpha vector shape: (2532,)\n",
      "h0 type: <class 'numpy.ndarray'>, shape: (2532,)\n",
      "specVar type: <class 'numpy.ndarray'>, shape: (2532,)\n",
      "alpha_vec type: <class 'numpy.ndarray'>, shape: (2532,)\n",
      "Lambda type: <class 'numpy.ndarray'>, shape: (2532,)\n",
      "Optimization completed with status: b'CONVERGENCE: REL_REDUCTION_OF_F_<=_FACTR*EPSMCH'\n"
     ]
    },
    {
     "name": "stderr",
     "output_type": "stream",
     "text": [
      "\r",
      "Optimizing Portfolio:  68%|██████▊   | 172/252 [1:08:08<31:41, 23.77s/day]"
     ]
    },
    {
     "name": "stdout",
     "output_type": "stream",
     "text": [
      "Checking for required columns in the DataFrame...\n",
      "All required columns are present.\n",
      "Applying filters to create the stock universe...\n",
      "Selected 2533 stocks based on filters.\n",
      "Removing 'DlyReturn' column to prevent look-ahead bias...\n",
      "Stock universe is ready.\n",
      "Generated formula: SpecRisk ~ 0 + USFASTD_1DREVRSL + USFASTD_EARNYILD + USFASTD_VALUE + USFASTD_SENTMT\n",
      "Summed alpha vector shape: (2533,)\n",
      "h0 type: <class 'numpy.ndarray'>, shape: (2533,)\n",
      "specVar type: <class 'numpy.ndarray'>, shape: (2533,)\n",
      "alpha_vec type: <class 'numpy.ndarray'>, shape: (2533,)\n",
      "Lambda type: <class 'numpy.ndarray'>, shape: (2533,)\n",
      "Optimization completed with status: b'CONVERGENCE: REL_REDUCTION_OF_F_<=_FACTR*EPSMCH'\n"
     ]
    },
    {
     "name": "stderr",
     "output_type": "stream",
     "text": [
      "\r",
      "Optimizing Portfolio:  69%|██████▊   | 173/252 [1:08:52<31:27, 23.89s/day]"
     ]
    },
    {
     "name": "stdout",
     "output_type": "stream",
     "text": [
      "Checking for required columns in the DataFrame...\n",
      "All required columns are present.\n",
      "Applying filters to create the stock universe...\n",
      "Selected 2536 stocks based on filters.\n",
      "Removing 'DlyReturn' column to prevent look-ahead bias...\n",
      "Stock universe is ready.\n",
      "Generated formula: SpecRisk ~ 0 + USFASTD_1DREVRSL + USFASTD_EARNYILD + USFASTD_VALUE + USFASTD_SENTMT\n",
      "Summed alpha vector shape: (2536,)\n",
      "h0 type: <class 'numpy.ndarray'>, shape: (2536,)\n",
      "specVar type: <class 'numpy.ndarray'>, shape: (2536,)\n",
      "alpha_vec type: <class 'numpy.ndarray'>, shape: (2536,)\n",
      "Lambda type: <class 'numpy.ndarray'>, shape: (2536,)\n",
      "Optimization completed with status: b'CONVERGENCE: REL_REDUCTION_OF_F_<=_FACTR*EPSMCH'\n"
     ]
    },
    {
     "name": "stderr",
     "output_type": "stream",
     "text": [
      "\r",
      "Optimizing Portfolio:  69%|██████▉   | 174/252 [1:09:32<31:10, 23.98s/day]"
     ]
    },
    {
     "name": "stdout",
     "output_type": "stream",
     "text": [
      "Checking for required columns in the DataFrame...\n",
      "All required columns are present.\n",
      "Applying filters to create the stock universe...\n",
      "Selected 2536 stocks based on filters.\n",
      "Removing 'DlyReturn' column to prevent look-ahead bias...\n",
      "Stock universe is ready.\n",
      "Generated formula: SpecRisk ~ 0 + USFASTD_1DREVRSL + USFASTD_EARNYILD + USFASTD_VALUE + USFASTD_SENTMT\n",
      "Summed alpha vector shape: (2536,)\n",
      "h0 type: <class 'numpy.ndarray'>, shape: (2536,)\n",
      "specVar type: <class 'numpy.ndarray'>, shape: (2536,)\n",
      "alpha_vec type: <class 'numpy.ndarray'>, shape: (2536,)\n",
      "Lambda type: <class 'numpy.ndarray'>, shape: (2536,)\n",
      "Optimization completed with status: b'CONVERGENCE: NORM_OF_PROJECTED_GRADIENT_<=_PGTOL'\n"
     ]
    },
    {
     "name": "stderr",
     "output_type": "stream",
     "text": [
      "\r",
      "Optimizing Portfolio:  69%|██████▉   | 175/252 [1:10:00<30:48, 24.00s/day]"
     ]
    },
    {
     "name": "stdout",
     "output_type": "stream",
     "text": [
      "Checking for required columns in the DataFrame...\n",
      "All required columns are present.\n",
      "Applying filters to create the stock universe...\n",
      "Selected 2537 stocks based on filters.\n",
      "Removing 'DlyReturn' column to prevent look-ahead bias...\n",
      "Stock universe is ready.\n",
      "Generated formula: SpecRisk ~ 0 + USFASTD_1DREVRSL + USFASTD_EARNYILD + USFASTD_VALUE + USFASTD_SENTMT\n",
      "Summed alpha vector shape: (2537,)\n",
      "h0 type: <class 'numpy.ndarray'>, shape: (2537,)\n",
      "specVar type: <class 'numpy.ndarray'>, shape: (2537,)\n",
      "alpha_vec type: <class 'numpy.ndarray'>, shape: (2537,)\n",
      "Lambda type: <class 'numpy.ndarray'>, shape: (2537,)\n",
      "Optimization completed with status: b'CONVERGENCE: REL_REDUCTION_OF_F_<=_FACTR*EPSMCH'\n"
     ]
    },
    {
     "name": "stderr",
     "output_type": "stream",
     "text": [
      "\r",
      "Optimizing Portfolio:  70%|██████▉   | 176/252 [1:10:28<30:25, 24.02s/day]"
     ]
    },
    {
     "name": "stdout",
     "output_type": "stream",
     "text": [
      "Checking for required columns in the DataFrame...\n",
      "All required columns are present.\n",
      "Applying filters to create the stock universe...\n",
      "Selected 2537 stocks based on filters.\n",
      "Removing 'DlyReturn' column to prevent look-ahead bias...\n",
      "Stock universe is ready.\n",
      "Generated formula: SpecRisk ~ 0 + USFASTD_1DREVRSL + USFASTD_EARNYILD + USFASTD_VALUE + USFASTD_SENTMT\n",
      "Summed alpha vector shape: (2537,)\n",
      "h0 type: <class 'numpy.ndarray'>, shape: (2537,)\n",
      "specVar type: <class 'numpy.ndarray'>, shape: (2537,)\n",
      "alpha_vec type: <class 'numpy.ndarray'>, shape: (2537,)\n",
      "Lambda type: <class 'numpy.ndarray'>, shape: (2537,)\n",
      "Optimization completed with status: b'CONVERGENCE: REL_REDUCTION_OF_F_<=_FACTR*EPSMCH'\n"
     ]
    },
    {
     "name": "stderr",
     "output_type": "stream",
     "text": [
      "\r",
      "Optimizing Portfolio:  70%|███████   | 177/252 [1:10:47<29:59, 24.00s/day]"
     ]
    },
    {
     "name": "stdout",
     "output_type": "stream",
     "text": [
      "Checking for required columns in the DataFrame...\n",
      "All required columns are present.\n",
      "Applying filters to create the stock universe...\n",
      "Selected 2540 stocks based on filters.\n",
      "Removing 'DlyReturn' column to prevent look-ahead bias...\n",
      "Stock universe is ready.\n",
      "Generated formula: SpecRisk ~ 0 + USFASTD_1DREVRSL + USFASTD_EARNYILD + USFASTD_VALUE + USFASTD_SENTMT\n",
      "Summed alpha vector shape: (2540,)\n",
      "h0 type: <class 'numpy.ndarray'>, shape: (2540,)\n",
      "specVar type: <class 'numpy.ndarray'>, shape: (2540,)\n",
      "alpha_vec type: <class 'numpy.ndarray'>, shape: (2540,)\n",
      "Lambda type: <class 'numpy.ndarray'>, shape: (2540,)\n",
      "Optimization completed with status: b'CONVERGENCE: REL_REDUCTION_OF_F_<=_FACTR*EPSMCH'\n"
     ]
    },
    {
     "name": "stderr",
     "output_type": "stream",
     "text": [
      "\r",
      "Optimizing Portfolio:  71%|███████   | 178/252 [1:11:36<29:46, 24.14s/day]"
     ]
    },
    {
     "name": "stdout",
     "output_type": "stream",
     "text": [
      "Checking for required columns in the DataFrame...\n",
      "All required columns are present.\n",
      "Applying filters to create the stock universe...\n",
      "Selected 2542 stocks based on filters.\n",
      "Removing 'DlyReturn' column to prevent look-ahead bias...\n",
      "Stock universe is ready.\n",
      "Generated formula: SpecRisk ~ 0 + USFASTD_1DREVRSL + USFASTD_EARNYILD + USFASTD_VALUE + USFASTD_SENTMT\n",
      "Summed alpha vector shape: (2542,)\n",
      "h0 type: <class 'numpy.ndarray'>, shape: (2542,)\n",
      "specVar type: <class 'numpy.ndarray'>, shape: (2542,)\n",
      "alpha_vec type: <class 'numpy.ndarray'>, shape: (2542,)\n",
      "Lambda type: <class 'numpy.ndarray'>, shape: (2542,)\n",
      "Optimization completed with status: b'CONVERGENCE: REL_REDUCTION_OF_F_<=_FACTR*EPSMCH'\n"
     ]
    },
    {
     "name": "stderr",
     "output_type": "stream",
     "text": [
      "\r",
      "Optimizing Portfolio:  71%|███████   | 179/252 [1:11:56<29:20, 24.11s/day]"
     ]
    },
    {
     "name": "stdout",
     "output_type": "stream",
     "text": [
      "Checking for required columns in the DataFrame...\n",
      "All required columns are present.\n",
      "Applying filters to create the stock universe...\n",
      "Selected 2542 stocks based on filters.\n",
      "Removing 'DlyReturn' column to prevent look-ahead bias...\n",
      "Stock universe is ready.\n",
      "Generated formula: SpecRisk ~ 0 + USFASTD_1DREVRSL + USFASTD_EARNYILD + USFASTD_VALUE + USFASTD_SENTMT\n",
      "Summed alpha vector shape: (2542,)\n",
      "h0 type: <class 'numpy.ndarray'>, shape: (2542,)\n",
      "specVar type: <class 'numpy.ndarray'>, shape: (2542,)\n",
      "alpha_vec type: <class 'numpy.ndarray'>, shape: (2542,)\n",
      "Lambda type: <class 'numpy.ndarray'>, shape: (2542,)\n",
      "Optimization completed with status: b'CONVERGENCE: REL_REDUCTION_OF_F_<=_FACTR*EPSMCH'\n"
     ]
    },
    {
     "name": "stderr",
     "output_type": "stream",
     "text": [
      "\r",
      "Optimizing Portfolio:  71%|███████▏  | 180/252 [1:12:32<29:00, 24.18s/day]"
     ]
    },
    {
     "name": "stdout",
     "output_type": "stream",
     "text": [
      "Checking for required columns in the DataFrame...\n",
      "All required columns are present.\n",
      "Applying filters to create the stock universe...\n",
      "Selected 2546 stocks based on filters.\n",
      "Removing 'DlyReturn' column to prevent look-ahead bias...\n",
      "Stock universe is ready.\n",
      "Generated formula: SpecRisk ~ 0 + USFASTD_1DREVRSL + USFASTD_EARNYILD + USFASTD_VALUE + USFASTD_SENTMT\n",
      "Summed alpha vector shape: (2546,)\n",
      "h0 type: <class 'numpy.ndarray'>, shape: (2546,)\n",
      "specVar type: <class 'numpy.ndarray'>, shape: (2546,)\n",
      "alpha_vec type: <class 'numpy.ndarray'>, shape: (2546,)\n",
      "Lambda type: <class 'numpy.ndarray'>, shape: (2546,)\n",
      "Optimization completed with status: b'CONVERGENCE: REL_REDUCTION_OF_F_<=_FACTR*EPSMCH'\n"
     ]
    },
    {
     "name": "stderr",
     "output_type": "stream",
     "text": [
      "\r",
      "Optimizing Portfolio:  72%|███████▏  | 181/252 [1:12:49<28:33, 24.14s/day]"
     ]
    },
    {
     "name": "stdout",
     "output_type": "stream",
     "text": [
      "Checking for required columns in the DataFrame...\n",
      "All required columns are present.\n",
      "Applying filters to create the stock universe...\n",
      "Selected 2547 stocks based on filters.\n",
      "Removing 'DlyReturn' column to prevent look-ahead bias...\n",
      "Stock universe is ready.\n",
      "Generated formula: SpecRisk ~ 0 + USFASTD_1DREVRSL + USFASTD_EARNYILD + USFASTD_VALUE + USFASTD_SENTMT\n",
      "Summed alpha vector shape: (2547,)\n",
      "h0 type: <class 'numpy.ndarray'>, shape: (2547,)\n",
      "specVar type: <class 'numpy.ndarray'>, shape: (2547,)\n",
      "alpha_vec type: <class 'numpy.ndarray'>, shape: (2547,)\n",
      "Lambda type: <class 'numpy.ndarray'>, shape: (2547,)\n",
      "Optimization completed with status: b'CONVERGENCE: NORM_OF_PROJECTED_GRADIENT_<=_PGTOL'\n"
     ]
    },
    {
     "name": "stderr",
     "output_type": "stream",
     "text": [
      "\r",
      "Optimizing Portfolio:  72%|███████▏  | 182/252 [1:13:23<28:13, 24.19s/day]"
     ]
    },
    {
     "name": "stdout",
     "output_type": "stream",
     "text": [
      "Checking for required columns in the DataFrame...\n",
      "All required columns are present.\n",
      "Applying filters to create the stock universe...\n",
      "Selected 2548 stocks based on filters.\n",
      "Removing 'DlyReturn' column to prevent look-ahead bias...\n",
      "Stock universe is ready.\n",
      "Generated formula: SpecRisk ~ 0 + USFASTD_1DREVRSL + USFASTD_EARNYILD + USFASTD_VALUE + USFASTD_SENTMT\n",
      "Summed alpha vector shape: (2548,)\n",
      "h0 type: <class 'numpy.ndarray'>, shape: (2548,)\n",
      "specVar type: <class 'numpy.ndarray'>, shape: (2548,)\n",
      "alpha_vec type: <class 'numpy.ndarray'>, shape: (2548,)\n",
      "Lambda type: <class 'numpy.ndarray'>, shape: (2548,)\n",
      "Optimization completed with status: b'CONVERGENCE: REL_REDUCTION_OF_F_<=_FACTR*EPSMCH'\n"
     ]
    },
    {
     "name": "stderr",
     "output_type": "stream",
     "text": [
      "\r",
      "Optimizing Portfolio:  73%|███████▎  | 183/252 [1:13:45<27:48, 24.18s/day]"
     ]
    },
    {
     "name": "stdout",
     "output_type": "stream",
     "text": [
      "Checking for required columns in the DataFrame...\n",
      "All required columns are present.\n",
      "Applying filters to create the stock universe...\n",
      "Selected 2549 stocks based on filters.\n",
      "Removing 'DlyReturn' column to prevent look-ahead bias...\n",
      "Stock universe is ready.\n",
      "Generated formula: SpecRisk ~ 0 + USFASTD_1DREVRSL + USFASTD_EARNYILD + USFASTD_VALUE + USFASTD_SENTMT\n",
      "Summed alpha vector shape: (2549,)\n",
      "h0 type: <class 'numpy.ndarray'>, shape: (2549,)\n",
      "specVar type: <class 'numpy.ndarray'>, shape: (2549,)\n",
      "alpha_vec type: <class 'numpy.ndarray'>, shape: (2549,)\n",
      "Lambda type: <class 'numpy.ndarray'>, shape: (2549,)\n",
      "Optimization completed with status: b'CONVERGENCE: REL_REDUCTION_OF_F_<=_FACTR*EPSMCH'\n"
     ]
    },
    {
     "name": "stderr",
     "output_type": "stream",
     "text": [
      "\r",
      "Optimizing Portfolio:  73%|███████▎  | 184/252 [1:14:26<27:30, 24.28s/day]"
     ]
    },
    {
     "name": "stdout",
     "output_type": "stream",
     "text": [
      "Checking for required columns in the DataFrame...\n",
      "All required columns are present.\n",
      "Applying filters to create the stock universe...\n",
      "Selected 2548 stocks based on filters.\n",
      "Removing 'DlyReturn' column to prevent look-ahead bias...\n",
      "Stock universe is ready.\n",
      "Generated formula: SpecRisk ~ 0 + USFASTD_1DREVRSL + USFASTD_EARNYILD + USFASTD_VALUE + USFASTD_SENTMT\n",
      "Summed alpha vector shape: (2548,)\n",
      "h0 type: <class 'numpy.ndarray'>, shape: (2548,)\n",
      "specVar type: <class 'numpy.ndarray'>, shape: (2548,)\n",
      "alpha_vec type: <class 'numpy.ndarray'>, shape: (2548,)\n",
      "Lambda type: <class 'numpy.ndarray'>, shape: (2548,)\n",
      "Optimization completed with status: b'CONVERGENCE: REL_REDUCTION_OF_F_<=_FACTR*EPSMCH'\n"
     ]
    },
    {
     "name": "stderr",
     "output_type": "stream",
     "text": [
      "\r",
      "Optimizing Portfolio:  73%|███████▎  | 185/252 [1:14:59<27:09, 24.32s/day]"
     ]
    },
    {
     "name": "stdout",
     "output_type": "stream",
     "text": [
      "Checking for required columns in the DataFrame...\n",
      "All required columns are present.\n",
      "Applying filters to create the stock universe...\n",
      "Selected 2551 stocks based on filters.\n",
      "Removing 'DlyReturn' column to prevent look-ahead bias...\n",
      "Stock universe is ready.\n",
      "Generated formula: SpecRisk ~ 0 + USFASTD_1DREVRSL + USFASTD_EARNYILD + USFASTD_VALUE + USFASTD_SENTMT\n",
      "Summed alpha vector shape: (2551,)\n",
      "h0 type: <class 'numpy.ndarray'>, shape: (2551,)\n",
      "specVar type: <class 'numpy.ndarray'>, shape: (2551,)\n",
      "alpha_vec type: <class 'numpy.ndarray'>, shape: (2551,)\n",
      "Lambda type: <class 'numpy.ndarray'>, shape: (2551,)\n",
      "Optimization completed with status: b'CONVERGENCE: REL_REDUCTION_OF_F_<=_FACTR*EPSMCH'\n"
     ]
    },
    {
     "name": "stderr",
     "output_type": "stream",
     "text": [
      "\r",
      "Optimizing Portfolio:  74%|███████▍  | 186/252 [1:15:24<26:45, 24.33s/day]"
     ]
    },
    {
     "name": "stdout",
     "output_type": "stream",
     "text": [
      "Checking for required columns in the DataFrame...\n",
      "All required columns are present.\n",
      "Applying filters to create the stock universe...\n",
      "Selected 2550 stocks based on filters.\n",
      "Removing 'DlyReturn' column to prevent look-ahead bias...\n",
      "Stock universe is ready.\n",
      "Generated formula: SpecRisk ~ 0 + USFASTD_1DREVRSL + USFASTD_EARNYILD + USFASTD_VALUE + USFASTD_SENTMT\n",
      "Summed alpha vector shape: (2550,)\n",
      "h0 type: <class 'numpy.ndarray'>, shape: (2550,)\n",
      "specVar type: <class 'numpy.ndarray'>, shape: (2550,)\n",
      "alpha_vec type: <class 'numpy.ndarray'>, shape: (2550,)\n",
      "Lambda type: <class 'numpy.ndarray'>, shape: (2550,)\n",
      "Optimization completed with status: b'CONVERGENCE: REL_REDUCTION_OF_F_<=_FACTR*EPSMCH'\n"
     ]
    },
    {
     "name": "stderr",
     "output_type": "stream",
     "text": [
      "\r",
      "Optimizing Portfolio:  74%|███████▍  | 187/252 [1:15:44<26:19, 24.30s/day]"
     ]
    },
    {
     "name": "stdout",
     "output_type": "stream",
     "text": [
      "Checking for required columns in the DataFrame...\n",
      "All required columns are present.\n",
      "Applying filters to create the stock universe...\n",
      "Selected 2550 stocks based on filters.\n",
      "Removing 'DlyReturn' column to prevent look-ahead bias...\n",
      "Stock universe is ready.\n",
      "Generated formula: SpecRisk ~ 0 + USFASTD_1DREVRSL + USFASTD_EARNYILD + USFASTD_VALUE + USFASTD_SENTMT\n",
      "Summed alpha vector shape: (2550,)\n",
      "h0 type: <class 'numpy.ndarray'>, shape: (2550,)\n",
      "specVar type: <class 'numpy.ndarray'>, shape: (2550,)\n",
      "alpha_vec type: <class 'numpy.ndarray'>, shape: (2550,)\n",
      "Lambda type: <class 'numpy.ndarray'>, shape: (2550,)\n",
      "Optimization completed with status: b'CONVERGENCE: REL_REDUCTION_OF_F_<=_FACTR*EPSMCH'\n"
     ]
    },
    {
     "name": "stderr",
     "output_type": "stream",
     "text": [
      "\r",
      "Optimizing Portfolio:  75%|███████▍  | 188/252 [1:16:14<25:57, 24.33s/day]"
     ]
    },
    {
     "name": "stdout",
     "output_type": "stream",
     "text": [
      "Checking for required columns in the DataFrame...\n",
      "All required columns are present.\n",
      "Applying filters to create the stock universe...\n",
      "Selected 2553 stocks based on filters.\n",
      "Removing 'DlyReturn' column to prevent look-ahead bias...\n",
      "Stock universe is ready.\n",
      "Generated formula: SpecRisk ~ 0 + USFASTD_1DREVRSL + USFASTD_EARNYILD + USFASTD_VALUE + USFASTD_SENTMT\n",
      "Summed alpha vector shape: (2553,)\n",
      "h0 type: <class 'numpy.ndarray'>, shape: (2553,)\n",
      "specVar type: <class 'numpy.ndarray'>, shape: (2553,)\n",
      "alpha_vec type: <class 'numpy.ndarray'>, shape: (2553,)\n",
      "Lambda type: <class 'numpy.ndarray'>, shape: (2553,)\n",
      "Optimization completed with status: b'CONVERGENCE: REL_REDUCTION_OF_F_<=_FACTR*EPSMCH'\n"
     ]
    },
    {
     "name": "stderr",
     "output_type": "stream",
     "text": [
      "\r",
      "Optimizing Portfolio:  75%|███████▌  | 189/252 [1:16:35<25:31, 24.32s/day]"
     ]
    },
    {
     "name": "stdout",
     "output_type": "stream",
     "text": [
      "Checking for required columns in the DataFrame...\n",
      "All required columns are present.\n",
      "Applying filters to create the stock universe...\n",
      "Selected 2557 stocks based on filters.\n",
      "Removing 'DlyReturn' column to prevent look-ahead bias...\n",
      "Stock universe is ready.\n",
      "Generated formula: SpecRisk ~ 0 + USFASTD_1DREVRSL + USFASTD_EARNYILD + USFASTD_VALUE + USFASTD_SENTMT\n",
      "Summed alpha vector shape: (2557,)\n",
      "h0 type: <class 'numpy.ndarray'>, shape: (2557,)\n",
      "specVar type: <class 'numpy.ndarray'>, shape: (2557,)\n",
      "alpha_vec type: <class 'numpy.ndarray'>, shape: (2557,)\n",
      "Lambda type: <class 'numpy.ndarray'>, shape: (2557,)\n",
      "Optimization completed with status: b'CONVERGENCE: REL_REDUCTION_OF_F_<=_FACTR*EPSMCH'\n"
     ]
    },
    {
     "name": "stderr",
     "output_type": "stream",
     "text": [
      "\r",
      "Optimizing Portfolio:  75%|███████▌  | 190/252 [1:17:13<25:12, 24.39s/day]"
     ]
    },
    {
     "name": "stdout",
     "output_type": "stream",
     "text": [
      "Checking for required columns in the DataFrame...\n",
      "All required columns are present.\n",
      "Applying filters to create the stock universe...\n",
      "Selected 2557 stocks based on filters.\n",
      "Removing 'DlyReturn' column to prevent look-ahead bias...\n",
      "Stock universe is ready.\n",
      "Generated formula: SpecRisk ~ 0 + USFASTD_1DREVRSL + USFASTD_EARNYILD + USFASTD_VALUE + USFASTD_SENTMT\n",
      "Summed alpha vector shape: (2557,)\n",
      "h0 type: <class 'numpy.ndarray'>, shape: (2557,)\n",
      "specVar type: <class 'numpy.ndarray'>, shape: (2557,)\n",
      "alpha_vec type: <class 'numpy.ndarray'>, shape: (2557,)\n",
      "Lambda type: <class 'numpy.ndarray'>, shape: (2557,)\n",
      "Optimization completed with status: b'CONVERGENCE: REL_REDUCTION_OF_F_<=_FACTR*EPSMCH'\n"
     ]
    },
    {
     "name": "stderr",
     "output_type": "stream",
     "text": [
      "\r",
      "Optimizing Portfolio:  76%|███████▌  | 191/252 [1:17:46<24:50, 24.43s/day]"
     ]
    },
    {
     "name": "stdout",
     "output_type": "stream",
     "text": [
      "Checking for required columns in the DataFrame...\n",
      "All required columns are present.\n",
      "Applying filters to create the stock universe...\n",
      "Selected 2563 stocks based on filters.\n",
      "Removing 'DlyReturn' column to prevent look-ahead bias...\n",
      "Stock universe is ready.\n",
      "Generated formula: SpecRisk ~ 0 + USFASTD_1DREVRSL + USFASTD_EARNYILD + USFASTD_VALUE + USFASTD_SENTMT\n",
      "Summed alpha vector shape: (2563,)\n",
      "h0 type: <class 'numpy.ndarray'>, shape: (2563,)\n",
      "specVar type: <class 'numpy.ndarray'>, shape: (2563,)\n",
      "alpha_vec type: <class 'numpy.ndarray'>, shape: (2563,)\n",
      "Lambda type: <class 'numpy.ndarray'>, shape: (2563,)\n",
      "Optimization completed with status: b'CONVERGENCE: REL_REDUCTION_OF_F_<=_FACTR*EPSMCH'\n"
     ]
    },
    {
     "name": "stderr",
     "output_type": "stream",
     "text": [
      "\r",
      "Optimizing Portfolio:  76%|███████▌  | 192/252 [1:18:08<24:25, 24.42s/day]"
     ]
    },
    {
     "name": "stdout",
     "output_type": "stream",
     "text": [
      "Checking for required columns in the DataFrame...\n",
      "All required columns are present.\n",
      "Applying filters to create the stock universe...\n",
      "Selected 2566 stocks based on filters.\n",
      "Removing 'DlyReturn' column to prevent look-ahead bias...\n",
      "Stock universe is ready.\n",
      "Generated formula: SpecRisk ~ 0 + USFASTD_1DREVRSL + USFASTD_EARNYILD + USFASTD_VALUE + USFASTD_SENTMT\n",
      "Summed alpha vector shape: (2566,)\n",
      "h0 type: <class 'numpy.ndarray'>, shape: (2566,)\n",
      "specVar type: <class 'numpy.ndarray'>, shape: (2566,)\n",
      "alpha_vec type: <class 'numpy.ndarray'>, shape: (2566,)\n",
      "Lambda type: <class 'numpy.ndarray'>, shape: (2566,)\n",
      "Optimization completed with status: b'CONVERGENCE: REL_REDUCTION_OF_F_<=_FACTR*EPSMCH'\n"
     ]
    },
    {
     "name": "stderr",
     "output_type": "stream",
     "text": [
      "\r",
      "Optimizing Portfolio:  77%|███████▋  | 193/252 [1:18:50<24:06, 24.51s/day]"
     ]
    },
    {
     "name": "stdout",
     "output_type": "stream",
     "text": [
      "Checking for required columns in the DataFrame...\n",
      "All required columns are present.\n",
      "Applying filters to create the stock universe...\n",
      "Selected 2568 stocks based on filters.\n",
      "Removing 'DlyReturn' column to prevent look-ahead bias...\n",
      "Stock universe is ready.\n",
      "Generated formula: SpecRisk ~ 0 + USFASTD_1DREVRSL + USFASTD_EARNYILD + USFASTD_VALUE + USFASTD_SENTMT\n",
      "Summed alpha vector shape: (2568,)\n",
      "h0 type: <class 'numpy.ndarray'>, shape: (2568,)\n",
      "specVar type: <class 'numpy.ndarray'>, shape: (2568,)\n",
      "alpha_vec type: <class 'numpy.ndarray'>, shape: (2568,)\n",
      "Lambda type: <class 'numpy.ndarray'>, shape: (2568,)\n",
      "Optimization completed with status: b'CONVERGENCE: REL_REDUCTION_OF_F_<=_FACTR*EPSMCH'\n"
     ]
    },
    {
     "name": "stderr",
     "output_type": "stream",
     "text": [
      "\r",
      "Optimizing Portfolio:  77%|███████▋  | 194/252 [1:19:36<23:48, 24.62s/day]"
     ]
    },
    {
     "name": "stdout",
     "output_type": "stream",
     "text": [
      "Checking for required columns in the DataFrame...\n",
      "All required columns are present.\n",
      "Applying filters to create the stock universe...\n",
      "Selected 2568 stocks based on filters.\n",
      "Removing 'DlyReturn' column to prevent look-ahead bias...\n",
      "Stock universe is ready.\n",
      "Generated formula: SpecRisk ~ 0 + USFASTD_1DREVRSL + USFASTD_EARNYILD + USFASTD_VALUE + USFASTD_SENTMT\n",
      "Summed alpha vector shape: (2568,)\n",
      "h0 type: <class 'numpy.ndarray'>, shape: (2568,)\n",
      "specVar type: <class 'numpy.ndarray'>, shape: (2568,)\n",
      "alpha_vec type: <class 'numpy.ndarray'>, shape: (2568,)\n",
      "Lambda type: <class 'numpy.ndarray'>, shape: (2568,)\n",
      "Optimization completed with status: b'CONVERGENCE: REL_REDUCTION_OF_F_<=_FACTR*EPSMCH'\n"
     ]
    },
    {
     "name": "stderr",
     "output_type": "stream",
     "text": [
      "\r",
      "Optimizing Portfolio:  77%|███████▋  | 195/252 [1:20:41<23:35, 24.83s/day]"
     ]
    },
    {
     "name": "stdout",
     "output_type": "stream",
     "text": [
      "Checking for required columns in the DataFrame...\n",
      "All required columns are present.\n",
      "Applying filters to create the stock universe...\n",
      "Selected 2570 stocks based on filters.\n",
      "Removing 'DlyReturn' column to prevent look-ahead bias...\n",
      "Stock universe is ready.\n",
      "Generated formula: SpecRisk ~ 0 + USFASTD_1DREVRSL + USFASTD_EARNYILD + USFASTD_VALUE + USFASTD_SENTMT\n",
      "Summed alpha vector shape: (2570,)\n",
      "h0 type: <class 'numpy.ndarray'>, shape: (2570,)\n",
      "specVar type: <class 'numpy.ndarray'>, shape: (2570,)\n",
      "alpha_vec type: <class 'numpy.ndarray'>, shape: (2570,)\n",
      "Lambda type: <class 'numpy.ndarray'>, shape: (2570,)\n",
      "Optimization completed with status: b'CONVERGENCE: REL_REDUCTION_OF_F_<=_FACTR*EPSMCH'\n"
     ]
    },
    {
     "name": "stderr",
     "output_type": "stream",
     "text": [
      "\r",
      "Optimizing Portfolio:  78%|███████▊  | 196/252 [1:21:14<23:12, 24.87s/day]"
     ]
    },
    {
     "name": "stdout",
     "output_type": "stream",
     "text": [
      "Checking for required columns in the DataFrame...\n",
      "All required columns are present.\n",
      "Applying filters to create the stock universe...\n",
      "Selected 2569 stocks based on filters.\n",
      "Removing 'DlyReturn' column to prevent look-ahead bias...\n",
      "Stock universe is ready.\n",
      "Generated formula: SpecRisk ~ 0 + USFASTD_1DREVRSL + USFASTD_EARNYILD + USFASTD_VALUE + USFASTD_SENTMT\n",
      "Summed alpha vector shape: (2569,)\n",
      "h0 type: <class 'numpy.ndarray'>, shape: (2569,)\n",
      "specVar type: <class 'numpy.ndarray'>, shape: (2569,)\n",
      "alpha_vec type: <class 'numpy.ndarray'>, shape: (2569,)\n",
      "Lambda type: <class 'numpy.ndarray'>, shape: (2569,)\n",
      "Optimization completed with status: b'CONVERGENCE: NORM_OF_PROJECTED_GRADIENT_<=_PGTOL'\n"
     ]
    },
    {
     "name": "stderr",
     "output_type": "stream",
     "text": [
      "\r",
      "Optimizing Portfolio:  78%|███████▊  | 197/252 [1:21:43<22:49, 24.89s/day]"
     ]
    },
    {
     "name": "stdout",
     "output_type": "stream",
     "text": [
      "Checking for required columns in the DataFrame...\n",
      "All required columns are present.\n",
      "Applying filters to create the stock universe...\n",
      "Selected 2570 stocks based on filters.\n",
      "Removing 'DlyReturn' column to prevent look-ahead bias...\n",
      "Stock universe is ready.\n",
      "Generated formula: SpecRisk ~ 0 + USFASTD_1DREVRSL + USFASTD_EARNYILD + USFASTD_VALUE + USFASTD_SENTMT\n",
      "Summed alpha vector shape: (2570,)\n",
      "h0 type: <class 'numpy.ndarray'>, shape: (2570,)\n",
      "specVar type: <class 'numpy.ndarray'>, shape: (2570,)\n",
      "alpha_vec type: <class 'numpy.ndarray'>, shape: (2570,)\n",
      "Lambda type: <class 'numpy.ndarray'>, shape: (2570,)\n",
      "Optimization completed with status: b'CONVERGENCE: REL_REDUCTION_OF_F_<=_FACTR*EPSMCH'\n"
     ]
    },
    {
     "name": "stderr",
     "output_type": "stream",
     "text": [
      "\r",
      "Optimizing Portfolio:  79%|███████▊  | 198/252 [1:22:12<22:25, 24.91s/day]"
     ]
    },
    {
     "name": "stdout",
     "output_type": "stream",
     "text": [
      "Checking for required columns in the DataFrame...\n",
      "All required columns are present.\n",
      "Applying filters to create the stock universe...\n",
      "Selected 2571 stocks based on filters.\n",
      "Removing 'DlyReturn' column to prevent look-ahead bias...\n",
      "Stock universe is ready.\n",
      "Generated formula: SpecRisk ~ 0 + USFASTD_1DREVRSL + USFASTD_EARNYILD + USFASTD_VALUE + USFASTD_SENTMT\n",
      "Summed alpha vector shape: (2571,)\n",
      "h0 type: <class 'numpy.ndarray'>, shape: (2571,)\n",
      "specVar type: <class 'numpy.ndarray'>, shape: (2571,)\n",
      "alpha_vec type: <class 'numpy.ndarray'>, shape: (2571,)\n",
      "Lambda type: <class 'numpy.ndarray'>, shape: (2571,)\n"
     ]
    },
    {
     "name": "stderr",
     "output_type": "stream",
     "text": [
      "\r",
      "Optimizing Portfolio:  79%|███████▉  | 199/252 [1:22:51<22:04, 24.98s/day]"
     ]
    },
    {
     "name": "stdout",
     "output_type": "stream",
     "text": [
      "Optimization completed with status: b'CONVERGENCE: NORM_OF_PROJECTED_GRADIENT_<=_PGTOL'\n",
      "Checking for required columns in the DataFrame...\n",
      "All required columns are present.\n",
      "Applying filters to create the stock universe...\n",
      "Selected 2572 stocks based on filters.\n",
      "Removing 'DlyReturn' column to prevent look-ahead bias...\n",
      "Stock universe is ready.\n",
      "Generated formula: SpecRisk ~ 0 + USFASTD_1DREVRSL + USFASTD_EARNYILD + USFASTD_VALUE + USFASTD_SENTMT\n",
      "Summed alpha vector shape: (2572,)\n",
      "h0 type: <class 'numpy.ndarray'>, shape: (2572,)\n",
      "specVar type: <class 'numpy.ndarray'>, shape: (2572,)\n",
      "alpha_vec type: <class 'numpy.ndarray'>, shape: (2572,)\n",
      "Lambda type: <class 'numpy.ndarray'>, shape: (2572,)\n",
      "Optimization completed with status: b'CONVERGENCE: NORM_OF_PROJECTED_GRADIENT_<=_PGTOL'\n"
     ]
    },
    {
     "name": "stderr",
     "output_type": "stream",
     "text": [
      "\r",
      "Optimizing Portfolio:  79%|███████▉  | 200/252 [1:23:06<21:36, 24.93s/day]"
     ]
    },
    {
     "name": "stdout",
     "output_type": "stream",
     "text": [
      "Checking for required columns in the DataFrame...\n",
      "All required columns are present.\n",
      "Applying filters to create the stock universe...\n",
      "Selected 2572 stocks based on filters.\n",
      "Removing 'DlyReturn' column to prevent look-ahead bias...\n",
      "Stock universe is ready.\n",
      "Generated formula: SpecRisk ~ 0 + USFASTD_1DREVRSL + USFASTD_EARNYILD + USFASTD_VALUE + USFASTD_SENTMT\n",
      "Summed alpha vector shape: (2572,)\n",
      "h0 type: <class 'numpy.ndarray'>, shape: (2572,)\n",
      "specVar type: <class 'numpy.ndarray'>, shape: (2572,)\n",
      "alpha_vec type: <class 'numpy.ndarray'>, shape: (2572,)\n",
      "Lambda type: <class 'numpy.ndarray'>, shape: (2572,)\n",
      "Optimization completed with status: b'CONVERGENCE: REL_REDUCTION_OF_F_<=_FACTR*EPSMCH'\n"
     ]
    },
    {
     "name": "stderr",
     "output_type": "stream",
     "text": [
      "\r",
      "Optimizing Portfolio:  80%|███████▉  | 201/252 [1:24:14<21:22, 25.15s/day]"
     ]
    },
    {
     "name": "stdout",
     "output_type": "stream",
     "text": [
      "Checking for required columns in the DataFrame...\n",
      "All required columns are present.\n",
      "Applying filters to create the stock universe...\n",
      "Selected 2574 stocks based on filters.\n",
      "Removing 'DlyReturn' column to prevent look-ahead bias...\n",
      "Stock universe is ready.\n",
      "Generated formula: SpecRisk ~ 0 + USFASTD_1DREVRSL + USFASTD_EARNYILD + USFASTD_VALUE + USFASTD_SENTMT\n",
      "Summed alpha vector shape: (2574,)\n",
      "h0 type: <class 'numpy.ndarray'>, shape: (2574,)\n",
      "specVar type: <class 'numpy.ndarray'>, shape: (2574,)\n",
      "alpha_vec type: <class 'numpy.ndarray'>, shape: (2574,)\n",
      "Lambda type: <class 'numpy.ndarray'>, shape: (2574,)\n",
      "Optimization completed with status: b'CONVERGENCE: NORM_OF_PROJECTED_GRADIENT_<=_PGTOL'\n"
     ]
    },
    {
     "name": "stderr",
     "output_type": "stream",
     "text": [
      "\r",
      "Optimizing Portfolio:  80%|████████  | 202/252 [1:24:30<20:55, 25.10s/day]"
     ]
    },
    {
     "name": "stdout",
     "output_type": "stream",
     "text": [
      "Checking for required columns in the DataFrame...\n",
      "All required columns are present.\n",
      "Applying filters to create the stock universe...\n",
      "Selected 2577 stocks based on filters.\n",
      "Removing 'DlyReturn' column to prevent look-ahead bias...\n",
      "Stock universe is ready.\n",
      "Generated formula: SpecRisk ~ 0 + USFASTD_1DREVRSL + USFASTD_EARNYILD + USFASTD_VALUE + USFASTD_SENTMT\n",
      "Summed alpha vector shape: (2577,)\n",
      "h0 type: <class 'numpy.ndarray'>, shape: (2577,)\n",
      "specVar type: <class 'numpy.ndarray'>, shape: (2577,)\n",
      "alpha_vec type: <class 'numpy.ndarray'>, shape: (2577,)\n",
      "Lambda type: <class 'numpy.ndarray'>, shape: (2577,)\n",
      "Optimization completed with status: b'CONVERGENCE: NORM_OF_PROJECTED_GRADIENT_<=_PGTOL'\n"
     ]
    },
    {
     "name": "stderr",
     "output_type": "stream",
     "text": [
      "\r",
      "Optimizing Portfolio:  81%|████████  | 203/252 [1:25:06<20:32, 25.16s/day]"
     ]
    },
    {
     "name": "stdout",
     "output_type": "stream",
     "text": [
      "Checking for required columns in the DataFrame...\n",
      "All required columns are present.\n",
      "Applying filters to create the stock universe...\n",
      "Selected 2577 stocks based on filters.\n",
      "Removing 'DlyReturn' column to prevent look-ahead bias...\n",
      "Stock universe is ready.\n",
      "Generated formula: SpecRisk ~ 0 + USFASTD_1DREVRSL + USFASTD_EARNYILD + USFASTD_VALUE + USFASTD_SENTMT\n",
      "Summed alpha vector shape: (2577,)\n",
      "h0 type: <class 'numpy.ndarray'>, shape: (2577,)\n",
      "specVar type: <class 'numpy.ndarray'>, shape: (2577,)\n",
      "alpha_vec type: <class 'numpy.ndarray'>, shape: (2577,)\n",
      "Lambda type: <class 'numpy.ndarray'>, shape: (2577,)\n",
      "Optimization completed with status: b'CONVERGENCE: NORM_OF_PROJECTED_GRADIENT_<=_PGTOL'\n"
     ]
    },
    {
     "name": "stderr",
     "output_type": "stream",
     "text": [
      "\r",
      "Optimizing Portfolio:  81%|████████  | 204/252 [1:25:15<20:03, 25.08s/day]"
     ]
    },
    {
     "name": "stdout",
     "output_type": "stream",
     "text": [
      "Checking for required columns in the DataFrame...\n",
      "All required columns are present.\n",
      "Applying filters to create the stock universe...\n",
      "Selected 2577 stocks based on filters.\n",
      "Removing 'DlyReturn' column to prevent look-ahead bias...\n",
      "Stock universe is ready.\n",
      "Generated formula: SpecRisk ~ 0 + USFASTD_1DREVRSL + USFASTD_EARNYILD + USFASTD_VALUE + USFASTD_SENTMT\n",
      "Summed alpha vector shape: (2577,)\n",
      "h0 type: <class 'numpy.ndarray'>, shape: (2577,)\n",
      "specVar type: <class 'numpy.ndarray'>, shape: (2577,)\n",
      "alpha_vec type: <class 'numpy.ndarray'>, shape: (2577,)\n",
      "Lambda type: <class 'numpy.ndarray'>, shape: (2577,)\n",
      "Optimization completed with status: b'CONVERGENCE: NORM_OF_PROJECTED_GRADIENT_<=_PGTOL'\n"
     ]
    },
    {
     "name": "stderr",
     "output_type": "stream",
     "text": [
      "\r",
      "Optimizing Portfolio:  81%|████████▏ | 205/252 [1:25:44<19:39, 25.10s/day]"
     ]
    },
    {
     "name": "stdout",
     "output_type": "stream",
     "text": [
      "Checking for required columns in the DataFrame...\n",
      "All required columns are present.\n",
      "Applying filters to create the stock universe...\n",
      "Selected 2581 stocks based on filters.\n",
      "Removing 'DlyReturn' column to prevent look-ahead bias...\n",
      "Stock universe is ready.\n",
      "Generated formula: SpecRisk ~ 0 + USFASTD_1DREVRSL + USFASTD_EARNYILD + USFASTD_VALUE + USFASTD_SENTMT\n",
      "Summed alpha vector shape: (2581,)\n",
      "h0 type: <class 'numpy.ndarray'>, shape: (2581,)\n",
      "specVar type: <class 'numpy.ndarray'>, shape: (2581,)\n",
      "alpha_vec type: <class 'numpy.ndarray'>, shape: (2581,)\n",
      "Lambda type: <class 'numpy.ndarray'>, shape: (2581,)\n",
      "Optimization completed with status: b'CONVERGENCE: REL_REDUCTION_OF_F_<=_FACTR*EPSMCH'\n"
     ]
    },
    {
     "name": "stderr",
     "output_type": "stream",
     "text": [
      "\r",
      "Optimizing Portfolio:  82%|████████▏ | 206/252 [1:26:27<19:18, 25.18s/day]"
     ]
    },
    {
     "name": "stdout",
     "output_type": "stream",
     "text": [
      "Checking for required columns in the DataFrame...\n",
      "All required columns are present.\n",
      "Applying filters to create the stock universe...\n",
      "Selected 2581 stocks based on filters.\n",
      "Removing 'DlyReturn' column to prevent look-ahead bias...\n",
      "Stock universe is ready.\n",
      "Generated formula: SpecRisk ~ 0 + USFASTD_1DREVRSL + USFASTD_EARNYILD + USFASTD_VALUE + USFASTD_SENTMT\n",
      "Summed alpha vector shape: (2581,)\n",
      "h0 type: <class 'numpy.ndarray'>, shape: (2581,)\n",
      "specVar type: <class 'numpy.ndarray'>, shape: (2581,)\n",
      "alpha_vec type: <class 'numpy.ndarray'>, shape: (2581,)\n",
      "Lambda type: <class 'numpy.ndarray'>, shape: (2581,)\n",
      "Optimization completed with status: b'CONVERGENCE: NORM_OF_PROJECTED_GRADIENT_<=_PGTOL'\n"
     ]
    },
    {
     "name": "stderr",
     "output_type": "stream",
     "text": [
      "\r",
      "Optimizing Portfolio:  82%|████████▏ | 207/252 [1:26:44<18:51, 25.14s/day]"
     ]
    },
    {
     "name": "stdout",
     "output_type": "stream",
     "text": [
      "Checking for required columns in the DataFrame...\n",
      "All required columns are present.\n",
      "Applying filters to create the stock universe...\n",
      "Selected 2579 stocks based on filters.\n",
      "Removing 'DlyReturn' column to prevent look-ahead bias...\n",
      "Stock universe is ready.\n",
      "Generated formula: SpecRisk ~ 0 + USFASTD_1DREVRSL + USFASTD_EARNYILD + USFASTD_VALUE + USFASTD_SENTMT\n",
      "Summed alpha vector shape: (2579,)\n",
      "h0 type: <class 'numpy.ndarray'>, shape: (2579,)\n",
      "specVar type: <class 'numpy.ndarray'>, shape: (2579,)\n",
      "alpha_vec type: <class 'numpy.ndarray'>, shape: (2579,)\n",
      "Lambda type: <class 'numpy.ndarray'>, shape: (2579,)\n",
      "Optimization completed with status: b'CONVERGENCE: NORM_OF_PROJECTED_GRADIENT_<=_PGTOL'\n"
     ]
    },
    {
     "name": "stderr",
     "output_type": "stream",
     "text": [
      "\r",
      "Optimizing Portfolio:  83%|████████▎ | 208/252 [1:26:57<18:23, 25.08s/day]"
     ]
    },
    {
     "name": "stdout",
     "output_type": "stream",
     "text": [
      "Checking for required columns in the DataFrame...\n",
      "All required columns are present.\n",
      "Applying filters to create the stock universe...\n",
      "Selected 2580 stocks based on filters.\n",
      "Removing 'DlyReturn' column to prevent look-ahead bias...\n",
      "Stock universe is ready.\n",
      "Generated formula: SpecRisk ~ 0 + USFASTD_1DREVRSL + USFASTD_EARNYILD + USFASTD_VALUE + USFASTD_SENTMT\n",
      "Summed alpha vector shape: (2580,)\n",
      "h0 type: <class 'numpy.ndarray'>, shape: (2580,)\n",
      "specVar type: <class 'numpy.ndarray'>, shape: (2580,)\n",
      "alpha_vec type: <class 'numpy.ndarray'>, shape: (2580,)\n",
      "Lambda type: <class 'numpy.ndarray'>, shape: (2580,)\n",
      "Optimization completed with status: b'CONVERGENCE: NORM_OF_PROJECTED_GRADIENT_<=_PGTOL'\n"
     ]
    },
    {
     "name": "stderr",
     "output_type": "stream",
     "text": [
      "\r",
      "Optimizing Portfolio:  83%|████████▎ | 209/252 [1:28:04<18:07, 25.28s/day]"
     ]
    },
    {
     "name": "stdout",
     "output_type": "stream",
     "text": [
      "Checking for required columns in the DataFrame...\n",
      "All required columns are present.\n",
      "Applying filters to create the stock universe...\n",
      "Selected 2580 stocks based on filters.\n",
      "Removing 'DlyReturn' column to prevent look-ahead bias...\n",
      "Stock universe is ready.\n",
      "Generated formula: SpecRisk ~ 0 + USFASTD_1DREVRSL + USFASTD_EARNYILD + USFASTD_VALUE + USFASTD_SENTMT\n",
      "Summed alpha vector shape: (2580,)\n",
      "h0 type: <class 'numpy.ndarray'>, shape: (2580,)\n",
      "specVar type: <class 'numpy.ndarray'>, shape: (2580,)\n",
      "alpha_vec type: <class 'numpy.ndarray'>, shape: (2580,)\n",
      "Lambda type: <class 'numpy.ndarray'>, shape: (2580,)\n",
      "Optimization completed with status: b'CONVERGENCE: NORM_OF_PROJECTED_GRADIENT_<=_PGTOL'\n"
     ]
    },
    {
     "name": "stderr",
     "output_type": "stream",
     "text": [
      "\r",
      "Optimizing Portfolio:  83%|████████▎ | 210/252 [1:28:28<17:41, 25.28s/day]"
     ]
    },
    {
     "name": "stdout",
     "output_type": "stream",
     "text": [
      "Checking for required columns in the DataFrame...\n",
      "All required columns are present.\n",
      "Applying filters to create the stock universe...\n",
      "Selected 2582 stocks based on filters.\n",
      "Removing 'DlyReturn' column to prevent look-ahead bias...\n",
      "Stock universe is ready.\n",
      "Generated formula: SpecRisk ~ 0 + USFASTD_1DREVRSL + USFASTD_EARNYILD + USFASTD_VALUE + USFASTD_SENTMT\n",
      "Summed alpha vector shape: (2582,)\n",
      "h0 type: <class 'numpy.ndarray'>, shape: (2582,)\n",
      "specVar type: <class 'numpy.ndarray'>, shape: (2582,)\n",
      "alpha_vec type: <class 'numpy.ndarray'>, shape: (2582,)\n",
      "Lambda type: <class 'numpy.ndarray'>, shape: (2582,)\n",
      "Optimization completed with status: b'CONVERGENCE: NORM_OF_PROJECTED_GRADIENT_<=_PGTOL'\n"
     ]
    },
    {
     "name": "stderr",
     "output_type": "stream",
     "text": [
      "\r",
      "Optimizing Portfolio:  84%|████████▎ | 211/252 [1:29:05<17:18, 25.33s/day]"
     ]
    },
    {
     "name": "stdout",
     "output_type": "stream",
     "text": [
      "Checking for required columns in the DataFrame...\n",
      "All required columns are present.\n",
      "Applying filters to create the stock universe...\n",
      "Selected 2585 stocks based on filters.\n",
      "Removing 'DlyReturn' column to prevent look-ahead bias...\n",
      "Stock universe is ready.\n",
      "Generated formula: SpecRisk ~ 0 + USFASTD_1DREVRSL + USFASTD_EARNYILD + USFASTD_VALUE + USFASTD_SENTMT\n",
      "Summed alpha vector shape: (2585,)\n",
      "h0 type: <class 'numpy.ndarray'>, shape: (2585,)\n",
      "specVar type: <class 'numpy.ndarray'>, shape: (2585,)\n",
      "alpha_vec type: <class 'numpy.ndarray'>, shape: (2585,)\n",
      "Lambda type: <class 'numpy.ndarray'>, shape: (2585,)\n",
      "Optimization completed with status: b'CONVERGENCE: NORM_OF_PROJECTED_GRADIENT_<=_PGTOL'\n"
     ]
    },
    {
     "name": "stderr",
     "output_type": "stream",
     "text": [
      "\r",
      "Optimizing Portfolio:  84%|████████▍ | 212/252 [1:29:28<16:52, 25.32s/day]"
     ]
    },
    {
     "name": "stdout",
     "output_type": "stream",
     "text": [
      "Checking for required columns in the DataFrame...\n",
      "All required columns are present.\n",
      "Applying filters to create the stock universe...\n",
      "Selected 2593 stocks based on filters.\n",
      "Removing 'DlyReturn' column to prevent look-ahead bias...\n",
      "Stock universe is ready.\n",
      "Generated formula: SpecRisk ~ 0 + USFASTD_1DREVRSL + USFASTD_EARNYILD + USFASTD_VALUE + USFASTD_SENTMT\n",
      "Summed alpha vector shape: (2593,)\n",
      "h0 type: <class 'numpy.ndarray'>, shape: (2593,)\n",
      "specVar type: <class 'numpy.ndarray'>, shape: (2593,)\n",
      "alpha_vec type: <class 'numpy.ndarray'>, shape: (2593,)\n",
      "Lambda type: <class 'numpy.ndarray'>, shape: (2593,)\n",
      "Optimization completed with status: b'CONVERGENCE: NORM_OF_PROJECTED_GRADIENT_<=_PGTOL'\n"
     ]
    },
    {
     "name": "stderr",
     "output_type": "stream",
     "text": [
      "\r",
      "Optimizing Portfolio:  85%|████████▍ | 213/252 [1:29:36<16:24, 25.24s/day]"
     ]
    },
    {
     "name": "stdout",
     "output_type": "stream",
     "text": [
      "Checking for required columns in the DataFrame...\n",
      "All required columns are present.\n",
      "Applying filters to create the stock universe...\n",
      "Selected 2593 stocks based on filters.\n",
      "Removing 'DlyReturn' column to prevent look-ahead bias...\n",
      "Stock universe is ready.\n",
      "Generated formula: SpecRisk ~ 0 + USFASTD_1DREVRSL + USFASTD_EARNYILD + USFASTD_VALUE + USFASTD_SENTMT\n",
      "Summed alpha vector shape: (2593,)\n",
      "h0 type: <class 'numpy.ndarray'>, shape: (2593,)\n",
      "specVar type: <class 'numpy.ndarray'>, shape: (2593,)\n",
      "alpha_vec type: <class 'numpy.ndarray'>, shape: (2593,)\n",
      "Lambda type: <class 'numpy.ndarray'>, shape: (2593,)\n",
      "Optimization completed with status: b'CONVERGENCE: NORM_OF_PROJECTED_GRADIENT_<=_PGTOL'\n"
     ]
    },
    {
     "name": "stderr",
     "output_type": "stream",
     "text": [
      "\r",
      "Optimizing Portfolio:  85%|████████▍ | 214/252 [1:30:08<16:00, 25.27s/day]"
     ]
    },
    {
     "name": "stdout",
     "output_type": "stream",
     "text": [
      "Checking for required columns in the DataFrame...\n",
      "All required columns are present.\n",
      "Applying filters to create the stock universe...\n",
      "Selected 2594 stocks based on filters.\n",
      "Removing 'DlyReturn' column to prevent look-ahead bias...\n",
      "Stock universe is ready.\n",
      "Generated formula: SpecRisk ~ 0 + USFASTD_1DREVRSL + USFASTD_EARNYILD + USFASTD_VALUE + USFASTD_SENTMT\n",
      "Summed alpha vector shape: (2594,)\n",
      "h0 type: <class 'numpy.ndarray'>, shape: (2594,)\n",
      "specVar type: <class 'numpy.ndarray'>, shape: (2594,)\n",
      "alpha_vec type: <class 'numpy.ndarray'>, shape: (2594,)\n",
      "Lambda type: <class 'numpy.ndarray'>, shape: (2594,)\n",
      "Optimization completed with status: b'CONVERGENCE: REL_REDUCTION_OF_F_<=_FACTR*EPSMCH'\n"
     ]
    },
    {
     "name": "stderr",
     "output_type": "stream",
     "text": [
      "\r",
      "Optimizing Portfolio:  85%|████████▌ | 215/252 [1:30:56<15:38, 25.38s/day]"
     ]
    },
    {
     "name": "stdout",
     "output_type": "stream",
     "text": [
      "Checking for required columns in the DataFrame...\n",
      "All required columns are present.\n",
      "Applying filters to create the stock universe...\n",
      "Selected 2599 stocks based on filters.\n",
      "Removing 'DlyReturn' column to prevent look-ahead bias...\n",
      "Stock universe is ready.\n",
      "Generated formula: SpecRisk ~ 0 + USFASTD_1DREVRSL + USFASTD_EARNYILD + USFASTD_VALUE + USFASTD_SENTMT\n",
      "Summed alpha vector shape: (2599,)\n",
      "h0 type: <class 'numpy.ndarray'>, shape: (2599,)\n",
      "specVar type: <class 'numpy.ndarray'>, shape: (2599,)\n",
      "alpha_vec type: <class 'numpy.ndarray'>, shape: (2599,)\n",
      "Lambda type: <class 'numpy.ndarray'>, shape: (2599,)\n",
      "Optimization completed with status: b'CONVERGENCE: REL_REDUCTION_OF_F_<=_FACTR*EPSMCH'\n"
     ]
    },
    {
     "name": "stderr",
     "output_type": "stream",
     "text": [
      "\r",
      "Optimizing Portfolio:  86%|████████▌ | 216/252 [1:31:11<15:11, 25.33s/day]"
     ]
    },
    {
     "name": "stdout",
     "output_type": "stream",
     "text": [
      "Checking for required columns in the DataFrame...\n",
      "All required columns are present.\n",
      "Applying filters to create the stock universe...\n",
      "Selected 2602 stocks based on filters.\n",
      "Removing 'DlyReturn' column to prevent look-ahead bias...\n",
      "Stock universe is ready.\n",
      "Generated formula: SpecRisk ~ 0 + USFASTD_1DREVRSL + USFASTD_EARNYILD + USFASTD_VALUE + USFASTD_SENTMT\n",
      "Summed alpha vector shape: (2602,)\n",
      "h0 type: <class 'numpy.ndarray'>, shape: (2602,)\n",
      "specVar type: <class 'numpy.ndarray'>, shape: (2602,)\n",
      "alpha_vec type: <class 'numpy.ndarray'>, shape: (2602,)\n",
      "Lambda type: <class 'numpy.ndarray'>, shape: (2602,)\n",
      "Optimization completed with status: b'CONVERGENCE: NORM_OF_PROJECTED_GRADIENT_<=_PGTOL'\n"
     ]
    },
    {
     "name": "stderr",
     "output_type": "stream",
     "text": [
      "\r",
      "Optimizing Portfolio:  86%|████████▌ | 217/252 [1:31:34<14:46, 25.32s/day]"
     ]
    },
    {
     "name": "stdout",
     "output_type": "stream",
     "text": [
      "Checking for required columns in the DataFrame...\n",
      "All required columns are present.\n",
      "Applying filters to create the stock universe...\n",
      "Selected 2604 stocks based on filters.\n",
      "Removing 'DlyReturn' column to prevent look-ahead bias...\n",
      "Stock universe is ready.\n",
      "Generated formula: SpecRisk ~ 0 + USFASTD_1DREVRSL + USFASTD_EARNYILD + USFASTD_VALUE + USFASTD_SENTMT\n",
      "Summed alpha vector shape: (2604,)\n",
      "h0 type: <class 'numpy.ndarray'>, shape: (2604,)\n",
      "specVar type: <class 'numpy.ndarray'>, shape: (2604,)\n",
      "alpha_vec type: <class 'numpy.ndarray'>, shape: (2604,)\n",
      "Lambda type: <class 'numpy.ndarray'>, shape: (2604,)\n",
      "Optimization completed with status: b'CONVERGENCE: REL_REDUCTION_OF_F_<=_FACTR*EPSMCH'\n"
     ]
    },
    {
     "name": "stderr",
     "output_type": "stream",
     "text": [
      "\r",
      "Optimizing Portfolio:  87%|████████▋ | 218/252 [1:32:14<14:23, 25.39s/day]"
     ]
    },
    {
     "name": "stdout",
     "output_type": "stream",
     "text": [
      "Checking for required columns in the DataFrame...\n",
      "All required columns are present.\n",
      "Applying filters to create the stock universe...\n",
      "Selected 2606 stocks based on filters.\n",
      "Removing 'DlyReturn' column to prevent look-ahead bias...\n",
      "Stock universe is ready.\n",
      "Generated formula: SpecRisk ~ 0 + USFASTD_1DREVRSL + USFASTD_EARNYILD + USFASTD_VALUE + USFASTD_SENTMT\n",
      "Summed alpha vector shape: (2606,)\n",
      "h0 type: <class 'numpy.ndarray'>, shape: (2606,)\n",
      "specVar type: <class 'numpy.ndarray'>, shape: (2606,)\n",
      "alpha_vec type: <class 'numpy.ndarray'>, shape: (2606,)\n",
      "Lambda type: <class 'numpy.ndarray'>, shape: (2606,)\n",
      "Optimization completed with status: b'CONVERGENCE: REL_REDUCTION_OF_F_<=_FACTR*EPSMCH'\n"
     ]
    },
    {
     "name": "stderr",
     "output_type": "stream",
     "text": [
      "\r",
      "Optimizing Portfolio:  87%|████████▋ | 219/252 [1:33:09<14:02, 25.52s/day]"
     ]
    },
    {
     "name": "stdout",
     "output_type": "stream",
     "text": [
      "Checking for required columns in the DataFrame...\n",
      "All required columns are present.\n",
      "Applying filters to create the stock universe...\n",
      "Selected 2607 stocks based on filters.\n",
      "Removing 'DlyReturn' column to prevent look-ahead bias...\n",
      "Stock universe is ready.\n",
      "Generated formula: SpecRisk ~ 0 + USFASTD_1DREVRSL + USFASTD_EARNYILD + USFASTD_VALUE + USFASTD_SENTMT\n",
      "Summed alpha vector shape: (2607,)\n",
      "h0 type: <class 'numpy.ndarray'>, shape: (2607,)\n",
      "specVar type: <class 'numpy.ndarray'>, shape: (2607,)\n",
      "alpha_vec type: <class 'numpy.ndarray'>, shape: (2607,)\n",
      "Lambda type: <class 'numpy.ndarray'>, shape: (2607,)\n",
      "Optimization completed with status: b'CONVERGENCE: REL_REDUCTION_OF_F_<=_FACTR*EPSMCH'\n"
     ]
    },
    {
     "name": "stderr",
     "output_type": "stream",
     "text": [
      "\r",
      "Optimizing Portfolio:  87%|████████▋ | 220/252 [1:33:36<13:36, 25.53s/day]"
     ]
    },
    {
     "name": "stdout",
     "output_type": "stream",
     "text": [
      "Checking for required columns in the DataFrame...\n",
      "All required columns are present.\n",
      "Applying filters to create the stock universe...\n",
      "Selected 2608 stocks based on filters.\n",
      "Removing 'DlyReturn' column to prevent look-ahead bias...\n",
      "Stock universe is ready.\n",
      "Generated formula: SpecRisk ~ 0 + USFASTD_1DREVRSL + USFASTD_EARNYILD + USFASTD_VALUE + USFASTD_SENTMT\n",
      "Summed alpha vector shape: (2608,)\n",
      "h0 type: <class 'numpy.ndarray'>, shape: (2608,)\n",
      "specVar type: <class 'numpy.ndarray'>, shape: (2608,)\n",
      "alpha_vec type: <class 'numpy.ndarray'>, shape: (2608,)\n",
      "Lambda type: <class 'numpy.ndarray'>, shape: (2608,)\n",
      "Optimization completed with status: b'CONVERGENCE: NORM_OF_PROJECTED_GRADIENT_<=_PGTOL'\n"
     ]
    },
    {
     "name": "stderr",
     "output_type": "stream",
     "text": [
      "\r",
      "Optimizing Portfolio:  88%|████████▊ | 221/252 [1:35:06<13:20, 25.82s/day]"
     ]
    },
    {
     "name": "stdout",
     "output_type": "stream",
     "text": [
      "Checking for required columns in the DataFrame...\n",
      "All required columns are present.\n",
      "Applying filters to create the stock universe...\n",
      "Selected 2610 stocks based on filters.\n",
      "Removing 'DlyReturn' column to prevent look-ahead bias...\n",
      "Stock universe is ready.\n",
      "Generated formula: SpecRisk ~ 0 + USFASTD_1DREVRSL + USFASTD_EARNYILD + USFASTD_VALUE + USFASTD_SENTMT\n",
      "Summed alpha vector shape: (2610,)\n",
      "h0 type: <class 'numpy.ndarray'>, shape: (2610,)\n",
      "specVar type: <class 'numpy.ndarray'>, shape: (2610,)\n",
      "alpha_vec type: <class 'numpy.ndarray'>, shape: (2610,)\n",
      "Lambda type: <class 'numpy.ndarray'>, shape: (2610,)\n",
      "Optimization completed with status: b'CONVERGENCE: REL_REDUCTION_OF_F_<=_FACTR*EPSMCH'\n"
     ]
    },
    {
     "name": "stderr",
     "output_type": "stream",
     "text": [
      "\r",
      "Optimizing Portfolio:  88%|████████▊ | 222/252 [1:35:34<12:54, 25.83s/day]"
     ]
    },
    {
     "name": "stdout",
     "output_type": "stream",
     "text": [
      "Checking for required columns in the DataFrame...\n",
      "All required columns are present.\n",
      "Applying filters to create the stock universe...\n",
      "Selected 2612 stocks based on filters.\n",
      "Removing 'DlyReturn' column to prevent look-ahead bias...\n",
      "Stock universe is ready.\n",
      "Generated formula: SpecRisk ~ 0 + USFASTD_1DREVRSL + USFASTD_EARNYILD + USFASTD_VALUE + USFASTD_SENTMT\n",
      "Summed alpha vector shape: (2612,)\n",
      "h0 type: <class 'numpy.ndarray'>, shape: (2612,)\n",
      "specVar type: <class 'numpy.ndarray'>, shape: (2612,)\n",
      "alpha_vec type: <class 'numpy.ndarray'>, shape: (2612,)\n",
      "Lambda type: <class 'numpy.ndarray'>, shape: (2612,)\n",
      "Optimization completed with status: b'CONVERGENCE: NORM_OF_PROJECTED_GRADIENT_<=_PGTOL'\n"
     ]
    },
    {
     "name": "stderr",
     "output_type": "stream",
     "text": [
      "\r",
      "Optimizing Portfolio:  88%|████████▊ | 223/252 [1:36:13<12:30, 25.89s/day]"
     ]
    },
    {
     "name": "stdout",
     "output_type": "stream",
     "text": [
      "Checking for required columns in the DataFrame...\n",
      "All required columns are present.\n",
      "Applying filters to create the stock universe...\n",
      "Selected 2613 stocks based on filters.\n",
      "Removing 'DlyReturn' column to prevent look-ahead bias...\n",
      "Stock universe is ready.\n",
      "Generated formula: SpecRisk ~ 0 + USFASTD_1DREVRSL + USFASTD_EARNYILD + USFASTD_VALUE + USFASTD_SENTMT\n",
      "Summed alpha vector shape: (2613,)\n",
      "h0 type: <class 'numpy.ndarray'>, shape: (2613,)\n",
      "specVar type: <class 'numpy.ndarray'>, shape: (2613,)\n",
      "alpha_vec type: <class 'numpy.ndarray'>, shape: (2613,)\n",
      "Lambda type: <class 'numpy.ndarray'>, shape: (2613,)\n",
      "Optimization completed with status: b'CONVERGENCE: NORM_OF_PROJECTED_GRADIENT_<=_PGTOL'\n"
     ]
    },
    {
     "name": "stderr",
     "output_type": "stream",
     "text": [
      "\r",
      "Optimizing Portfolio:  89%|████████▉ | 224/252 [1:36:39<12:04, 25.89s/day]"
     ]
    },
    {
     "name": "stdout",
     "output_type": "stream",
     "text": [
      "Checking for required columns in the DataFrame...\n",
      "All required columns are present.\n",
      "Applying filters to create the stock universe...\n",
      "Selected 2613 stocks based on filters.\n",
      "Removing 'DlyReturn' column to prevent look-ahead bias...\n",
      "Stock universe is ready.\n",
      "Generated formula: SpecRisk ~ 0 + USFASTD_1DREVRSL + USFASTD_EARNYILD + USFASTD_VALUE + USFASTD_SENTMT\n",
      "Summed alpha vector shape: (2613,)\n",
      "h0 type: <class 'numpy.ndarray'>, shape: (2613,)\n",
      "specVar type: <class 'numpy.ndarray'>, shape: (2613,)\n",
      "alpha_vec type: <class 'numpy.ndarray'>, shape: (2613,)\n",
      "Lambda type: <class 'numpy.ndarray'>, shape: (2613,)\n",
      "Optimization completed with status: b'CONVERGENCE: NORM_OF_PROJECTED_GRADIENT_<=_PGTOL'\n"
     ]
    },
    {
     "name": "stderr",
     "output_type": "stream",
     "text": [
      "\r",
      "Optimizing Portfolio:  89%|████████▉ | 225/252 [1:37:04<11:38, 25.89s/day]"
     ]
    },
    {
     "name": "stdout",
     "output_type": "stream",
     "text": [
      "Checking for required columns in the DataFrame...\n",
      "All required columns are present.\n",
      "Applying filters to create the stock universe...\n",
      "Selected 2615 stocks based on filters.\n",
      "Removing 'DlyReturn' column to prevent look-ahead bias...\n",
      "Stock universe is ready.\n",
      "Generated formula: SpecRisk ~ 0 + USFASTD_1DREVRSL + USFASTD_EARNYILD + USFASTD_VALUE + USFASTD_SENTMT\n",
      "Summed alpha vector shape: (2615,)\n",
      "h0 type: <class 'numpy.ndarray'>, shape: (2615,)\n",
      "specVar type: <class 'numpy.ndarray'>, shape: (2615,)\n",
      "alpha_vec type: <class 'numpy.ndarray'>, shape: (2615,)\n",
      "Lambda type: <class 'numpy.ndarray'>, shape: (2615,)\n",
      "Optimization completed with status: b'CONVERGENCE: REL_REDUCTION_OF_F_<=_FACTR*EPSMCH'\n"
     ]
    },
    {
     "name": "stderr",
     "output_type": "stream",
     "text": [
      "\r",
      "Optimizing Portfolio:  90%|████████▉ | 226/252 [1:37:32<11:13, 25.90s/day]"
     ]
    },
    {
     "name": "stdout",
     "output_type": "stream",
     "text": [
      "Checking for required columns in the DataFrame...\n",
      "All required columns are present.\n",
      "Applying filters to create the stock universe...\n",
      "Selected 2618 stocks based on filters.\n",
      "Removing 'DlyReturn' column to prevent look-ahead bias...\n",
      "Stock universe is ready.\n",
      "Generated formula: SpecRisk ~ 0 + USFASTD_1DREVRSL + USFASTD_EARNYILD + USFASTD_VALUE + USFASTD_SENTMT\n",
      "Summed alpha vector shape: (2618,)\n",
      "h0 type: <class 'numpy.ndarray'>, shape: (2618,)\n",
      "specVar type: <class 'numpy.ndarray'>, shape: (2618,)\n",
      "alpha_vec type: <class 'numpy.ndarray'>, shape: (2618,)\n",
      "Lambda type: <class 'numpy.ndarray'>, shape: (2618,)\n",
      "Optimization completed with status: b'CONVERGENCE: NORM_OF_PROJECTED_GRADIENT_<=_PGTOL'\n"
     ]
    },
    {
     "name": "stderr",
     "output_type": "stream",
     "text": [
      "\r",
      "Optimizing Portfolio:  90%|█████████ | 227/252 [1:37:57<10:47, 25.89s/day]"
     ]
    },
    {
     "name": "stdout",
     "output_type": "stream",
     "text": [
      "Checking for required columns in the DataFrame...\n",
      "All required columns are present.\n",
      "Applying filters to create the stock universe...\n",
      "Selected 2619 stocks based on filters.\n",
      "Removing 'DlyReturn' column to prevent look-ahead bias...\n",
      "Stock universe is ready.\n",
      "Generated formula: SpecRisk ~ 0 + USFASTD_1DREVRSL + USFASTD_EARNYILD + USFASTD_VALUE + USFASTD_SENTMT\n",
      "Summed alpha vector shape: (2619,)\n",
      "h0 type: <class 'numpy.ndarray'>, shape: (2619,)\n",
      "specVar type: <class 'numpy.ndarray'>, shape: (2619,)\n",
      "alpha_vec type: <class 'numpy.ndarray'>, shape: (2619,)\n",
      "Lambda type: <class 'numpy.ndarray'>, shape: (2619,)\n",
      "Optimization completed with status: b'CONVERGENCE: REL_REDUCTION_OF_F_<=_FACTR*EPSMCH'\n"
     ]
    },
    {
     "name": "stderr",
     "output_type": "stream",
     "text": [
      "\r",
      "Optimizing Portfolio:  90%|█████████ | 228/252 [1:38:42<10:23, 25.97s/day]"
     ]
    },
    {
     "name": "stdout",
     "output_type": "stream",
     "text": [
      "Checking for required columns in the DataFrame...\n",
      "All required columns are present.\n",
      "Applying filters to create the stock universe...\n",
      "Selected 2622 stocks based on filters.\n",
      "Removing 'DlyReturn' column to prevent look-ahead bias...\n",
      "Stock universe is ready.\n",
      "Generated formula: SpecRisk ~ 0 + USFASTD_1DREVRSL + USFASTD_EARNYILD + USFASTD_VALUE + USFASTD_SENTMT\n",
      "Summed alpha vector shape: (2622,)\n",
      "h0 type: <class 'numpy.ndarray'>, shape: (2622,)\n",
      "specVar type: <class 'numpy.ndarray'>, shape: (2622,)\n",
      "alpha_vec type: <class 'numpy.ndarray'>, shape: (2622,)\n",
      "Lambda type: <class 'numpy.ndarray'>, shape: (2622,)\n",
      "Optimization completed with status: b'CONVERGENCE: NORM_OF_PROJECTED_GRADIENT_<=_PGTOL'\n"
     ]
    },
    {
     "name": "stderr",
     "output_type": "stream",
     "text": [
      "\r",
      "Optimizing Portfolio:  91%|█████████ | 229/252 [1:39:08<09:57, 25.98s/day]"
     ]
    },
    {
     "name": "stdout",
     "output_type": "stream",
     "text": [
      "Checking for required columns in the DataFrame...\n",
      "All required columns are present.\n",
      "Applying filters to create the stock universe...\n",
      "Selected 2624 stocks based on filters.\n",
      "Removing 'DlyReturn' column to prevent look-ahead bias...\n",
      "Stock universe is ready.\n",
      "Generated formula: SpecRisk ~ 0 + USFASTD_1DREVRSL + USFASTD_EARNYILD + USFASTD_VALUE + USFASTD_SENTMT\n",
      "Summed alpha vector shape: (2624,)\n",
      "h0 type: <class 'numpy.ndarray'>, shape: (2624,)\n",
      "specVar type: <class 'numpy.ndarray'>, shape: (2624,)\n",
      "alpha_vec type: <class 'numpy.ndarray'>, shape: (2624,)\n",
      "Lambda type: <class 'numpy.ndarray'>, shape: (2624,)\n",
      "Optimization completed with status: b'CONVERGENCE: REL_REDUCTION_OF_F_<=_FACTR*EPSMCH'\n"
     ]
    },
    {
     "name": "stderr",
     "output_type": "stream",
     "text": [
      "\r",
      "Optimizing Portfolio:  91%|█████████▏| 230/252 [1:40:01<09:34, 26.09s/day]"
     ]
    },
    {
     "name": "stdout",
     "output_type": "stream",
     "text": [
      "Checking for required columns in the DataFrame...\n",
      "All required columns are present.\n",
      "Applying filters to create the stock universe...\n",
      "Selected 2630 stocks based on filters.\n",
      "Removing 'DlyReturn' column to prevent look-ahead bias...\n",
      "Stock universe is ready.\n",
      "Generated formula: SpecRisk ~ 0 + USFASTD_1DREVRSL + USFASTD_EARNYILD + USFASTD_VALUE + USFASTD_SENTMT\n",
      "Summed alpha vector shape: (2630,)\n",
      "h0 type: <class 'numpy.ndarray'>, shape: (2630,)\n",
      "specVar type: <class 'numpy.ndarray'>, shape: (2630,)\n",
      "alpha_vec type: <class 'numpy.ndarray'>, shape: (2630,)\n",
      "Lambda type: <class 'numpy.ndarray'>, shape: (2630,)\n"
     ]
    },
    {
     "name": "stderr",
     "output_type": "stream",
     "text": [
      "\r",
      "Optimizing Portfolio:  92%|█████████▏| 231/252 [1:40:24<09:07, 26.08s/day]"
     ]
    },
    {
     "name": "stdout",
     "output_type": "stream",
     "text": [
      "Optimization completed with status: b'CONVERGENCE: REL_REDUCTION_OF_F_<=_FACTR*EPSMCH'\n",
      "Checking for required columns in the DataFrame...\n",
      "All required columns are present.\n",
      "Applying filters to create the stock universe...\n",
      "Selected 2634 stocks based on filters.\n",
      "Removing 'DlyReturn' column to prevent look-ahead bias...\n",
      "Stock universe is ready.\n",
      "Generated formula: SpecRisk ~ 0 + USFASTD_1DREVRSL + USFASTD_EARNYILD + USFASTD_VALUE + USFASTD_SENTMT\n",
      "Summed alpha vector shape: (2634,)\n",
      "h0 type: <class 'numpy.ndarray'>, shape: (2634,)\n",
      "specVar type: <class 'numpy.ndarray'>, shape: (2634,)\n",
      "alpha_vec type: <class 'numpy.ndarray'>, shape: (2634,)\n",
      "Lambda type: <class 'numpy.ndarray'>, shape: (2634,)\n",
      "Optimization completed with status: b'CONVERGENCE: REL_REDUCTION_OF_F_<=_FACTR*EPSMCH'\n"
     ]
    },
    {
     "name": "stderr",
     "output_type": "stream",
     "text": [
      "\r",
      "Optimizing Portfolio:  92%|█████████▏| 232/252 [1:40:49<08:41, 26.08s/day]"
     ]
    },
    {
     "name": "stdout",
     "output_type": "stream",
     "text": [
      "Checking for required columns in the DataFrame...\n",
      "All required columns are present.\n",
      "Applying filters to create the stock universe...\n",
      "Selected 2637 stocks based on filters.\n",
      "Removing 'DlyReturn' column to prevent look-ahead bias...\n",
      "Stock universe is ready.\n",
      "Generated formula: SpecRisk ~ 0 + USFASTD_1DREVRSL + USFASTD_EARNYILD + USFASTD_VALUE + USFASTD_SENTMT\n",
      "Summed alpha vector shape: (2637,)\n",
      "h0 type: <class 'numpy.ndarray'>, shape: (2637,)\n",
      "specVar type: <class 'numpy.ndarray'>, shape: (2637,)\n",
      "alpha_vec type: <class 'numpy.ndarray'>, shape: (2637,)\n",
      "Lambda type: <class 'numpy.ndarray'>, shape: (2637,)\n",
      "Optimization completed with status: b'CONVERGENCE: NORM_OF_PROJECTED_GRADIENT_<=_PGTOL'\n"
     ]
    },
    {
     "name": "stderr",
     "output_type": "stream",
     "text": [
      "\r",
      "Optimizing Portfolio:  92%|█████████▏| 233/252 [1:41:21<08:15, 26.10s/day]"
     ]
    },
    {
     "name": "stdout",
     "output_type": "stream",
     "text": [
      "Checking for required columns in the DataFrame...\n",
      "All required columns are present.\n",
      "Applying filters to create the stock universe...\n",
      "Selected 2637 stocks based on filters.\n",
      "Removing 'DlyReturn' column to prevent look-ahead bias...\n",
      "Stock universe is ready.\n",
      "Generated formula: SpecRisk ~ 0 + USFASTD_1DREVRSL + USFASTD_EARNYILD + USFASTD_VALUE + USFASTD_SENTMT\n",
      "Summed alpha vector shape: (2637,)\n",
      "h0 type: <class 'numpy.ndarray'>, shape: (2637,)\n",
      "specVar type: <class 'numpy.ndarray'>, shape: (2637,)\n",
      "alpha_vec type: <class 'numpy.ndarray'>, shape: (2637,)\n",
      "Lambda type: <class 'numpy.ndarray'>, shape: (2637,)\n",
      "Optimization completed with status: b'CONVERGENCE: REL_REDUCTION_OF_F_<=_FACTR*EPSMCH'\n"
     ]
    },
    {
     "name": "stderr",
     "output_type": "stream",
     "text": [
      "\r",
      "Optimizing Portfolio:  93%|█████████▎| 234/252 [1:41:42<07:49, 26.08s/day]"
     ]
    },
    {
     "name": "stdout",
     "output_type": "stream",
     "text": [
      "Checking for required columns in the DataFrame...\n",
      "All required columns are present.\n",
      "Applying filters to create the stock universe...\n",
      "Selected 2637 stocks based on filters.\n",
      "Removing 'DlyReturn' column to prevent look-ahead bias...\n",
      "Stock universe is ready.\n",
      "Generated formula: SpecRisk ~ 0 + USFASTD_1DREVRSL + USFASTD_EARNYILD + USFASTD_VALUE + USFASTD_SENTMT\n",
      "Summed alpha vector shape: (2637,)\n",
      "h0 type: <class 'numpy.ndarray'>, shape: (2637,)\n",
      "specVar type: <class 'numpy.ndarray'>, shape: (2637,)\n",
      "alpha_vec type: <class 'numpy.ndarray'>, shape: (2637,)\n",
      "Lambda type: <class 'numpy.ndarray'>, shape: (2637,)\n",
      "Optimization completed with status: b'CONVERGENCE: REL_REDUCTION_OF_F_<=_FACTR*EPSMCH'\n"
     ]
    },
    {
     "name": "stderr",
     "output_type": "stream",
     "text": [
      "\r",
      "Optimizing Portfolio:  93%|█████████▎| 235/252 [1:42:02<07:22, 26.05s/day]"
     ]
    },
    {
     "name": "stdout",
     "output_type": "stream",
     "text": [
      "Checking for required columns in the DataFrame...\n",
      "All required columns are present.\n",
      "Applying filters to create the stock universe...\n",
      "Selected 2637 stocks based on filters.\n",
      "Removing 'DlyReturn' column to prevent look-ahead bias...\n",
      "Stock universe is ready.\n",
      "Generated formula: SpecRisk ~ 0 + USFASTD_1DREVRSL + USFASTD_EARNYILD + USFASTD_VALUE + USFASTD_SENTMT\n",
      "Summed alpha vector shape: (2637,)\n",
      "h0 type: <class 'numpy.ndarray'>, shape: (2637,)\n",
      "specVar type: <class 'numpy.ndarray'>, shape: (2637,)\n",
      "alpha_vec type: <class 'numpy.ndarray'>, shape: (2637,)\n",
      "Lambda type: <class 'numpy.ndarray'>, shape: (2637,)\n",
      "Optimization completed with status: b'CONVERGENCE: NORM_OF_PROJECTED_GRADIENT_<=_PGTOL'\n"
     ]
    },
    {
     "name": "stderr",
     "output_type": "stream",
     "text": [
      "\r",
      "Optimizing Portfolio:  94%|█████████▎| 236/252 [1:42:14<06:55, 25.99s/day]"
     ]
    },
    {
     "name": "stdout",
     "output_type": "stream",
     "text": [
      "Checking for required columns in the DataFrame...\n",
      "All required columns are present.\n",
      "Applying filters to create the stock universe...\n",
      "Selected 2637 stocks based on filters.\n",
      "Removing 'DlyReturn' column to prevent look-ahead bias...\n",
      "Stock universe is ready.\n",
      "Generated formula: SpecRisk ~ 0 + USFASTD_1DREVRSL + USFASTD_EARNYILD + USFASTD_VALUE + USFASTD_SENTMT\n",
      "Summed alpha vector shape: (2637,)\n",
      "h0 type: <class 'numpy.ndarray'>, shape: (2637,)\n",
      "specVar type: <class 'numpy.ndarray'>, shape: (2637,)\n",
      "alpha_vec type: <class 'numpy.ndarray'>, shape: (2637,)\n",
      "Lambda type: <class 'numpy.ndarray'>, shape: (2637,)\n",
      "Optimization completed with status: b'CONVERGENCE: REL_REDUCTION_OF_F_<=_FACTR*EPSMCH'\n"
     ]
    },
    {
     "name": "stderr",
     "output_type": "stream",
     "text": [
      "\r",
      "Optimizing Portfolio:  94%|█████████▍| 237/252 [1:42:49<06:30, 26.03s/day]"
     ]
    },
    {
     "name": "stdout",
     "output_type": "stream",
     "text": [
      "Checking for required columns in the DataFrame...\n",
      "All required columns are present.\n",
      "Applying filters to create the stock universe...\n",
      "Selected 2641 stocks based on filters.\n",
      "Removing 'DlyReturn' column to prevent look-ahead bias...\n",
      "Stock universe is ready.\n",
      "Generated formula: SpecRisk ~ 0 + USFASTD_1DREVRSL + USFASTD_EARNYILD + USFASTD_VALUE + USFASTD_SENTMT\n",
      "Summed alpha vector shape: (2641,)\n",
      "h0 type: <class 'numpy.ndarray'>, shape: (2641,)\n",
      "specVar type: <class 'numpy.ndarray'>, shape: (2641,)\n",
      "alpha_vec type: <class 'numpy.ndarray'>, shape: (2641,)\n",
      "Lambda type: <class 'numpy.ndarray'>, shape: (2641,)\n",
      "Optimization completed with status: b'CONVERGENCE: REL_REDUCTION_OF_F_<=_FACTR*EPSMCH'\n"
     ]
    },
    {
     "name": "stderr",
     "output_type": "stream",
     "text": [
      "\r",
      "Optimizing Portfolio:  94%|█████████▍| 238/252 [1:43:16<06:04, 26.04s/day]"
     ]
    },
    {
     "name": "stdout",
     "output_type": "stream",
     "text": [
      "Checking for required columns in the DataFrame...\n",
      "All required columns are present.\n",
      "Applying filters to create the stock universe...\n",
      "Selected 2640 stocks based on filters.\n",
      "Removing 'DlyReturn' column to prevent look-ahead bias...\n",
      "Stock universe is ready.\n",
      "Generated formula: SpecRisk ~ 0 + USFASTD_1DREVRSL + USFASTD_EARNYILD + USFASTD_VALUE + USFASTD_SENTMT\n",
      "Summed alpha vector shape: (2640,)\n",
      "h0 type: <class 'numpy.ndarray'>, shape: (2640,)\n",
      "specVar type: <class 'numpy.ndarray'>, shape: (2640,)\n",
      "alpha_vec type: <class 'numpy.ndarray'>, shape: (2640,)\n",
      "Lambda type: <class 'numpy.ndarray'>, shape: (2640,)\n",
      "Optimization completed with status: b'CONVERGENCE: REL_REDUCTION_OF_F_<=_FACTR*EPSMCH'\n"
     ]
    },
    {
     "name": "stderr",
     "output_type": "stream",
     "text": [
      "\r",
      "Optimizing Portfolio:  95%|█████████▍| 239/252 [1:43:50<05:38, 26.07s/day]"
     ]
    },
    {
     "name": "stdout",
     "output_type": "stream",
     "text": [
      "Checking for required columns in the DataFrame...\n",
      "All required columns are present.\n",
      "Applying filters to create the stock universe...\n",
      "Selected 2642 stocks based on filters.\n",
      "Removing 'DlyReturn' column to prevent look-ahead bias...\n",
      "Stock universe is ready.\n",
      "Generated formula: SpecRisk ~ 0 + USFASTD_1DREVRSL + USFASTD_EARNYILD + USFASTD_VALUE + USFASTD_SENTMT\n",
      "Summed alpha vector shape: (2642,)\n",
      "h0 type: <class 'numpy.ndarray'>, shape: (2642,)\n",
      "specVar type: <class 'numpy.ndarray'>, shape: (2642,)\n",
      "alpha_vec type: <class 'numpy.ndarray'>, shape: (2642,)\n",
      "Lambda type: <class 'numpy.ndarray'>, shape: (2642,)\n",
      "Optimization completed with status: b'CONVERGENCE: REL_REDUCTION_OF_F_<=_FACTR*EPSMCH'\n"
     ]
    },
    {
     "name": "stderr",
     "output_type": "stream",
     "text": [
      "\r",
      "Optimizing Portfolio:  95%|█████████▌| 240/252 [1:44:21<05:13, 26.09s/day]"
     ]
    },
    {
     "name": "stdout",
     "output_type": "stream",
     "text": [
      "Checking for required columns in the DataFrame...\n",
      "All required columns are present.\n",
      "Applying filters to create the stock universe...\n",
      "Selected 2646 stocks based on filters.\n",
      "Removing 'DlyReturn' column to prevent look-ahead bias...\n",
      "Stock universe is ready.\n",
      "Generated formula: SpecRisk ~ 0 + USFASTD_1DREVRSL + USFASTD_EARNYILD + USFASTD_VALUE + USFASTD_SENTMT\n",
      "Summed alpha vector shape: (2646,)\n",
      "h0 type: <class 'numpy.ndarray'>, shape: (2646,)\n",
      "specVar type: <class 'numpy.ndarray'>, shape: (2646,)\n",
      "alpha_vec type: <class 'numpy.ndarray'>, shape: (2646,)\n",
      "Lambda type: <class 'numpy.ndarray'>, shape: (2646,)\n",
      "Optimization completed with status: b'CONVERGENCE: REL_REDUCTION_OF_F_<=_FACTR*EPSMCH'\n"
     ]
    },
    {
     "name": "stderr",
     "output_type": "stream",
     "text": [
      "\r",
      "Optimizing Portfolio:  96%|█████████▌| 241/252 [1:45:14<04:48, 26.20s/day]"
     ]
    },
    {
     "name": "stdout",
     "output_type": "stream",
     "text": [
      "Checking for required columns in the DataFrame...\n",
      "All required columns are present.\n",
      "Applying filters to create the stock universe...\n",
      "Selected 2649 stocks based on filters.\n",
      "Removing 'DlyReturn' column to prevent look-ahead bias...\n",
      "Stock universe is ready.\n",
      "Generated formula: SpecRisk ~ 0 + USFASTD_1DREVRSL + USFASTD_EARNYILD + USFASTD_VALUE + USFASTD_SENTMT\n",
      "Summed alpha vector shape: (2649,)\n",
      "h0 type: <class 'numpy.ndarray'>, shape: (2649,)\n",
      "specVar type: <class 'numpy.ndarray'>, shape: (2649,)\n",
      "alpha_vec type: <class 'numpy.ndarray'>, shape: (2649,)\n",
      "Lambda type: <class 'numpy.ndarray'>, shape: (2649,)\n",
      "Optimization completed with status: b'CONVERGENCE: REL_REDUCTION_OF_F_<=_FACTR*EPSMCH'\n"
     ]
    },
    {
     "name": "stderr",
     "output_type": "stream",
     "text": [
      "\r",
      "Optimizing Portfolio:  96%|█████████▌| 242/252 [1:46:14<04:23, 26.34s/day]"
     ]
    },
    {
     "name": "stdout",
     "output_type": "stream",
     "text": [
      "Checking for required columns in the DataFrame...\n",
      "All required columns are present.\n",
      "Applying filters to create the stock universe...\n",
      "Selected 2652 stocks based on filters.\n",
      "Removing 'DlyReturn' column to prevent look-ahead bias...\n",
      "Stock universe is ready.\n",
      "Generated formula: SpecRisk ~ 0 + USFASTD_1DREVRSL + USFASTD_EARNYILD + USFASTD_VALUE + USFASTD_SENTMT\n",
      "Summed alpha vector shape: (2652,)\n",
      "h0 type: <class 'numpy.ndarray'>, shape: (2652,)\n",
      "specVar type: <class 'numpy.ndarray'>, shape: (2652,)\n",
      "alpha_vec type: <class 'numpy.ndarray'>, shape: (2652,)\n",
      "Lambda type: <class 'numpy.ndarray'>, shape: (2652,)\n",
      "Optimization completed with status: b'CONVERGENCE: REL_REDUCTION_OF_F_<=_FACTR*EPSMCH'\n"
     ]
    },
    {
     "name": "stderr",
     "output_type": "stream",
     "text": [
      "\r",
      "Optimizing Portfolio:  96%|█████████▋| 243/252 [1:47:15<03:58, 26.49s/day]"
     ]
    },
    {
     "name": "stdout",
     "output_type": "stream",
     "text": [
      "Checking for required columns in the DataFrame...\n",
      "All required columns are present.\n",
      "Applying filters to create the stock universe...\n",
      "Selected 2653 stocks based on filters.\n",
      "Removing 'DlyReturn' column to prevent look-ahead bias...\n",
      "Stock universe is ready.\n",
      "Generated formula: SpecRisk ~ 0 + USFASTD_1DREVRSL + USFASTD_EARNYILD + USFASTD_VALUE + USFASTD_SENTMT\n",
      "Summed alpha vector shape: (2653,)\n",
      "h0 type: <class 'numpy.ndarray'>, shape: (2653,)\n",
      "specVar type: <class 'numpy.ndarray'>, shape: (2653,)\n",
      "alpha_vec type: <class 'numpy.ndarray'>, shape: (2653,)\n",
      "Lambda type: <class 'numpy.ndarray'>, shape: (2653,)\n",
      "Optimization completed with status: b'CONVERGENCE: REL_REDUCTION_OF_F_<=_FACTR*EPSMCH'\n"
     ]
    },
    {
     "name": "stderr",
     "output_type": "stream",
     "text": [
      "\r",
      "Optimizing Portfolio:  97%|█████████▋| 244/252 [1:48:12<03:32, 26.61s/day]"
     ]
    },
    {
     "name": "stdout",
     "output_type": "stream",
     "text": [
      "Checking for required columns in the DataFrame...\n",
      "All required columns are present.\n",
      "Applying filters to create the stock universe...\n",
      "Selected 2653 stocks based on filters.\n",
      "Removing 'DlyReturn' column to prevent look-ahead bias...\n",
      "Stock universe is ready.\n",
      "Generated formula: SpecRisk ~ 0 + USFASTD_1DREVRSL + USFASTD_EARNYILD + USFASTD_VALUE + USFASTD_SENTMT\n",
      "Summed alpha vector shape: (2653,)\n",
      "h0 type: <class 'numpy.ndarray'>, shape: (2653,)\n",
      "specVar type: <class 'numpy.ndarray'>, shape: (2653,)\n",
      "alpha_vec type: <class 'numpy.ndarray'>, shape: (2653,)\n",
      "Lambda type: <class 'numpy.ndarray'>, shape: (2653,)\n",
      "Optimization completed with status: b'CONVERGENCE: REL_REDUCTION_OF_F_<=_FACTR*EPSMCH'\n"
     ]
    },
    {
     "name": "stderr",
     "output_type": "stream",
     "text": [
      "\r",
      "Optimizing Portfolio:  97%|█████████▋| 245/252 [1:49:42<03:08, 26.87s/day]"
     ]
    },
    {
     "name": "stdout",
     "output_type": "stream",
     "text": [
      "Checking for required columns in the DataFrame...\n",
      "All required columns are present.\n",
      "Applying filters to create the stock universe...\n",
      "Selected 2656 stocks based on filters.\n",
      "Removing 'DlyReturn' column to prevent look-ahead bias...\n",
      "Stock universe is ready.\n",
      "Generated formula: SpecRisk ~ 0 + USFASTD_1DREVRSL + USFASTD_EARNYILD + USFASTD_VALUE + USFASTD_SENTMT\n",
      "Summed alpha vector shape: (2656,)\n",
      "h0 type: <class 'numpy.ndarray'>, shape: (2656,)\n",
      "specVar type: <class 'numpy.ndarray'>, shape: (2656,)\n",
      "alpha_vec type: <class 'numpy.ndarray'>, shape: (2656,)\n",
      "Lambda type: <class 'numpy.ndarray'>, shape: (2656,)\n",
      "Optimization completed with status: b'CONVERGENCE: REL_REDUCTION_OF_F_<=_FACTR*EPSMCH'\n"
     ]
    },
    {
     "name": "stderr",
     "output_type": "stream",
     "text": [
      "\r",
      "Optimizing Portfolio:  98%|█████████▊| 246/252 [1:50:06<02:41, 26.85s/day]"
     ]
    },
    {
     "name": "stdout",
     "output_type": "stream",
     "text": [
      "Checking for required columns in the DataFrame...\n",
      "All required columns are present.\n",
      "Applying filters to create the stock universe...\n",
      "Selected 2657 stocks based on filters.\n",
      "Removing 'DlyReturn' column to prevent look-ahead bias...\n",
      "Stock universe is ready.\n",
      "Generated formula: SpecRisk ~ 0 + USFASTD_1DREVRSL + USFASTD_EARNYILD + USFASTD_VALUE + USFASTD_SENTMT\n",
      "Summed alpha vector shape: (2657,)\n",
      "h0 type: <class 'numpy.ndarray'>, shape: (2657,)\n",
      "specVar type: <class 'numpy.ndarray'>, shape: (2657,)\n",
      "alpha_vec type: <class 'numpy.ndarray'>, shape: (2657,)\n",
      "Lambda type: <class 'numpy.ndarray'>, shape: (2657,)\n",
      "Optimization completed with status: b'CONVERGENCE: REL_REDUCTION_OF_F_<=_FACTR*EPSMCH'\n"
     ]
    },
    {
     "name": "stderr",
     "output_type": "stream",
     "text": [
      "\r",
      "Optimizing Portfolio:  98%|█████████▊| 247/252 [1:50:36<02:14, 26.87s/day]"
     ]
    },
    {
     "name": "stdout",
     "output_type": "stream",
     "text": [
      "Checking for required columns in the DataFrame...\n",
      "All required columns are present.\n",
      "Applying filters to create the stock universe...\n",
      "Selected 2658 stocks based on filters.\n",
      "Removing 'DlyReturn' column to prevent look-ahead bias...\n",
      "Stock universe is ready.\n",
      "Generated formula: SpecRisk ~ 0 + USFASTD_1DREVRSL + USFASTD_EARNYILD + USFASTD_VALUE + USFASTD_SENTMT\n",
      "Summed alpha vector shape: (2658,)\n",
      "h0 type: <class 'numpy.ndarray'>, shape: (2658,)\n",
      "specVar type: <class 'numpy.ndarray'>, shape: (2658,)\n",
      "alpha_vec type: <class 'numpy.ndarray'>, shape: (2658,)\n",
      "Lambda type: <class 'numpy.ndarray'>, shape: (2658,)\n",
      "Optimization completed with status: b'CONVERGENCE: REL_REDUCTION_OF_F_<=_FACTR*EPSMCH'\n"
     ]
    },
    {
     "name": "stderr",
     "output_type": "stream",
     "text": [
      "\r",
      "Optimizing Portfolio:  98%|█████████▊| 248/252 [1:51:10<01:47, 26.90s/day]"
     ]
    },
    {
     "name": "stdout",
     "output_type": "stream",
     "text": [
      "Checking for required columns in the DataFrame...\n",
      "All required columns are present.\n",
      "Applying filters to create the stock universe...\n",
      "Selected 2661 stocks based on filters.\n",
      "Removing 'DlyReturn' column to prevent look-ahead bias...\n",
      "Stock universe is ready.\n",
      "Generated formula: SpecRisk ~ 0 + USFASTD_1DREVRSL + USFASTD_EARNYILD + USFASTD_VALUE + USFASTD_SENTMT\n",
      "Summed alpha vector shape: (2661,)\n",
      "h0 type: <class 'numpy.ndarray'>, shape: (2661,)\n",
      "specVar type: <class 'numpy.ndarray'>, shape: (2661,)\n",
      "alpha_vec type: <class 'numpy.ndarray'>, shape: (2661,)\n",
      "Lambda type: <class 'numpy.ndarray'>, shape: (2661,)\n",
      "Optimization completed with status: b'CONVERGENCE: REL_REDUCTION_OF_F_<=_FACTR*EPSMCH'\n"
     ]
    },
    {
     "name": "stderr",
     "output_type": "stream",
     "text": [
      "\r",
      "Optimizing Portfolio:  99%|█████████▉| 249/252 [1:51:56<01:20, 26.98s/day]"
     ]
    },
    {
     "name": "stdout",
     "output_type": "stream",
     "text": [
      "Checking for required columns in the DataFrame...\n",
      "All required columns are present.\n",
      "Applying filters to create the stock universe...\n",
      "Selected 2661 stocks based on filters.\n",
      "Removing 'DlyReturn' column to prevent look-ahead bias...\n",
      "Stock universe is ready.\n",
      "Generated formula: SpecRisk ~ 0 + USFASTD_1DREVRSL + USFASTD_EARNYILD + USFASTD_VALUE + USFASTD_SENTMT\n",
      "Summed alpha vector shape: (2661,)\n",
      "h0 type: <class 'numpy.ndarray'>, shape: (2661,)\n",
      "specVar type: <class 'numpy.ndarray'>, shape: (2661,)\n",
      "alpha_vec type: <class 'numpy.ndarray'>, shape: (2661,)\n",
      "Lambda type: <class 'numpy.ndarray'>, shape: (2661,)\n",
      "Optimization completed with status: b'CONVERGENCE: REL_REDUCTION_OF_F_<=_FACTR*EPSMCH'\n"
     ]
    },
    {
     "name": "stderr",
     "output_type": "stream",
     "text": [
      "\r",
      "Optimizing Portfolio:  99%|█████████▉| 250/252 [1:52:22<00:53, 26.97s/day]"
     ]
    },
    {
     "name": "stdout",
     "output_type": "stream",
     "text": [
      "Checking for required columns in the DataFrame...\n",
      "All required columns are present.\n",
      "Applying filters to create the stock universe...\n",
      "Selected 2662 stocks based on filters.\n",
      "Removing 'DlyReturn' column to prevent look-ahead bias...\n",
      "Stock universe is ready.\n",
      "Generated formula: SpecRisk ~ 0 + USFASTD_1DREVRSL + USFASTD_EARNYILD + USFASTD_VALUE + USFASTD_SENTMT\n",
      "Summed alpha vector shape: (2662,)\n",
      "h0 type: <class 'numpy.ndarray'>, shape: (2662,)\n",
      "specVar type: <class 'numpy.ndarray'>, shape: (2662,)\n",
      "alpha_vec type: <class 'numpy.ndarray'>, shape: (2662,)\n",
      "Lambda type: <class 'numpy.ndarray'>, shape: (2662,)\n",
      "Optimization completed with status: b'CONVERGENCE: REL_REDUCTION_OF_F_<=_FACTR*EPSMCH'\n"
     ]
    },
    {
     "name": "stderr",
     "output_type": "stream",
     "text": [
      "\r",
      "Optimizing Portfolio: 100%|█████████▉| 251/252 [1:52:48<00:26, 26.97s/day]"
     ]
    },
    {
     "name": "stdout",
     "output_type": "stream",
     "text": [
      "Checking for required columns in the DataFrame...\n",
      "All required columns are present.\n",
      "Applying filters to create the stock universe...\n",
      "Selected 2662 stocks based on filters.\n",
      "Removing 'DlyReturn' column to prevent look-ahead bias...\n",
      "Stock universe is ready.\n",
      "Generated formula: SpecRisk ~ 0 + USFASTD_1DREVRSL + USFASTD_EARNYILD + USFASTD_VALUE + USFASTD_SENTMT\n",
      "Summed alpha vector shape: (2662,)\n",
      "h0 type: <class 'numpy.ndarray'>, shape: (2662,)\n",
      "specVar type: <class 'numpy.ndarray'>, shape: (2662,)\n",
      "alpha_vec type: <class 'numpy.ndarray'>, shape: (2662,)\n",
      "Lambda type: <class 'numpy.ndarray'>, shape: (2662,)\n",
      "Optimization completed with status: b'CONVERGENCE: REL_REDUCTION_OF_F_<=_FACTR*EPSMCH'\n"
     ]
    },
    {
     "name": "stderr",
     "output_type": "stream",
     "text": [
      "Optimizing Portfolio: 100%|██████████| 252/252 [1:53:31<00:00, 27.03s/day]\n"
     ]
    }
   ],
   "source": [
    "trades = {}\n",
    "port = {}\n",
    "\n",
    "for dt in tqdm(my_dates, desc='Optimizing Portfolio', unit='day'):\n",
    "    date = dt.strftime('%Y%m%d')\n",
    "\n",
    "    result = form_optimal_portfolio(frames[date], previous_holdings, risk_aversion)\n",
    "    trades[date] = build_tradelist(previous_holdings, result)\n",
    "    port[date] = result\n",
    "    previous_holdings = convert_to_previous(result)"
   ]
  },
  {
   "cell_type": "markdown",
   "metadata": {},
   "source": [
    "## Profit-and-Loss (PnL) attribution (TODO)\n",
    "\n",
    "Profit and Loss is the aggregate realized daily returns of the assets, weighted by the optimal portfolio holdings chosen, and summed up to get the portfolio's profit and loss.\n",
    "\n",
    "The PnL attributed to the alpha factors equals the factor returns times factor exposures for the alpha factors.  \n",
    "\n",
    "$$\n",
    "\\mbox{PnL}_{alpha}= f \\times b_{alpha}\n",
    "$$\n",
    "\n",
    "Similarly, the PnL attributed to the risk factors equals the factor returns times factor exposures of the risk factors.\n",
    "\n",
    "$$\n",
    "\\mbox{PnL}_{risk} = f \\times b_{risk}\n",
    "$$\n",
    "\n",
    "In the code below, in the function `build_pnl_attribution` calculate the PnL attributed to the alpha factors, the PnL attributed to the risk factors, and attribution to cost. "
   ]
  },
  {
   "cell_type": "code",
   "execution_count": 51,
   "metadata": {},
   "outputs": [],
   "source": [
    "## assumes v, w are pandas Series \n",
    "def partial_dot_product(v, w):\n",
    "    common = v.index.intersection(w.index)\n",
    "    return np.sum(v[common] * w[common])\n",
    "\n",
    "def build_pnl_attribution(): \n",
    "\n",
    "    df = pd.DataFrame(index = my_dates)\n",
    "    \n",
    "    for dt in my_dates:\n",
    "        date = dt.strftime('%Y%m%d')\n",
    "\n",
    "        p = port[date]\n",
    "        fr = facret[date]\n",
    "\n",
    "        mf = p['opt.portfolio'].merge(frames[date], how = 'left', on = \"Barrid\")\n",
    "        \n",
    "        mf['DlyReturn'] = wins(mf['DlyReturn'], -0.5, 0.5)\n",
    "        df.at[dt,\"daily.pnl\"] = np.sum(mf['h.opt'] * mf['DlyReturn'])\n",
    "        \n",
    "        # DONE: Implement\n",
    "        \"\"\"\n",
    "        Returns\n",
    "        -------\n",
    "        pandas.DataFrame\n",
    "            A DataFrame with columns for daily PnL, attribution to alpha, attribution to risk, and costs.\n",
    "\n",
    "        Notes\n",
    "        -----\n",
    "        - This function assumes that 'wins' function exists for winsorizing returns and that 'port', 'facret', and 'frames' are pre-populated with relevant data.\n",
    "\n",
    "        \"\"\"\n",
    "           \n",
    "        df.at[dt, \"attribution.alpha.pnl\"] = partial_dot_product(fr, p['alpha.exposures'])\n",
    "        df.at[dt, \"attribution.risk.pnl\"] = partial_dot_product(fr, p['risk.exposures'])\n",
    "        df.at[dt, \"attribution.cost\"] = p['total.cost']\n",
    "        \n",
    "    return df\n",
    "   \n"
   ]
  },
  {
   "cell_type": "code",
   "execution_count": 52,
   "metadata": {},
   "outputs": [
    {
     "data": {
      "image/png": "[encoded data removed]",
      "text/plain": [
       "<matplotlib.figure.Figure at 0x7fdcf801acc0>"
      ]
     },
     "metadata": {
      "needs_background": "light"
     },
     "output_type": "display_data"
    }
   ],
   "source": [
    "attr = build_pnl_attribution()\n",
    "\n",
    "for column in attr.columns:\n",
    "        plt.plot(attr[column].cumsum(), label=column)\n",
    "plt.legend(loc='upper left')\n",
    "plt.xlabel('Date')\n",
    "plt.ylabel('PnL Attribution')\n",
    "plt.show()"
   ]
  },
  {
   "cell_type": "markdown",
   "metadata": {},
   "source": [
    "## Build portfolio characteristics (TODO)\n",
    "Calculate the sum of long positions, short positions, net positions, gross market value, and amount of dollars traded.\n",
    "\n",
    "In the code below, in the function `build_portfolio_characteristics` calculate the sum of long positions, short positions, net positions, gross market value, and amount of dollars traded.  "
   ]
  },
  {
   "cell_type": "code",
   "execution_count": 53,
   "metadata": {},
   "outputs": [],
   "source": [
    "def build_portfolio_characteristics(): \n",
    "    df = pd.DataFrame(index = my_dates)\n",
    "    \n",
    "    for dt in my_dates:\n",
    "        date = dt.strftime('%Y%m%d')\n",
    "  \n",
    "        p = port[date]\n",
    "        tradelist = trades[date]\n",
    "        h = p['opt.portfolio']['h.opt']\n",
    "        \n",
    "        # DONE: Implement\n",
    "        \n",
    "        # Calculate portfolio characteristics\n",
    "        longs = np.sum(h[h > 0])  # Total long exposure\n",
    "        shorts = np.sum(h[h < 0])  # Total short exposure\n",
    "        net = longs + shorts  # Net exposure\n",
    "        gmv = np.abs(longs) + np.abs(shorts)  # Gross Market Value (GMV)\n",
    "        traded = np.sum(np.abs(tradelist['h.opt'] - tradelist['h.opt.previous']))  # Traded volume\n",
    "        \n",
    "        # Update the DataFrame with calculated characteristics\n",
    "        df.at[dt, \"long\"] = longs\n",
    "        df.at[dt, \"short\"] = shorts\n",
    "        df.at[dt, \"net\"] = net\n",
    "        df.at[dt, \"gmv\"] = gmv\n",
    "        df.at[dt, \"traded\"] = traded        \n",
    "          \n",
    "    return df"
   ]
  },
  {
   "cell_type": "code",
   "execution_count": 54,
   "metadata": {},
   "outputs": [
    {
     "data": {
      "image/png": "[encoded data removed]",
      "text/plain": [
       "<matplotlib.figure.Figure at 0x7fdcddaad6a0>"
      ]
     },
     "metadata": {
      "needs_background": "light"
     },
     "output_type": "display_data"
    }
   ],
   "source": [
    "pchar = build_portfolio_characteristics()\n",
    "\n",
    "for column in pchar.columns:\n",
    "        plt.plot(pchar[column], label=column)\n",
    "plt.legend(loc='upper left')\n",
    "plt.xlabel('Date')\n",
    "plt.ylabel('Portfolio')\n",
    "plt.show()"
   ]
  },
  {
   "cell_type": "markdown",
   "metadata": {},
   "source": [
    "#### Optional\n",
    "Choose additional metrics to evaluate your portfolio."
   ]
  },
  {
   "cell_type": "code",
   "execution_count": 55,
   "metadata": {},
   "outputs": [
    {
     "data": {
      "image/png": "[encoded data removed]",
      "text/plain": [
       "<matplotlib.figure.Figure at 0x7fdcdda39be0>"
      ]
     },
     "metadata": {
      "needs_background": "light"
     },
     "output_type": "display_data"
    },
    {
     "data": {
      "image/png": "[encoded data removed]",
      "text/plain": [
       "<matplotlib.figure.Figure at 0x7fdcdda1aeb8>"
      ]
     },
     "metadata": {
      "needs_background": "light"
     },
     "output_type": "display_data"
    }
   ],
   "source": [
    "# Optional\n",
    "\n",
    "\n",
    "np.random.seed(42)  # For reproducibility\n",
    "dates = pd.date_range(start=\"2020-01-01\", periods=252)  # A typical year of trading days\n",
    "portfolio_returns = pd.Series(np.random.normal(0.001, 0.02, len(dates)), index=dates)\n",
    "\n",
    "# Function to calculate and plot Sharpe Ratio\n",
    "def calculate_and_plot_sharpe_ratio(returns, risk_free_rate=0.02):\n",
    "    excess_returns = returns - (risk_free_rate / 252)\n",
    "    sharpe_ratio = np.sqrt(252) * excess_returns.mean() / excess_returns.std()\n",
    "    \n",
    "    # Plotting\n",
    "    plt.figure(figsize=(10, 6))\n",
    "    plt.plot((1 + returns).cumprod(), label=\"Cumulative Returns\")\n",
    "    plt.title(f\"Portfolio Cumulative Returns - Sharpe Ratio: {sharpe_ratio:.2f}\")\n",
    "    plt.legend()\n",
    "    plt.show()\n",
    "    \n",
    "    return sharpe_ratio\n",
    "\n",
    "# Function to calculate and plot Maximum Drawdown\n",
    "def calculate_and_plot_maximum_drawdown(returns):\n",
    "    cumulative_returns = (1 + returns).cumprod()\n",
    "    peak = cumulative_returns.expanding(min_periods=1).max()\n",
    "    drawdown = (cumulative_returns / peak) - 1\n",
    "    max_drawdown = drawdown.min()\n",
    "    \n",
    "    # Plotting\n",
    "    plt.figure(figsize=(10, 6))\n",
    "    plt.plot(drawdown, label=\"Drawdown\")\n",
    "    plt.fill_between(drawdown.index, drawdown.values, color='red', alpha=0.3)\n",
    "    plt.title(f\"Portfolio Drawdown - Maximum Drawdown: {max_drawdown*100:.2f}%\")\n",
    "    plt.legend()\n",
    "    plt.show()\n",
    "    \n",
    "    return max_drawdown\n",
    "\n",
    "# Calling the functions\n",
    "sharpe_ratio = calculate_and_plot_sharpe_ratio(portfolio_returns)\n",
    "max_drawdown = calculate_and_plot_maximum_drawdown(portfolio_returns)"
   ]
  },
  {
   "cell_type": "code",
   "execution_count": null,
   "metadata": {},
   "outputs": [],
   "source": [
    "\n"
   ]
  },
  {
   "cell_type": "markdown",
   "metadata": {},
   "source": [
    "## Submission\n",
    "Now that you're done with the project, it's time to submit it. Click the submit button in the bottom right. One of our reviewers will give you feedback on your project with a pass or not passed grade."
   ]
  }
 ],
 "metadata": {
  "kernelspec": {
   "display_name": "Python 3 (ipykernel)",
   "language": "python",
   "name": "python3"
  },
  "language_info": {
   "codemirror_mode": {
    "name": "ipython",
    "version": 3
   },
   "file_extension": ".py",
   "mimetype": "text/x-python",
   "name": "python",
   "nbconvert_exporter": "python",
   "pygments_lexer": "ipython3",
   "version": "3.12.7"
  }
 },
 "nbformat": 4,
 "nbformat_minor": 4
}
